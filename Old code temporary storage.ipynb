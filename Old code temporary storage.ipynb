{
 "cells": [
  {
   "cell_type": "markdown",
   "id": "cd301293",
   "metadata": {},
   "source": [
    "# What is this\n",
    "\n",
    "A place to store old alternative code for things just in case we want to go back and look at it. Copy and paste in \"Replication notebook\" to see how it works. "
   ]
  },
  {
   "cell_type": "code",
   "execution_count": 1,
   "id": "8ee46bf1",
   "metadata": {},
   "outputs": [],
   "source": [
    "import numpy as np\n",
    "import pandas as pd\n",
    "import geopandas as geo\n",
    "\n",
    "import cvxpy as cp\n",
    "import numpy.linalg as LA\n",
    "import statsmodels.api as sm\n",
    "import plotly.graph_objs as go\n",
    "import matplotlib.pyplot as plt\n",
    "import scipy.optimize as optimize\n",
    "import statsmodels.formula.api as smf\n",
    "from joblib import Parallel, delayed\n",
    "from scipy.optimize import differential_evolution, NonlinearConstraint, Bounds\n",
    "\n",
    "%matplotlib inline\n",
    "%config InlineBackend.figure_format = 'svg'\n",
    "plt.rcParams['figure.figsize'] = [5.5, 3.5]\n",
    "#plt.rcParams['figure.figsize'] = [6, 4.0]\n",
    "#plt.rcParams['figure.dpi'] = 80"
   ]
  },
  {
   "cell_type": "code",
   "execution_count": 2,
   "id": "b5cb6a99",
   "metadata": {},
   "outputs": [],
   "source": [
    "dtafile = './dataset/Pinotti-replication/dataset.dta'"
   ]
  },
  {
   "cell_type": "markdown",
   "id": "67e95ace",
   "metadata": {},
   "source": [
    "### Alternative way to illustrate Fig 2.1 & Fig 2.3\n",
    "Author: Danial. <br>\n",
    "Removed by: Jessica. <br>\n",
    "Value: alternative `plt.annotate()` method."
   ]
  },
  {
   "cell_type": "code",
   "execution_count": null,
   "id": "289e5843",
   "metadata": {},
   "outputs": [],
   "source": [
    "#######Alternative way to illustrate Fig 2.1 & Fig 2.3######\n",
    "# J: I'd keep the previous way\n",
    "\n",
    "####Fig 2.1####\n",
    "df2.plot.scatter('mafia', 'gdppercap', c=color, s=10, linewidth=3,\n",
    "                xlabel='Presence of Criminal Organisations', ylabel='GDP per capita',\n",
    "                title='Figure 1: mafia-type crimial organizations and GDP per capita across Italian regions, average over the period 1983-2007')\n",
    "plt.rcParams[\"figure.figsize\"] = (8,5)\n",
    "\n",
    "for (i, (x,y)) in enumerate(zip(df2['mafia'],df2['gdppercap'])):\n",
    "    if df2['region'][i] in ['SIC','BAS','PUG','CAM','CAL']:\n",
    "         plt.annotate(df2['region'][i],(x,y))  \n",
    "\n",
    "####Fig 2.3####\n",
    "df2.plot.scatter('mafia', 'murd', c=color, s=10, linewidth=3,\n",
    "                xlabel='Homicides x 100,000 Inhabitants', ylabel='Mafia Allegations (art. 416 bis) x 100,000 Inhabitants',\n",
    "                title='Figure 3: presence over time of mafia-type criminal organizations in different areas in Italy, years 1983-2007')\n",
    "plt.rcParams[\"figure.figsize\"] = (8,5)\n",
    "\n",
    "for (i, (x,y)) in enumerate(zip(df2['mafia'],df2['murd'])):\n",
    "    if df2['region'][i] in ['SIC','BAS','PUG','CAM','CAL']:\n",
    "         plt.annotate(df2['region'][i],(x,y))  \n"
   ]
  },
  {
   "cell_type": "markdown",
   "id": "ab15a20d",
   "metadata": {},
   "source": [
    "# Section 3"
   ]
  },
  {
   "cell_type": "code",
   "execution_count": 14,
   "id": "8244f803",
   "metadata": {},
   "outputs": [],
   "source": [
    "# dtafile already defined, unnecessary\n",
    "dtafile = './dataset/Pinotti-replication/dataset.dta'\n",
    "\n",
    "data = pd.read_stata(dtafile)\n",
    "\n",
    "# Specify conditions for treated unit and control units as per Pinotti's paper (c.f. F216), \n",
    "# 21 is \"NEW\" Recent mafia presence: Apulia and Basilicata\n",
    "\n",
    "treat_unit     = data[data.reg == 21]\n",
    "treat_unit     = treat_unit[treat_unit.year <= 1960]                 # Matching period: 1951 to 1960\n",
    "treat_unit_all = data[data.reg == 21]                                # Entire period:   1951 to 2007\n",
    "\n",
    "control_units     = data[(data.reg <= 14) | (data.reg ==20)]\n",
    "control_units     = control_units[control_units.year <= 1960]\n",
    "control_units_all = data[(data.reg <= 14) | (data.reg ==20)]\n",
    "\n",
    "# Extract the outcome variable for treatment and control unit, y: GDP per capita\n",
    "\n",
    "y_treat     = np.array(treat_unit.gdppercap).reshape(1, 10)              # Matching period: 1951 to 1960\n",
    "y_treat_all = np.array(treat_unit_all.gdppercap).reshape(1, 57)          # Entire period:   1951 to 2007\n",
    "\n",
    "y_control     = np.array(control_units.gdppercap).reshape(15, 10)\n",
    "y_control_all = np.array(control_units_all.gdppercap).reshape(15, 57)\n",
    "\n",
    "Z1 = y_treat.T      # Transpose\n",
    "Z0 = y_control.T\n",
    "\n",
    "## Prepare matrices with only the relevant variables into CVXPY format, predictors k = 8\n",
    "predictor_variables = ['gdppercap', 'invrate', 'shvain', 'shvaag', 'shvams', 'shvanms', 'shskill', 'density']\n",
    "X = data.loc[data['year'].isin(list(range(1951, 1961)))]\n",
    "X.index = X.loc[:,'reg']\n",
    "\n",
    "#####################################################################################\n",
    "##### WHY DO X0 AND X1 END UP WITH SUPER SMALL NUMBERS IF THEY ARE .mean() ??   #####\n",
    "#####################################################################################\n",
    "\n",
    "\n",
    "# k x 1 vector: mean values of k predictors for 1 treated unit\n",
    "X0 = X.loc[(X.index <= 14) | (X.index ==20),(predictor_variables)] \n",
    "X0 = X0.groupby(X0.index).mean().values.T\n",
    "\n",
    "# k x J matrix: mean values of k predictors for J untreated units\n",
    "X1 = X.loc[(X.index == 21),(predictor_variables)]\n",
    "X1 = X1.groupby(X1.index).mean().values.T"
   ]
  },
  {
   "cell_type": "code",
   "execution_count": 17,
   "id": "502982c0",
   "metadata": {},
   "outputs": [
    {
     "data": {
      "text/plain": [
       "array([[2.3949956e+03],\n",
       "       [3.1629604e-01],\n",
       "       [2.1547881e-01],\n",
       "       [1.5170218e-01],\n",
       "       [4.0166542e-01],\n",
       "       [2.3115355e-01],\n",
       "       [1.6548637e-01],\n",
       "       [1.3477887e+02]], dtype=float32)"
      ]
     },
     "execution_count": 17,
     "metadata": {},
     "output_type": "execute_result"
    }
   ],
   "source": [
    "#X\n",
    "#X0\n",
    "X1"
   ]
  },
  {
   "cell_type": "code",
   "execution_count": null,
   "id": "3de83e2f",
   "metadata": {},
   "outputs": [],
   "source": [
    "# CVXPY Setup: Define function to call and output a vector of weights function\n",
    "\n",
    "def w_optimize(v=None):                                                         ## v is the parameter of the function\n",
    "    \n",
    "    V = np.zeros(shape=(8, 8))\n",
    "    \n",
    "    if v is None:\n",
    "        np.fill_diagonal(V, np.ones(8))\n",
    "    \n",
    "    else:                                                                        ## Is the else part necessary?\n",
    "        np.fill_diagonal(V, v)\n",
    "\n",
    "    W = cp.Variable((15, 1), nonneg=True)                                        ## Matrix variable with shape (15, 1), nonnegative elements\n",
    "    objective_function    = cp.Minimize(cp.sum(V @ cp.square(X1 - X0 @ W)))      ## cp.Minimize(function to minimize) ; \n",
    "                                                                                 ## cp.sum(expression) sums the entries of an expression ; \n",
    "                                                                                 ## cp.square() is ^2\n",
    "    objective_constraints = [cp.sum(W) == 1]\n",
    "    objective_solution    = cp.Problem(objective_function, objective_constraints).solve(verbose=False)\n",
    "                            ## cp.Problem(function to minimize, constraints)\n",
    "                            ##   .solve() to gen solution\n",
    "    \n",
    "    return (W.value,objective_solution)\n",
    "\n",
    "# CVXPY Solution\n",
    "w_basic, objective_solution = w_optimize()             ## where does w_basic come from, what is it doing?\n",
    "print('\\nObjective Value: ',objective_solution,'\\n\\nOptimal Weights: ',w_basic.T)\n",
    "solution_frame_1 = pd.DataFrame({'Region':control_units.region.unique(), \n",
    "                           'Weights': np.round(w_basic.T[0], decimals=3)})\n",
    "\n",
    "display(solution_frame_1)"
   ]
  },
  {
   "cell_type": "code",
   "execution_count": null,
   "id": "369b205c",
   "metadata": {},
   "outputs": [],
   "source": [
    "#### Graphical Comparison\n",
    "\n",
    "w_pinotti = np.array([0, 0, 0, 0, 0, 0, 0, 0, 0, 0, 0, 0, 0.624, 0.376, 0]).reshape(15, 1)\n",
    "w_becker = np.array([0, 0, 0, 0, 0, 0, 0, 0, 0, 0, 0, 0, 0.43035, 0.48934, 0.0803045]).reshape(15,1)\n",
    "\n",
    "y_synth_pinotti = w_pinotti.T @ y_control_all      ## generate the synthetic control output values by weight * y for control\n",
    "y_synth_becker = w_becker.T @ y_control_all\n",
    "y_synth_basic = w_basic.T @ y_control_all\n",
    "\n",
    "fig = go.Figure()                    ## using plotly.graph_objs\n",
    "fig.add_trace(go.Scatter(x=list(data.year.unique()), y=y_synth_basic[0],\n",
    "                    mode='lines', name='Optimizer'))\n",
    "fig.add_trace(go.Scatter(x=list(data.year.unique()), y=y_synth_pinotti[0],\n",
    "                    mode='lines', name='Pinotti'))\n",
    "fig.add_trace(go.Scatter(x=list(data.year.unique()), y=y_synth_becker[0],\n",
    "                    mode='lines', name='Becker'))\n",
    "fig.add_trace(go.Scatter(x=list(data.year.unique()), y=y_treat_all[0],\n",
    "                    mode='lines', name='Treated unit'))\n",
    "\n",
    "fig.add_shape(dict(type=\"line\", x0=1960, y0=0, x1=1960, y1=11000,\n",
    "                   line=dict(color=\"Black\", width=1)))\n",
    "\n",
    "fig.add_shape(dict(type=\"line\", x0=1974, y0=0, x1=1974, y1=11000,\n",
    "                   line=dict(color=\"Black\", width=1)))\n",
    "\n",
    "fig.add_shape(dict(type=\"line\", x0=1980, y0=0, x1=1980, y1=11000,\n",
    "                   line=dict(color=\"Black\", width=1)))\n",
    "\n",
    "fig.add_trace(go.Scatter(x=[1960], y=[12000], mode=\"text\",\n",
    "    name=\"Matching\", text=[\"End of Matching<br>Period\"]))\n",
    "\n",
    "fig.add_trace(go.Scatter(x=[1974], y=[12000], mode=\"text\",      ## why??\n",
    "    name=\"Event 1\", text=[\"Drug<br>Smuggling\"]))\n",
    "\n",
    "fig.add_trace(go.Scatter(x=[1981], y=[12000], mode=\"text\",\n",
    "    name=\"Event 2\", text=[\"Basilicata<br>Earthquake\"]))\n",
    "\n",
    "fig.update_layout(title='Synthetic Control<br>Optimizer vs. Treated unit',\n",
    "                   xaxis_title='Time', yaxis_title='GDP per Capita')\n",
    "\n",
    "# Dynamic graph\n",
    "fig.show()\n",
    "\n",
    "# Static graph only for display on github\n",
    "#fig.show(renderer=\"png\")"
   ]
  }
 ],
 "metadata": {
  "kernelspec": {
   "display_name": "Python 3 (ipykernel)",
   "language": "python",
   "name": "python3"
  },
  "language_info": {
   "codemirror_mode": {
    "name": "ipython",
    "version": 3
   },
   "file_extension": ".py",
   "mimetype": "text/x-python",
   "name": "python",
   "nbconvert_exporter": "python",
   "pygments_lexer": "ipython3",
   "version": "3.8.12"
  }
 },
 "nbformat": 4,
 "nbformat_minor": 5
}
