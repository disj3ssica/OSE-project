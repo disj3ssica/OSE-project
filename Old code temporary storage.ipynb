{
 "cells": [
  {
   "cell_type": "markdown",
   "id": "cd301293",
   "metadata": {},
   "source": [
    "# What is this\n",
    "\n",
    "A place to store old alternative code for things just in case we want to go back and look at it. Copy and paste in \"Replication notebook\" to see how it works. "
   ]
  },
  {
   "cell_type": "markdown",
   "id": "67e95ace",
   "metadata": {},
   "source": [
    "### Alternative way to illustrate Fig 2.1 & Fig 2.3\n",
    "Author: Danial. <br>\n",
    "Removed by: Jessica. <br>\n",
    "Value: alternative `plt.annotate()` method."
   ]
  },
  {
   "cell_type": "code",
   "execution_count": null,
   "id": "289e5843",
   "metadata": {},
   "outputs": [],
   "source": [
    "#######Alternative way to illustrate Fig 2.1 & Fig 2.3######\n",
    "# J: I'd keep the previous way\n",
    "\n",
    "####Fig 2.1####\n",
    "df2.plot.scatter('mafia', 'gdppercap', c=color, s=10, linewidth=3,\n",
    "                xlabel='Presence of Criminal Organisations', ylabel='GDP per capita',\n",
    "                title='Figure 1: mafia-type crimial organizations and GDP per capita across Italian regions, average over the period 1983-2007')\n",
    "plt.rcParams[\"figure.figsize\"] = (8,5)\n",
    "\n",
    "for (i, (x,y)) in enumerate(zip(df2['mafia'],df2['gdppercap'])):\n",
    "    if df2['region'][i] in ['SIC','BAS','PUG','CAM','CAL']:\n",
    "         plt.annotate(df2['region'][i],(x,y))  \n",
    "\n",
    "####Fig 2.3####\n",
    "df2.plot.scatter('mafia', 'murd', c=color, s=10, linewidth=3,\n",
    "                xlabel='Homicides x 100,000 Inhabitants', ylabel='Mafia Allegations (art. 416 bis) x 100,000 Inhabitants',\n",
    "                title='Figure 3: presence over time of mafia-type criminal organizations in different areas in Italy, years 1983-2007')\n",
    "plt.rcParams[\"figure.figsize\"] = (8,5)\n",
    "\n",
    "for (i, (x,y)) in enumerate(zip(df2['mafia'],df2['murd'])):\n",
    "    if df2['region'][i] in ['SIC','BAS','PUG','CAM','CAL']:\n",
    "         plt.annotate(df2['region'][i],(x,y))  \n"
   ]
  }
 ],
 "metadata": {
  "kernelspec": {
   "display_name": "Python 3 (ipykernel)",
   "language": "python",
   "name": "python3"
  },
  "language_info": {
   "codemirror_mode": {
    "name": "ipython",
    "version": 3
   },
   "file_extension": ".py",
   "mimetype": "text/x-python",
   "name": "python",
   "nbconvert_exporter": "python",
   "pygments_lexer": "ipython3",
   "version": "3.8.12"
  }
 },
 "nbformat": 4,
 "nbformat_minor": 5
}
