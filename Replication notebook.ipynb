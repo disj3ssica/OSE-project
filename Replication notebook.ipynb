{
 "cells": [
  {
   "cell_type": "markdown",
   "metadata": {},
   "source": [
    "---\n",
    "Replication project for the class of OSE Scientific Computing for Economists | Winter Semester 2021-2022 | Bonn Univeristy\n",
    "[Jessica Cremonese](https://github.com/disj3ssica), [Muhammad-Danial Syed](https://github.com/CasualDan), [Xue Wang](https://github.com/kokomob) <br>"
   ]
  },
  {
   "cell_type": "markdown",
   "metadata": {},
   "source": [
    "---\n",
    "#  Working title: Constrained optimization of the synthetic control method with application to the Economic Costs of Organised Crime (Pinotti, 2015)\n",
    "###### Jessica Cremonese, Muhammad-Danial Syed, Xue Wang"
   ]
  },
  {
   "cell_type": "markdown",
   "metadata": {},
   "source": [
    "This notebook contains our replication project of [The Economic Costs of Organised Crime: Evidence from Southern Italy (Pinotti, 2015)](https://onlinelibrary.wiley.com/doi/abs/10.1111/ecoj.12235).\n",
    "\n",
    "### Viewing the notebook\n",
    "The best way to view this notebook is to download the entire GitHub repository dedicated to the project, and operating it via Jupyter Notebooks. Any ***interactive graphs*** as well as mathematical symbols used throughout the notebook will be rendered properly. <br>\n",
    "The following packages are used throughout the notebook, so make sure to have them installed on your device prior to running.\n",
    "- [NumPy](https://numpy.org/)\n",
    "- [Pandas](https://pandas.pydata.org/)\n",
    "- [GeoPandas](https://geopandas.org/en/stable/)\n",
    "- [statsmodels](https://www.statsmodels.org/stable/index.html)\n",
    "- [Plotly](https://plotly.com/)\n",
    "- [CVXPY](https://www.cvxpy.org/)\n",
    "- [SciPy](https://scipy.org/)\n",
    "- [Matplotlib](https://matplotlib.org/)\n",
    "\n",
    "### Source material\n",
    "The full dataset necessary to start with the replication of Pinotti (2015) is made available by the author himself at the \"Supporting Information\" section at the following [link](https://onlinelibrary.wiley.com/doi/abs/10.1111/ecoj.12235)."
   ]
  },
  {
   "cell_type": "markdown",
   "metadata": {},
   "source": [
    "---\n",
    "# Table of contents\n",
    "**[Update links in the end!! Might have to use \\<toc>]**\n",
    "\n",
    "1. [Introduction](link)<br>\n",
    "2. [The Economic Costs of Organised Crime, Pinotti(2015)](link)<br>\n",
    "    2.1. [Methodology](link)<br>\n",
    "      2.1.1 [Synthetic control method]()<br>\n",
    "      2.1.2. [Variables]()<br>\n",
    "3. [Synthetic control methods](link)<br>\n",
    "    3.1. [Python optimization methods]()<br>\n",
    "    3.2. [The `cvxpy` package]()<br>\n",
    "4. [Preliminary work for replication](link)<br>\n",
    "    4.1. [Figures and graphs](link)--> move to section 2?<br>\n",
    "    4.2. [Data preparation](link)<br>\n",
    "5. [Replication of Pinotti (2015)](link)<br>\n",
    "    5.1. [Optimization methods for synthetic control](link)<br>\n",
    "    5.2. [Performance analysis](link)<br>\n",
    "6. [Conclusions]()\n",
    "7. [References](link)<br>"
   ]
  },
  {
   "cell_type": "code",
   "execution_count": 1,
   "metadata": {
    "ExecuteTime": {
     "end_time": "2021-11-22T12:11:27.342199Z",
     "start_time": "2021-11-22T12:11:27.162956Z"
    },
    "scrolled": true
   },
   "outputs": [],
   "source": [
    "import numpy as np\n",
    "import pandas as pd\n",
    "import geopandas as geo\n",
    "\n",
    "import cvxpy as cvx\n",
    "import numpy.linalg as LA\n",
    "import statsmodels.api as sm\n",
    "import plotly.graph_objs as go\n",
    "import matplotlib.pyplot as plt\n",
    "import scipy.optimize as optimize\n",
    "import statsmodels.formula.api as smf\n",
    "from scipy.optimize import lsq_linear\n",
    "\n",
    "%matplotlib inline"
   ]
  },
  {
   "cell_type": "code",
   "execution_count": 13,
   "metadata": {},
   "outputs": [
    {
     "data": {
      "text/html": [
       "<div>\n",
       "<style scoped>\n",
       "    .dataframe tbody tr th:only-of-type {\n",
       "        vertical-align: middle;\n",
       "    }\n",
       "\n",
       "    .dataframe tbody tr th {\n",
       "        vertical-align: top;\n",
       "    }\n",
       "\n",
       "    .dataframe thead th {\n",
       "        text-align: right;\n",
       "    }\n",
       "</style>\n",
       "<table border=\"1\" class=\"dataframe\">\n",
       "  <thead>\n",
       "    <tr style=\"text-align: right;\">\n",
       "      <th></th>\n",
       "      <th>reg</th>\n",
       "      <th>region</th>\n",
       "      <th>year</th>\n",
       "      <th>gdppercap</th>\n",
       "      <th>pop</th>\n",
       "      <th>gdp</th>\n",
       "      <th>vatot</th>\n",
       "      <th>vaag</th>\n",
       "      <th>vain</th>\n",
       "      <th>vams</th>\n",
       "      <th>...</th>\n",
       "      <th>robkidext</th>\n",
       "      <th>kwpop</th>\n",
       "      <th>ext</th>\n",
       "      <th>fire</th>\n",
       "      <th>kidnap</th>\n",
       "      <th>rob</th>\n",
       "      <th>smug</th>\n",
       "      <th>drug</th>\n",
       "      <th>theft</th>\n",
       "      <th>orgcrime</th>\n",
       "    </tr>\n",
       "  </thead>\n",
       "  <tbody>\n",
       "    <tr>\n",
       "      <th>0</th>\n",
       "      <td>1.0</td>\n",
       "      <td>PIE</td>\n",
       "      <td>1951.0</td>\n",
       "      <td>4256.403320</td>\n",
       "      <td>3519000.0</td>\n",
       "      <td>14978.282987</td>\n",
       "      <td>NaN</td>\n",
       "      <td>NaN</td>\n",
       "      <td>NaN</td>\n",
       "      <td>NaN</td>\n",
       "      <td>...</td>\n",
       "      <td>NaN</td>\n",
       "      <td>1078.999756</td>\n",
       "      <td>NaN</td>\n",
       "      <td>NaN</td>\n",
       "      <td>NaN</td>\n",
       "      <td>NaN</td>\n",
       "      <td>NaN</td>\n",
       "      <td>NaN</td>\n",
       "      <td>NaN</td>\n",
       "      <td>NaN</td>\n",
       "    </tr>\n",
       "    <tr>\n",
       "      <th>1</th>\n",
       "      <td>1.0</td>\n",
       "      <td>PIE</td>\n",
       "      <td>1952.0</td>\n",
       "      <td>4238.614746</td>\n",
       "      <td>3520000.0</td>\n",
       "      <td>14919.923358</td>\n",
       "      <td>NaN</td>\n",
       "      <td>NaN</td>\n",
       "      <td>NaN</td>\n",
       "      <td>NaN</td>\n",
       "      <td>...</td>\n",
       "      <td>NaN</td>\n",
       "      <td>1141.761353</td>\n",
       "      <td>NaN</td>\n",
       "      <td>NaN</td>\n",
       "      <td>NaN</td>\n",
       "      <td>NaN</td>\n",
       "      <td>NaN</td>\n",
       "      <td>NaN</td>\n",
       "      <td>NaN</td>\n",
       "      <td>NaN</td>\n",
       "    </tr>\n",
       "    <tr>\n",
       "      <th>2</th>\n",
       "      <td>1.0</td>\n",
       "      <td>PIE</td>\n",
       "      <td>1953.0</td>\n",
       "      <td>4504.506348</td>\n",
       "      <td>3546000.0</td>\n",
       "      <td>15972.978975</td>\n",
       "      <td>NaN</td>\n",
       "      <td>NaN</td>\n",
       "      <td>NaN</td>\n",
       "      <td>NaN</td>\n",
       "      <td>...</td>\n",
       "      <td>NaN</td>\n",
       "      <td>1183.305176</td>\n",
       "      <td>NaN</td>\n",
       "      <td>NaN</td>\n",
       "      <td>NaN</td>\n",
       "      <td>NaN</td>\n",
       "      <td>NaN</td>\n",
       "      <td>NaN</td>\n",
       "      <td>NaN</td>\n",
       "      <td>NaN</td>\n",
       "    </tr>\n",
       "    <tr>\n",
       "      <th>3</th>\n",
       "      <td>1.0</td>\n",
       "      <td>PIE</td>\n",
       "      <td>1954.0</td>\n",
       "      <td>4520.441895</td>\n",
       "      <td>3576000.0</td>\n",
       "      <td>16165.100942</td>\n",
       "      <td>NaN</td>\n",
       "      <td>NaN</td>\n",
       "      <td>NaN</td>\n",
       "      <td>NaN</td>\n",
       "      <td>...</td>\n",
       "      <td>NaN</td>\n",
       "      <td>1289.149902</td>\n",
       "      <td>NaN</td>\n",
       "      <td>NaN</td>\n",
       "      <td>NaN</td>\n",
       "      <td>NaN</td>\n",
       "      <td>NaN</td>\n",
       "      <td>NaN</td>\n",
       "      <td>NaN</td>\n",
       "      <td>NaN</td>\n",
       "    </tr>\n",
       "    <tr>\n",
       "      <th>4</th>\n",
       "      <td>1.0</td>\n",
       "      <td>PIE</td>\n",
       "      <td>1955.0</td>\n",
       "      <td>4858.409180</td>\n",
       "      <td>3615000.0</td>\n",
       "      <td>17563.149767</td>\n",
       "      <td>NaN</td>\n",
       "      <td>NaN</td>\n",
       "      <td>NaN</td>\n",
       "      <td>NaN</td>\n",
       "      <td>...</td>\n",
       "      <td>NaN</td>\n",
       "      <td>1380.636230</td>\n",
       "      <td>NaN</td>\n",
       "      <td>NaN</td>\n",
       "      <td>NaN</td>\n",
       "      <td>NaN</td>\n",
       "      <td>NaN</td>\n",
       "      <td>NaN</td>\n",
       "      <td>NaN</td>\n",
       "      <td>NaN</td>\n",
       "    </tr>\n",
       "  </tbody>\n",
       "</table>\n",
       "<p>5 rows × 41 columns</p>\n",
       "</div>"
      ],
      "text/plain": [
       "   reg region    year    gdppercap        pop           gdp  vatot  vaag  \\\n",
       "0  1.0    PIE  1951.0  4256.403320  3519000.0  14978.282987    NaN   NaN   \n",
       "1  1.0    PIE  1952.0  4238.614746  3520000.0  14919.923358    NaN   NaN   \n",
       "2  1.0    PIE  1953.0  4504.506348  3546000.0  15972.978975    NaN   NaN   \n",
       "3  1.0    PIE  1954.0  4520.441895  3576000.0  16165.100942    NaN   NaN   \n",
       "4  1.0    PIE  1955.0  4858.409180  3615000.0  17563.149767    NaN   NaN   \n",
       "\n",
       "   vain  vams  ...  robkidext        kwpop  ext  fire  kidnap  rob  smug  \\\n",
       "0   NaN   NaN  ...        NaN  1078.999756  NaN   NaN     NaN  NaN   NaN   \n",
       "1   NaN   NaN  ...        NaN  1141.761353  NaN   NaN     NaN  NaN   NaN   \n",
       "2   NaN   NaN  ...        NaN  1183.305176  NaN   NaN     NaN  NaN   NaN   \n",
       "3   NaN   NaN  ...        NaN  1289.149902  NaN   NaN     NaN  NaN   NaN   \n",
       "4   NaN   NaN  ...        NaN  1380.636230  NaN   NaN     NaN  NaN   NaN   \n",
       "\n",
       "   drug  theft  orgcrime  \n",
       "0   NaN    NaN       NaN  \n",
       "1   NaN    NaN       NaN  \n",
       "2   NaN    NaN       NaN  \n",
       "3   NaN    NaN       NaN  \n",
       "4   NaN    NaN       NaN  \n",
       "\n",
       "[5 rows x 41 columns]"
      ]
     },
     "execution_count": 13,
     "metadata": {},
     "output_type": "execute_result"
    }
   ],
   "source": [
    "dtafile = './dataset/Pinotti-replication/dataset.dta'\n",
    "df = pd.read_stata(dtafile)\n",
    "df.head()"
   ]
  },
  {
   "cell_type": "markdown",
   "metadata": {},
   "source": [
    "---\n",
    "# 1. Introduction"
   ]
  },
  {
   "cell_type": "markdown",
   "metadata": {},
   "source": [
    "---\n",
    "# 2. *The Economic Costs of Organised Crime*, Pinotti (2015)"
   ]
  },
  {
   "cell_type": "markdown",
   "metadata": {},
   "source": [
    "Historically, mafia predates the unification of the Italian state. Its heterogeneous presence and activities of choice throughout the regions has originated a number of location-specific situations which allow for the exploitation of this heterogeneity to better understand the effects of organised crime. <br>\n",
    "Regions such as Campania, Sicily and Calabria are the birthplaces of a number of criminal organisations, the biggest ones being, respectively, Camorra, Cosa Nostra and 'Ndrangheta. Other regions in the country have suffered the proximity, becoming infected by the ruling clans and suffering from the replication of their socio-economic dynamics and activities in new territories. Two notable examples of this are Apulia and Basilicata, once among the fastest growing regions of Italy, and nowadays lagging behind the rest of the country with the other historically mafia-plagued regions. "
   ]
  },
  {
   "cell_type": "code",
   "execution_count": 66,
   "metadata": {
    "ExecuteTime": {
     "end_time": "2021-11-21T07:28:17.364166Z",
     "start_time": "2021-11-21T07:28:17.205228Z"
    },
    "scrolled": true
   },
   "outputs": [],
   "source": [
    "df1 = df[df['year'] >= 1983] # relevant time interval\n",
    "df2 = df1.groupby(['region', 'reg'])[['gdppercap', 'mafia', 'murd', 'ext', 'fire', 'kidnap', 'rob', 'smug',\n",
    "            'drug', 'theft', 'orgcrime']].mean()\n",
    "df2 = df2.reset_index() # add region and reg as columns"
   ]
  },
  {
   "cell_type": "markdown",
   "metadata": {},
   "source": [
    "#### Figure 2.1: Mafia-type Criminal Organisations and GDP Per Capita Across Italian Regions, Average Over the Period 1983–2007"
   ]
  },
  {
   "cell_type": "code",
   "execution_count": 65,
   "metadata": {
    "ExecuteTime": {
     "end_time": "2021-11-21T07:28:29.839188Z",
     "start_time": "2021-11-21T07:28:29.625812Z"
    },
    "scrolled": false
   },
   "outputs": [
    {
     "data": {
      "image/png": "[encoded data removed]",
      "text/plain": [
       "<Figure size 576x360 with 1 Axes>"
      ]
     },
     "metadata": {
      "needs_background": "light"
     },
     "output_type": "display_data"
    },
    {
     "data": {
      "text/plain": [
       "<Figure size 16000x10400 with 0 Axes>"
      ]
     },
     "metadata": {},
     "output_type": "display_data"
    }
   ],
   "source": [
    "# Figure 2.1\n",
    "color = np.where((df2['reg']==15) | (df2['reg']==18) | (df2['reg']==19), 'firebrick',                # EXCLUDED\n",
    "                 np.where((df2['reg']==16) | (df2['reg']==17), 'blueviolet',                         # TREATED\n",
    "                          np.where((df2['reg']<=12) | (df2['reg']==20), 'mediumslateblue', 'none'))) # THE REST\n",
    "\n",
    "df2.plot.scatter('mafia', 'gdppercap', c=color, s=10, linewidth=3, \n",
    "                 xlabel='Presence of mafia organisations',\n",
    "                 ylabel='GDP per capita')\n",
    "#title='Mafia-type Criminal Organisations and GDP Per Capita Across Italian Regions, 1983–2007 Average'\n",
    "\n",
    "plt.annotate('Sicily', (1.097555, 8217.568359))\n",
    "plt.annotate('Calabria',(1.810759, 7344.603516))\n",
    "plt.annotate('Campania',(0.944485, 8275.800781))\n",
    "plt.annotate('Basilicata',(0.354640, 8241.510742))\n",
    "plt.annotate('Apulia',(0.357075, 8745.296875))\n",
    "\n",
    "plt.ylim(7000,15000)\n",
    "plt.xlim(0,2)\n",
    "\n",
    "plt.figure(figsize=(20,13), dpi=800)\n",
    "\n",
    "plt.show()\n",
    "\n",
    "#plt.savefig('fig 2.1 example.png')"
   ]
  },
  {
   "cell_type": "markdown",
   "metadata": {},
   "source": [
    "\n",
    "The fall from grace of Apulia and Basilicata coincided with the spread of mafia organizations into their territory, thus rendering worthwhile the analysis of a causal link between the two events. \n",
    "  Pinotti (2015) contributes to the literature on the growth stunting effects of organised crime with an analysis of the post-war economic development of two regions in Italy, Apulia and Basilicata, which were exposed to mafia activity after the 1970s. \n",
    "  These two regions are characterized by a peculiar situation with respect to others. In fact, Apulia and Basilicata were characterized by levels of criminal activity and economic growth akin to those of other Southern regions unaffected by mafia activity before the spread of criminal organizations. \n",
    "\n",
    "Things took a turn in the 1970s, following two pivotal changes. \n",
    "  The closure of the port of Tangier in 1960 caused a shift in the trade routes of tobacco smugglers, which suddenly involved the Adriatic regions. This change would represent a decisive factor for mafia involvement a decade later, when tobacco smuggling became the most profitable criminal business in Italy. Nowadays, tobacco smuggling has lost its podium position to large-scale nacotrafficking along the same routes. <br>\n",
    "  The second most important event leading to the infiltratoin of mafia was a strong earthquake in Basilicata in 1980, which affected the entire region and the neighboring regions of Campania and Apulia. Following the natural disaster, government relief and public investment flooded the regions, and in turn mafia appropriated as much as possible through embezzlement, intimidation and corruption of local authorities. <br>\n",
    "   Besides pivotal events such as the ones detailed above, another measure helped the creation of networks and influence in the previously unaffected regions: *confino*. The initial intent of the provision was to break up links between mafiosi through the physical separation of the clans' upper echelons by confining them to far away regions, however, not only did the measure fail, but in the end it unintentionally aided the transplantation of these organizations into new territories."
   ]
  },
  {
   "cell_type": "markdown",
   "metadata": {},
   "source": [
    "## 2.1 Methodology\n",
    "The two watershed events allow for a subdivision of the Italian regions into treated, control and excluded:\n",
    "\n",
    "\n",
    "| Status    | Regions                                          |\n",
    "| :---      | :---                                             |\n",
    "| Treatment | Apulia, Basilicata                               |\n",
    "| Control   | Abruzzo, Molise, Sardinia & Centre-North regions |\n",
    "| Excluded  | Sicily, Campania, Calabria                       |\n",
    "\n",
    "Excluded regions are Italian regions with a historical presence of mafia organizations, which are neither good for the control group nor as additional treatment units.\n",
    "\n",
    "The units in the control group are weighted to build a synthetic control group which mimics the pre 1970s conditions in the treatment group and is used as a counterfactual scenario. The idea is that the weights should reflect the structural parameters that, in absence of treatment, should not have varied for the treated. Therefore, the synthetic control group should reflect how Apulia and Basilicata would have evolved in the absence of mafia introduction by replicating the initial conditions and the growth potential of the regions of interest. <br>\n",
    "The weighting procedure is also a good tool to reduce potential omitted variable bias. \n",
    "\n",
    "#### 2.1.1. Synthetic control method\n",
    "Let $ y_t $ be an outcome of interest which depends on the presence of organised crime. Each region will have outcome $y^1$ if exposed to organised crime, and $y^0$ otherwise:\n",
    "\n",
    "$$y_t = c_t y^1_t + (1-c_t) y^0_t$$\n",
    "\n",
    "where $c_t$ is a binary indicator for the presence of organised crime in the region. We only observe one of the two potential outcomes in a given year, but the treatment effect is $\\beta_t=y^1_t-y^0_t$.\n",
    "\n",
    "Synthetic control allows to overcome this issue. The estimator will compare the actual outcome in the treatment group to a weighted average of the units in the control group.\n",
    "\n",
    "$$\\hat{\\beta}_t = y_t \\sum_{i\\in t}{w_t y_{it}}$$\n",
    "\n",
    "where $w_t$ are the weights associated to each region in the control group. But how to choose the weights? A natural response is to optimize the weights with the aim of minimizing the distance between the treatment and control group before the two pivotal events happen. The optimal vector of weights $W^*(V)$ minimizes the square distance between the two groups:\n",
    "\n",
    "$$\\left(\n",
    "x-\\sum_{i\\in I}{w_i x_i^0}\n",
    "\\right) '\n",
    "V\n",
    "\\left(\n",
    "x-\\sum_{i\\in I}{w_i x_i^0}\n",
    "\\right)$$\n",
    "\n",
    "where $x$ and $x^0_i$ is the $(K\\times 1)$ vector of predictors and $V$ is the $(K\\times K)$ diagonal matrix with non-negative entries measuring the relative importance of each predictor. <br>\n",
    "Therefore, we choose $V$, the matrix of weights, with the aim of minimizing\n",
    "\n",
    "$$\\frac{1}{T^0} \\sum_{i\\in T^0} \\left( y_t-\\sum{w^*_i y_{it}} \\right) ^2 \\space \\text{for} \\space T^0\\le T$$\n",
    "\n",
    "The mean square error is minimized in the period 1951-1960.\n",
    "\n",
    "#### 2.1.2. Variables\n",
    "The dependent variable of interest is real GDP *per capita* at 1990 euro-equivalent prices, as a measure of economic growth. Independent variables are the main predictors of economic growth in the literature, such as initial level of GDP *per capita*, the investment rate, a human capital indicator, population density, value added share per sector.\n",
    "\n",
    "The presence of criminal organizations can be measured with the number of cases ex Art. 416-bis of the Penal Code (\"associazione a delinquere di stampo mafioso\") every 100,000 inshabitants, an article specifically aimed at mafia type criminal organizations. However, using this as a measurement can be particularly problematic because of the pervasiveness of under-reporting of mafia related crimes plagued by a culture of silence (*omertà*). \n",
    "Using the number of homicides every 100,000 inhabitants is a much better measure for the presence of mafia organizations in Italy as emerges from the data. \n",
    "The murder rate data is reported in pargraph 4.1 for each group of regions (control, treatment, excluded), and highlights similar trends in the periods and regions affected by mafia organizations.\n",
    "\n",
    "- ***INSERT GEOGRAPH ON ART 416-BIS?***\n",
    "- ***INSERT CORRELATION GRAPH BETWEEN HOMICIDES AND 416-BIS***\n",
    "- ***INSERT TIME SERIES OF HOMICIDE RATE PER GROUP OF REGIONS (TREAT, CONTROL, REST OF SOUTH, NORTH+CENTRE)***\n",
    "\n"
   ]
  },
  {
   "cell_type": "markdown",
   "metadata": {},
   "source": [
    "#### Figure 2.2: Murder Rate Over Time Across Different Areas in Italy, Years 1955–2007"
   ]
  },
  {
   "cell_type": "code",
   "execution_count": null,
   "metadata": {},
   "outputs": [],
   "source": [
    "# 21 NEW : APULIA AND BASILICATA\n",
    "# 22 HIS : SICILY, CAMPANIA AND CALABRIA\n",
    "# 23 STH : ABRUZZO, MOLISE AND SARDINIA\n",
    "# 24 NTH : Piedmont, Aosta Valley, Lombardy, Trentino Alto Adige, Veneto,\n",
    "# Friuli Venezia Giulia, Liguria, Emilia Romagna, Tuscany, Umbria, Marche, Lazio\n",
    "# 25 OTH : STH+NTH"
   ]
  },
  {
   "cell_type": "code",
   "execution_count": 115,
   "metadata": {
    "scrolled": false
   },
   "outputs": [
    {
     "data": {
      "text/html": [
       "<div>\n",
       "<style scoped>\n",
       "    .dataframe tbody tr th:only-of-type {\n",
       "        vertical-align: middle;\n",
       "    }\n",
       "\n",
       "    .dataframe tbody tr th {\n",
       "        vertical-align: top;\n",
       "    }\n",
       "\n",
       "    .dataframe thead th {\n",
       "        text-align: right;\n",
       "    }\n",
       "</style>\n",
       "<table border=\"1\" class=\"dataframe\">\n",
       "  <thead>\n",
       "    <tr style=\"text-align: right;\">\n",
       "      <th></th>\n",
       "      <th>murd</th>\n",
       "      <th>year</th>\n",
       "      <th>region</th>\n",
       "    </tr>\n",
       "  </thead>\n",
       "  <tbody>\n",
       "    <tr>\n",
       "      <th>1145</th>\n",
       "      <td>2.256770</td>\n",
       "      <td>1956.0</td>\n",
       "      <td>NEW</td>\n",
       "    </tr>\n",
       "    <tr>\n",
       "      <th>1146</th>\n",
       "      <td>1.697030</td>\n",
       "      <td>1957.0</td>\n",
       "      <td>NEW</td>\n",
       "    </tr>\n",
       "    <tr>\n",
       "      <th>1147</th>\n",
       "      <td>1.594022</td>\n",
       "      <td>1958.0</td>\n",
       "      <td>NEW</td>\n",
       "    </tr>\n",
       "    <tr>\n",
       "      <th>1148</th>\n",
       "      <td>1.686508</td>\n",
       "      <td>1959.0</td>\n",
       "      <td>NEW</td>\n",
       "    </tr>\n",
       "    <tr>\n",
       "      <th>1149</th>\n",
       "      <td>1.617606</td>\n",
       "      <td>1960.0</td>\n",
       "      <td>NEW</td>\n",
       "    </tr>\n",
       "    <tr>\n",
       "      <th>...</th>\n",
       "      <td>...</td>\n",
       "      <td>...</td>\n",
       "      <td>...</td>\n",
       "    </tr>\n",
       "    <tr>\n",
       "      <th>1420</th>\n",
       "      <td>0.897295</td>\n",
       "      <td>2003.0</td>\n",
       "      <td>NTH</td>\n",
       "    </tr>\n",
       "    <tr>\n",
       "      <th>1421</th>\n",
       "      <td>0.806045</td>\n",
       "      <td>2004.0</td>\n",
       "      <td>NTH</td>\n",
       "    </tr>\n",
       "    <tr>\n",
       "      <th>1422</th>\n",
       "      <td>0.671200</td>\n",
       "      <td>2005.0</td>\n",
       "      <td>NTH</td>\n",
       "    </tr>\n",
       "    <tr>\n",
       "      <th>1423</th>\n",
       "      <td>0.758293</td>\n",
       "      <td>2006.0</td>\n",
       "      <td>NTH</td>\n",
       "    </tr>\n",
       "    <tr>\n",
       "      <th>1424</th>\n",
       "      <td>0.680544</td>\n",
       "      <td>2007.0</td>\n",
       "      <td>NTH</td>\n",
       "    </tr>\n",
       "  </tbody>\n",
       "</table>\n",
       "<p>208 rows × 3 columns</p>\n",
       "</div>"
      ],
      "text/plain": [
       "          murd    year region\n",
       "1145  2.256770  1956.0    NEW\n",
       "1146  1.697030  1957.0    NEW\n",
       "1147  1.594022  1958.0    NEW\n",
       "1148  1.686508  1959.0    NEW\n",
       "1149  1.617606  1960.0    NEW\n",
       "...        ...     ...    ...\n",
       "1420  0.897295  2003.0    NTH\n",
       "1421  0.806045  2004.0    NTH\n",
       "1422  0.671200  2005.0    NTH\n",
       "1423  0.758293  2006.0    NTH\n",
       "1424  0.680544  2007.0    NTH\n",
       "\n",
       "[208 rows x 3 columns]"
      ]
     },
     "execution_count": 115,
     "metadata": {},
     "output_type": "execute_result"
    }
   ],
   "source": [
    "# filter to keep only the grouped data in the dataframe: NEW, HIS, STH, NTH\n",
    "grouped = (df['reg'] > 20) & (df['reg'] <25)\n",
    "\n",
    "# apply the filter to the dataframe and store it as df3\n",
    "df3 = df.loc[grouped, ['murd', 'year', 'region']]\n",
    "# only keep relevant years\n",
    "df3 = df3[df3['year'] >= 1956]\n",
    "df3 = df3[['murd', 'year', 'region']]\n",
    "df3"
   ]
  },
  {
   "cell_type": "code",
   "execution_count": 116,
   "metadata": {},
   "outputs": [
    {
     "data": {
      "text/html": [
       "<div>\n",
       "<style scoped>\n",
       "    .dataframe tbody tr th:only-of-type {\n",
       "        vertical-align: middle;\n",
       "    }\n",
       "\n",
       "    .dataframe tbody tr th {\n",
       "        vertical-align: top;\n",
       "    }\n",
       "\n",
       "    .dataframe thead th {\n",
       "        text-align: right;\n",
       "    }\n",
       "</style>\n",
       "<table border=\"1\" class=\"dataframe\">\n",
       "  <thead>\n",
       "    <tr style=\"text-align: right;\">\n",
       "      <th>region</th>\n",
       "      <th>HIS</th>\n",
       "      <th>NEW</th>\n",
       "      <th>NTH</th>\n",
       "      <th>STH</th>\n",
       "    </tr>\n",
       "    <tr>\n",
       "      <th>year</th>\n",
       "      <th></th>\n",
       "      <th></th>\n",
       "      <th></th>\n",
       "      <th></th>\n",
       "    </tr>\n",
       "  </thead>\n",
       "  <tbody>\n",
       "    <tr>\n",
       "      <th>1956.0</th>\n",
       "      <td>4.385887</td>\n",
       "      <td>2.256770</td>\n",
       "      <td>0.669803</td>\n",
       "      <td>2.964690</td>\n",
       "    </tr>\n",
       "    <tr>\n",
       "      <th>1957.0</th>\n",
       "      <td>3.749112</td>\n",
       "      <td>1.697030</td>\n",
       "      <td>0.565082</td>\n",
       "      <td>2.267422</td>\n",
       "    </tr>\n",
       "    <tr>\n",
       "      <th>1958.0</th>\n",
       "      <td>3.970991</td>\n",
       "      <td>1.594022</td>\n",
       "      <td>0.593548</td>\n",
       "      <td>2.472436</td>\n",
       "    </tr>\n",
       "    <tr>\n",
       "      <th>1959.0</th>\n",
       "      <td>3.711195</td>\n",
       "      <td>1.686508</td>\n",
       "      <td>0.486462</td>\n",
       "      <td>2.505010</td>\n",
       "    </tr>\n",
       "    <tr>\n",
       "      <th>1960.0</th>\n",
       "      <td>3.455299</td>\n",
       "      <td>1.617606</td>\n",
       "      <td>0.508114</td>\n",
       "      <td>2.676902</td>\n",
       "    </tr>\n",
       "    <tr>\n",
       "      <th>1961.0</th>\n",
       "      <td>3.199402</td>\n",
       "      <td>1.548705</td>\n",
       "      <td>0.529766</td>\n",
       "      <td>2.848795</td>\n",
       "    </tr>\n",
       "    <tr>\n",
       "      <th>1962.0</th>\n",
       "      <td>1.171019</td>\n",
       "      <td>0.860885</td>\n",
       "      <td>0.348314</td>\n",
       "      <td>1.344182</td>\n",
       "    </tr>\n",
       "    <tr>\n",
       "      <th>1963.0</th>\n",
       "      <td>2.010156</td>\n",
       "      <td>0.737439</td>\n",
       "      <td>0.377931</td>\n",
       "      <td>1.922397</td>\n",
       "    </tr>\n",
       "    <tr>\n",
       "      <th>1964.0</th>\n",
       "      <td>1.638535</td>\n",
       "      <td>0.877595</td>\n",
       "      <td>0.398243</td>\n",
       "      <td>1.143971</td>\n",
       "    </tr>\n",
       "    <tr>\n",
       "      <th>1965.0</th>\n",
       "      <td>1.601332</td>\n",
       "      <td>0.724531</td>\n",
       "      <td>0.350744</td>\n",
       "      <td>1.240514</td>\n",
       "    </tr>\n",
       "    <tr>\n",
       "      <th>1966.0</th>\n",
       "      <td>1.482915</td>\n",
       "      <td>0.912686</td>\n",
       "      <td>0.365880</td>\n",
       "      <td>1.505154</td>\n",
       "    </tr>\n",
       "    <tr>\n",
       "      <th>1967.0</th>\n",
       "      <td>1.583388</td>\n",
       "      <td>1.126220</td>\n",
       "      <td>0.406679</td>\n",
       "      <td>1.814490</td>\n",
       "    </tr>\n",
       "    <tr>\n",
       "      <th>1968.0</th>\n",
       "      <td>1.645127</td>\n",
       "      <td>0.957856</td>\n",
       "      <td>0.393907</td>\n",
       "      <td>1.045905</td>\n",
       "    </tr>\n",
       "    <tr>\n",
       "      <th>1969.0</th>\n",
       "      <td>1.738965</td>\n",
       "      <td>1.268228</td>\n",
       "      <td>0.560386</td>\n",
       "      <td>1.317025</td>\n",
       "    </tr>\n",
       "    <tr>\n",
       "      <th>1970.0</th>\n",
       "      <td>1.645401</td>\n",
       "      <td>1.553921</td>\n",
       "      <td>0.446243</td>\n",
       "      <td>1.148349</td>\n",
       "    </tr>\n",
       "    <tr>\n",
       "      <th>1971.0</th>\n",
       "      <td>1.814190</td>\n",
       "      <td>0.763489</td>\n",
       "      <td>0.541187</td>\n",
       "      <td>1.079714</td>\n",
       "    </tr>\n",
       "    <tr>\n",
       "      <th>1972.0</th>\n",
       "      <td>2.128601</td>\n",
       "      <td>1.016885</td>\n",
       "      <td>0.684135</td>\n",
       "      <td>1.138100</td>\n",
       "    </tr>\n",
       "    <tr>\n",
       "      <th>1973.0</th>\n",
       "      <td>1.969623</td>\n",
       "      <td>1.078682</td>\n",
       "      <td>0.604677</td>\n",
       "      <td>1.593902</td>\n",
       "    </tr>\n",
       "    <tr>\n",
       "      <th>1974.0</th>\n",
       "      <td>2.053743</td>\n",
       "      <td>1.022168</td>\n",
       "      <td>0.637417</td>\n",
       "      <td>0.856565</td>\n",
       "    </tr>\n",
       "    <tr>\n",
       "      <th>1975.0</th>\n",
       "      <td>6.253706</td>\n",
       "      <td>4.055231</td>\n",
       "      <td>1.878723</td>\n",
       "      <td>1.832620</td>\n",
       "    </tr>\n",
       "    <tr>\n",
       "      <th>1976.0</th>\n",
       "      <td>5.603948</td>\n",
       "      <td>4.411865</td>\n",
       "      <td>1.853101</td>\n",
       "      <td>2.633648</td>\n",
       "    </tr>\n",
       "    <tr>\n",
       "      <th>1977.0</th>\n",
       "      <td>5.662684</td>\n",
       "      <td>4.177491</td>\n",
       "      <td>1.699252</td>\n",
       "      <td>2.748188</td>\n",
       "    </tr>\n",
       "    <tr>\n",
       "      <th>1978.0</th>\n",
       "      <td>5.553327</td>\n",
       "      <td>3.564910</td>\n",
       "      <td>0.901364</td>\n",
       "      <td>2.734265</td>\n",
       "    </tr>\n",
       "    <tr>\n",
       "      <th>1979.0</th>\n",
       "      <td>5.560938</td>\n",
       "      <td>3.591185</td>\n",
       "      <td>1.723426</td>\n",
       "      <td>2.626469</td>\n",
       "    </tr>\n",
       "    <tr>\n",
       "      <th>1980.0</th>\n",
       "      <td>4.607658</td>\n",
       "      <td>4.918809</td>\n",
       "      <td>1.744380</td>\n",
       "      <td>2.777254</td>\n",
       "    </tr>\n",
       "    <tr>\n",
       "      <th>1981.0</th>\n",
       "      <td>6.883973</td>\n",
       "      <td>3.323919</td>\n",
       "      <td>1.705105</td>\n",
       "      <td>3.120545</td>\n",
       "    </tr>\n",
       "    <tr>\n",
       "      <th>1982.0</th>\n",
       "      <td>7.466524</td>\n",
       "      <td>4.644602</td>\n",
       "      <td>1.761124</td>\n",
       "      <td>2.847232</td>\n",
       "    </tr>\n",
       "    <tr>\n",
       "      <th>1983.0</th>\n",
       "      <td>5.644120</td>\n",
       "      <td>1.775773</td>\n",
       "      <td>1.005076</td>\n",
       "      <td>1.758245</td>\n",
       "    </tr>\n",
       "    <tr>\n",
       "      <th>1984.0</th>\n",
       "      <td>4.289333</td>\n",
       "      <td>1.153347</td>\n",
       "      <td>1.079348</td>\n",
       "      <td>1.622080</td>\n",
       "    </tr>\n",
       "    <tr>\n",
       "      <th>1985.0</th>\n",
       "      <td>4.095773</td>\n",
       "      <td>1.535509</td>\n",
       "      <td>0.764597</td>\n",
       "      <td>1.458843</td>\n",
       "    </tr>\n",
       "    <tr>\n",
       "      <th>1986.0</th>\n",
       "      <td>4.002533</td>\n",
       "      <td>1.183709</td>\n",
       "      <td>0.666298</td>\n",
       "      <td>1.701673</td>\n",
       "    </tr>\n",
       "    <tr>\n",
       "      <th>1987.0</th>\n",
       "      <td>4.808175</td>\n",
       "      <td>1.650766</td>\n",
       "      <td>0.899339</td>\n",
       "      <td>1.171435</td>\n",
       "    </tr>\n",
       "    <tr>\n",
       "      <th>1988.0</th>\n",
       "      <td>5.974624</td>\n",
       "      <td>2.050420</td>\n",
       "      <td>0.868963</td>\n",
       "      <td>1.844019</td>\n",
       "    </tr>\n",
       "    <tr>\n",
       "      <th>1989.0</th>\n",
       "      <td>7.766086</td>\n",
       "      <td>2.599875</td>\n",
       "      <td>0.931749</td>\n",
       "      <td>2.485152</td>\n",
       "    </tr>\n",
       "    <tr>\n",
       "      <th>1990.0</th>\n",
       "      <td>8.338142</td>\n",
       "      <td>3.208628</td>\n",
       "      <td>1.162393</td>\n",
       "      <td>2.932895</td>\n",
       "    </tr>\n",
       "    <tr>\n",
       "      <th>1991.0</th>\n",
       "      <td>8.970212</td>\n",
       "      <td>4.674934</td>\n",
       "      <td>1.308503</td>\n",
       "      <td>2.758208</td>\n",
       "    </tr>\n",
       "    <tr>\n",
       "      <th>1992.0</th>\n",
       "      <td>6.592701</td>\n",
       "      <td>3.132514</td>\n",
       "      <td>1.148153</td>\n",
       "      <td>1.790707</td>\n",
       "    </tr>\n",
       "    <tr>\n",
       "      <th>1993.0</th>\n",
       "      <td>4.487446</td>\n",
       "      <td>2.394821</td>\n",
       "      <td>0.887463</td>\n",
       "      <td>1.691104</td>\n",
       "    </tr>\n",
       "    <tr>\n",
       "      <th>1994.0</th>\n",
       "      <td>4.145813</td>\n",
       "      <td>1.728368</td>\n",
       "      <td>0.788068</td>\n",
       "      <td>1.626109</td>\n",
       "    </tr>\n",
       "    <tr>\n",
       "      <th>1995.0</th>\n",
       "      <td>4.221727</td>\n",
       "      <td>2.003329</td>\n",
       "      <td>0.867061</td>\n",
       "      <td>1.348561</td>\n",
       "    </tr>\n",
       "    <tr>\n",
       "      <th>1996.0</th>\n",
       "      <td>3.757626</td>\n",
       "      <td>1.597255</td>\n",
       "      <td>0.892227</td>\n",
       "      <td>1.683339</td>\n",
       "    </tr>\n",
       "    <tr>\n",
       "      <th>1997.0</th>\n",
       "      <td>3.207896</td>\n",
       "      <td>1.915709</td>\n",
       "      <td>0.847481</td>\n",
       "      <td>1.438629</td>\n",
       "    </tr>\n",
       "    <tr>\n",
       "      <th>1998.0</th>\n",
       "      <td>3.270091</td>\n",
       "      <td>1.745795</td>\n",
       "      <td>0.897436</td>\n",
       "      <td>1.256127</td>\n",
       "    </tr>\n",
       "    <tr>\n",
       "      <th>1999.0</th>\n",
       "      <td>2.697480</td>\n",
       "      <td>2.109525</td>\n",
       "      <td>0.829751</td>\n",
       "      <td>1.595092</td>\n",
       "    </tr>\n",
       "    <tr>\n",
       "      <th>2000.0</th>\n",
       "      <td>2.579196</td>\n",
       "      <td>1.918159</td>\n",
       "      <td>0.799393</td>\n",
       "      <td>0.859423</td>\n",
       "    </tr>\n",
       "    <tr>\n",
       "      <th>2001.0</th>\n",
       "      <td>2.341902</td>\n",
       "      <td>1.602078</td>\n",
       "      <td>0.808618</td>\n",
       "      <td>1.181960</td>\n",
       "    </tr>\n",
       "    <tr>\n",
       "      <th>2002.0</th>\n",
       "      <td>1.889169</td>\n",
       "      <td>1.146938</td>\n",
       "      <td>0.807877</td>\n",
       "      <td>1.516089</td>\n",
       "    </tr>\n",
       "    <tr>\n",
       "      <th>2003.0</th>\n",
       "      <td>1.996242</td>\n",
       "      <td>1.681759</td>\n",
       "      <td>0.897295</td>\n",
       "      <td>1.384189</td>\n",
       "    </tr>\n",
       "    <tr>\n",
       "      <th>2004.0</th>\n",
       "      <td>2.490048</td>\n",
       "      <td>1.178992</td>\n",
       "      <td>0.806045</td>\n",
       "      <td>1.100581</td>\n",
       "    </tr>\n",
       "    <tr>\n",
       "      <th>2005.0</th>\n",
       "      <td>2.083893</td>\n",
       "      <td>0.857338</td>\n",
       "      <td>0.671200</td>\n",
       "      <td>1.188339</td>\n",
       "    </tr>\n",
       "    <tr>\n",
       "      <th>2006.0</th>\n",
       "      <td>2.053869</td>\n",
       "      <td>0.793786</td>\n",
       "      <td>0.758293</td>\n",
       "      <td>0.912044</td>\n",
       "    </tr>\n",
       "    <tr>\n",
       "      <th>2007.0</th>\n",
       "      <td>2.202544</td>\n",
       "      <td>1.006953</td>\n",
       "      <td>0.680544</td>\n",
       "      <td>0.996846</td>\n",
       "    </tr>\n",
       "  </tbody>\n",
       "</table>\n",
       "</div>"
      ],
      "text/plain": [
       "region       HIS       NEW       NTH       STH\n",
       "year                                          \n",
       "1956.0  4.385887  2.256770  0.669803  2.964690\n",
       "1957.0  3.749112  1.697030  0.565082  2.267422\n",
       "1958.0  3.970991  1.594022  0.593548  2.472436\n",
       "1959.0  3.711195  1.686508  0.486462  2.505010\n",
       "1960.0  3.455299  1.617606  0.508114  2.676902\n",
       "1961.0  3.199402  1.548705  0.529766  2.848795\n",
       "1962.0  1.171019  0.860885  0.348314  1.344182\n",
       "1963.0  2.010156  0.737439  0.377931  1.922397\n",
       "1964.0  1.638535  0.877595  0.398243  1.143971\n",
       "1965.0  1.601332  0.724531  0.350744  1.240514\n",
       "1966.0  1.482915  0.912686  0.365880  1.505154\n",
       "1967.0  1.583388  1.126220  0.406679  1.814490\n",
       "1968.0  1.645127  0.957856  0.393907  1.045905\n",
       "1969.0  1.738965  1.268228  0.560386  1.317025\n",
       "1970.0  1.645401  1.553921  0.446243  1.148349\n",
       "1971.0  1.814190  0.763489  0.541187  1.079714\n",
       "1972.0  2.128601  1.016885  0.684135  1.138100\n",
       "1973.0  1.969623  1.078682  0.604677  1.593902\n",
       "1974.0  2.053743  1.022168  0.637417  0.856565\n",
       "1975.0  6.253706  4.055231  1.878723  1.832620\n",
       "1976.0  5.603948  4.411865  1.853101  2.633648\n",
       "1977.0  5.662684  4.177491  1.699252  2.748188\n",
       "1978.0  5.553327  3.564910  0.901364  2.734265\n",
       "1979.0  5.560938  3.591185  1.723426  2.626469\n",
       "1980.0  4.607658  4.918809  1.744380  2.777254\n",
       "1981.0  6.883973  3.323919  1.705105  3.120545\n",
       "1982.0  7.466524  4.644602  1.761124  2.847232\n",
       "1983.0  5.644120  1.775773  1.005076  1.758245\n",
       "1984.0  4.289333  1.153347  1.079348  1.622080\n",
       "1985.0  4.095773  1.535509  0.764597  1.458843\n",
       "1986.0  4.002533  1.183709  0.666298  1.701673\n",
       "1987.0  4.808175  1.650766  0.899339  1.171435\n",
       "1988.0  5.974624  2.050420  0.868963  1.844019\n",
       "1989.0  7.766086  2.599875  0.931749  2.485152\n",
       "1990.0  8.338142  3.208628  1.162393  2.932895\n",
       "1991.0  8.970212  4.674934  1.308503  2.758208\n",
       "1992.0  6.592701  3.132514  1.148153  1.790707\n",
       "1993.0  4.487446  2.394821  0.887463  1.691104\n",
       "1994.0  4.145813  1.728368  0.788068  1.626109\n",
       "1995.0  4.221727  2.003329  0.867061  1.348561\n",
       "1996.0  3.757626  1.597255  0.892227  1.683339\n",
       "1997.0  3.207896  1.915709  0.847481  1.438629\n",
       "1998.0  3.270091  1.745795  0.897436  1.256127\n",
       "1999.0  2.697480  2.109525  0.829751  1.595092\n",
       "2000.0  2.579196  1.918159  0.799393  0.859423\n",
       "2001.0  2.341902  1.602078  0.808618  1.181960\n",
       "2002.0  1.889169  1.146938  0.807877  1.516089\n",
       "2003.0  1.996242  1.681759  0.897295  1.384189\n",
       "2004.0  2.490048  1.178992  0.806045  1.100581\n",
       "2005.0  2.083893  0.857338  0.671200  1.188339\n",
       "2006.0  2.053869  0.793786  0.758293  0.912044\n",
       "2007.0  2.202544  1.006953  0.680544  0.996846"
      ]
     },
     "execution_count": 116,
     "metadata": {},
     "output_type": "execute_result"
    }
   ],
   "source": [
    "df3 = df3.pivot(index='year', \n",
    "                columns='region', \n",
    "                values='murd')\n",
    "df3"
   ]
  },
  {
   "cell_type": "code",
   "execution_count": 140,
   "metadata": {},
   "outputs": [
    {
     "data": {
      "text/plain": [
       "<AxesSubplot:xlabel='year'>"
      ]
     },
     "execution_count": 140,
     "metadata": {},
     "output_type": "execute_result"
    },
    {
     "data": {
      "image/png": "[encoded data removed]",
      "text/plain": [
       "<Figure size 720x360 with 1 Axes>"
      ]
     },
     "metadata": {
      "needs_background": "light"
     },
     "output_type": "display_data"
    }
   ],
   "source": [
    "df3.plot(colormap='rainbow', rot='vertical',\n",
    "         xticks=[1956,1960,1965,1970,1975,1980,1985,1990,1995,2000,2005,2010],\n",
    "        yticks=[0,0.5,1,1.5,2,2.5,3,3.5,4,4.5,5,5.5,6,6.5,7,7.5,8,8.5,9])"
   ]
  },
  {
   "cell_type": "code",
   "execution_count": null,
   "metadata": {},
   "outputs": [],
   "source": []
  },
  {
   "cell_type": "markdown",
   "metadata": {},
   "source": [
    "---\n",
    "# 3. Synthetic control methods"
   ]
  },
  {
   "cell_type": "markdown",
   "metadata": {},
   "source": [
    "- describe the methods we will use from econometric POV\n",
    "- refer to Abadie paper\n",
    "- insert methodological description\n",
    "- paragraph on how to do it with python"
   ]
  },
  {
   "cell_type": "markdown",
   "metadata": {},
   "source": [
    "Synthetic Controls are, “arguably the most important innovation in the policy evaluation literature in the last 15 years” - Athey and Imbens, 2017.\n",
    "\n",
    "\n",
    "### What are they? (was in section 1)\n",
    "- Used to evaluate the effect of an intervention in comparative case studies.\n",
    "- Based on the idea that a combination of unaffected units often provides a better comparison than any single unaffected unit alone.\n",
    "- This combination is captured through weights calculated by optimization algorithms. \n",
    "- Similar to Diff-in-Diff method; in fact, according to Abadie et al. (2010) the synthetic control methods generalizes the Diff-in-Diff model by allowing the effect of unobserved confounders to vary over time.\n",
    "- This advantage arises from a flexible factor representation of the potential outcomes of treated units.\n",
    "- Wide usage: Academia, multilateral organizations, think tanks, business analytics units, governmental agencies, and consulting firms."
   ]
  },
  {
   "cell_type": "markdown",
   "metadata": {},
   "source": [
    "---\n",
    "# 4. Preliminary work for replication"
   ]
  },
  {
   "cell_type": "markdown",
   "metadata": {},
   "source": [
    "First and foremost, let us set up the dataset using Pandas and visualize its structure."
   ]
  },
  {
   "cell_type": "code",
   "execution_count": 7,
   "metadata": {
    "scrolled": true
   },
   "outputs": [
    {
     "data": {
      "text/html": [
       "<div>\n",
       "<style scoped>\n",
       "    .dataframe tbody tr th:only-of-type {\n",
       "        vertical-align: middle;\n",
       "    }\n",
       "\n",
       "    .dataframe tbody tr th {\n",
       "        vertical-align: top;\n",
       "    }\n",
       "\n",
       "    .dataframe thead th {\n",
       "        text-align: right;\n",
       "    }\n",
       "</style>\n",
       "<table border=\"1\" class=\"dataframe\">\n",
       "  <thead>\n",
       "    <tr style=\"text-align: right;\">\n",
       "      <th></th>\n",
       "      <th>reg</th>\n",
       "      <th>region</th>\n",
       "      <th>year</th>\n",
       "      <th>gdppercap</th>\n",
       "      <th>pop</th>\n",
       "      <th>gdp</th>\n",
       "      <th>vatot</th>\n",
       "      <th>vaag</th>\n",
       "      <th>vain</th>\n",
       "      <th>vams</th>\n",
       "      <th>...</th>\n",
       "      <th>robkidext</th>\n",
       "      <th>kwpop</th>\n",
       "      <th>ext</th>\n",
       "      <th>fire</th>\n",
       "      <th>kidnap</th>\n",
       "      <th>rob</th>\n",
       "      <th>smug</th>\n",
       "      <th>drug</th>\n",
       "      <th>theft</th>\n",
       "      <th>orgcrime</th>\n",
       "    </tr>\n",
       "  </thead>\n",
       "  <tbody>\n",
       "    <tr>\n",
       "      <th>0</th>\n",
       "      <td>1.0</td>\n",
       "      <td>PIE</td>\n",
       "      <td>1951.0</td>\n",
       "      <td>4256.403320</td>\n",
       "      <td>3519000.0</td>\n",
       "      <td>14978.282987</td>\n",
       "      <td>NaN</td>\n",
       "      <td>NaN</td>\n",
       "      <td>NaN</td>\n",
       "      <td>NaN</td>\n",
       "      <td>...</td>\n",
       "      <td>NaN</td>\n",
       "      <td>1078.999756</td>\n",
       "      <td>NaN</td>\n",
       "      <td>NaN</td>\n",
       "      <td>NaN</td>\n",
       "      <td>NaN</td>\n",
       "      <td>NaN</td>\n",
       "      <td>NaN</td>\n",
       "      <td>NaN</td>\n",
       "      <td>NaN</td>\n",
       "    </tr>\n",
       "    <tr>\n",
       "      <th>1</th>\n",
       "      <td>1.0</td>\n",
       "      <td>PIE</td>\n",
       "      <td>1952.0</td>\n",
       "      <td>4238.614746</td>\n",
       "      <td>3520000.0</td>\n",
       "      <td>14919.923358</td>\n",
       "      <td>NaN</td>\n",
       "      <td>NaN</td>\n",
       "      <td>NaN</td>\n",
       "      <td>NaN</td>\n",
       "      <td>...</td>\n",
       "      <td>NaN</td>\n",
       "      <td>1141.761353</td>\n",
       "      <td>NaN</td>\n",
       "      <td>NaN</td>\n",
       "      <td>NaN</td>\n",
       "      <td>NaN</td>\n",
       "      <td>NaN</td>\n",
       "      <td>NaN</td>\n",
       "      <td>NaN</td>\n",
       "      <td>NaN</td>\n",
       "    </tr>\n",
       "    <tr>\n",
       "      <th>2</th>\n",
       "      <td>1.0</td>\n",
       "      <td>PIE</td>\n",
       "      <td>1953.0</td>\n",
       "      <td>4504.506348</td>\n",
       "      <td>3546000.0</td>\n",
       "      <td>15972.978975</td>\n",
       "      <td>NaN</td>\n",
       "      <td>NaN</td>\n",
       "      <td>NaN</td>\n",
       "      <td>NaN</td>\n",
       "      <td>...</td>\n",
       "      <td>NaN</td>\n",
       "      <td>1183.305176</td>\n",
       "      <td>NaN</td>\n",
       "      <td>NaN</td>\n",
       "      <td>NaN</td>\n",
       "      <td>NaN</td>\n",
       "      <td>NaN</td>\n",
       "      <td>NaN</td>\n",
       "      <td>NaN</td>\n",
       "      <td>NaN</td>\n",
       "    </tr>\n",
       "    <tr>\n",
       "      <th>3</th>\n",
       "      <td>1.0</td>\n",
       "      <td>PIE</td>\n",
       "      <td>1954.0</td>\n",
       "      <td>4520.441895</td>\n",
       "      <td>3576000.0</td>\n",
       "      <td>16165.100942</td>\n",
       "      <td>NaN</td>\n",
       "      <td>NaN</td>\n",
       "      <td>NaN</td>\n",
       "      <td>NaN</td>\n",
       "      <td>...</td>\n",
       "      <td>NaN</td>\n",
       "      <td>1289.149902</td>\n",
       "      <td>NaN</td>\n",
       "      <td>NaN</td>\n",
       "      <td>NaN</td>\n",
       "      <td>NaN</td>\n",
       "      <td>NaN</td>\n",
       "      <td>NaN</td>\n",
       "      <td>NaN</td>\n",
       "      <td>NaN</td>\n",
       "    </tr>\n",
       "    <tr>\n",
       "      <th>4</th>\n",
       "      <td>1.0</td>\n",
       "      <td>PIE</td>\n",
       "      <td>1955.0</td>\n",
       "      <td>4858.409180</td>\n",
       "      <td>3615000.0</td>\n",
       "      <td>17563.149767</td>\n",
       "      <td>NaN</td>\n",
       "      <td>NaN</td>\n",
       "      <td>NaN</td>\n",
       "      <td>NaN</td>\n",
       "      <td>...</td>\n",
       "      <td>NaN</td>\n",
       "      <td>1380.636230</td>\n",
       "      <td>NaN</td>\n",
       "      <td>NaN</td>\n",
       "      <td>NaN</td>\n",
       "      <td>NaN</td>\n",
       "      <td>NaN</td>\n",
       "      <td>NaN</td>\n",
       "      <td>NaN</td>\n",
       "      <td>NaN</td>\n",
       "    </tr>\n",
       "  </tbody>\n",
       "</table>\n",
       "<p>5 rows × 41 columns</p>\n",
       "</div>"
      ],
      "text/plain": [
       "   reg region    year    gdppercap        pop           gdp  vatot  vaag  \\\n",
       "0  1.0    PIE  1951.0  4256.403320  3519000.0  14978.282987    NaN   NaN   \n",
       "1  1.0    PIE  1952.0  4238.614746  3520000.0  14919.923358    NaN   NaN   \n",
       "2  1.0    PIE  1953.0  4504.506348  3546000.0  15972.978975    NaN   NaN   \n",
       "3  1.0    PIE  1954.0  4520.441895  3576000.0  16165.100942    NaN   NaN   \n",
       "4  1.0    PIE  1955.0  4858.409180  3615000.0  17563.149767    NaN   NaN   \n",
       "\n",
       "   vain  vams  ...  robkidext        kwpop  ext  fire  kidnap  rob  smug  \\\n",
       "0   NaN   NaN  ...        NaN  1078.999756  NaN   NaN     NaN  NaN   NaN   \n",
       "1   NaN   NaN  ...        NaN  1141.761353  NaN   NaN     NaN  NaN   NaN   \n",
       "2   NaN   NaN  ...        NaN  1183.305176  NaN   NaN     NaN  NaN   NaN   \n",
       "3   NaN   NaN  ...        NaN  1289.149902  NaN   NaN     NaN  NaN   NaN   \n",
       "4   NaN   NaN  ...        NaN  1380.636230  NaN   NaN     NaN  NaN   NaN   \n",
       "\n",
       "   drug  theft  orgcrime  \n",
       "0   NaN    NaN       NaN  \n",
       "1   NaN    NaN       NaN  \n",
       "2   NaN    NaN       NaN  \n",
       "3   NaN    NaN       NaN  \n",
       "4   NaN    NaN       NaN  \n",
       "\n",
       "[5 rows x 41 columns]"
      ]
     },
     "execution_count": 7,
     "metadata": {},
     "output_type": "execute_result"
    }
   ],
   "source": [
    "dtafile = './dataset/Pinotti-replication/dataset.dta'\n",
    "df = pd.read_stata(dtafile)\n",
    "df.head()"
   ]
  },
  {
   "cell_type": "code",
   "execution_count": null,
   "metadata": {},
   "outputs": [],
   "source": []
  },
  {
   "cell_type": "markdown",
   "metadata": {},
   "source": [
    "## 4.1 Figures and Graphs"
   ]
  },
  {
   "cell_type": "markdown",
   "metadata": {},
   "source": []
  },
  {
   "cell_type": "code",
   "execution_count": 8,
   "metadata": {
    "ExecuteTime": {
     "end_time": "2021-11-21T07:28:17.364166Z",
     "start_time": "2021-11-21T07:28:17.205228Z"
    },
    "scrolled": true
   },
   "outputs": [],
   "source": [
    "df1 = df[df['year'] >= 1983]\n",
    "\n",
    "df2 = df1.groupby(['region', 'reg'])[['gdppercap', 'mafia', 'murd', 'ext', 'fire', 'kidnap', 'rob', 'smug',\n",
    "            'drug', 'theft', 'orgcrime']].mean()\n",
    "\n",
    "df2 = df2.reset_index()"
   ]
  },
  {
   "cell_type": "code",
   "execution_count": 5,
   "metadata": {
    "ExecuteTime": {
     "end_time": "2021-11-21T07:28:17.965285Z",
     "start_time": "2021-11-21T07:28:17.596583Z"
    },
    "scrolled": true
   },
   "outputs": [
    {
     "data": {
      "image/png": "[encoded data removed]",
      "text/plain": [
       "<Figure size 576x360 with 1 Axes>"
      ]
     },
     "metadata": {
      "needs_background": "light"
     },
     "output_type": "display_data"
    }
   ],
   "source": [
    "# Figure 3\n",
    "df2.plot.scatter('mafia', 'murd', c=color, s=10, linewidth=3)\n",
    "plt.rcParams[\"figure.figsize\"] = (8,5)\n",
    "plt.show()"
   ]
  },
  {
   "cell_type": "markdown",
   "metadata": {},
   "source": [
    "## 4.2 Data Preparation"
   ]
  },
  {
   "cell_type": "code",
   "execution_count": 7,
   "metadata": {
    "ExecuteTime": {
     "end_time": "2021-11-21T07:28:18.562568Z",
     "start_time": "2021-11-21T07:28:18.344494Z"
    },
    "scrolled": true
   },
   "outputs": [],
   "source": [
    "dtafile = 'dataset/Pinotti-replication/dataset.dta'\n",
    "data = pd.read_stata(dtafile)\n",
    "\n",
    "# Specify conditions for treated unit and control units as per Pinotti's paper (c.f. F216), \n",
    "\n",
    "treat_unit = data[data.reg == 21]\n",
    "treat_unit = treat_unit[treat_unit.year <= 1960]                 # Matching period: 1951 to 1960\n",
    "treat_unit_all = data[data.reg == 21]                            # Entire period:   1951 to 2007\n",
    "\n",
    "control_units = data[(data.reg <= 14) | (data.reg ==20)]\n",
    "control_units     = control_units[control_units.year <= 1960]\n",
    "control_units_all = data[(data.reg <= 14) | (data.reg ==20)]\n",
    "\n",
    "# Extract the outcome variable for treatment and control unit, y: GDP per capita\n",
    "\n",
    "y_treat     = np.array(treat_unit.gdppercap).reshape(1, 10)              # Matching period \n",
    "y_treat_all = np.array(treat_unit_all.gdppercap).reshape(1, 57)          # Entire period\n",
    "\n",
    "y_control     = np.array(control_units.gdppercap).reshape(15, 10)\n",
    "y_control_all = np.array(control_units_all.gdppercap).reshape(15, 57)"
   ]
  },
  {
   "cell_type": "markdown",
   "metadata": {},
   "source": [
    "#### Data Organization into Appropriate Format "
   ]
  },
  {
   "cell_type": "code",
   "execution_count": 8,
   "metadata": {
    "ExecuteTime": {
     "end_time": "2021-11-21T07:28:18.583427Z",
     "start_time": "2021-11-21T07:28:18.565131Z"
    },
    "scrolled": true
   },
   "outputs": [
    {
     "name": "stderr",
     "output_type": "stream",
     "text": [
      "C:\\Users\\Jessica\\AppData\\Local\\Temp/ipykernel_16952/293399204.py:6: FutureWarning: Using the level keyword in DataFrame and Series aggregations is deprecated and will be removed in a future version. Use groupby instead. df.median(level=1) should use df.groupby(level=1).median().\n",
      "  X1 = X1.set_index(np.arange(len(X1)) // 10).mean(level=0)\n",
      "C:\\Users\\Jessica\\AppData\\Local\\Temp/ipykernel_16952/293399204.py:12: FutureWarning: Using the level keyword in DataFrame and Series aggregations is deprecated and will be removed in a future version. Use groupby instead. df.median(level=1) should use df.groupby(level=1).median().\n",
      "  X0 = X0.set_index(np.arange(len(X0)) // 10).mean(level=0)\n"
     ]
    }
   ],
   "source": [
    "## Prepare matrices with only the relevant variables into CVXPY format, predictors k = 8\n",
    "\n",
    "# k x 1 vector: mean values of k predictors for 1 treated unit\n",
    "\n",
    "X1 = treat_unit[['gdppercap', 'invrate', 'shvain', 'shvaag', 'shvams', 'shvanms', 'shskill', 'density']]\n",
    "X1 = X1.set_index(np.arange(len(X1)) // 10).mean(level=0)\n",
    "X1 = X1.values               \n",
    "\n",
    "# k x J matrix: mean values of k predictors for J untreated units\n",
    "\n",
    "X0 = control_units[['gdppercap', 'invrate', 'shvain', 'shvaag', 'shvams', 'shvanms', 'shskill', 'density']]\n",
    "X0 = X0.set_index(np.arange(len(X0)) // 10).mean(level=0)\n",
    "X0 = X0.values"
   ]
  },
  {
   "cell_type": "markdown",
   "metadata": {},
   "source": [
    "---\n",
    "# 5. Replication of Pinotti (2015)"
   ]
  },
  {
   "cell_type": "markdown",
   "metadata": {},
   "source": [
    "## 5.1 Optimization methods for syntetic control <s> with CVXPYY\n",
    "\n",
    "$$\n",
    "\\hat{\\boldsymbol{W}}=\\operatorname{argmin}_{\\boldsymbol{W}}\\left[\\sum_{m=1}^{k}\\left(x_{m1}-\\sum_{j=2}^{J+1}\\boldsymbol{w}_{j} \\boldsymbol{x}_{mj}\\right)^{2}\\right]\n",
    "$$\n",
    "\n",
    "subject to\n",
    "                                                      \n",
    "$$ \\sum_{j=2}^{J+1}\\boldsymbol{w}_{j}=1$$   \n",
    "\n",
    "where w are the 15 weights, one for each of the control regions 'donor pool'.\n",
    "\n",
    "Which combination of weights best resembles the pre-intervention predictors values for the treated unit?\n",
    "\n"
   ]
  },
  {
   "cell_type": "code",
   "execution_count": 8,
   "metadata": {
    "ExecuteTime": {
     "end_time": "2021-11-21T07:28:18.614284Z",
     "start_time": "2021-11-21T07:28:18.588582Z"
    },
    "scrolled": false
   },
   "outputs": [],
   "source": [
    "# Setup the objective for CVXPY function\n",
    "w = cvx.Variable((1, 15), nonneg=True)\n",
    "\n",
    "objective_function = cvx.Minimize(cvx.sum_squares(X1 - w @ X0))\n",
    "objective_constraints = [cvx.sum(w) == 1]\n",
    "objective_solution = cvx.Problem(objective_function, objective_constraints).solve(verbose=False) #set True for details"
   ]
  },
  {
   "cell_type": "code",
   "execution_count": 13,
   "metadata": {
    "ExecuteTime": {
     "end_time": "2021-11-21T07:29:23.620042Z",
     "start_time": "2021-11-21T07:29:23.604231Z"
    },
    "scrolled": false
   },
   "outputs": [
    {
     "name": "stdout",
     "output_type": "stream",
     "text": [
      "\n",
      "Objective Value:  833.2880036755997 \n",
      "\n",
      "Optimal Weights:  [[0.         0.         0.         0.         0.15165999 0.\n",
      "  0.         0.         0.         0.         0.         0.\n",
      "  0.         0.84834001 0.        ]]\n"
     ]
    },
    {
     "data": {
      "text/html": [
       "<div>\n",
       "<style scoped>\n",
       "    .dataframe tbody tr th:only-of-type {\n",
       "        vertical-align: middle;\n",
       "    }\n",
       "\n",
       "    .dataframe tbody tr th {\n",
       "        vertical-align: top;\n",
       "    }\n",
       "\n",
       "    .dataframe thead th {\n",
       "        text-align: right;\n",
       "    }\n",
       "</style>\n",
       "<table border=\"1\" class=\"dataframe\">\n",
       "  <thead>\n",
       "    <tr style=\"text-align: right;\">\n",
       "      <th></th>\n",
       "      <th>Region</th>\n",
       "      <th>Weights</th>\n",
       "    </tr>\n",
       "  </thead>\n",
       "  <tbody>\n",
       "    <tr>\n",
       "      <th>0</th>\n",
       "      <td>PIE</td>\n",
       "      <td>0.000</td>\n",
       "    </tr>\n",
       "    <tr>\n",
       "      <th>1</th>\n",
       "      <td>VDA</td>\n",
       "      <td>0.000</td>\n",
       "    </tr>\n",
       "    <tr>\n",
       "      <th>2</th>\n",
       "      <td>LOM</td>\n",
       "      <td>0.000</td>\n",
       "    </tr>\n",
       "    <tr>\n",
       "      <th>3</th>\n",
       "      <td>TAA</td>\n",
       "      <td>0.000</td>\n",
       "    </tr>\n",
       "    <tr>\n",
       "      <th>4</th>\n",
       "      <td>VEN</td>\n",
       "      <td>0.152</td>\n",
       "    </tr>\n",
       "    <tr>\n",
       "      <th>5</th>\n",
       "      <td>FVG</td>\n",
       "      <td>0.000</td>\n",
       "    </tr>\n",
       "    <tr>\n",
       "      <th>6</th>\n",
       "      <td>LIG</td>\n",
       "      <td>0.000</td>\n",
       "    </tr>\n",
       "    <tr>\n",
       "      <th>7</th>\n",
       "      <td>EMR</td>\n",
       "      <td>0.000</td>\n",
       "    </tr>\n",
       "    <tr>\n",
       "      <th>8</th>\n",
       "      <td>TOS</td>\n",
       "      <td>0.000</td>\n",
       "    </tr>\n",
       "    <tr>\n",
       "      <th>9</th>\n",
       "      <td>UMB</td>\n",
       "      <td>0.000</td>\n",
       "    </tr>\n",
       "    <tr>\n",
       "      <th>10</th>\n",
       "      <td>MAR</td>\n",
       "      <td>0.000</td>\n",
       "    </tr>\n",
       "    <tr>\n",
       "      <th>11</th>\n",
       "      <td>LAZ</td>\n",
       "      <td>0.000</td>\n",
       "    </tr>\n",
       "    <tr>\n",
       "      <th>12</th>\n",
       "      <td>ABR</td>\n",
       "      <td>0.000</td>\n",
       "    </tr>\n",
       "    <tr>\n",
       "      <th>13</th>\n",
       "      <td>MOL</td>\n",
       "      <td>0.848</td>\n",
       "    </tr>\n",
       "    <tr>\n",
       "      <th>14</th>\n",
       "      <td>SAR</td>\n",
       "      <td>0.000</td>\n",
       "    </tr>\n",
       "  </tbody>\n",
       "</table>\n",
       "</div>"
      ],
      "text/plain": [
       "   Region  Weights\n",
       "0     PIE    0.000\n",
       "1     VDA    0.000\n",
       "2     LOM    0.000\n",
       "3     TAA    0.000\n",
       "4     VEN    0.152\n",
       "5     FVG    0.000\n",
       "6     LIG    0.000\n",
       "7     EMR    0.000\n",
       "8     TOS    0.000\n",
       "9     UMB    0.000\n",
       "10    MAR    0.000\n",
       "11    LAZ    0.000\n",
       "12    ABR    0.000\n",
       "13    MOL    0.848\n",
       "14    SAR    0.000"
      ]
     },
     "metadata": {},
     "output_type": "display_data"
    }
   ],
   "source": [
    "# CVXPY Solution\n",
    "print('\\nObjective Value: ',objective_solution,'\\n\\nOptimal Weights: ',w.value)\n",
    "sol_frame = pd.DataFrame({'Region':control_units.region.unique(), \n",
    "                           'Weights': np.round(w.value[0], decimals=3)})\n",
    "display(sol_frame)"
   ]
  },
  {
   "cell_type": "markdown",
   "metadata": {},
   "source": [
    "#### Commentary:\n",
    "- The basic CVXPY minimization problem allocates weights to VEN (Veneto: 0.152) and MOL (Molise: 0.848). \n",
    "- In comparison the weights in the paper are to ABR (Abruzzo: 0.624) and MOL (0.376).\n",
    "- Becker and Klößner found the weights to ABR (43.035), MOL 48.934, and Sardinia (SDR: 8.03045). \n",
    "\n",
    "But what do these weights mean in terms of the actual performance of our synthetic controls?"
   ]
  },
  {
   "cell_type": "markdown",
   "metadata": {},
   "source": [
    "## 5.2 Synthetic Control Performance Analysis"
   ]
  },
  {
   "cell_type": "markdown",
   "metadata": {},
   "source": [
    "#### Graphical Comparison"
   ]
  },
  {
   "cell_type": "code",
   "execution_count": 28,
   "metadata": {
    "ExecuteTime": {
     "end_time": "2021-11-22T04:52:03.321850Z",
     "start_time": "2021-11-22T04:52:02.212138Z"
    }
   },
   "outputs": [
    {
     "data": {
      "application/vnd.plotly.v1+json": {
       "config": {
        "plotlyServerURL": "https://plot.ly"
       },
       "data": [
        {
         "mode": "lines",
         "name": "Optimizer",
         "type": "scatter",
         "x": [
          1951,
          1952,
          1953,
          1954,
          1955,
          1956,
          1957,
          1958,
          1959,
          1960,
          1961,
          1962,
          1963,
          1964,
          1965,
          1966,
          1967,
          1968,
          1969,
          1970,
          1971,
          1972,
          1973,
          1974,
          1975,
          1976,
          1977,
          1978,
          1979,
          1980,
          1981,
          1982,
          1983,
          1984,
          1985,
          1986,
          1987,
          1988,
          1989,
          1990,
          1991,
          1992,
          1993,
          1994,
          1995,
          1996,
          1997,
          1998,
          1999,
          2000,
          2001,
          2002,
          2003,
          2004,
          2005,
          2006,
          2007
         ],
         "y": [
          1973.3742261906043,
          2149.989978110353,
          2292.0045501211193,
          2206.9703581152166,
          2396.2144928032294,
          2429.622136259443,
          2445.796092077913,
          2486.509114544943,
          2804.4138479000057,
          2795.8910759563414,
          3162.445219040249,
          3418.9941445537597,
          3529.8984917423413,
          3607.5364793367903,
          3777.9643128528346,
          3999.3177310398914,
          4392.8981675885625,
          4535.344445707028,
          4847.992543846313,
          4957.930048973591,
          5029.460476682404,
          5175.448684840776,
          5392.369459937637,
          5707.984564145166,
          5779.689227772843,
          6189.544752151644,
          6298.665312306345,
          6644.867147193479,
          7107.6061744637245,
          7597.250667760335,
          7466.129112929793,
          7402.739695469903,
          7564.165622490457,
          7881.1971226376745,
          8172.866961672243,
          8384.895697708589,
          8628.325202533822,
          9152.095257708068,
          9321.546022513357,
          9442.292056539176,
          9814.251288075846,
          9928.869539890498,
          9697.670693166143,
          9973.184988209672,
          10216.440437641004,
          10470.279824842919,
          10911.255867444928,
          11004.163848498563,
          10946.261650045488,
          11368.909574480287,
          11769.15758724007,
          11944.044291302791,
          11822.142669324032,
          11974.195191845134,
          12039.458185129293,
          12405.478192667762,
          12484.070430331412
         ]
        },
        {
         "mode": "lines",
         "name": "Pinotti",
         "type": "scatter",
         "x": [
          1951,
          1952,
          1953,
          1954,
          1955,
          1956,
          1957,
          1958,
          1959,
          1960,
          1961,
          1962,
          1963,
          1964,
          1965,
          1966,
          1967,
          1968,
          1969,
          1970,
          1971,
          1972,
          1973,
          1974,
          1975,
          1976,
          1977,
          1978,
          1979,
          1980,
          1981,
          1982,
          1983,
          1984,
          1985,
          1986,
          1987,
          1988,
          1989,
          1990,
          1991,
          1992,
          1993,
          1994,
          1995,
          1996,
          1997,
          1998,
          1999,
          2000,
          2001,
          2002,
          2003,
          2004,
          2005,
          2006,
          2007
         ],
         "y": [
          2029.541525390625,
          2137.643015625,
          2280.043365234375,
          2324.384759765625,
          2423.530521484375,
          2414.3116484375,
          2396.363603515625,
          2539.3596621093748,
          2740.5140644531252,
          2743.345421875,
          3158.432955078125,
          3364.320197265625,
          3402.3371464843754,
          3423.267986328125,
          3598.170685546875,
          3788.89976953125,
          4189.224123046874,
          4452.86501171875,
          4908.23264453125,
          5095.59106640625,
          5390.92690234375,
          5581.583390625,
          5831.20464453125,
          6054.3179375,
          6019.8745390625,
          6413.4213203125,
          6620.90231640625,
          6988.494484375,
          7477.641109375,
          7921.4470078125005,
          7809.6096640625,
          7861.651859375001,
          7984.8482031250005,
          8234.00123828125,
          8466.6904296875,
          8680.31966015625,
          8915.7554296875,
          9299.629023437501,
          9573.058953125,
          9736.320015625,
          10139.197609375,
          10242.21809375,
          9879.132734375,
          10066.452640625,
          10366.29534375,
          10454.03634375,
          10765.1386953125,
          10813.4211171875,
          10849.6793984375,
          11355.1891015625,
          11766.1323125,
          11805.3629765625,
          11679.83640625,
          11606.369679687501,
          11740.7458125,
          12015.49775,
          11998.3490390625
         ]
        },
        {
         "mode": "lines",
         "name": "Treated unit",
         "type": "scatter",
         "x": [
          1951,
          1952,
          1953,
          1954,
          1955,
          1956,
          1957,
          1958,
          1959,
          1960,
          1961,
          1962,
          1963,
          1964,
          1965,
          1966,
          1967,
          1968,
          1969,
          1970,
          1971,
          1972,
          1973,
          1974,
          1975,
          1976,
          1977,
          1978,
          1979,
          1980,
          1981,
          1982,
          1983,
          1984,
          1985,
          1986,
          1987,
          1988,
          1989,
          1990,
          1991,
          1992,
          1993,
          1994,
          1995,
          1996,
          1997,
          1998,
          1999,
          2000,
          2001,
          2002,
          2003,
          2004,
          2005,
          2006,
          2007
         ],
         "y": [
          2034.144775390625,
          1992.7567138671875,
          2405.923583984375,
          2455.6064453125,
          2327.77587890625,
          2392.174560546875,
          2621.853271484375,
          2521.5703125,
          2515.03759765625,
          2683.11279296875,
          2979.33740234375,
          3265.341796875,
          3415.132568359375,
          3467.41259765625,
          3796.149169921875,
          3950.023681640625,
          4439.67822265625,
          4440.22705078125,
          4960.33984375,
          5178.93310546875,
          5432.1015625,
          5531.82421875,
          5784.31787109375,
          5990.29052734375,
          5944.7470703125,
          6168.8173828125,
          6318.408203125,
          6531.55712890625,
          6832.80224609375,
          6943.01611328125,
          6707.8818359375,
          6663.8046875,
          6910.5966796875,
          7071.87158203125,
          7160.8984375,
          7345.021484375,
          7568.423828125,
          7916.5615234375,
          8084.18408203125,
          8102.86865234375,
          8490.349609375,
          8445.625,
          8234.916015625,
          8446.6826171875,
          8523.7236328125,
          8599.2265625,
          8747.8876953125,
          9004.8447265625,
          9432.0234375,
          9617.5234375,
          9862.884765625,
          9932.267578125,
          9804.88671875,
          9784.4501953125,
          9754.3642578125,
          9984.7529296875,
          10140.873046875
         ]
        },
        {
         "mode": "text",
         "name": "Matching",
         "text": [
          "End of Matching<br>Period"
         ],
         "type": "scatter",
         "x": [
          1960
         ],
         "y": [
          12000
         ]
        },
        {
         "mode": "text",
         "name": "Event 1",
         "text": [
          "Drug<br>Smuggling"
         ],
         "type": "scatter",
         "x": [
          1974
         ],
         "y": [
          12000
         ]
        },
        {
         "mode": "text",
         "name": "Event 2",
         "text": [
          "Basilicata<br>Earthquake"
         ],
         "type": "scatter",
         "x": [
          1981
         ],
         "y": [
          12000
         ]
        }
       ],
       "layout": {
        "shapes": [
         {
          "line": {
           "color": "Black",
           "width": 1
          },
          "type": "line",
          "x0": 1960,
          "x1": 1960,
          "y0": 0,
          "y1": 11000
         },
         {
          "line": {
           "color": "Black",
           "width": 1
          },
          "type": "line",
          "x0": 1974,
          "x1": 1974,
          "y0": 0,
          "y1": 11000
         },
         {
          "line": {
           "color": "Black",
           "width": 1
          },
          "type": "line",
          "x0": 1980,
          "x1": 1980,
          "y0": 0,
          "y1": 11000
         }
        ],
        "template": {
         "data": {
          "bar": [
           {
            "error_x": {
             "color": "#2a3f5f"
            },
            "error_y": {
             "color": "#2a3f5f"
            },
            "marker": {
             "line": {
              "color": "#E5ECF6",
              "width": 0.5
             },
             "pattern": {
              "fillmode": "overlay",
              "size": 10,
              "solidity": 0.2
             }
            },
            "type": "bar"
           }
          ],
          "barpolar": [
           {
            "marker": {
             "line": {
              "color": "#E5ECF6",
              "width": 0.5
             },
             "pattern": {
              "fillmode": "overlay",
              "size": 10,
              "solidity": 0.2
             }
            },
            "type": "barpolar"
           }
          ],
          "carpet": [
           {
            "aaxis": {
             "endlinecolor": "#2a3f5f",
             "gridcolor": "white",
             "linecolor": "white",
             "minorgridcolor": "white",
             "startlinecolor": "#2a3f5f"
            },
            "baxis": {
             "endlinecolor": "#2a3f5f",
             "gridcolor": "white",
             "linecolor": "white",
             "minorgridcolor": "white",
             "startlinecolor": "#2a3f5f"
            },
            "type": "carpet"
           }
          ],
          "choropleth": [
           {
            "colorbar": {
             "outlinewidth": 0,
             "ticks": ""
            },
            "type": "choropleth"
           }
          ],
          "contour": [
           {
            "colorbar": {
             "outlinewidth": 0,
             "ticks": ""
            },
            "colorscale": [
             [
              0,
              "#0d0887"
             ],
             [
              0.1111111111111111,
              "#46039f"
             ],
             [
              0.2222222222222222,
              "#7201a8"
             ],
             [
              0.3333333333333333,
              "#9c179e"
             ],
             [
              0.4444444444444444,
              "#bd3786"
             ],
             [
              0.5555555555555556,
              "#d8576b"
             ],
             [
              0.6666666666666666,
              "#ed7953"
             ],
             [
              0.7777777777777778,
              "#fb9f3a"
             ],
             [
              0.8888888888888888,
              "#fdca26"
             ],
             [
              1,
              "#f0f921"
             ]
            ],
            "type": "contour"
           }
          ],
          "contourcarpet": [
           {
            "colorbar": {
             "outlinewidth": 0,
             "ticks": ""
            },
            "type": "contourcarpet"
           }
          ],
          "heatmap": [
           {
            "colorbar": {
             "outlinewidth": 0,
             "ticks": ""
            },
            "colorscale": [
             [
              0,
              "#0d0887"
             ],
             [
              0.1111111111111111,
              "#46039f"
             ],
             [
              0.2222222222222222,
              "#7201a8"
             ],
             [
              0.3333333333333333,
              "#9c179e"
             ],
             [
              0.4444444444444444,
              "#bd3786"
             ],
             [
              0.5555555555555556,
              "#d8576b"
             ],
             [
              0.6666666666666666,
              "#ed7953"
             ],
             [
              0.7777777777777778,
              "#fb9f3a"
             ],
             [
              0.8888888888888888,
              "#fdca26"
             ],
             [
              1,
              "#f0f921"
             ]
            ],
            "type": "heatmap"
           }
          ],
          "heatmapgl": [
           {
            "colorbar": {
             "outlinewidth": 0,
             "ticks": ""
            },
            "colorscale": [
             [
              0,
              "#0d0887"
             ],
             [
              0.1111111111111111,
              "#46039f"
             ],
             [
              0.2222222222222222,
              "#7201a8"
             ],
             [
              0.3333333333333333,
              "#9c179e"
             ],
             [
              0.4444444444444444,
              "#bd3786"
             ],
             [
              0.5555555555555556,
              "#d8576b"
             ],
             [
              0.6666666666666666,
              "#ed7953"
             ],
             [
              0.7777777777777778,
              "#fb9f3a"
             ],
             [
              0.8888888888888888,
              "#fdca26"
             ],
             [
              1,
              "#f0f921"
             ]
            ],
            "type": "heatmapgl"
           }
          ],
          "histogram": [
           {
            "marker": {
             "pattern": {
              "fillmode": "overlay",
              "size": 10,
              "solidity": 0.2
             }
            },
            "type": "histogram"
           }
          ],
          "histogram2d": [
           {
            "colorbar": {
             "outlinewidth": 0,
             "ticks": ""
            },
            "colorscale": [
             [
              0,
              "#0d0887"
             ],
             [
              0.1111111111111111,
              "#46039f"
             ],
             [
              0.2222222222222222,
              "#7201a8"
             ],
             [
              0.3333333333333333,
              "#9c179e"
             ],
             [
              0.4444444444444444,
              "#bd3786"
             ],
             [
              0.5555555555555556,
              "#d8576b"
             ],
             [
              0.6666666666666666,
              "#ed7953"
             ],
             [
              0.7777777777777778,
              "#fb9f3a"
             ],
             [
              0.8888888888888888,
              "#fdca26"
             ],
             [
              1,
              "#f0f921"
             ]
            ],
            "type": "histogram2d"
           }
          ],
          "histogram2dcontour": [
           {
            "colorbar": {
             "outlinewidth": 0,
             "ticks": ""
            },
            "colorscale": [
             [
              0,
              "#0d0887"
             ],
             [
              0.1111111111111111,
              "#46039f"
             ],
             [
              0.2222222222222222,
              "#7201a8"
             ],
             [
              0.3333333333333333,
              "#9c179e"
             ],
             [
              0.4444444444444444,
              "#bd3786"
             ],
             [
              0.5555555555555556,
              "#d8576b"
             ],
             [
              0.6666666666666666,
              "#ed7953"
             ],
             [
              0.7777777777777778,
              "#fb9f3a"
             ],
             [
              0.8888888888888888,
              "#fdca26"
             ],
             [
              1,
              "#f0f921"
             ]
            ],
            "type": "histogram2dcontour"
           }
          ],
          "mesh3d": [
           {
            "colorbar": {
             "outlinewidth": 0,
             "ticks": ""
            },
            "type": "mesh3d"
           }
          ],
          "parcoords": [
           {
            "line": {
             "colorbar": {
              "outlinewidth": 0,
              "ticks": ""
             }
            },
            "type": "parcoords"
           }
          ],
          "pie": [
           {
            "automargin": true,
            "type": "pie"
           }
          ],
          "scatter": [
           {
            "marker": {
             "colorbar": {
              "outlinewidth": 0,
              "ticks": ""
             }
            },
            "type": "scatter"
           }
          ],
          "scatter3d": [
           {
            "line": {
             "colorbar": {
              "outlinewidth": 0,
              "ticks": ""
             }
            },
            "marker": {
             "colorbar": {
              "outlinewidth": 0,
              "ticks": ""
             }
            },
            "type": "scatter3d"
           }
          ],
          "scattercarpet": [
           {
            "marker": {
             "colorbar": {
              "outlinewidth": 0,
              "ticks": ""
             }
            },
            "type": "scattercarpet"
           }
          ],
          "scattergeo": [
           {
            "marker": {
             "colorbar": {
              "outlinewidth": 0,
              "ticks": ""
             }
            },
            "type": "scattergeo"
           }
          ],
          "scattergl": [
           {
            "marker": {
             "colorbar": {
              "outlinewidth": 0,
              "ticks": ""
             }
            },
            "type": "scattergl"
           }
          ],
          "scattermapbox": [
           {
            "marker": {
             "colorbar": {
              "outlinewidth": 0,
              "ticks": ""
             }
            },
            "type": "scattermapbox"
           }
          ],
          "scatterpolar": [
           {
            "marker": {
             "colorbar": {
              "outlinewidth": 0,
              "ticks": ""
             }
            },
            "type": "scatterpolar"
           }
          ],
          "scatterpolargl": [
           {
            "marker": {
             "colorbar": {
              "outlinewidth": 0,
              "ticks": ""
             }
            },
            "type": "scatterpolargl"
           }
          ],
          "scatterternary": [
           {
            "marker": {
             "colorbar": {
              "outlinewidth": 0,
              "ticks": ""
             }
            },
            "type": "scatterternary"
           }
          ],
          "surface": [
           {
            "colorbar": {
             "outlinewidth": 0,
             "ticks": ""
            },
            "colorscale": [
             [
              0,
              "#0d0887"
             ],
             [
              0.1111111111111111,
              "#46039f"
             ],
             [
              0.2222222222222222,
              "#7201a8"
             ],
             [
              0.3333333333333333,
              "#9c179e"
             ],
             [
              0.4444444444444444,
              "#bd3786"
             ],
             [
              0.5555555555555556,
              "#d8576b"
             ],
             [
              0.6666666666666666,
              "#ed7953"
             ],
             [
              0.7777777777777778,
              "#fb9f3a"
             ],
             [
              0.8888888888888888,
              "#fdca26"
             ],
             [
              1,
              "#f0f921"
             ]
            ],
            "type": "surface"
           }
          ],
          "table": [
           {
            "cells": {
             "fill": {
              "color": "#EBF0F8"
             },
             "line": {
              "color": "white"
             }
            },
            "header": {
             "fill": {
              "color": "#C8D4E3"
             },
             "line": {
              "color": "white"
             }
            },
            "type": "table"
           }
          ]
         },
         "layout": {
          "annotationdefaults": {
           "arrowcolor": "#2a3f5f",
           "arrowhead": 0,
           "arrowwidth": 1
          },
          "autotypenumbers": "strict",
          "coloraxis": {
           "colorbar": {
            "outlinewidth": 0,
            "ticks": ""
           }
          },
          "colorscale": {
           "diverging": [
            [
             0,
             "#8e0152"
            ],
            [
             0.1,
             "#c51b7d"
            ],
            [
             0.2,
             "#de77ae"
            ],
            [
             0.3,
             "#f1b6da"
            ],
            [
             0.4,
             "#fde0ef"
            ],
            [
             0.5,
             "#f7f7f7"
            ],
            [
             0.6,
             "#e6f5d0"
            ],
            [
             0.7,
             "#b8e186"
            ],
            [
             0.8,
             "#7fbc41"
            ],
            [
             0.9,
             "#4d9221"
            ],
            [
             1,
             "#276419"
            ]
           ],
           "sequential": [
            [
             0,
             "#0d0887"
            ],
            [
             0.1111111111111111,
             "#46039f"
            ],
            [
             0.2222222222222222,
             "#7201a8"
            ],
            [
             0.3333333333333333,
             "#9c179e"
            ],
            [
             0.4444444444444444,
             "#bd3786"
            ],
            [
             0.5555555555555556,
             "#d8576b"
            ],
            [
             0.6666666666666666,
             "#ed7953"
            ],
            [
             0.7777777777777778,
             "#fb9f3a"
            ],
            [
             0.8888888888888888,
             "#fdca26"
            ],
            [
             1,
             "#f0f921"
            ]
           ],
           "sequentialminus": [
            [
             0,
             "#0d0887"
            ],
            [
             0.1111111111111111,
             "#46039f"
            ],
            [
             0.2222222222222222,
             "#7201a8"
            ],
            [
             0.3333333333333333,
             "#9c179e"
            ],
            [
             0.4444444444444444,
             "#bd3786"
            ],
            [
             0.5555555555555556,
             "#d8576b"
            ],
            [
             0.6666666666666666,
             "#ed7953"
            ],
            [
             0.7777777777777778,
             "#fb9f3a"
            ],
            [
             0.8888888888888888,
             "#fdca26"
            ],
            [
             1,
             "#f0f921"
            ]
           ]
          },
          "colorway": [
           "#636efa",
           "#EF553B",
           "#00cc96",
           "#ab63fa",
           "#FFA15A",
           "#19d3f3",
           "#FF6692",
           "#B6E880",
           "#FF97FF",
           "#FECB52"
          ],
          "font": {
           "color": "#2a3f5f"
          },
          "geo": {
           "bgcolor": "white",
           "lakecolor": "white",
           "landcolor": "#E5ECF6",
           "showlakes": true,
           "showland": true,
           "subunitcolor": "white"
          },
          "hoverlabel": {
           "align": "left"
          },
          "hovermode": "closest",
          "mapbox": {
           "style": "light"
          },
          "paper_bgcolor": "white",
          "plot_bgcolor": "#E5ECF6",
          "polar": {
           "angularaxis": {
            "gridcolor": "white",
            "linecolor": "white",
            "ticks": ""
           },
           "bgcolor": "#E5ECF6",
           "radialaxis": {
            "gridcolor": "white",
            "linecolor": "white",
            "ticks": ""
           }
          },
          "scene": {
           "xaxis": {
            "backgroundcolor": "#E5ECF6",
            "gridcolor": "white",
            "gridwidth": 2,
            "linecolor": "white",
            "showbackground": true,
            "ticks": "",
            "zerolinecolor": "white"
           },
           "yaxis": {
            "backgroundcolor": "#E5ECF6",
            "gridcolor": "white",
            "gridwidth": 2,
            "linecolor": "white",
            "showbackground": true,
            "ticks": "",
            "zerolinecolor": "white"
           },
           "zaxis": {
            "backgroundcolor": "#E5ECF6",
            "gridcolor": "white",
            "gridwidth": 2,
            "linecolor": "white",
            "showbackground": true,
            "ticks": "",
            "zerolinecolor": "white"
           }
          },
          "shapedefaults": {
           "line": {
            "color": "#2a3f5f"
           }
          },
          "ternary": {
           "aaxis": {
            "gridcolor": "white",
            "linecolor": "white",
            "ticks": ""
           },
           "baxis": {
            "gridcolor": "white",
            "linecolor": "white",
            "ticks": ""
           },
           "bgcolor": "#E5ECF6",
           "caxis": {
            "gridcolor": "white",
            "linecolor": "white",
            "ticks": ""
           }
          },
          "title": {
           "x": 0.05
          },
          "xaxis": {
           "automargin": true,
           "gridcolor": "white",
           "linecolor": "white",
           "ticks": "",
           "title": {
            "standoff": 15
           },
           "zerolinecolor": "white",
           "zerolinewidth": 2
          },
          "yaxis": {
           "automargin": true,
           "gridcolor": "white",
           "linecolor": "white",
           "ticks": "",
           "title": {
            "standoff": 15
           },
           "zerolinecolor": "white",
           "zerolinewidth": 2
          }
         }
        },
        "title": {
         "text": "Synthetic Control<br>Optimizer vs. Treated unit"
        },
        "xaxis": {
         "title": {
          "text": "Time"
         }
        },
        "yaxis": {
         "title": {
          "text": "GDP per Capita"
         }
        }
       }
      },
      "text/html": [
       "<div>                            <div id=\"a524b5f1-cc4b-47fc-a2c1-4bfb6171d6ec\" class=\"plotly-graph-div\" style=\"height:525px; width:100%;\"></div>            <script type=\"text/javascript\">                require([\"plotly\"], function(Plotly) {                    window.PLOTLYENV=window.PLOTLYENV || {};                                    if (document.getElementById(\"a524b5f1-cc4b-47fc-a2c1-4bfb6171d6ec\")) {                    Plotly.newPlot(                        \"a524b5f1-cc4b-47fc-a2c1-4bfb6171d6ec\",                        [{\"mode\":\"lines\",\"name\":\"Optimizer\",\"x\":[1951.0,1952.0,1953.0,1954.0,1955.0,1956.0,1957.0,1958.0,1959.0,1960.0,1961.0,1962.0,1963.0,1964.0,1965.0,1966.0,1967.0,1968.0,1969.0,1970.0,1971.0,1972.0,1973.0,1974.0,1975.0,1976.0,1977.0,1978.0,1979.0,1980.0,1981.0,1982.0,1983.0,1984.0,1985.0,1986.0,1987.0,1988.0,1989.0,1990.0,1991.0,1992.0,1993.0,1994.0,1995.0,1996.0,1997.0,1998.0,1999.0,2000.0,2001.0,2002.0,2003.0,2004.0,2005.0,2006.0,2007.0],\"y\":[1973.3742261906043,2149.989978110353,2292.0045501211193,2206.9703581152166,2396.2144928032294,2429.622136259443,2445.796092077913,2486.509114544943,2804.4138479000057,2795.8910759563414,3162.445219040249,3418.9941445537597,3529.8984917423413,3607.5364793367903,3777.9643128528346,3999.3177310398914,4392.8981675885625,4535.344445707028,4847.992543846313,4957.930048973591,5029.460476682404,5175.448684840776,5392.369459937637,5707.984564145166,5779.689227772843,6189.544752151644,6298.665312306345,6644.867147193479,7107.6061744637245,7597.250667760335,7466.129112929793,7402.739695469903,7564.165622490457,7881.1971226376745,8172.866961672243,8384.895697708589,8628.325202533822,9152.095257708068,9321.546022513357,9442.292056539176,9814.251288075846,9928.869539890498,9697.670693166143,9973.184988209672,10216.440437641004,10470.279824842919,10911.255867444928,11004.163848498563,10946.261650045488,11368.909574480287,11769.15758724007,11944.044291302791,11822.142669324032,11974.195191845134,12039.458185129293,12405.478192667762,12484.070430331412],\"type\":\"scatter\"},{\"mode\":\"lines\",\"name\":\"Pinotti\",\"x\":[1951.0,1952.0,1953.0,1954.0,1955.0,1956.0,1957.0,1958.0,1959.0,1960.0,1961.0,1962.0,1963.0,1964.0,1965.0,1966.0,1967.0,1968.0,1969.0,1970.0,1971.0,1972.0,1973.0,1974.0,1975.0,1976.0,1977.0,1978.0,1979.0,1980.0,1981.0,1982.0,1983.0,1984.0,1985.0,1986.0,1987.0,1988.0,1989.0,1990.0,1991.0,1992.0,1993.0,1994.0,1995.0,1996.0,1997.0,1998.0,1999.0,2000.0,2001.0,2002.0,2003.0,2004.0,2005.0,2006.0,2007.0],\"y\":[2029.541525390625,2137.643015625,2280.043365234375,2324.384759765625,2423.530521484375,2414.3116484375,2396.363603515625,2539.3596621093748,2740.5140644531252,2743.345421875,3158.432955078125,3364.320197265625,3402.3371464843754,3423.267986328125,3598.170685546875,3788.89976953125,4189.224123046874,4452.86501171875,4908.23264453125,5095.59106640625,5390.92690234375,5581.583390625,5831.20464453125,6054.3179375,6019.8745390625,6413.4213203125,6620.90231640625,6988.494484375,7477.641109375,7921.4470078125005,7809.6096640625,7861.651859375001,7984.8482031250005,8234.00123828125,8466.6904296875,8680.31966015625,8915.7554296875,9299.629023437501,9573.058953125,9736.320015625,10139.197609375,10242.21809375,9879.132734375,10066.452640625,10366.29534375,10454.03634375,10765.1386953125,10813.4211171875,10849.6793984375,11355.1891015625,11766.1323125,11805.3629765625,11679.83640625,11606.369679687501,11740.7458125,12015.49775,11998.3490390625],\"type\":\"scatter\"},{\"mode\":\"lines\",\"name\":\"Treated unit\",\"x\":[1951.0,1952.0,1953.0,1954.0,1955.0,1956.0,1957.0,1958.0,1959.0,1960.0,1961.0,1962.0,1963.0,1964.0,1965.0,1966.0,1967.0,1968.0,1969.0,1970.0,1971.0,1972.0,1973.0,1974.0,1975.0,1976.0,1977.0,1978.0,1979.0,1980.0,1981.0,1982.0,1983.0,1984.0,1985.0,1986.0,1987.0,1988.0,1989.0,1990.0,1991.0,1992.0,1993.0,1994.0,1995.0,1996.0,1997.0,1998.0,1999.0,2000.0,2001.0,2002.0,2003.0,2004.0,2005.0,2006.0,2007.0],\"y\":[2034.144775390625,1992.7567138671875,2405.923583984375,2455.6064453125,2327.77587890625,2392.174560546875,2621.853271484375,2521.5703125,2515.03759765625,2683.11279296875,2979.33740234375,3265.341796875,3415.132568359375,3467.41259765625,3796.149169921875,3950.023681640625,4439.67822265625,4440.22705078125,4960.33984375,5178.93310546875,5432.1015625,5531.82421875,5784.31787109375,5990.29052734375,5944.7470703125,6168.8173828125,6318.408203125,6531.55712890625,6832.80224609375,6943.01611328125,6707.8818359375,6663.8046875,6910.5966796875,7071.87158203125,7160.8984375,7345.021484375,7568.423828125,7916.5615234375,8084.18408203125,8102.86865234375,8490.349609375,8445.625,8234.916015625,8446.6826171875,8523.7236328125,8599.2265625,8747.8876953125,9004.8447265625,9432.0234375,9617.5234375,9862.884765625,9932.267578125,9804.88671875,9784.4501953125,9754.3642578125,9984.7529296875,10140.873046875],\"type\":\"scatter\"},{\"mode\":\"text\",\"name\":\"Matching\",\"text\":[\"End of Matching<br>Period\"],\"x\":[1960],\"y\":[12000],\"type\":\"scatter\"},{\"mode\":\"text\",\"name\":\"Event 1\",\"text\":[\"Drug<br>Smuggling\"],\"x\":[1974],\"y\":[12000],\"type\":\"scatter\"},{\"mode\":\"text\",\"name\":\"Event 2\",\"text\":[\"Basilicata<br>Earthquake\"],\"x\":[1981],\"y\":[12000],\"type\":\"scatter\"}],                        {\"template\":{\"data\":{\"bar\":[{\"error_x\":{\"color\":\"#2a3f5f\"},\"error_y\":{\"color\":\"#2a3f5f\"},\"marker\":{\"line\":{\"color\":\"#E5ECF6\",\"width\":0.5},\"pattern\":{\"fillmode\":\"overlay\",\"size\":10,\"solidity\":0.2}},\"type\":\"bar\"}],\"barpolar\":[{\"marker\":{\"line\":{\"color\":\"#E5ECF6\",\"width\":0.5},\"pattern\":{\"fillmode\":\"overlay\",\"size\":10,\"solidity\":0.2}},\"type\":\"barpolar\"}],\"carpet\":[{\"aaxis\":{\"endlinecolor\":\"#2a3f5f\",\"gridcolor\":\"white\",\"linecolor\":\"white\",\"minorgridcolor\":\"white\",\"startlinecolor\":\"#2a3f5f\"},\"baxis\":{\"endlinecolor\":\"#2a3f5f\",\"gridcolor\":\"white\",\"linecolor\":\"white\",\"minorgridcolor\":\"white\",\"startlinecolor\":\"#2a3f5f\"},\"type\":\"carpet\"}],\"choropleth\":[{\"colorbar\":{\"outlinewidth\":0,\"ticks\":\"\"},\"type\":\"choropleth\"}],\"contour\":[{\"colorbar\":{\"outlinewidth\":0,\"ticks\":\"\"},\"colorscale\":[[0.0,\"#0d0887\"],[0.1111111111111111,\"#46039f\"],[0.2222222222222222,\"#7201a8\"],[0.3333333333333333,\"#9c179e\"],[0.4444444444444444,\"#bd3786\"],[0.5555555555555556,\"#d8576b\"],[0.6666666666666666,\"#ed7953\"],[0.7777777777777778,\"#fb9f3a\"],[0.8888888888888888,\"#fdca26\"],[1.0,\"#f0f921\"]],\"type\":\"contour\"}],\"contourcarpet\":[{\"colorbar\":{\"outlinewidth\":0,\"ticks\":\"\"},\"type\":\"contourcarpet\"}],\"heatmap\":[{\"colorbar\":{\"outlinewidth\":0,\"ticks\":\"\"},\"colorscale\":[[0.0,\"#0d0887\"],[0.1111111111111111,\"#46039f\"],[0.2222222222222222,\"#7201a8\"],[0.3333333333333333,\"#9c179e\"],[0.4444444444444444,\"#bd3786\"],[0.5555555555555556,\"#d8576b\"],[0.6666666666666666,\"#ed7953\"],[0.7777777777777778,\"#fb9f3a\"],[0.8888888888888888,\"#fdca26\"],[1.0,\"#f0f921\"]],\"type\":\"heatmap\"}],\"heatmapgl\":[{\"colorbar\":{\"outlinewidth\":0,\"ticks\":\"\"},\"colorscale\":[[0.0,\"#0d0887\"],[0.1111111111111111,\"#46039f\"],[0.2222222222222222,\"#7201a8\"],[0.3333333333333333,\"#9c179e\"],[0.4444444444444444,\"#bd3786\"],[0.5555555555555556,\"#d8576b\"],[0.6666666666666666,\"#ed7953\"],[0.7777777777777778,\"#fb9f3a\"],[0.8888888888888888,\"#fdca26\"],[1.0,\"#f0f921\"]],\"type\":\"heatmapgl\"}],\"histogram\":[{\"marker\":{\"pattern\":{\"fillmode\":\"overlay\",\"size\":10,\"solidity\":0.2}},\"type\":\"histogram\"}],\"histogram2d\":[{\"colorbar\":{\"outlinewidth\":0,\"ticks\":\"\"},\"colorscale\":[[0.0,\"#0d0887\"],[0.1111111111111111,\"#46039f\"],[0.2222222222222222,\"#7201a8\"],[0.3333333333333333,\"#9c179e\"],[0.4444444444444444,\"#bd3786\"],[0.5555555555555556,\"#d8576b\"],[0.6666666666666666,\"#ed7953\"],[0.7777777777777778,\"#fb9f3a\"],[0.8888888888888888,\"#fdca26\"],[1.0,\"#f0f921\"]],\"type\":\"histogram2d\"}],\"histogram2dcontour\":[{\"colorbar\":{\"outlinewidth\":0,\"ticks\":\"\"},\"colorscale\":[[0.0,\"#0d0887\"],[0.1111111111111111,\"#46039f\"],[0.2222222222222222,\"#7201a8\"],[0.3333333333333333,\"#9c179e\"],[0.4444444444444444,\"#bd3786\"],[0.5555555555555556,\"#d8576b\"],[0.6666666666666666,\"#ed7953\"],[0.7777777777777778,\"#fb9f3a\"],[0.8888888888888888,\"#fdca26\"],[1.0,\"#f0f921\"]],\"type\":\"histogram2dcontour\"}],\"mesh3d\":[{\"colorbar\":{\"outlinewidth\":0,\"ticks\":\"\"},\"type\":\"mesh3d\"}],\"parcoords\":[{\"line\":{\"colorbar\":{\"outlinewidth\":0,\"ticks\":\"\"}},\"type\":\"parcoords\"}],\"pie\":[{\"automargin\":true,\"type\":\"pie\"}],\"scatter\":[{\"marker\":{\"colorbar\":{\"outlinewidth\":0,\"ticks\":\"\"}},\"type\":\"scatter\"}],\"scatter3d\":[{\"line\":{\"colorbar\":{\"outlinewidth\":0,\"ticks\":\"\"}},\"marker\":{\"colorbar\":{\"outlinewidth\":0,\"ticks\":\"\"}},\"type\":\"scatter3d\"}],\"scattercarpet\":[{\"marker\":{\"colorbar\":{\"outlinewidth\":0,\"ticks\":\"\"}},\"type\":\"scattercarpet\"}],\"scattergeo\":[{\"marker\":{\"colorbar\":{\"outlinewidth\":0,\"ticks\":\"\"}},\"type\":\"scattergeo\"}],\"scattergl\":[{\"marker\":{\"colorbar\":{\"outlinewidth\":0,\"ticks\":\"\"}},\"type\":\"scattergl\"}],\"scattermapbox\":[{\"marker\":{\"colorbar\":{\"outlinewidth\":0,\"ticks\":\"\"}},\"type\":\"scattermapbox\"}],\"scatterpolar\":[{\"marker\":{\"colorbar\":{\"outlinewidth\":0,\"ticks\":\"\"}},\"type\":\"scatterpolar\"}],\"scatterpolargl\":[{\"marker\":{\"colorbar\":{\"outlinewidth\":0,\"ticks\":\"\"}},\"type\":\"scatterpolargl\"}],\"scatterternary\":[{\"marker\":{\"colorbar\":{\"outlinewidth\":0,\"ticks\":\"\"}},\"type\":\"scatterternary\"}],\"surface\":[{\"colorbar\":{\"outlinewidth\":0,\"ticks\":\"\"},\"colorscale\":[[0.0,\"#0d0887\"],[0.1111111111111111,\"#46039f\"],[0.2222222222222222,\"#7201a8\"],[0.3333333333333333,\"#9c179e\"],[0.4444444444444444,\"#bd3786\"],[0.5555555555555556,\"#d8576b\"],[0.6666666666666666,\"#ed7953\"],[0.7777777777777778,\"#fb9f3a\"],[0.8888888888888888,\"#fdca26\"],[1.0,\"#f0f921\"]],\"type\":\"surface\"}],\"table\":[{\"cells\":{\"fill\":{\"color\":\"#EBF0F8\"},\"line\":{\"color\":\"white\"}},\"header\":{\"fill\":{\"color\":\"#C8D4E3\"},\"line\":{\"color\":\"white\"}},\"type\":\"table\"}]},\"layout\":{\"annotationdefaults\":{\"arrowcolor\":\"#2a3f5f\",\"arrowhead\":0,\"arrowwidth\":1},\"autotypenumbers\":\"strict\",\"coloraxis\":{\"colorbar\":{\"outlinewidth\":0,\"ticks\":\"\"}},\"colorscale\":{\"diverging\":[[0,\"#8e0152\"],[0.1,\"#c51b7d\"],[0.2,\"#de77ae\"],[0.3,\"#f1b6da\"],[0.4,\"#fde0ef\"],[0.5,\"#f7f7f7\"],[0.6,\"#e6f5d0\"],[0.7,\"#b8e186\"],[0.8,\"#7fbc41\"],[0.9,\"#4d9221\"],[1,\"#276419\"]],\"sequential\":[[0.0,\"#0d0887\"],[0.1111111111111111,\"#46039f\"],[0.2222222222222222,\"#7201a8\"],[0.3333333333333333,\"#9c179e\"],[0.4444444444444444,\"#bd3786\"],[0.5555555555555556,\"#d8576b\"],[0.6666666666666666,\"#ed7953\"],[0.7777777777777778,\"#fb9f3a\"],[0.8888888888888888,\"#fdca26\"],[1.0,\"#f0f921\"]],\"sequentialminus\":[[0.0,\"#0d0887\"],[0.1111111111111111,\"#46039f\"],[0.2222222222222222,\"#7201a8\"],[0.3333333333333333,\"#9c179e\"],[0.4444444444444444,\"#bd3786\"],[0.5555555555555556,\"#d8576b\"],[0.6666666666666666,\"#ed7953\"],[0.7777777777777778,\"#fb9f3a\"],[0.8888888888888888,\"#fdca26\"],[1.0,\"#f0f921\"]]},\"colorway\":[\"#636efa\",\"#EF553B\",\"#00cc96\",\"#ab63fa\",\"#FFA15A\",\"#19d3f3\",\"#FF6692\",\"#B6E880\",\"#FF97FF\",\"#FECB52\"],\"font\":{\"color\":\"#2a3f5f\"},\"geo\":{\"bgcolor\":\"white\",\"lakecolor\":\"white\",\"landcolor\":\"#E5ECF6\",\"showlakes\":true,\"showland\":true,\"subunitcolor\":\"white\"},\"hoverlabel\":{\"align\":\"left\"},\"hovermode\":\"closest\",\"mapbox\":{\"style\":\"light\"},\"paper_bgcolor\":\"white\",\"plot_bgcolor\":\"#E5ECF6\",\"polar\":{\"angularaxis\":{\"gridcolor\":\"white\",\"linecolor\":\"white\",\"ticks\":\"\"},\"bgcolor\":\"#E5ECF6\",\"radialaxis\":{\"gridcolor\":\"white\",\"linecolor\":\"white\",\"ticks\":\"\"}},\"scene\":{\"xaxis\":{\"backgroundcolor\":\"#E5ECF6\",\"gridcolor\":\"white\",\"gridwidth\":2,\"linecolor\":\"white\",\"showbackground\":true,\"ticks\":\"\",\"zerolinecolor\":\"white\"},\"yaxis\":{\"backgroundcolor\":\"#E5ECF6\",\"gridcolor\":\"white\",\"gridwidth\":2,\"linecolor\":\"white\",\"showbackground\":true,\"ticks\":\"\",\"zerolinecolor\":\"white\"},\"zaxis\":{\"backgroundcolor\":\"#E5ECF6\",\"gridcolor\":\"white\",\"gridwidth\":2,\"linecolor\":\"white\",\"showbackground\":true,\"ticks\":\"\",\"zerolinecolor\":\"white\"}},\"shapedefaults\":{\"line\":{\"color\":\"#2a3f5f\"}},\"ternary\":{\"aaxis\":{\"gridcolor\":\"white\",\"linecolor\":\"white\",\"ticks\":\"\"},\"baxis\":{\"gridcolor\":\"white\",\"linecolor\":\"white\",\"ticks\":\"\"},\"bgcolor\":\"#E5ECF6\",\"caxis\":{\"gridcolor\":\"white\",\"linecolor\":\"white\",\"ticks\":\"\"}},\"title\":{\"x\":0.05},\"xaxis\":{\"automargin\":true,\"gridcolor\":\"white\",\"linecolor\":\"white\",\"ticks\":\"\",\"title\":{\"standoff\":15},\"zerolinecolor\":\"white\",\"zerolinewidth\":2},\"yaxis\":{\"automargin\":true,\"gridcolor\":\"white\",\"linecolor\":\"white\",\"ticks\":\"\",\"title\":{\"standoff\":15},\"zerolinecolor\":\"white\",\"zerolinewidth\":2}}},\"shapes\":[{\"line\":{\"color\":\"Black\",\"width\":1},\"type\":\"line\",\"x0\":1960,\"x1\":1960,\"y0\":0,\"y1\":11000},{\"line\":{\"color\":\"Black\",\"width\":1},\"type\":\"line\",\"x0\":1974,\"x1\":1974,\"y0\":0,\"y1\":11000},{\"line\":{\"color\":\"Black\",\"width\":1},\"type\":\"line\",\"x0\":1980,\"x1\":1980,\"y0\":0,\"y1\":11000}],\"title\":{\"text\":\"Synthetic Control<br>Optimizer vs. Treated unit\"},\"xaxis\":{\"title\":{\"text\":\"Time\"}},\"yaxis\":{\"title\":{\"text\":\"GDP per Capita\"}}},                        {\"responsive\": true}                    ).then(function(){\n",
       "                            \n",
       "var gd = document.getElementById('a524b5f1-cc4b-47fc-a2c1-4bfb6171d6ec');\n",
       "var x = new MutationObserver(function (mutations, observer) {{\n",
       "        var display = window.getComputedStyle(gd).display;\n",
       "        if (!display || display === 'none') {{\n",
       "            console.log([gd, 'removed!']);\n",
       "            Plotly.purge(gd);\n",
       "            observer.disconnect();\n",
       "        }}\n",
       "}});\n",
       "\n",
       "// Listen for the removal of the full notebook cells\n",
       "var notebookContainer = gd.closest('#notebook-container');\n",
       "if (notebookContainer) {{\n",
       "    x.observe(notebookContainer, {childList: true});\n",
       "}}\n",
       "\n",
       "// Listen for the clearing of the current output cell\n",
       "var outputEl = gd.closest('.output');\n",
       "if (outputEl) {{\n",
       "    x.observe(outputEl, {childList: true});\n",
       "}}\n",
       "\n",
       "                        })                };                });            </script>        </div>"
      ]
     },
     "metadata": {},
     "output_type": "display_data"
    },
    {
     "data": {
      "image/png": "[encoded data removed]"
     },
     "metadata": {},
     "output_type": "display_data"
    }
   ],
   "source": [
    "w_paper = np.array([0, 0, 0, 0, 0, 0, 0, 0, 0, 0, 0, 0, 0.624, 0.376, 0]).reshape(1, 15)\n",
    "y_synth_paper = (w_paper[0] @ y_control_all)\n",
    "y_synth_opt = w.value[0] @ y_control_all\n",
    "\n",
    "fig = go.Figure()\n",
    "fig.add_trace(go.Scatter(x=list(data.year.unique()), y=y_synth_opt,\n",
    "                    mode='lines', name='Optimizer'))\n",
    "fig.add_trace(go.Scatter(x=list(data.year.unique()), y=y_synth_paper,\n",
    "                    mode='lines', name='Pinotti'))\n",
    "fig.add_trace(go.Scatter(x=list(data.year.unique()), y=y_treat_all[0],\n",
    "                    mode='lines', name='Treated unit'))\n",
    "\n",
    "fig.add_shape(dict(type=\"line\", x0=1960, y0=0, x1=1960, y1=11000,\n",
    "                   line=dict(color=\"Black\", width=1)))\n",
    "\n",
    "fig.add_shape(dict(type=\"line\", x0=1974, y0=0, x1=1974, y1=11000,\n",
    "                   line=dict(color=\"Black\", width=1)))\n",
    "\n",
    "fig.add_shape(dict(type=\"line\", x0=1980, y0=0, x1=1980, y1=11000,\n",
    "                   line=dict(color=\"Black\", width=1)))\n",
    "\n",
    "fig.add_trace(go.Scatter(x=[1960], y=[12000], mode=\"text\",\n",
    "    name=\"Matching\", text=[\"End of Matching<br>Period\"]))\n",
    "\n",
    "fig.add_trace(go.Scatter(x=[1974], y=[12000], mode=\"text\",\n",
    "    name=\"Event 1\", text=[\"Drug<br>Smuggling\"]))\n",
    "\n",
    "fig.add_trace(go.Scatter(x=[1981], y=[12000], mode=\"text\",\n",
    "    name=\"Event 2\", text=[\"Basilicata<br>Earthquake\"]))\n",
    "\n",
    "fig.update_layout(title='Synthetic Control<br>Optimizer vs. Treated unit',\n",
    "                   xaxis_title='Time', yaxis_title='GDP per Capita')\n",
    "\n",
    "# Dynamic graph\n",
    "fig.show()\n",
    "\n",
    "# Static graph only for display on github\n",
    "fig.show(renderer=\"png\")"
   ]
  },
  {
   "cell_type": "markdown",
   "metadata": {},
   "source": [
    "#### Table Comparison"
   ]
  },
  {
   "cell_type": "code",
   "execution_count": 29,
   "metadata": {
    "ExecuteTime": {
     "end_time": "2021-11-22T04:52:06.229120Z",
     "start_time": "2021-11-22T04:52:06.153532Z"
    },
    "scrolled": false
   },
   "outputs": [
    {
     "name": "stdout",
     "output_type": "stream",
     "text": [
      "\n",
      "Breakdown across predictors:\n",
      "RMSPE CVXPY: 154.26663518337438 \n",
      "RMSPE Paper: 130.14101997364745\n"
     ]
    }
   ],
   "source": [
    "# Dataframe to show predicted vs actual values of variables, and the RMSPE of optimizer and Pinotti weights.\n",
    "w_paper = np.array([0, 0, 0, 0, 0, 0, 0, 0, 0, 0, 0, 0, 0.624, 0.376, 0]).reshape(1, 15)\n",
    "\n",
    "x_pred_paper = (w_paper[0] @ X0)\n",
    "x_pred_opt = (w.value[0] @ X0)\n",
    "\n",
    "pred_error_paper = x_pred_paper - X1[0]\n",
    "pred_error_opt = x_pred_opt - X1[0]\n",
    "\n",
    "y_pred_paper = (w_paper[0] @ y_control)\n",
    "y_pred_opt = w.value[0] @ y_control\n",
    "\n",
    "data_compare = pd.DataFrame({'Actual':X1[0],\n",
    "                             'Paper':x_pred_paper,\n",
    "                             'Optimizer':x_pred_opt,\n",
    "                             'Paper Differential': pred_error_paper,\n",
    "                             'Optimizer Differential': pred_error_opt},\n",
    "                              index= data.columns[[3,16,11,12,13,14,26,28]]\n",
    ")\n",
    "\n",
    "print ('\\nBreakdown across predictors:')\n",
    "data_compare\n",
    "\n",
    "print('RMSPE CVXPY: {} \\nRMSPE Paper: {}'\\\n",
    "      .format(np.sqrt(np.mean((y_pred_opt - y_treat)**2)), \n",
    "             np.sqrt(np.mean((y_pred_paper - y_treat)**2))))"
   ]
  },
  {
   "cell_type": "markdown",
   "metadata": {},
   "source": [
    "Our obtained weights $$w$$ can not be optimal since there exists weights $$w^{*}$$ such that $$RMSPE(w) > RMSPE(w^{*})$$\n",
    "\n",
    "Clearly, there is room for improvement in the optimization algorithm. We proceed by augmenting the objective function with the relative importance of each of the k predictors"
   ]
  },
  {
   "cell_type": "markdown",
   "metadata": {},
   "source": [
    "### Optimization with addition of relative importance of each of the k predictors"
   ]
  },
  {
   "cell_type": "markdown",
   "metadata": {},
   "source": [
    "#### CVXPY Implementation"
   ]
  },
  {
   "cell_type": "code",
   "execution_count": 48,
   "metadata": {
    "ExecuteTime": {
     "end_time": "2021-11-22T13:10:48.620582Z",
     "start_time": "2021-11-22T12:50:40.405274Z"
    },
    "scrolled": true
   },
   "outputs": [],
   "source": [
    "n = 100000      # Number of iterations\n",
    "iteration = []\n",
    "\n",
    "for i in range(n):\n",
    "    \n",
    "    v_coeff = np.random.dirichlet(np.ones(8), size=1)\n",
    "    W = cvx.Variable((1, 15), nonneg=True)\n",
    "    \n",
    "    objective_function    = cvx.Minimize(cvx.sum(cvx.multiply(v_coeff, cvx.square(X1 - W @ X0))))\n",
    "    objective_constraints = [cvx.sum(W) == 1]\n",
    "    objective_solution    = cvx.Problem(objective_function, objective_constraints).solve(verbose=False)\n",
    "    \n",
    "    prediction_error =  np.sqrt(np.mean(((W.value @ y_control) - y_treat)**2))    \n",
    "    iteration.append([prediction_error, v_coeff, W.value])\n"
   ]
  },
  {
   "cell_type": "code",
   "execution_count": 49,
   "metadata": {
    "ExecuteTime": {
     "end_time": "2021-11-22T15:06:24.871067Z",
     "start_time": "2021-11-22T15:06:23.578777Z"
    },
    "scrolled": true
   },
   "outputs": [],
   "source": [
    "soln_frame_v = pd.DataFrame(iteration)\n",
    "soln_frame_v.columns =['Error', 'Relative Importance', 'Weights']\n",
    "\n",
    "soln_frame_v = soln_frame_v.sort_values(by='Error', ascending=True)\n",
    "#soln_frame_v.head(10)"
   ]
  },
  {
   "cell_type": "code",
   "execution_count": 51,
   "metadata": {
    "ExecuteTime": {
     "end_time": "2021-11-22T15:06:29.888921Z",
     "start_time": "2021-11-22T15:06:29.789080Z"
    },
    "scrolled": false
   },
   "outputs": [
    {
     "data": {
      "text/html": [
       "<div>\n",
       "<style scoped>\n",
       "    .dataframe tbody tr th:only-of-type {\n",
       "        vertical-align: middle;\n",
       "    }\n",
       "\n",
       "    .dataframe tbody tr th {\n",
       "        vertical-align: top;\n",
       "    }\n",
       "\n",
       "    .dataframe thead th {\n",
       "        text-align: right;\n",
       "    }\n",
       "</style>\n",
       "<table border=\"1\" class=\"dataframe\">\n",
       "  <thead>\n",
       "    <tr style=\"text-align: right;\">\n",
       "      <th></th>\n",
       "      <th>Predictors</th>\n",
       "      <th>V*</th>\n",
       "    </tr>\n",
       "  </thead>\n",
       "  <tbody>\n",
       "    <tr>\n",
       "      <th>0</th>\n",
       "      <td>gdppercap</td>\n",
       "      <td>0.220</td>\n",
       "    </tr>\n",
       "    <tr>\n",
       "      <th>1</th>\n",
       "      <td>invrate</td>\n",
       "      <td>0.178</td>\n",
       "    </tr>\n",
       "    <tr>\n",
       "      <th>2</th>\n",
       "      <td>shvain</td>\n",
       "      <td>0.182</td>\n",
       "    </tr>\n",
       "    <tr>\n",
       "      <th>3</th>\n",
       "      <td>shvaag</td>\n",
       "      <td>0.133</td>\n",
       "    </tr>\n",
       "    <tr>\n",
       "      <th>4</th>\n",
       "      <td>shvams</td>\n",
       "      <td>0.019</td>\n",
       "    </tr>\n",
       "    <tr>\n",
       "      <th>5</th>\n",
       "      <td>shvanms</td>\n",
       "      <td>0.087</td>\n",
       "    </tr>\n",
       "    <tr>\n",
       "      <th>6</th>\n",
       "      <td>shskill</td>\n",
       "      <td>0.179</td>\n",
       "    </tr>\n",
       "    <tr>\n",
       "      <th>7</th>\n",
       "      <td>density</td>\n",
       "      <td>0.000</td>\n",
       "    </tr>\n",
       "  </tbody>\n",
       "</table>\n",
       "</div>"
      ],
      "text/plain": [
       "  Predictors     V*\n",
       "0  gdppercap  0.220\n",
       "1    invrate  0.178\n",
       "2     shvain  0.182\n",
       "3     shvaag  0.133\n",
       "4     shvams  0.019\n",
       "5    shvanms  0.087\n",
       "6    shskill  0.179\n",
       "7    density  0.000"
      ]
     },
     "metadata": {},
     "output_type": "display_data"
    },
    {
     "data": {
      "text/html": [
       "<div>\n",
       "<style scoped>\n",
       "    .dataframe tbody tr th:only-of-type {\n",
       "        vertical-align: middle;\n",
       "    }\n",
       "\n",
       "    .dataframe tbody tr th {\n",
       "        vertical-align: top;\n",
       "    }\n",
       "\n",
       "    .dataframe thead th {\n",
       "        text-align: right;\n",
       "    }\n",
       "</style>\n",
       "<table border=\"1\" class=\"dataframe\">\n",
       "  <thead>\n",
       "    <tr style=\"text-align: right;\">\n",
       "      <th></th>\n",
       "      <th>Region</th>\n",
       "      <th>W(V*)</th>\n",
       "    </tr>\n",
       "  </thead>\n",
       "  <tbody>\n",
       "    <tr>\n",
       "      <th>0</th>\n",
       "      <td>PIE</td>\n",
       "      <td>0.000</td>\n",
       "    </tr>\n",
       "    <tr>\n",
       "      <th>1</th>\n",
       "      <td>VDA</td>\n",
       "      <td>0.000</td>\n",
       "    </tr>\n",
       "    <tr>\n",
       "      <th>2</th>\n",
       "      <td>LOM</td>\n",
       "      <td>0.000</td>\n",
       "    </tr>\n",
       "    <tr>\n",
       "      <th>3</th>\n",
       "      <td>TAA</td>\n",
       "      <td>0.000</td>\n",
       "    </tr>\n",
       "    <tr>\n",
       "      <th>4</th>\n",
       "      <td>VEN</td>\n",
       "      <td>0.000</td>\n",
       "    </tr>\n",
       "    <tr>\n",
       "      <th>5</th>\n",
       "      <td>FVG</td>\n",
       "      <td>0.000</td>\n",
       "    </tr>\n",
       "    <tr>\n",
       "      <th>6</th>\n",
       "      <td>LIG</td>\n",
       "      <td>0.000</td>\n",
       "    </tr>\n",
       "    <tr>\n",
       "      <th>7</th>\n",
       "      <td>EMR</td>\n",
       "      <td>0.000</td>\n",
       "    </tr>\n",
       "    <tr>\n",
       "      <th>8</th>\n",
       "      <td>TOS</td>\n",
       "      <td>0.000</td>\n",
       "    </tr>\n",
       "    <tr>\n",
       "      <th>9</th>\n",
       "      <td>UMB</td>\n",
       "      <td>0.000</td>\n",
       "    </tr>\n",
       "    <tr>\n",
       "      <th>10</th>\n",
       "      <td>MAR</td>\n",
       "      <td>0.000</td>\n",
       "    </tr>\n",
       "    <tr>\n",
       "      <th>11</th>\n",
       "      <td>LAZ</td>\n",
       "      <td>0.000</td>\n",
       "    </tr>\n",
       "    <tr>\n",
       "      <th>12</th>\n",
       "      <td>ABR</td>\n",
       "      <td>0.597</td>\n",
       "    </tr>\n",
       "    <tr>\n",
       "      <th>13</th>\n",
       "      <td>MOL</td>\n",
       "      <td>0.403</td>\n",
       "    </tr>\n",
       "    <tr>\n",
       "      <th>14</th>\n",
       "      <td>SAR</td>\n",
       "      <td>0.000</td>\n",
       "    </tr>\n",
       "  </tbody>\n",
       "</table>\n",
       "</div>"
      ],
      "text/plain": [
       "   Region  W(V*)\n",
       "0     PIE  0.000\n",
       "1     VDA  0.000\n",
       "2     LOM  0.000\n",
       "3     TAA  0.000\n",
       "4     VEN  0.000\n",
       "5     FVG  0.000\n",
       "6     LIG  0.000\n",
       "7     EMR  0.000\n",
       "8     TOS  0.000\n",
       "9     UMB  0.000\n",
       "10    MAR  0.000\n",
       "11    LAZ  0.000\n",
       "12    ABR  0.597\n",
       "13    MOL  0.403\n",
       "14    SAR  0.000"
      ]
     },
     "metadata": {},
     "output_type": "display_data"
    }
   ],
   "source": [
    "W = soln_frame_v.iloc[0][2][0]\n",
    "V = soln_frame_v.iloc[0][1][0]\n",
    "\n",
    "best_weights_region = pd.DataFrame({'Region':control_units.region.unique(), \n",
    "                                    'W(V*)': np.round(W, decimals=3)})\n",
    "\n",
    "best_weights_importance = pd.DataFrame({'Predictors': data.columns[[3,16,11,12,13,14,26,28]],\n",
    "                                        'V*': np.round(V, 3)})\n",
    "\n",
    "display(best_weights_importance)\n",
    "display(best_weights_region)"
   ]
  },
  {
   "cell_type": "code",
   "execution_count": 52,
   "metadata": {
    "ExecuteTime": {
     "end_time": "2021-11-22T15:06:35.973283Z",
     "start_time": "2021-11-22T15:06:34.224737Z"
    },
    "scrolled": false
   },
   "outputs": [
    {
     "data": {
      "application/vnd.plotly.v1+json": {
       "config": {
        "plotlyServerURL": "https://plot.ly"
       },
       "data": [
        {
         "mode": "lines",
         "name": "Optimizer",
         "type": "scatter",
         "x": [
          1951,
          1952,
          1953,
          1954,
          1955,
          1956,
          1957,
          1958,
          1959,
          1960,
          1961,
          1962,
          1963,
          1964,
          1965,
          1966,
          1967,
          1968,
          1969,
          1970,
          1971,
          1972,
          1973,
          1974,
          1975,
          1976,
          1977,
          1978,
          1979,
          1980,
          1981,
          1982,
          1983,
          1984,
          1985,
          1986,
          1987,
          1988,
          1989,
          1990,
          1991,
          1992,
          1993,
          1994,
          1995,
          1996,
          1997,
          1998,
          1999,
          2000,
          2001,
          2002,
          2003,
          2004,
          2005,
          2006,
          2007
         ],
         "y": [
          2021.3231754733858,
          2133.8663032175505,
          2274.9272487541207,
          2312.899522931008,
          2414.8502427132676,
          2407.6496477569904,
          2389.6366686907477,
          2528.3120875715795,
          2734.9095952368953,
          2731.5821245994343,
          3145.8106538419825,
          3353.2666063368224,
          3394.3783388513543,
          3415.976442016221,
          3591.1526994323153,
          3782.7172644943867,
          4182.892059105275,
          4438.826238986912,
          4887.419227931816,
          5070.003033863776,
          5355.639844518608,
          5544.18742025765,
          5789.716161526478,
          6016.027240012997,
          5988.4433312957835,
          6381.061297010268,
          6583.856877862394,
          6951.172814426659,
          7437.279929210843,
          7884.929551128013,
          7769.804229593274,
          7815.607816017803,
          7941.713359510245,
          8193.255411078668,
          8429.004238801608,
          8641.719473620042,
          8875.126299031203,
          9264.66615395095,
          9531.268967193606,
          9691.77181590633,
          10094.46934671122,
          10196.785712345358,
          9837.364241297004,
          10027.533799757963,
          10321.358182342783,
          10417.230261091581,
          10733.369042102444,
          10783.562907579175,
          10813.670266495217,
          11315.051197842336,
          11727.913168527426,
          11776.810256805067,
          11651.82414331859,
          11589.206269496932,
          11721.191523361958,
          12001.503838909794,
          11988.407683197725
         ]
        },
        {
         "mode": "lines",
         "name": "Pinotti",
         "type": "scatter",
         "x": [
          1951,
          1952,
          1953,
          1954,
          1955,
          1956,
          1957,
          1958,
          1959,
          1960,
          1961,
          1962,
          1963,
          1964,
          1965,
          1966,
          1967,
          1968,
          1969,
          1970,
          1971,
          1972,
          1973,
          1974,
          1975,
          1976,
          1977,
          1978,
          1979,
          1980,
          1981,
          1982,
          1983,
          1984,
          1985,
          1986,
          1987,
          1988,
          1989,
          1990,
          1991,
          1992,
          1993,
          1994,
          1995,
          1996,
          1997,
          1998,
          1999,
          2000,
          2001,
          2002,
          2003,
          2004,
          2005,
          2006,
          2007
         ],
         "y": [
          2029.541525390625,
          2137.643015625,
          2280.043365234375,
          2324.384759765625,
          2423.530521484375,
          2414.3116484375,
          2396.363603515625,
          2539.3596621093748,
          2740.5140644531252,
          2743.345421875,
          3158.432955078125,
          3364.320197265625,
          3402.3371464843754,
          3423.267986328125,
          3598.170685546875,
          3788.89976953125,
          4189.224123046874,
          4452.86501171875,
          4908.23264453125,
          5095.59106640625,
          5390.92690234375,
          5581.583390625,
          5831.20464453125,
          6054.3179375,
          6019.8745390625,
          6413.4213203125,
          6620.90231640625,
          6988.494484375,
          7477.641109375,
          7921.4470078125005,
          7809.6096640625,
          7861.651859375001,
          7984.8482031250005,
          8234.00123828125,
          8466.6904296875,
          8680.31966015625,
          8915.7554296875,
          9299.629023437501,
          9573.058953125,
          9736.320015625,
          10139.197609375,
          10242.21809375,
          9879.132734375,
          10066.452640625,
          10366.29534375,
          10454.03634375,
          10765.1386953125,
          10813.4211171875,
          10849.6793984375,
          11355.1891015625,
          11766.1323125,
          11805.3629765625,
          11679.83640625,
          11606.369679687501,
          11740.7458125,
          12015.49775,
          11998.3490390625
         ]
        },
        {
         "mode": "lines",
         "name": "Treated unit",
         "type": "scatter",
         "x": [
          1951,
          1952,
          1953,
          1954,
          1955,
          1956,
          1957,
          1958,
          1959,
          1960,
          1961,
          1962,
          1963,
          1964,
          1965,
          1966,
          1967,
          1968,
          1969,
          1970,
          1971,
          1972,
          1973,
          1974,
          1975,
          1976,
          1977,
          1978,
          1979,
          1980,
          1981,
          1982,
          1983,
          1984,
          1985,
          1986,
          1987,
          1988,
          1989,
          1990,
          1991,
          1992,
          1993,
          1994,
          1995,
          1996,
          1997,
          1998,
          1999,
          2000,
          2001,
          2002,
          2003,
          2004,
          2005,
          2006,
          2007
         ],
         "y": [
          2034.144775390625,
          1992.7567138671875,
          2405.923583984375,
          2455.6064453125,
          2327.77587890625,
          2392.174560546875,
          2621.853271484375,
          2521.5703125,
          2515.03759765625,
          2683.11279296875,
          2979.33740234375,
          3265.341796875,
          3415.132568359375,
          3467.41259765625,
          3796.149169921875,
          3950.023681640625,
          4439.67822265625,
          4440.22705078125,
          4960.33984375,
          5178.93310546875,
          5432.1015625,
          5531.82421875,
          5784.31787109375,
          5990.29052734375,
          5944.7470703125,
          6168.8173828125,
          6318.408203125,
          6531.55712890625,
          6832.80224609375,
          6943.01611328125,
          6707.8818359375,
          6663.8046875,
          6910.5966796875,
          7071.87158203125,
          7160.8984375,
          7345.021484375,
          7568.423828125,
          7916.5615234375,
          8084.18408203125,
          8102.86865234375,
          8490.349609375,
          8445.625,
          8234.916015625,
          8446.6826171875,
          8523.7236328125,
          8599.2265625,
          8747.8876953125,
          9004.8447265625,
          9432.0234375,
          9617.5234375,
          9862.884765625,
          9932.267578125,
          9804.88671875,
          9784.4501953125,
          9754.3642578125,
          9984.7529296875,
          10140.873046875
         ]
        },
        {
         "mode": "text",
         "name": "Matching",
         "text": [
          "End of Matching<br>Period"
         ],
         "type": "scatter",
         "x": [
          1960
         ],
         "y": [
          12000
         ]
        }
       ],
       "layout": {
        "shapes": [
         {
          "line": {
           "color": "Black",
           "width": 1
          },
          "type": "line",
          "x0": 1960,
          "x1": 1960,
          "y0": 0,
          "y1": 11000
         }
        ],
        "template": {
         "data": {
          "bar": [
           {
            "error_x": {
             "color": "#2a3f5f"
            },
            "error_y": {
             "color": "#2a3f5f"
            },
            "marker": {
             "line": {
              "color": "#E5ECF6",
              "width": 0.5
             },
             "pattern": {
              "fillmode": "overlay",
              "size": 10,
              "solidity": 0.2
             }
            },
            "type": "bar"
           }
          ],
          "barpolar": [
           {
            "marker": {
             "line": {
              "color": "#E5ECF6",
              "width": 0.5
             },
             "pattern": {
              "fillmode": "overlay",
              "size": 10,
              "solidity": 0.2
             }
            },
            "type": "barpolar"
           }
          ],
          "carpet": [
           {
            "aaxis": {
             "endlinecolor": "#2a3f5f",
             "gridcolor": "white",
             "linecolor": "white",
             "minorgridcolor": "white",
             "startlinecolor": "#2a3f5f"
            },
            "baxis": {
             "endlinecolor": "#2a3f5f",
             "gridcolor": "white",
             "linecolor": "white",
             "minorgridcolor": "white",
             "startlinecolor": "#2a3f5f"
            },
            "type": "carpet"
           }
          ],
          "choropleth": [
           {
            "colorbar": {
             "outlinewidth": 0,
             "ticks": ""
            },
            "type": "choropleth"
           }
          ],
          "contour": [
           {
            "colorbar": {
             "outlinewidth": 0,
             "ticks": ""
            },
            "colorscale": [
             [
              0,
              "#0d0887"
             ],
             [
              0.1111111111111111,
              "#46039f"
             ],
             [
              0.2222222222222222,
              "#7201a8"
             ],
             [
              0.3333333333333333,
              "#9c179e"
             ],
             [
              0.4444444444444444,
              "#bd3786"
             ],
             [
              0.5555555555555556,
              "#d8576b"
             ],
             [
              0.6666666666666666,
              "#ed7953"
             ],
             [
              0.7777777777777778,
              "#fb9f3a"
             ],
             [
              0.8888888888888888,
              "#fdca26"
             ],
             [
              1,
              "#f0f921"
             ]
            ],
            "type": "contour"
           }
          ],
          "contourcarpet": [
           {
            "colorbar": {
             "outlinewidth": 0,
             "ticks": ""
            },
            "type": "contourcarpet"
           }
          ],
          "heatmap": [
           {
            "colorbar": {
             "outlinewidth": 0,
             "ticks": ""
            },
            "colorscale": [
             [
              0,
              "#0d0887"
             ],
             [
              0.1111111111111111,
              "#46039f"
             ],
             [
              0.2222222222222222,
              "#7201a8"
             ],
             [
              0.3333333333333333,
              "#9c179e"
             ],
             [
              0.4444444444444444,
              "#bd3786"
             ],
             [
              0.5555555555555556,
              "#d8576b"
             ],
             [
              0.6666666666666666,
              "#ed7953"
             ],
             [
              0.7777777777777778,
              "#fb9f3a"
             ],
             [
              0.8888888888888888,
              "#fdca26"
             ],
             [
              1,
              "#f0f921"
             ]
            ],
            "type": "heatmap"
           }
          ],
          "heatmapgl": [
           {
            "colorbar": {
             "outlinewidth": 0,
             "ticks": ""
            },
            "colorscale": [
             [
              0,
              "#0d0887"
             ],
             [
              0.1111111111111111,
              "#46039f"
             ],
             [
              0.2222222222222222,
              "#7201a8"
             ],
             [
              0.3333333333333333,
              "#9c179e"
             ],
             [
              0.4444444444444444,
              "#bd3786"
             ],
             [
              0.5555555555555556,
              "#d8576b"
             ],
             [
              0.6666666666666666,
              "#ed7953"
             ],
             [
              0.7777777777777778,
              "#fb9f3a"
             ],
             [
              0.8888888888888888,
              "#fdca26"
             ],
             [
              1,
              "#f0f921"
             ]
            ],
            "type": "heatmapgl"
           }
          ],
          "histogram": [
           {
            "marker": {
             "pattern": {
              "fillmode": "overlay",
              "size": 10,
              "solidity": 0.2
             }
            },
            "type": "histogram"
           }
          ],
          "histogram2d": [
           {
            "colorbar": {
             "outlinewidth": 0,
             "ticks": ""
            },
            "colorscale": [
             [
              0,
              "#0d0887"
             ],
             [
              0.1111111111111111,
              "#46039f"
             ],
             [
              0.2222222222222222,
              "#7201a8"
             ],
             [
              0.3333333333333333,
              "#9c179e"
             ],
             [
              0.4444444444444444,
              "#bd3786"
             ],
             [
              0.5555555555555556,
              "#d8576b"
             ],
             [
              0.6666666666666666,
              "#ed7953"
             ],
             [
              0.7777777777777778,
              "#fb9f3a"
             ],
             [
              0.8888888888888888,
              "#fdca26"
             ],
             [
              1,
              "#f0f921"
             ]
            ],
            "type": "histogram2d"
           }
          ],
          "histogram2dcontour": [
           {
            "colorbar": {
             "outlinewidth": 0,
             "ticks": ""
            },
            "colorscale": [
             [
              0,
              "#0d0887"
             ],
             [
              0.1111111111111111,
              "#46039f"
             ],
             [
              0.2222222222222222,
              "#7201a8"
             ],
             [
              0.3333333333333333,
              "#9c179e"
             ],
             [
              0.4444444444444444,
              "#bd3786"
             ],
             [
              0.5555555555555556,
              "#d8576b"
             ],
             [
              0.6666666666666666,
              "#ed7953"
             ],
             [
              0.7777777777777778,
              "#fb9f3a"
             ],
             [
              0.8888888888888888,
              "#fdca26"
             ],
             [
              1,
              "#f0f921"
             ]
            ],
            "type": "histogram2dcontour"
           }
          ],
          "mesh3d": [
           {
            "colorbar": {
             "outlinewidth": 0,
             "ticks": ""
            },
            "type": "mesh3d"
           }
          ],
          "parcoords": [
           {
            "line": {
             "colorbar": {
              "outlinewidth": 0,
              "ticks": ""
             }
            },
            "type": "parcoords"
           }
          ],
          "pie": [
           {
            "automargin": true,
            "type": "pie"
           }
          ],
          "scatter": [
           {
            "marker": {
             "colorbar": {
              "outlinewidth": 0,
              "ticks": ""
             }
            },
            "type": "scatter"
           }
          ],
          "scatter3d": [
           {
            "line": {
             "colorbar": {
              "outlinewidth": 0,
              "ticks": ""
             }
            },
            "marker": {
             "colorbar": {
              "outlinewidth": 0,
              "ticks": ""
             }
            },
            "type": "scatter3d"
           }
          ],
          "scattercarpet": [
           {
            "marker": {
             "colorbar": {
              "outlinewidth": 0,
              "ticks": ""
             }
            },
            "type": "scattercarpet"
           }
          ],
          "scattergeo": [
           {
            "marker": {
             "colorbar": {
              "outlinewidth": 0,
              "ticks": ""
             }
            },
            "type": "scattergeo"
           }
          ],
          "scattergl": [
           {
            "marker": {
             "colorbar": {
              "outlinewidth": 0,
              "ticks": ""
             }
            },
            "type": "scattergl"
           }
          ],
          "scattermapbox": [
           {
            "marker": {
             "colorbar": {
              "outlinewidth": 0,
              "ticks": ""
             }
            },
            "type": "scattermapbox"
           }
          ],
          "scatterpolar": [
           {
            "marker": {
             "colorbar": {
              "outlinewidth": 0,
              "ticks": ""
             }
            },
            "type": "scatterpolar"
           }
          ],
          "scatterpolargl": [
           {
            "marker": {
             "colorbar": {
              "outlinewidth": 0,
              "ticks": ""
             }
            },
            "type": "scatterpolargl"
           }
          ],
          "scatterternary": [
           {
            "marker": {
             "colorbar": {
              "outlinewidth": 0,
              "ticks": ""
             }
            },
            "type": "scatterternary"
           }
          ],
          "surface": [
           {
            "colorbar": {
             "outlinewidth": 0,
             "ticks": ""
            },
            "colorscale": [
             [
              0,
              "#0d0887"
             ],
             [
              0.1111111111111111,
              "#46039f"
             ],
             [
              0.2222222222222222,
              "#7201a8"
             ],
             [
              0.3333333333333333,
              "#9c179e"
             ],
             [
              0.4444444444444444,
              "#bd3786"
             ],
             [
              0.5555555555555556,
              "#d8576b"
             ],
             [
              0.6666666666666666,
              "#ed7953"
             ],
             [
              0.7777777777777778,
              "#fb9f3a"
             ],
             [
              0.8888888888888888,
              "#fdca26"
             ],
             [
              1,
              "#f0f921"
             ]
            ],
            "type": "surface"
           }
          ],
          "table": [
           {
            "cells": {
             "fill": {
              "color": "#EBF0F8"
             },
             "line": {
              "color": "white"
             }
            },
            "header": {
             "fill": {
              "color": "#C8D4E3"
             },
             "line": {
              "color": "white"
             }
            },
            "type": "table"
           }
          ]
         },
         "layout": {
          "annotationdefaults": {
           "arrowcolor": "#2a3f5f",
           "arrowhead": 0,
           "arrowwidth": 1
          },
          "autotypenumbers": "strict",
          "coloraxis": {
           "colorbar": {
            "outlinewidth": 0,
            "ticks": ""
           }
          },
          "colorscale": {
           "diverging": [
            [
             0,
             "#8e0152"
            ],
            [
             0.1,
             "#c51b7d"
            ],
            [
             0.2,
             "#de77ae"
            ],
            [
             0.3,
             "#f1b6da"
            ],
            [
             0.4,
             "#fde0ef"
            ],
            [
             0.5,
             "#f7f7f7"
            ],
            [
             0.6,
             "#e6f5d0"
            ],
            [
             0.7,
             "#b8e186"
            ],
            [
             0.8,
             "#7fbc41"
            ],
            [
             0.9,
             "#4d9221"
            ],
            [
             1,
             "#276419"
            ]
           ],
           "sequential": [
            [
             0,
             "#0d0887"
            ],
            [
             0.1111111111111111,
             "#46039f"
            ],
            [
             0.2222222222222222,
             "#7201a8"
            ],
            [
             0.3333333333333333,
             "#9c179e"
            ],
            [
             0.4444444444444444,
             "#bd3786"
            ],
            [
             0.5555555555555556,
             "#d8576b"
            ],
            [
             0.6666666666666666,
             "#ed7953"
            ],
            [
             0.7777777777777778,
             "#fb9f3a"
            ],
            [
             0.8888888888888888,
             "#fdca26"
            ],
            [
             1,
             "#f0f921"
            ]
           ],
           "sequentialminus": [
            [
             0,
             "#0d0887"
            ],
            [
             0.1111111111111111,
             "#46039f"
            ],
            [
             0.2222222222222222,
             "#7201a8"
            ],
            [
             0.3333333333333333,
             "#9c179e"
            ],
            [
             0.4444444444444444,
             "#bd3786"
            ],
            [
             0.5555555555555556,
             "#d8576b"
            ],
            [
             0.6666666666666666,
             "#ed7953"
            ],
            [
             0.7777777777777778,
             "#fb9f3a"
            ],
            [
             0.8888888888888888,
             "#fdca26"
            ],
            [
             1,
             "#f0f921"
            ]
           ]
          },
          "colorway": [
           "#636efa",
           "#EF553B",
           "#00cc96",
           "#ab63fa",
           "#FFA15A",
           "#19d3f3",
           "#FF6692",
           "#B6E880",
           "#FF97FF",
           "#FECB52"
          ],
          "font": {
           "color": "#2a3f5f"
          },
          "geo": {
           "bgcolor": "white",
           "lakecolor": "white",
           "landcolor": "#E5ECF6",
           "showlakes": true,
           "showland": true,
           "subunitcolor": "white"
          },
          "hoverlabel": {
           "align": "left"
          },
          "hovermode": "closest",
          "mapbox": {
           "style": "light"
          },
          "paper_bgcolor": "white",
          "plot_bgcolor": "#E5ECF6",
          "polar": {
           "angularaxis": {
            "gridcolor": "white",
            "linecolor": "white",
            "ticks": ""
           },
           "bgcolor": "#E5ECF6",
           "radialaxis": {
            "gridcolor": "white",
            "linecolor": "white",
            "ticks": ""
           }
          },
          "scene": {
           "xaxis": {
            "backgroundcolor": "#E5ECF6",
            "gridcolor": "white",
            "gridwidth": 2,
            "linecolor": "white",
            "showbackground": true,
            "ticks": "",
            "zerolinecolor": "white"
           },
           "yaxis": {
            "backgroundcolor": "#E5ECF6",
            "gridcolor": "white",
            "gridwidth": 2,
            "linecolor": "white",
            "showbackground": true,
            "ticks": "",
            "zerolinecolor": "white"
           },
           "zaxis": {
            "backgroundcolor": "#E5ECF6",
            "gridcolor": "white",
            "gridwidth": 2,
            "linecolor": "white",
            "showbackground": true,
            "ticks": "",
            "zerolinecolor": "white"
           }
          },
          "shapedefaults": {
           "line": {
            "color": "#2a3f5f"
           }
          },
          "ternary": {
           "aaxis": {
            "gridcolor": "white",
            "linecolor": "white",
            "ticks": ""
           },
           "baxis": {
            "gridcolor": "white",
            "linecolor": "white",
            "ticks": ""
           },
           "bgcolor": "#E5ECF6",
           "caxis": {
            "gridcolor": "white",
            "linecolor": "white",
            "ticks": ""
           }
          },
          "title": {
           "x": 0.05
          },
          "xaxis": {
           "automargin": true,
           "gridcolor": "white",
           "linecolor": "white",
           "ticks": "",
           "title": {
            "standoff": 15
           },
           "zerolinecolor": "white",
           "zerolinewidth": 2
          },
          "yaxis": {
           "automargin": true,
           "gridcolor": "white",
           "linecolor": "white",
           "ticks": "",
           "title": {
            "standoff": 15
           },
           "zerolinecolor": "white",
           "zerolinewidth": 2
          }
         }
        },
        "title": {
         "text": "Synthetic Control<br>Optimizer vs. Treated unit"
        },
        "xaxis": {
         "title": {
          "text": "Time"
         }
        },
        "yaxis": {
         "title": {
          "text": "GDP per Capita"
         }
        }
       }
      },
      "text/html": [
       "<div>                            <div id=\"f06e8c28-c902-440b-b30c-fa9891968148\" class=\"plotly-graph-div\" style=\"height:525px; width:100%;\"></div>            <script type=\"text/javascript\">                require([\"plotly\"], function(Plotly) {                    window.PLOTLYENV=window.PLOTLYENV || {};                                    if (document.getElementById(\"f06e8c28-c902-440b-b30c-fa9891968148\")) {                    Plotly.newPlot(                        \"f06e8c28-c902-440b-b30c-fa9891968148\",                        [{\"mode\":\"lines\",\"name\":\"Optimizer\",\"x\":[1951.0,1952.0,1953.0,1954.0,1955.0,1956.0,1957.0,1958.0,1959.0,1960.0,1961.0,1962.0,1963.0,1964.0,1965.0,1966.0,1967.0,1968.0,1969.0,1970.0,1971.0,1972.0,1973.0,1974.0,1975.0,1976.0,1977.0,1978.0,1979.0,1980.0,1981.0,1982.0,1983.0,1984.0,1985.0,1986.0,1987.0,1988.0,1989.0,1990.0,1991.0,1992.0,1993.0,1994.0,1995.0,1996.0,1997.0,1998.0,1999.0,2000.0,2001.0,2002.0,2003.0,2004.0,2005.0,2006.0,2007.0],\"y\":[2021.3231754733858,2133.8663032175505,2274.9272487541207,2312.899522931008,2414.8502427132676,2407.6496477569904,2389.6366686907477,2528.3120875715795,2734.9095952368953,2731.5821245994343,3145.8106538419825,3353.2666063368224,3394.3783388513543,3415.976442016221,3591.1526994323153,3782.7172644943867,4182.892059105275,4438.826238986912,4887.419227931816,5070.003033863776,5355.639844518608,5544.18742025765,5789.716161526478,6016.027240012997,5988.4433312957835,6381.061297010268,6583.856877862394,6951.172814426659,7437.279929210843,7884.929551128013,7769.804229593274,7815.607816017803,7941.713359510245,8193.255411078668,8429.004238801608,8641.719473620042,8875.126299031203,9264.66615395095,9531.268967193606,9691.77181590633,10094.46934671122,10196.785712345358,9837.364241297004,10027.533799757963,10321.358182342783,10417.230261091581,10733.369042102444,10783.562907579175,10813.670266495217,11315.051197842336,11727.913168527426,11776.810256805067,11651.82414331859,11589.206269496932,11721.191523361958,12001.503838909794,11988.407683197725],\"type\":\"scatter\"},{\"mode\":\"lines\",\"name\":\"Pinotti\",\"x\":[1951.0,1952.0,1953.0,1954.0,1955.0,1956.0,1957.0,1958.0,1959.0,1960.0,1961.0,1962.0,1963.0,1964.0,1965.0,1966.0,1967.0,1968.0,1969.0,1970.0,1971.0,1972.0,1973.0,1974.0,1975.0,1976.0,1977.0,1978.0,1979.0,1980.0,1981.0,1982.0,1983.0,1984.0,1985.0,1986.0,1987.0,1988.0,1989.0,1990.0,1991.0,1992.0,1993.0,1994.0,1995.0,1996.0,1997.0,1998.0,1999.0,2000.0,2001.0,2002.0,2003.0,2004.0,2005.0,2006.0,2007.0],\"y\":[2029.541525390625,2137.643015625,2280.043365234375,2324.384759765625,2423.530521484375,2414.3116484375,2396.363603515625,2539.3596621093748,2740.5140644531252,2743.345421875,3158.432955078125,3364.320197265625,3402.3371464843754,3423.267986328125,3598.170685546875,3788.89976953125,4189.224123046874,4452.86501171875,4908.23264453125,5095.59106640625,5390.92690234375,5581.583390625,5831.20464453125,6054.3179375,6019.8745390625,6413.4213203125,6620.90231640625,6988.494484375,7477.641109375,7921.4470078125005,7809.6096640625,7861.651859375001,7984.8482031250005,8234.00123828125,8466.6904296875,8680.31966015625,8915.7554296875,9299.629023437501,9573.058953125,9736.320015625,10139.197609375,10242.21809375,9879.132734375,10066.452640625,10366.29534375,10454.03634375,10765.1386953125,10813.4211171875,10849.6793984375,11355.1891015625,11766.1323125,11805.3629765625,11679.83640625,11606.369679687501,11740.7458125,12015.49775,11998.3490390625],\"type\":\"scatter\"},{\"mode\":\"lines\",\"name\":\"Treated unit\",\"x\":[1951.0,1952.0,1953.0,1954.0,1955.0,1956.0,1957.0,1958.0,1959.0,1960.0,1961.0,1962.0,1963.0,1964.0,1965.0,1966.0,1967.0,1968.0,1969.0,1970.0,1971.0,1972.0,1973.0,1974.0,1975.0,1976.0,1977.0,1978.0,1979.0,1980.0,1981.0,1982.0,1983.0,1984.0,1985.0,1986.0,1987.0,1988.0,1989.0,1990.0,1991.0,1992.0,1993.0,1994.0,1995.0,1996.0,1997.0,1998.0,1999.0,2000.0,2001.0,2002.0,2003.0,2004.0,2005.0,2006.0,2007.0],\"y\":[2034.144775390625,1992.7567138671875,2405.923583984375,2455.6064453125,2327.77587890625,2392.174560546875,2621.853271484375,2521.5703125,2515.03759765625,2683.11279296875,2979.33740234375,3265.341796875,3415.132568359375,3467.41259765625,3796.149169921875,3950.023681640625,4439.67822265625,4440.22705078125,4960.33984375,5178.93310546875,5432.1015625,5531.82421875,5784.31787109375,5990.29052734375,5944.7470703125,6168.8173828125,6318.408203125,6531.55712890625,6832.80224609375,6943.01611328125,6707.8818359375,6663.8046875,6910.5966796875,7071.87158203125,7160.8984375,7345.021484375,7568.423828125,7916.5615234375,8084.18408203125,8102.86865234375,8490.349609375,8445.625,8234.916015625,8446.6826171875,8523.7236328125,8599.2265625,8747.8876953125,9004.8447265625,9432.0234375,9617.5234375,9862.884765625,9932.267578125,9804.88671875,9784.4501953125,9754.3642578125,9984.7529296875,10140.873046875],\"type\":\"scatter\"},{\"mode\":\"text\",\"name\":\"Matching\",\"text\":[\"End of Matching<br>Period\"],\"x\":[1960],\"y\":[12000],\"type\":\"scatter\"}],                        {\"template\":{\"data\":{\"bar\":[{\"error_x\":{\"color\":\"#2a3f5f\"},\"error_y\":{\"color\":\"#2a3f5f\"},\"marker\":{\"line\":{\"color\":\"#E5ECF6\",\"width\":0.5},\"pattern\":{\"fillmode\":\"overlay\",\"size\":10,\"solidity\":0.2}},\"type\":\"bar\"}],\"barpolar\":[{\"marker\":{\"line\":{\"color\":\"#E5ECF6\",\"width\":0.5},\"pattern\":{\"fillmode\":\"overlay\",\"size\":10,\"solidity\":0.2}},\"type\":\"barpolar\"}],\"carpet\":[{\"aaxis\":{\"endlinecolor\":\"#2a3f5f\",\"gridcolor\":\"white\",\"linecolor\":\"white\",\"minorgridcolor\":\"white\",\"startlinecolor\":\"#2a3f5f\"},\"baxis\":{\"endlinecolor\":\"#2a3f5f\",\"gridcolor\":\"white\",\"linecolor\":\"white\",\"minorgridcolor\":\"white\",\"startlinecolor\":\"#2a3f5f\"},\"type\":\"carpet\"}],\"choropleth\":[{\"colorbar\":{\"outlinewidth\":0,\"ticks\":\"\"},\"type\":\"choropleth\"}],\"contour\":[{\"colorbar\":{\"outlinewidth\":0,\"ticks\":\"\"},\"colorscale\":[[0.0,\"#0d0887\"],[0.1111111111111111,\"#46039f\"],[0.2222222222222222,\"#7201a8\"],[0.3333333333333333,\"#9c179e\"],[0.4444444444444444,\"#bd3786\"],[0.5555555555555556,\"#d8576b\"],[0.6666666666666666,\"#ed7953\"],[0.7777777777777778,\"#fb9f3a\"],[0.8888888888888888,\"#fdca26\"],[1.0,\"#f0f921\"]],\"type\":\"contour\"}],\"contourcarpet\":[{\"colorbar\":{\"outlinewidth\":0,\"ticks\":\"\"},\"type\":\"contourcarpet\"}],\"heatmap\":[{\"colorbar\":{\"outlinewidth\":0,\"ticks\":\"\"},\"colorscale\":[[0.0,\"#0d0887\"],[0.1111111111111111,\"#46039f\"],[0.2222222222222222,\"#7201a8\"],[0.3333333333333333,\"#9c179e\"],[0.4444444444444444,\"#bd3786\"],[0.5555555555555556,\"#d8576b\"],[0.6666666666666666,\"#ed7953\"],[0.7777777777777778,\"#fb9f3a\"],[0.8888888888888888,\"#fdca26\"],[1.0,\"#f0f921\"]],\"type\":\"heatmap\"}],\"heatmapgl\":[{\"colorbar\":{\"outlinewidth\":0,\"ticks\":\"\"},\"colorscale\":[[0.0,\"#0d0887\"],[0.1111111111111111,\"#46039f\"],[0.2222222222222222,\"#7201a8\"],[0.3333333333333333,\"#9c179e\"],[0.4444444444444444,\"#bd3786\"],[0.5555555555555556,\"#d8576b\"],[0.6666666666666666,\"#ed7953\"],[0.7777777777777778,\"#fb9f3a\"],[0.8888888888888888,\"#fdca26\"],[1.0,\"#f0f921\"]],\"type\":\"heatmapgl\"}],\"histogram\":[{\"marker\":{\"pattern\":{\"fillmode\":\"overlay\",\"size\":10,\"solidity\":0.2}},\"type\":\"histogram\"}],\"histogram2d\":[{\"colorbar\":{\"outlinewidth\":0,\"ticks\":\"\"},\"colorscale\":[[0.0,\"#0d0887\"],[0.1111111111111111,\"#46039f\"],[0.2222222222222222,\"#7201a8\"],[0.3333333333333333,\"#9c179e\"],[0.4444444444444444,\"#bd3786\"],[0.5555555555555556,\"#d8576b\"],[0.6666666666666666,\"#ed7953\"],[0.7777777777777778,\"#fb9f3a\"],[0.8888888888888888,\"#fdca26\"],[1.0,\"#f0f921\"]],\"type\":\"histogram2d\"}],\"histogram2dcontour\":[{\"colorbar\":{\"outlinewidth\":0,\"ticks\":\"\"},\"colorscale\":[[0.0,\"#0d0887\"],[0.1111111111111111,\"#46039f\"],[0.2222222222222222,\"#7201a8\"],[0.3333333333333333,\"#9c179e\"],[0.4444444444444444,\"#bd3786\"],[0.5555555555555556,\"#d8576b\"],[0.6666666666666666,\"#ed7953\"],[0.7777777777777778,\"#fb9f3a\"],[0.8888888888888888,\"#fdca26\"],[1.0,\"#f0f921\"]],\"type\":\"histogram2dcontour\"}],\"mesh3d\":[{\"colorbar\":{\"outlinewidth\":0,\"ticks\":\"\"},\"type\":\"mesh3d\"}],\"parcoords\":[{\"line\":{\"colorbar\":{\"outlinewidth\":0,\"ticks\":\"\"}},\"type\":\"parcoords\"}],\"pie\":[{\"automargin\":true,\"type\":\"pie\"}],\"scatter\":[{\"marker\":{\"colorbar\":{\"outlinewidth\":0,\"ticks\":\"\"}},\"type\":\"scatter\"}],\"scatter3d\":[{\"line\":{\"colorbar\":{\"outlinewidth\":0,\"ticks\":\"\"}},\"marker\":{\"colorbar\":{\"outlinewidth\":0,\"ticks\":\"\"}},\"type\":\"scatter3d\"}],\"scattercarpet\":[{\"marker\":{\"colorbar\":{\"outlinewidth\":0,\"ticks\":\"\"}},\"type\":\"scattercarpet\"}],\"scattergeo\":[{\"marker\":{\"colorbar\":{\"outlinewidth\":0,\"ticks\":\"\"}},\"type\":\"scattergeo\"}],\"scattergl\":[{\"marker\":{\"colorbar\":{\"outlinewidth\":0,\"ticks\":\"\"}},\"type\":\"scattergl\"}],\"scattermapbox\":[{\"marker\":{\"colorbar\":{\"outlinewidth\":0,\"ticks\":\"\"}},\"type\":\"scattermapbox\"}],\"scatterpolar\":[{\"marker\":{\"colorbar\":{\"outlinewidth\":0,\"ticks\":\"\"}},\"type\":\"scatterpolar\"}],\"scatterpolargl\":[{\"marker\":{\"colorbar\":{\"outlinewidth\":0,\"ticks\":\"\"}},\"type\":\"scatterpolargl\"}],\"scatterternary\":[{\"marker\":{\"colorbar\":{\"outlinewidth\":0,\"ticks\":\"\"}},\"type\":\"scatterternary\"}],\"surface\":[{\"colorbar\":{\"outlinewidth\":0,\"ticks\":\"\"},\"colorscale\":[[0.0,\"#0d0887\"],[0.1111111111111111,\"#46039f\"],[0.2222222222222222,\"#7201a8\"],[0.3333333333333333,\"#9c179e\"],[0.4444444444444444,\"#bd3786\"],[0.5555555555555556,\"#d8576b\"],[0.6666666666666666,\"#ed7953\"],[0.7777777777777778,\"#fb9f3a\"],[0.8888888888888888,\"#fdca26\"],[1.0,\"#f0f921\"]],\"type\":\"surface\"}],\"table\":[{\"cells\":{\"fill\":{\"color\":\"#EBF0F8\"},\"line\":{\"color\":\"white\"}},\"header\":{\"fill\":{\"color\":\"#C8D4E3\"},\"line\":{\"color\":\"white\"}},\"type\":\"table\"}]},\"layout\":{\"annotationdefaults\":{\"arrowcolor\":\"#2a3f5f\",\"arrowhead\":0,\"arrowwidth\":1},\"autotypenumbers\":\"strict\",\"coloraxis\":{\"colorbar\":{\"outlinewidth\":0,\"ticks\":\"\"}},\"colorscale\":{\"diverging\":[[0,\"#8e0152\"],[0.1,\"#c51b7d\"],[0.2,\"#de77ae\"],[0.3,\"#f1b6da\"],[0.4,\"#fde0ef\"],[0.5,\"#f7f7f7\"],[0.6,\"#e6f5d0\"],[0.7,\"#b8e186\"],[0.8,\"#7fbc41\"],[0.9,\"#4d9221\"],[1,\"#276419\"]],\"sequential\":[[0.0,\"#0d0887\"],[0.1111111111111111,\"#46039f\"],[0.2222222222222222,\"#7201a8\"],[0.3333333333333333,\"#9c179e\"],[0.4444444444444444,\"#bd3786\"],[0.5555555555555556,\"#d8576b\"],[0.6666666666666666,\"#ed7953\"],[0.7777777777777778,\"#fb9f3a\"],[0.8888888888888888,\"#fdca26\"],[1.0,\"#f0f921\"]],\"sequentialminus\":[[0.0,\"#0d0887\"],[0.1111111111111111,\"#46039f\"],[0.2222222222222222,\"#7201a8\"],[0.3333333333333333,\"#9c179e\"],[0.4444444444444444,\"#bd3786\"],[0.5555555555555556,\"#d8576b\"],[0.6666666666666666,\"#ed7953\"],[0.7777777777777778,\"#fb9f3a\"],[0.8888888888888888,\"#fdca26\"],[1.0,\"#f0f921\"]]},\"colorway\":[\"#636efa\",\"#EF553B\",\"#00cc96\",\"#ab63fa\",\"#FFA15A\",\"#19d3f3\",\"#FF6692\",\"#B6E880\",\"#FF97FF\",\"#FECB52\"],\"font\":{\"color\":\"#2a3f5f\"},\"geo\":{\"bgcolor\":\"white\",\"lakecolor\":\"white\",\"landcolor\":\"#E5ECF6\",\"showlakes\":true,\"showland\":true,\"subunitcolor\":\"white\"},\"hoverlabel\":{\"align\":\"left\"},\"hovermode\":\"closest\",\"mapbox\":{\"style\":\"light\"},\"paper_bgcolor\":\"white\",\"plot_bgcolor\":\"#E5ECF6\",\"polar\":{\"angularaxis\":{\"gridcolor\":\"white\",\"linecolor\":\"white\",\"ticks\":\"\"},\"bgcolor\":\"#E5ECF6\",\"radialaxis\":{\"gridcolor\":\"white\",\"linecolor\":\"white\",\"ticks\":\"\"}},\"scene\":{\"xaxis\":{\"backgroundcolor\":\"#E5ECF6\",\"gridcolor\":\"white\",\"gridwidth\":2,\"linecolor\":\"white\",\"showbackground\":true,\"ticks\":\"\",\"zerolinecolor\":\"white\"},\"yaxis\":{\"backgroundcolor\":\"#E5ECF6\",\"gridcolor\":\"white\",\"gridwidth\":2,\"linecolor\":\"white\",\"showbackground\":true,\"ticks\":\"\",\"zerolinecolor\":\"white\"},\"zaxis\":{\"backgroundcolor\":\"#E5ECF6\",\"gridcolor\":\"white\",\"gridwidth\":2,\"linecolor\":\"white\",\"showbackground\":true,\"ticks\":\"\",\"zerolinecolor\":\"white\"}},\"shapedefaults\":{\"line\":{\"color\":\"#2a3f5f\"}},\"ternary\":{\"aaxis\":{\"gridcolor\":\"white\",\"linecolor\":\"white\",\"ticks\":\"\"},\"baxis\":{\"gridcolor\":\"white\",\"linecolor\":\"white\",\"ticks\":\"\"},\"bgcolor\":\"#E5ECF6\",\"caxis\":{\"gridcolor\":\"white\",\"linecolor\":\"white\",\"ticks\":\"\"}},\"title\":{\"x\":0.05},\"xaxis\":{\"automargin\":true,\"gridcolor\":\"white\",\"linecolor\":\"white\",\"ticks\":\"\",\"title\":{\"standoff\":15},\"zerolinecolor\":\"white\",\"zerolinewidth\":2},\"yaxis\":{\"automargin\":true,\"gridcolor\":\"white\",\"linecolor\":\"white\",\"ticks\":\"\",\"title\":{\"standoff\":15},\"zerolinecolor\":\"white\",\"zerolinewidth\":2}}},\"shapes\":[{\"line\":{\"color\":\"Black\",\"width\":1},\"type\":\"line\",\"x0\":1960,\"x1\":1960,\"y0\":0,\"y1\":11000}],\"title\":{\"text\":\"Synthetic Control<br>Optimizer vs. Treated unit\"},\"xaxis\":{\"title\":{\"text\":\"Time\"}},\"yaxis\":{\"title\":{\"text\":\"GDP per Capita\"}}},                        {\"responsive\": true}                    ).then(function(){\n",
       "                            \n",
       "var gd = document.getElementById('f06e8c28-c902-440b-b30c-fa9891968148');\n",
       "var x = new MutationObserver(function (mutations, observer) {{\n",
       "        var display = window.getComputedStyle(gd).display;\n",
       "        if (!display || display === 'none') {{\n",
       "            console.log([gd, 'removed!']);\n",
       "            Plotly.purge(gd);\n",
       "            observer.disconnect();\n",
       "        }}\n",
       "}});\n",
       "\n",
       "// Listen for the removal of the full notebook cells\n",
       "var notebookContainer = gd.closest('#notebook-container');\n",
       "if (notebookContainer) {{\n",
       "    x.observe(notebookContainer, {childList: true});\n",
       "}}\n",
       "\n",
       "// Listen for the clearing of the current output cell\n",
       "var outputEl = gd.closest('.output');\n",
       "if (outputEl) {{\n",
       "    x.observe(outputEl, {childList: true});\n",
       "}}\n",
       "\n",
       "                        })                };                });            </script>        </div>"
      ]
     },
     "metadata": {},
     "output_type": "display_data"
    },
    {
     "data": {
      "image/png": "[encoded data removed]"
     },
     "metadata": {},
     "output_type": "display_data"
    },
    {
     "name": "stdout",
     "output_type": "stream",
     "text": [
      "RMSPE CVXPY with V*: 130.41702799095495 \n",
      "RMSPE Paper: 130.14101997364745\n"
     ]
    }
   ],
   "source": [
    "y_synth_opt_V = W @ y_control_all\n",
    "y_pred_opt_V = W @ y_control\n",
    "\n",
    "\n",
    "fig = go.Figure()\n",
    "fig.add_trace(go.Scatter(x=list(data.year.unique()), y=y_synth_opt_V,\n",
    "                    mode='lines', name='Optimizer'))\n",
    "fig.add_trace(go.Scatter(x=list(data.year.unique()), y=y_synth_paper,\n",
    "                    mode='lines', name='Pinotti'))\n",
    "fig.add_trace(go.Scatter(x=list(data.year.unique()), y=y_treat_all[0],\n",
    "                    mode='lines', name='Treated unit'))\n",
    "fig.add_shape(dict(type=\"line\", x0=1960, y0=0, x1=1960, y1=11000,\n",
    "                   line=dict(color=\"Black\", width=1)))\n",
    "\n",
    "fig.add_trace(go.Scatter(x=[1960], y=[12000], mode=\"text\",\n",
    "    name=\"Matching\", text=[\"End of Matching<br>Period\"]))\n",
    "\n",
    "fig.update_layout(title='Synthetic Control<br>Optimizer vs. Treated unit',\n",
    "                   xaxis_title='Time', yaxis_title='GDP per Capita')\n",
    "fig.show()\n",
    "\n",
    "# Static graph only for display on github\n",
    "fig.show(renderer=\"png\")\n",
    "\n",
    "print('RMSPE CVXPY with V*: {} \\nRMSPE Paper: {}'\\\n",
    "      .format(np.sqrt(np.mean((y_pred_opt_V - y_treat)**2)), \n",
    "             np.sqrt(np.mean((y_pred_paper - y_treat)**2))))"
   ]
  },
  {
   "cell_type": "markdown",
   "metadata": {},
   "source": [
    "#### Scipy Implementation "
   ]
  },
  {
   "cell_type": "code",
   "execution_count": 42,
   "metadata": {
    "ExecuteTime": {
     "end_time": "2021-11-22T12:38:26.045456Z",
     "start_time": "2021-11-22T12:11:35.577832Z"
    },
    "scrolled": true
   },
   "outputs": [],
   "source": [
    "n = 100000      # Number of iterations\n",
    "A = np.array(X0).T\n",
    "b = X1[0].tolist()\n",
    "iteration2 = []\n",
    "ww = [0,0,0,0,0,0,0,0,0,0,0,0,0,0,0]\n",
    "\n",
    "bnds = ((0, 1),(0, 1),(0, 1),(0, 1), (0, 1),(0, 1),(0, 1),(0, 1),\n",
    "        (0, 1),(0, 1), (0, 1),(0, 1),(0, 1),(0, 1),(0, 1))\n",
    "\n",
    "cons = ({'type': 'eq', 'fun': lambda x: 1.0 -  np.sum(x) })\n",
    "\n",
    "def fmin(x,A,b,v):\n",
    "    c = np.dot(A, x) - b\n",
    "    d = c ** 2\n",
    "    y = np.multiply(v,d)\n",
    "    return np.sum(y)\n",
    "\n",
    "for i in range(n):\n",
    "    \n",
    "    v = np.random.dirichlet(np.ones(8), size=1)\n",
    "    args = (A,b,v)\n",
    "    \n",
    "    res = optimize.minimize(fmin,ww,args, method='SLSQP',\n",
    "                            bounds=bnds,constraints=cons,tol=1e-10,options={'disp': False})\n",
    "    \n",
    "    prediction_error =  np.sqrt(np.mean(((res.x @ y_control) - y_treat)**2))    \n",
    "    iteration2.append([prediction_error, v, res.x])\n",
    "    "
   ]
  },
  {
   "cell_type": "code",
   "execution_count": 43,
   "metadata": {
    "ExecuteTime": {
     "end_time": "2021-11-22T12:48:19.835607Z",
     "start_time": "2021-11-22T12:48:19.189736Z"
    }
   },
   "outputs": [
    {
     "data": {
      "text/html": [
       "<div>\n",
       "<style scoped>\n",
       "    .dataframe tbody tr th:only-of-type {\n",
       "        vertical-align: middle;\n",
       "    }\n",
       "\n",
       "    .dataframe tbody tr th {\n",
       "        vertical-align: top;\n",
       "    }\n",
       "\n",
       "    .dataframe thead th {\n",
       "        text-align: right;\n",
       "    }\n",
       "</style>\n",
       "<table border=\"1\" class=\"dataframe\">\n",
       "  <thead>\n",
       "    <tr style=\"text-align: right;\">\n",
       "      <th></th>\n",
       "      <th>Predictors</th>\n",
       "      <th>V*</th>\n",
       "    </tr>\n",
       "  </thead>\n",
       "  <tbody>\n",
       "    <tr>\n",
       "      <th>0</th>\n",
       "      <td>gdppercap</td>\n",
       "      <td>0.040</td>\n",
       "    </tr>\n",
       "    <tr>\n",
       "      <th>1</th>\n",
       "      <td>invrate</td>\n",
       "      <td>0.415</td>\n",
       "    </tr>\n",
       "    <tr>\n",
       "      <th>2</th>\n",
       "      <td>shvain</td>\n",
       "      <td>0.004</td>\n",
       "    </tr>\n",
       "    <tr>\n",
       "      <th>3</th>\n",
       "      <td>shvaag</td>\n",
       "      <td>0.342</td>\n",
       "    </tr>\n",
       "    <tr>\n",
       "      <th>4</th>\n",
       "      <td>shvams</td>\n",
       "      <td>0.060</td>\n",
       "    </tr>\n",
       "    <tr>\n",
       "      <th>5</th>\n",
       "      <td>shvanms</td>\n",
       "      <td>0.122</td>\n",
       "    </tr>\n",
       "    <tr>\n",
       "      <th>6</th>\n",
       "      <td>shskill</td>\n",
       "      <td>0.016</td>\n",
       "    </tr>\n",
       "    <tr>\n",
       "      <th>7</th>\n",
       "      <td>density</td>\n",
       "      <td>0.000</td>\n",
       "    </tr>\n",
       "  </tbody>\n",
       "</table>\n",
       "</div>"
      ],
      "text/plain": [
       "  Predictors     V*\n",
       "0  gdppercap  0.040\n",
       "1    invrate  0.415\n",
       "2     shvain  0.004\n",
       "3     shvaag  0.342\n",
       "4     shvams  0.060\n",
       "5    shvanms  0.122\n",
       "6    shskill  0.016\n",
       "7    density  0.000"
      ]
     },
     "metadata": {},
     "output_type": "display_data"
    },
    {
     "data": {
      "text/html": [
       "<div>\n",
       "<style scoped>\n",
       "    .dataframe tbody tr th:only-of-type {\n",
       "        vertical-align: middle;\n",
       "    }\n",
       "\n",
       "    .dataframe tbody tr th {\n",
       "        vertical-align: top;\n",
       "    }\n",
       "\n",
       "    .dataframe thead th {\n",
       "        text-align: right;\n",
       "    }\n",
       "</style>\n",
       "<table border=\"1\" class=\"dataframe\">\n",
       "  <thead>\n",
       "    <tr style=\"text-align: right;\">\n",
       "      <th></th>\n",
       "      <th>Region</th>\n",
       "      <th>W(V*)</th>\n",
       "    </tr>\n",
       "  </thead>\n",
       "  <tbody>\n",
       "    <tr>\n",
       "      <th>0</th>\n",
       "      <td>PIE</td>\n",
       "      <td>0.000</td>\n",
       "    </tr>\n",
       "    <tr>\n",
       "      <th>1</th>\n",
       "      <td>VDA</td>\n",
       "      <td>0.000</td>\n",
       "    </tr>\n",
       "    <tr>\n",
       "      <th>2</th>\n",
       "      <td>LOM</td>\n",
       "      <td>0.000</td>\n",
       "    </tr>\n",
       "    <tr>\n",
       "      <th>3</th>\n",
       "      <td>TAA</td>\n",
       "      <td>0.000</td>\n",
       "    </tr>\n",
       "    <tr>\n",
       "      <th>4</th>\n",
       "      <td>VEN</td>\n",
       "      <td>0.000</td>\n",
       "    </tr>\n",
       "    <tr>\n",
       "      <th>5</th>\n",
       "      <td>FVG</td>\n",
       "      <td>0.000</td>\n",
       "    </tr>\n",
       "    <tr>\n",
       "      <th>6</th>\n",
       "      <td>LIG</td>\n",
       "      <td>0.000</td>\n",
       "    </tr>\n",
       "    <tr>\n",
       "      <th>7</th>\n",
       "      <td>EMR</td>\n",
       "      <td>0.000</td>\n",
       "    </tr>\n",
       "    <tr>\n",
       "      <th>8</th>\n",
       "      <td>TOS</td>\n",
       "      <td>0.000</td>\n",
       "    </tr>\n",
       "    <tr>\n",
       "      <th>9</th>\n",
       "      <td>UMB</td>\n",
       "      <td>0.000</td>\n",
       "    </tr>\n",
       "    <tr>\n",
       "      <th>10</th>\n",
       "      <td>MAR</td>\n",
       "      <td>0.000</td>\n",
       "    </tr>\n",
       "    <tr>\n",
       "      <th>11</th>\n",
       "      <td>LAZ</td>\n",
       "      <td>0.000</td>\n",
       "    </tr>\n",
       "    <tr>\n",
       "      <th>12</th>\n",
       "      <td>ABR</td>\n",
       "      <td>0.597</td>\n",
       "    </tr>\n",
       "    <tr>\n",
       "      <th>13</th>\n",
       "      <td>MOL</td>\n",
       "      <td>0.403</td>\n",
       "    </tr>\n",
       "    <tr>\n",
       "      <th>14</th>\n",
       "      <td>SAR</td>\n",
       "      <td>0.000</td>\n",
       "    </tr>\n",
       "  </tbody>\n",
       "</table>\n",
       "</div>"
      ],
      "text/plain": [
       "   Region  W(V*)\n",
       "0     PIE  0.000\n",
       "1     VDA  0.000\n",
       "2     LOM  0.000\n",
       "3     TAA  0.000\n",
       "4     VEN  0.000\n",
       "5     FVG  0.000\n",
       "6     LIG  0.000\n",
       "7     EMR  0.000\n",
       "8     TOS  0.000\n",
       "9     UMB  0.000\n",
       "10    MAR  0.000\n",
       "11    LAZ  0.000\n",
       "12    ABR  0.597\n",
       "13    MOL  0.403\n",
       "14    SAR  0.000"
      ]
     },
     "metadata": {},
     "output_type": "display_data"
    }
   ],
   "source": [
    "soln_frame_v2 = pd.DataFrame(iteration2)\n",
    "soln_frame_v2.columns =['Error', 'Relative Importance', 'Weights']\n",
    "\n",
    "soln_frame_v2 = soln_frame_v2.sort_values(by='Error', ascending=True)\n",
    "\n",
    "W2 = soln_frame_v2.iloc[0][2]\n",
    "V2 = soln_frame_v2.iloc[0][1][0]\n",
    "\n",
    "best_weights_region2 = pd.DataFrame({'Region':control_units.region.unique(), \n",
    "                                    'W(V*)': np.round(W2, decimals=3)})\n",
    "\n",
    "best_weights_importance2 = pd.DataFrame({'Predictors': data.columns[[3,16,11,12,13,14,26,28]],\n",
    "                                        'V*': np.round(V2, 3)})\n",
    "\n",
    "display(best_weights_importance2)\n",
    "display(best_weights_region2)\n"
   ]
  },
  {
   "cell_type": "code",
   "execution_count": 53,
   "metadata": {
    "ExecuteTime": {
     "end_time": "2021-11-22T15:06:46.877109Z",
     "start_time": "2021-11-22T15:06:46.858165Z"
    }
   },
   "outputs": [
    {
     "name": "stdout",
     "output_type": "stream",
     "text": [
      "\n",
      "RMSPE with scipy: 130.41695979329282 \n",
      "RMSPE with CVXPY: 130.41702799095495 \n",
      "RMSPE Paper: 130.14101997364745\n"
     ]
    }
   ],
   "source": [
    "y_synth_opt_V2 = W2 @ y_control_all\n",
    "y_pred_opt_V2 = W2 @ y_control\n",
    "\n",
    "print('\\nRMSPE with scipy: {} \\nRMSPE with CVXPY: {} \\nRMSPE Paper: {}'\\\n",
    "      .format(np.sqrt(np.mean((y_pred_opt_V2 - y_treat)**2)),\n",
    "             np.sqrt(np.mean((y_pred_opt_V - y_treat)**2)), \n",
    "             np.sqrt(np.mean((y_pred_paper - y_treat)**2))))"
   ]
  },
  {
   "cell_type": "markdown",
   "metadata": {},
   "source": [
    "# 6. Conclusions"
   ]
  },
  {
   "cell_type": "markdown",
   "metadata": {},
   "source": [
    "# N. References\n",
    "- Pinotti, Paolo. *The economic consequences of organized crime: Evidence from Southern Italy.* Bank of Italy (2011).\n",
    "\n",
    "\n",
    "- Becker, Martin, and Stefan Klößner. *Estimating the economic costs of organized crime by synthetic control methods.* Journal of Applied Econometrics 32.7 (2017): 1367-1369.\n",
    "\n",
    "\n",
    "- Blackburn, Keith, Kyriakos C. Neanidis, and Maria Paola Rana. *A theory of organized crime, corruption and economic growth.* Economic Theory Bulletin 5.2 (2017): 227-245.\n",
    "\n",
    "\n",
    "- Garoupa, Nuno. *The economics of organized crime and optimal law enforcement.* Economic Inquiry 38.2 (2000): 278-288.\n",
    "\n"
   ]
  }
 ],
 "metadata": {
  "kernelspec": {
   "display_name": "Python 3 (ipykernel)",
   "language": "python",
   "name": "python3"
  },
  "language_info": {
   "codemirror_mode": {
    "name": "ipython",
    "version": 3
   },
   "file_extension": ".py",
   "mimetype": "text/x-python",
   "name": "python",
   "nbconvert_exporter": "python",
   "pygments_lexer": "ipython3",
   "version": "3.8.12"
  }
 },
 "nbformat": 4,
 "nbformat_minor": 4
}
