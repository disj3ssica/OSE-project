{
 "cells": [
  {
   "cell_type": "markdown",
   "metadata": {},
   "source": [
    "#  Working title: Constrained optimization of the synthetic control method with application to the Economic Costs of Organized Crime (Pinotti, 2015)\n",
    "###### Jessica Cremonese, Muhammad-Danial Syed, Xue Wang\n",
    "\n",
    "*[WRITE QUICK INTRODUCTION ON WHAT THE PROJECT IS ABOUT AND IF WHAT YOU NEED ON YOUR PC TO RUN IT]*\n",
    "\n",
    "## Table of contents\n",
    "**Update links!!**\n",
    "\n",
    "1. [Introduction](link)<br>\n",
    "2. [The Economic Costs of Organized Crime, Pinotti(2015)](link)<br>\n",
    "    2.2. [Topic presentation](link)<br>\n",
    "    2.3. [Tecnhiques and results of the paper by Pinotti(2015)](link)<br>\n",
    "    2.4. [Something on the other replication paper?](link)<br>\n",
    "3. [Synthetic control methods](link)<br>\n",
    "4. [Preliminary work for replication](link)<br>\n",
    "    4.1. [Figures and graphs](link)<br>\n",
    "    4.2. [Data preparation](link)<br>\n",
    "5. [Replication of Pinotti (2015)](link)<br>\n",
    "    5.1. [Optimization methods](link)<br>\n",
    "    5.2. [Synthetic control performance analysis](link)<br>\n",
    "6. [MORE?]()\n",
    "6. [References](link)<br>"
   ]
  },
  {
   "cell_type": "markdown",
   "metadata": {},
   "source": [
    "## Introduction"
   ]
  },
  {
   "cell_type": "markdown",
   "metadata": {},
   "source": [
    "Synthetic Controls are, “arguably the most important innovation in the policy evaluation literature in the last 15 years” - Athey and Imbens, 2017.\n",
    "\n",
    "\n",
    "### What are they?\n",
    "- Used to evaluate the effect of an intervention in comparative case studies.\n",
    "- Based on the idea that a combination of unaffected units often provides a better comparison than any single unaffected unit alone.\n",
    "- This combination is captured through weights calculated by optimization algorithms. \n",
    "- Similar to Diff-in-Diff method; in fact, according to Abadie et al. (2010) the synthetic control methods generalizes the Diff-in-Diff model by allowing the effect of unobserved confounders to vary over time.\n",
    "- This advantage arises from a flexible factor representation of the potential outcomes of treated units.\n",
    "- Wide usage: Academia, multilateral organizations, think tanks, business analytics units, governmental agencies, and consulting firms.\n",
    "\n"
   ]
  },
  {
   "cell_type": "code",
   "execution_count": 1,
   "metadata": {
    "ExecuteTime": {
     "end_time": "2021-11-21T06:32:41.925859Z",
     "start_time": "2021-11-21T06:32:39.239715Z"
    }
   },
   "outputs": [],
   "source": [
    "import numpy as np\n",
    "import cvxpy as cvx\n",
    "import pandas as pd\n",
    "import scipy.optimize\n",
    "import statsmodels.api as sm\n",
    "import plotly.graph_objs as go\n",
    "import matplotlib.pyplot as plt\n",
    "from scipy.optimize import lsq_linear\n",
    "import statsmodels.formula.api as smf\n",
    "\n",
    "%matplotlib inline"
   ]
  },
  {
   "cell_type": "markdown",
   "metadata": {},
   "source": [
    "## Paragraph 1"
   ]
  },
  {
   "cell_type": "code",
   "execution_count": null,
   "metadata": {},
   "outputs": [],
   "source": []
  },
  {
   "cell_type": "markdown",
   "metadata": {},
   "source": [
    "## Paragraph 2"
   ]
  },
  {
   "cell_type": "code",
   "execution_count": 38,
   "metadata": {
    "ExecuteTime": {
     "end_time": "2021-11-18T14:11:05.126508Z",
     "start_time": "2021-11-18T14:11:05.099971Z"
    }
   },
   "outputs": [],
   "source": []
  },
  {
   "cell_type": "markdown",
   "metadata": {},
   "source": [
    "## Empirical Application: The Economic Costs of Organized Crime: Evidence From Southern Italy\" (Pinotti, 2015) \n"
   ]
  },
  {
   "cell_type": "markdown",
   "metadata": {},
   "source": [
    "### Background "
   ]
  },
  {
   "cell_type": "markdown",
   "metadata": {},
   "source": [
    "## Pre-analysis Figures and Graphs"
   ]
  },
  {
   "cell_type": "code",
   "execution_count": 2,
   "metadata": {
    "ExecuteTime": {
     "end_time": "2021-11-21T06:32:44.290557Z",
     "start_time": "2021-11-21T06:32:44.102955Z"
    }
   },
   "outputs": [],
   "source": [
    "# Import dataset\n",
    "dtafile = 'dataset/Pinotti-replication/dataset.dta'\n",
    "\n",
    "df = pd.read_stata(dtafile)\n",
    "df1 = df[df['year'] >= 1983]\n",
    "\n",
    "df2 = df1.groupby(['region', 'reg'])[['gdppercap', 'mafia', 'murd', 'ext', 'fire', 'kidnap', 'rob', 'smug',\n",
    "            'drug', 'theft', 'orgcrime']].mean()\n",
    "\n",
    "df2 = df2.reset_index()"
   ]
  },
  {
   "cell_type": "code",
   "execution_count": 4,
   "metadata": {
    "ExecuteTime": {
     "end_time": "2021-11-21T06:32:47.393099Z",
     "start_time": "2021-11-21T06:32:47.178383Z"
    },
    "scrolled": true
   },
   "outputs": [
    {
     "data": {
      "image/png": "[encoded data removed]",
      "text/plain": [
       "<Figure size 576x360 with 1 Axes>"
      ]
     },
     "metadata": {
      "needs_background": "light"
     },
     "output_type": "display_data"
    }
   ],
   "source": [
    "# Figure 1\n",
    "color = np.where((df2['reg']==15) | (df2['reg']==18) | (df2['reg']==19), 'y', \n",
    "                 np.where((df2['reg']==16) | (df2['reg']==17), 'k',\n",
    "                          np.where((df2['reg']<=12) | (df2['reg']==20), 'r', 'none')))\n",
    "\n",
    "df2.plot.scatter('mafia', 'gdppercap', c=color, s=10, linewidth=3)\n",
    "plt.rcParams[\"figure.figsize\"] = (8,5)\n",
    "plt.show()"
   ]
  },
  {
   "cell_type": "code",
   "execution_count": 6,
   "metadata": {
    "ExecuteTime": {
     "end_time": "2021-11-21T06:32:53.008707Z",
     "start_time": "2021-11-21T06:32:52.730752Z"
    }
   },
   "outputs": [
    {
     "data": {
      "image/png": "[encoded data removed]",
      "text/plain": [
       "<Figure size 576x360 with 1 Axes>"
      ]
     },
     "metadata": {
      "needs_background": "light"
     },
     "output_type": "display_data"
    }
   ],
   "source": [
    "# Figure 3\n",
    "df2.plot.scatter('mafia', 'murd', c=color, s=10, linewidth=3)\n",
    "plt.rcParams[\"figure.figsize\"] = (8,5)\n",
    "plt.show()"
   ]
  },
  {
   "cell_type": "code",
   "execution_count": 8,
   "metadata": {
    "ExecuteTime": {
     "end_time": "2021-11-21T06:32:56.403160Z",
     "start_time": "2021-11-21T06:32:56.094049Z"
    }
   },
   "outputs": [
    {
     "data": {
      "text/plain": [
       "<AxesSubplot:xlabel='year'>"
      ]
     },
     "execution_count": 8,
     "metadata": {},
     "output_type": "execute_result"
    },
    {
     "data": {
      "image/png": "[encoded data removed]",
      "text/plain": [
       "<Figure size 720x360 with 1 Axes>"
      ]
     },
     "metadata": {
      "needs_background": "light"
     },
     "output_type": "display_data"
    }
   ],
   "source": [
    "# Figure 4\n",
    "df3 = df[df['reg'] > 20]\n",
    "df3 = df3[df3['year'] >= 1956]\n",
    "\n",
    "df3 = df3[['murd', 'year', 'region']]\n",
    "df3 = df3.pivot(index='year', columns='region', values='murd')\n",
    "plt.rcParams[\"figure.figsize\"] = (10,5)\n",
    "df3.plot()"
   ]
  },
  {
   "cell_type": "markdown",
   "metadata": {},
   "source": [
    "## Data Preparation"
   ]
  },
  {
   "cell_type": "code",
   "execution_count": 9,
   "metadata": {
    "ExecuteTime": {
     "end_time": "2021-11-21T06:32:58.980382Z",
     "start_time": "2021-11-21T06:32:58.851772Z"
    }
   },
   "outputs": [],
   "source": [
    "dtafile = 'dataset/Pinotti-replication/dataset.dta'\n",
    "data = pd.read_stata(dtafile)\n",
    "\n",
    "# Specify conditions for treated unit and control units as per Pinotti's paper (c.f. F216), \n",
    "\n",
    "treat_unit = data[data.reg == 21]\n",
    "treat_unit = treat_unit[treat_unit.year <= 1960]                 # Matching period: 1951 to 1960\n",
    "treat_unit_all = data[data.reg == 21]                            # Entire period:   1951 to 2007\n",
    "\n",
    "control_units = data[(data.reg <= 14) | (data.reg ==20)]\n",
    "control_units     = control_units[control_units.year <= 1960]\n",
    "control_units_all = data[(data.reg <= 14) | (data.reg ==20)]\n",
    "\n",
    "# Extract the outcome variable for treatment and control unit, y: GDP per capita\n",
    "\n",
    "y_treat     = np.array(treat_unit.gdppercap).reshape(1, 10)              # Matching period \n",
    "y_treat_all = np.array(treat_unit_all.gdppercap).reshape(1, 57)          # Entire period\n",
    "\n",
    "y_control     = np.array(control_units.gdppercap).reshape(15, 10)\n",
    "y_control_all = np.array(control_units_all.gdppercap).reshape(15, 57)"
   ]
  },
  {
   "cell_type": "markdown",
   "metadata": {},
   "source": [
    "## Data Organization into Appropriate Format "
   ]
  },
  {
   "cell_type": "code",
   "execution_count": 10,
   "metadata": {
    "ExecuteTime": {
     "end_time": "2021-11-21T06:33:01.856949Z",
     "start_time": "2021-11-21T06:33:01.843390Z"
    }
   },
   "outputs": [],
   "source": [
    "## Prepare matrices with only the relevant variables into CVXPY format, predictors k = 8\n",
    "\n",
    "# k x 1 vector: mean values of k predictors for 1 treated unit\n",
    "X1 = treat_unit[['gdppercap', 'invrate', 'shvain', 'shvaag', 'shvams', 'shvanms', 'shskill', 'density']]\n",
    "X1 = X1.set_index(np.arange(len(X1)) // 10).mean(level=0)\n",
    "X1 = X1.values               \n",
    "\n",
    "# k x J matrix: mean values of k predictors for J untreated units\n",
    "X0 = control_units[['gdppercap', 'invrate', 'shvain', 'shvaag', 'shvams', 'shvanms', 'shskill', 'density']]\n",
    "X0 = X0.set_index(np.arange(len(X0)) // 10).mean(level=0)\n",
    "X0 = X0.values"
   ]
  },
  {
   "cell_type": "markdown",
   "metadata": {},
   "source": [
    "## Optimization with CVXPYY\n",
    "\n",
    "$$\n",
    "\\hat{\\boldsymbol{W}}=\\operatorname{argmin}_{\\boldsymbol{W}}\\left[\\sum_{m=1}^{k}\\left(x_{m1}-\\sum_{j=2}^{J+1}\\boldsymbol{w}_{j} \\boldsymbol{x}_{mj}\\right)^{2}\\right]\n",
    "$$\n",
    "\n",
    "subject to\n",
    "                                                      \n",
    "$$ \\sum_{j=2}^{J+1}\\boldsymbol{w}_{j}=1$$   \n",
    "\n",
    "where w are the 15 weights, one for each of the control regions 'donor pool'.\n",
    "\n",
    "Which combination of weights best resembles the pre-intervention predictors values for the treated unit?\n",
    "\n"
   ]
  },
  {
   "cell_type": "code",
   "execution_count": 11,
   "metadata": {
    "ExecuteTime": {
     "end_time": "2021-11-21T06:33:05.554939Z",
     "start_time": "2021-11-21T06:33:05.531106Z"
    },
    "scrolled": true
   },
   "outputs": [],
   "source": [
    "# Setup the objective for CVXPY function\n",
    "w = cvx.Variable((1, 15), nonneg=True)\n",
    "objective_function = cvx.Minimize(cvx.sum_squares(X1 - w @ X0))\n",
    "objective_constraints = [cvx.sum(w) == 1]\n",
    "objective_solution = cvx.Problem(objective_function, objective_constraints).solve(verbose=False) #set True for details\n"
   ]
  },
  {
   "cell_type": "code",
   "execution_count": 12,
   "metadata": {
    "ExecuteTime": {
     "end_time": "2021-11-21T06:33:09.386090Z",
     "start_time": "2021-11-21T06:33:09.365566Z"
    },
    "scrolled": false
   },
   "outputs": [
    {
     "name": "stdout",
     "output_type": "stream",
     "text": [
      "\n",
      "Objective Value:  833.2880036755997 \n",
      "\n",
      "Optimal Weights:  [[0.         0.         0.         0.         0.15165999 0.\n",
      "  0.         0.         0.         0.         0.         0.\n",
      "  0.         0.84834001 0.        ]]\n"
     ]
    },
    {
     "data": {
      "text/html": [
       "<div>\n",
       "<style scoped>\n",
       "    .dataframe tbody tr th:only-of-type {\n",
       "        vertical-align: middle;\n",
       "    }\n",
       "\n",
       "    .dataframe tbody tr th {\n",
       "        vertical-align: top;\n",
       "    }\n",
       "\n",
       "    .dataframe thead th {\n",
       "        text-align: right;\n",
       "    }\n",
       "</style>\n",
       "<table border=\"1\" class=\"dataframe\">\n",
       "  <thead>\n",
       "    <tr style=\"text-align: right;\">\n",
       "      <th></th>\n",
       "      <th>Region</th>\n",
       "      <th>Weights</th>\n",
       "    </tr>\n",
       "  </thead>\n",
       "  <tbody>\n",
       "    <tr>\n",
       "      <th>0</th>\n",
       "      <td>PIE</td>\n",
       "      <td>0.000</td>\n",
       "    </tr>\n",
       "    <tr>\n",
       "      <th>1</th>\n",
       "      <td>VDA</td>\n",
       "      <td>0.000</td>\n",
       "    </tr>\n",
       "    <tr>\n",
       "      <th>2</th>\n",
       "      <td>LOM</td>\n",
       "      <td>0.000</td>\n",
       "    </tr>\n",
       "    <tr>\n",
       "      <th>3</th>\n",
       "      <td>TAA</td>\n",
       "      <td>0.000</td>\n",
       "    </tr>\n",
       "    <tr>\n",
       "      <th>4</th>\n",
       "      <td>VEN</td>\n",
       "      <td>0.152</td>\n",
       "    </tr>\n",
       "    <tr>\n",
       "      <th>5</th>\n",
       "      <td>FVG</td>\n",
       "      <td>0.000</td>\n",
       "    </tr>\n",
       "    <tr>\n",
       "      <th>6</th>\n",
       "      <td>LIG</td>\n",
       "      <td>0.000</td>\n",
       "    </tr>\n",
       "    <tr>\n",
       "      <th>7</th>\n",
       "      <td>EMR</td>\n",
       "      <td>0.000</td>\n",
       "    </tr>\n",
       "    <tr>\n",
       "      <th>8</th>\n",
       "      <td>TOS</td>\n",
       "      <td>0.000</td>\n",
       "    </tr>\n",
       "    <tr>\n",
       "      <th>9</th>\n",
       "      <td>UMB</td>\n",
       "      <td>0.000</td>\n",
       "    </tr>\n",
       "    <tr>\n",
       "      <th>10</th>\n",
       "      <td>MAR</td>\n",
       "      <td>0.000</td>\n",
       "    </tr>\n",
       "    <tr>\n",
       "      <th>11</th>\n",
       "      <td>LAZ</td>\n",
       "      <td>0.000</td>\n",
       "    </tr>\n",
       "    <tr>\n",
       "      <th>12</th>\n",
       "      <td>ABR</td>\n",
       "      <td>0.000</td>\n",
       "    </tr>\n",
       "    <tr>\n",
       "      <th>13</th>\n",
       "      <td>MOL</td>\n",
       "      <td>0.848</td>\n",
       "    </tr>\n",
       "    <tr>\n",
       "      <th>14</th>\n",
       "      <td>SAR</td>\n",
       "      <td>0.000</td>\n",
       "    </tr>\n",
       "  </tbody>\n",
       "</table>\n",
       "</div>"
      ],
      "text/plain": [
       "   Region  Weights\n",
       "0     PIE    0.000\n",
       "1     VDA    0.000\n",
       "2     LOM    0.000\n",
       "3     TAA    0.000\n",
       "4     VEN    0.152\n",
       "5     FVG    0.000\n",
       "6     LIG    0.000\n",
       "7     EMR    0.000\n",
       "8     TOS    0.000\n",
       "9     UMB    0.000\n",
       "10    MAR    0.000\n",
       "11    LAZ    0.000\n",
       "12    ABR    0.000\n",
       "13    MOL    0.848\n",
       "14    SAR    0.000"
      ]
     },
     "metadata": {},
     "output_type": "display_data"
    }
   ],
   "source": [
    "# CVXPY Solution\n",
    "print('\\nObjective Value: ',objective_solution,'\\n\\nOptimal Weights: ',w.value)\n",
    "sol_frame = pd.DataFrame({'Region':control_units.region.unique(), \n",
    "                           'Weights': np.round(w.value[0], decimals=3)})\n",
    "display(sol_frame)"
   ]
  },
  {
   "cell_type": "markdown",
   "metadata": {},
   "source": [
    "#### Commentary:\n",
    "- The basic CVXPY minimization problem allocates weights to VEN (Veneto: 0.152) and MOL (Molise: 0.848). \n",
    "- In comparison the weights in the paper are to ABR (Abruzzo: 0.624) and MOL (0.376).\n",
    "- Becker and Klößner found the weights to ABR (43.035), MOL 48.934, and Sardinia (SDR: 8.03045). \n",
    "\n",
    "But what do these weights mean in terms of the actual performance of our synethic controls?"
   ]
  },
  {
   "cell_type": "markdown",
   "metadata": {},
   "source": [
    "## Synthetic Control Performance Analysis"
   ]
  },
  {
   "cell_type": "markdown",
   "metadata": {},
   "source": [
    "#### Table Comparison"
   ]
  },
  {
   "cell_type": "code",
   "execution_count": 15,
   "metadata": {
    "ExecuteTime": {
     "end_time": "2021-11-21T06:36:37.569624Z",
     "start_time": "2021-11-21T06:36:37.543000Z"
    },
    "scrolled": true
   },
   "outputs": [
    {
     "name": "stdout",
     "output_type": "stream",
     "text": [
      "RMSPE CVXPY: 154.26663518337438 \n",
      "RMSPE Paper: 130.14101997364745\n",
      "\n",
      "Breakdown across predictors:\n"
     ]
    },
    {
     "data": {
      "text/html": [
       "<div>\n",
       "<style scoped>\n",
       "    .dataframe tbody tr th:only-of-type {\n",
       "        vertical-align: middle;\n",
       "    }\n",
       "\n",
       "    .dataframe tbody tr th {\n",
       "        vertical-align: top;\n",
       "    }\n",
       "\n",
       "    .dataframe thead th {\n",
       "        text-align: right;\n",
       "    }\n",
       "</style>\n",
       "<table border=\"1\" class=\"dataframe\">\n",
       "  <thead>\n",
       "    <tr style=\"text-align: right;\">\n",
       "      <th></th>\n",
       "      <th>Actual</th>\n",
       "      <th>Paper</th>\n",
       "      <th>Optimizer</th>\n",
       "      <th>Paper Differential</th>\n",
       "      <th>Optimizer Differential</th>\n",
       "    </tr>\n",
       "  </thead>\n",
       "  <tbody>\n",
       "    <tr>\n",
       "      <th>gdppercap</th>\n",
       "      <td>2394.995605</td>\n",
       "      <td>2402.903783</td>\n",
       "      <td>2398.078601</td>\n",
       "      <td>7.908178</td>\n",
       "      <td>3.082995</td>\n",
       "    </tr>\n",
       "    <tr>\n",
       "      <th>invrate</th>\n",
       "      <td>0.316296</td>\n",
       "      <td>0.232005</td>\n",
       "      <td>0.212794</td>\n",
       "      <td>-0.084291</td>\n",
       "      <td>-0.103502</td>\n",
       "    </tr>\n",
       "    <tr>\n",
       "      <th>shvain</th>\n",
       "      <td>0.215479</td>\n",
       "      <td>0.221464</td>\n",
       "      <td>0.228207</td>\n",
       "      <td>0.005985</td>\n",
       "      <td>0.012728</td>\n",
       "    </tr>\n",
       "    <tr>\n",
       "      <th>shvaag</th>\n",
       "      <td>0.151702</td>\n",
       "      <td>0.154425</td>\n",
       "      <td>0.167108</td>\n",
       "      <td>0.002723</td>\n",
       "      <td>0.015406</td>\n",
       "    </tr>\n",
       "    <tr>\n",
       "      <th>shvams</th>\n",
       "      <td>0.401665</td>\n",
       "      <td>0.391364</td>\n",
       "      <td>0.383643</td>\n",
       "      <td>-0.010302</td>\n",
       "      <td>-0.018023</td>\n",
       "    </tr>\n",
       "    <tr>\n",
       "      <th>shvanms</th>\n",
       "      <td>0.231154</td>\n",
       "      <td>0.232748</td>\n",
       "      <td>0.221043</td>\n",
       "      <td>0.001594</td>\n",
       "      <td>-0.010111</td>\n",
       "    </tr>\n",
       "    <tr>\n",
       "      <th>shskill</th>\n",
       "      <td>0.165486</td>\n",
       "      <td>0.180807</td>\n",
       "      <td>0.159343</td>\n",
       "      <td>0.015321</td>\n",
       "      <td>-0.006143</td>\n",
       "    </tr>\n",
       "    <tr>\n",
       "      <th>density</th>\n",
       "      <td>134.778870</td>\n",
       "      <td>105.627378</td>\n",
       "      <td>106.077449</td>\n",
       "      <td>-29.151492</td>\n",
       "      <td>-28.701421</td>\n",
       "    </tr>\n",
       "  </tbody>\n",
       "</table>\n",
       "</div>"
      ],
      "text/plain": [
       "                Actual        Paper    Optimizer  Paper Differential  \\\n",
       "gdppercap  2394.995605  2402.903783  2398.078601            7.908178   \n",
       "invrate       0.316296     0.232005     0.212794           -0.084291   \n",
       "shvain        0.215479     0.221464     0.228207            0.005985   \n",
       "shvaag        0.151702     0.154425     0.167108            0.002723   \n",
       "shvams        0.401665     0.391364     0.383643           -0.010302   \n",
       "shvanms       0.231154     0.232748     0.221043            0.001594   \n",
       "shskill       0.165486     0.180807     0.159343            0.015321   \n",
       "density     134.778870   105.627378   106.077449          -29.151492   \n",
       "\n",
       "           Optimizer Differential  \n",
       "gdppercap                3.082995  \n",
       "invrate                 -0.103502  \n",
       "shvain                   0.012728  \n",
       "shvaag                   0.015406  \n",
       "shvams                  -0.018023  \n",
       "shvanms                 -0.010111  \n",
       "shskill                 -0.006143  \n",
       "density                -28.701421  "
      ]
     },
     "execution_count": 15,
     "metadata": {},
     "output_type": "execute_result"
    }
   ],
   "source": [
    "# Dataframe to show predicted vs actualvalues  (RMSPE) of optimizer and Pinotti weights\n",
    "w_paper = np.array([0, 0, 0, 0, 0, 0, 0, 0, 0, 0, 0, 0, 0.624, 0.376, 0]).reshape(1, 15)\n",
    "data_compare = pd.DataFrame({'Actual':X1[0],\n",
    "                             'Paper':(w_paper @ X0)[0],\n",
    "                             'Optimizer':(w @ X0).value[0],\n",
    "                             'Paper Differential': (w_paper @ X0)[0] - X1[0],\n",
    "                             'Optimizer Differential': (w @ X0).value[0] - X1[0]},\n",
    "                              index= data.columns[[3,16,11,12,13,14,26,28]]\n",
    ")\n",
    "\n",
    "print('RMSPE CVXPY: {} \\nRMSPE Paper: {}'\\\n",
    "      .format(np.sqrt(np.mean((w.value @ y_control - y_treat)**2)), \n",
    "             np.sqrt(np.mean((w_paper @ y_control - y_treat)**2))))\n",
    "\n",
    "print ('\\nBreakdown across predictors:')\n",
    "data_compare"
   ]
  },
  {
   "cell_type": "markdown",
   "metadata": {},
   "source": [
    "#### Graphical Comparison"
   ]
  },
  {
   "cell_type": "code",
   "execution_count": 33,
   "metadata": {
    "ExecuteTime": {
     "end_time": "2021-11-21T06:00:00.101685Z",
     "start_time": "2021-11-21T06:00:00.051572Z"
    }
   },
   "outputs": [
    {
     "data": {
      "application/vnd.plotly.v1+json": {
       "config": {
        "plotlyServerURL": "https://plot.ly"
       },
       "data": [
        {
         "mode": "lines",
         "name": "Optimizer",
         "type": "scatter",
         "x": [
          1951,
          1952,
          1953,
          1954,
          1955,
          1956,
          1957,
          1958,
          1959,
          1960,
          1961,
          1962,
          1963,
          1964,
          1965,
          1966,
          1967,
          1968,
          1969,
          1970,
          1971,
          1972,
          1973,
          1974,
          1975,
          1976,
          1977,
          1978,
          1979,
          1980,
          1981,
          1982,
          1983,
          1984,
          1985,
          1986,
          1987,
          1988,
          1989,
          1990,
          1991,
          1992,
          1993,
          1994,
          1995,
          1996,
          1997,
          1998,
          1999,
          2000,
          2001,
          2002,
          2003,
          2004,
          2005,
          2006,
          2007
         ],
         "y": [
          1973.3742261906043,
          2149.989978110353,
          2292.0045501211193,
          2206.9703581152166,
          2396.2144928032294,
          2429.622136259443,
          2445.796092077913,
          2486.509114544943,
          2804.4138479000057,
          2795.8910759563414,
          3162.445219040249,
          3418.9941445537597,
          3529.8984917423413,
          3607.5364793367903,
          3777.9643128528346,
          3999.3177310398914,
          4392.8981675885625,
          4535.344445707028,
          4847.992543846313,
          4957.930048973591,
          5029.460476682404,
          5175.448684840776,
          5392.369459937637,
          5707.984564145166,
          5779.689227772843,
          6189.544752151644,
          6298.665312306345,
          6644.867147193479,
          7107.6061744637245,
          7597.250667760335,
          7466.129112929793,
          7402.739695469903,
          7564.165622490457,
          7881.1971226376745,
          8172.866961672243,
          8384.895697708589,
          8628.325202533822,
          9152.095257708068,
          9321.546022513357,
          9442.292056539176,
          9814.251288075846,
          9928.869539890498,
          9697.670693166143,
          9973.184988209672,
          10216.440437641004,
          10470.279824842919,
          10911.255867444928,
          11004.163848498563,
          10946.261650045488,
          11368.909574480287,
          11769.15758724007,
          11944.044291302791,
          11822.142669324032,
          11974.195191845134,
          12039.458185129293,
          12405.478192667762,
          12484.070430331412
         ]
        },
        {
         "mode": "lines",
         "name": "Pinotti",
         "type": "scatter",
         "x": [
          1951,
          1952,
          1953,
          1954,
          1955,
          1956,
          1957,
          1958,
          1959,
          1960,
          1961,
          1962,
          1963,
          1964,
          1965,
          1966,
          1967,
          1968,
          1969,
          1970,
          1971,
          1972,
          1973,
          1974,
          1975,
          1976,
          1977,
          1978,
          1979,
          1980,
          1981,
          1982,
          1983,
          1984,
          1985,
          1986,
          1987,
          1988,
          1989,
          1990,
          1991,
          1992,
          1993,
          1994,
          1995,
          1996,
          1997,
          1998,
          1999,
          2000,
          2001,
          2002,
          2003,
          2004,
          2005,
          2006,
          2007
         ],
         "y": [
          2029.541525390625,
          2137.643015625,
          2280.043365234375,
          2324.384759765625,
          2423.530521484375,
          2414.3116484375,
          2396.363603515625,
          2539.3596621093748,
          2740.5140644531252,
          2743.345421875,
          3158.432955078125,
          3364.320197265625,
          3402.3371464843754,
          3423.267986328125,
          3598.170685546875,
          3788.89976953125,
          4189.224123046874,
          4452.86501171875,
          4908.23264453125,
          5095.59106640625,
          5390.92690234375,
          5581.583390625,
          5831.20464453125,
          6054.3179375,
          6019.8745390625,
          6413.4213203125,
          6620.90231640625,
          6988.494484375,
          7477.641109375,
          7921.4470078125005,
          7809.6096640625,
          7861.651859375001,
          7984.8482031250005,
          8234.00123828125,
          8466.6904296875,
          8680.31966015625,
          8915.7554296875,
          9299.629023437501,
          9573.058953125,
          9736.320015625,
          10139.197609375,
          10242.21809375,
          9879.132734375,
          10066.452640625,
          10366.29534375,
          10454.03634375,
          10765.1386953125,
          10813.4211171875,
          10849.6793984375,
          11355.1891015625,
          11766.1323125,
          11805.3629765625,
          11679.83640625,
          11606.369679687501,
          11740.7458125,
          12015.49775,
          11998.3490390625
         ]
        },
        {
         "mode": "lines",
         "name": "Treated unit",
         "type": "scatter",
         "x": [
          1951,
          1952,
          1953,
          1954,
          1955,
          1956,
          1957,
          1958,
          1959,
          1960,
          1961,
          1962,
          1963,
          1964,
          1965,
          1966,
          1967,
          1968,
          1969,
          1970,
          1971,
          1972,
          1973,
          1974,
          1975,
          1976,
          1977,
          1978,
          1979,
          1980,
          1981,
          1982,
          1983,
          1984,
          1985,
          1986,
          1987,
          1988,
          1989,
          1990,
          1991,
          1992,
          1993,
          1994,
          1995,
          1996,
          1997,
          1998,
          1999,
          2000,
          2001,
          2002,
          2003,
          2004,
          2005,
          2006,
          2007
         ],
         "y": [
          2034.144775390625,
          1992.7567138671875,
          2405.923583984375,
          2455.6064453125,
          2327.77587890625,
          2392.174560546875,
          2621.853271484375,
          2521.5703125,
          2515.03759765625,
          2683.11279296875,
          2979.33740234375,
          3265.341796875,
          3415.132568359375,
          3467.41259765625,
          3796.149169921875,
          3950.023681640625,
          4439.67822265625,
          4440.22705078125,
          4960.33984375,
          5178.93310546875,
          5432.1015625,
          5531.82421875,
          5784.31787109375,
          5990.29052734375,
          5944.7470703125,
          6168.8173828125,
          6318.408203125,
          6531.55712890625,
          6832.80224609375,
          6943.01611328125,
          6707.8818359375,
          6663.8046875,
          6910.5966796875,
          7071.87158203125,
          7160.8984375,
          7345.021484375,
          7568.423828125,
          7916.5615234375,
          8084.18408203125,
          8102.86865234375,
          8490.349609375,
          8445.625,
          8234.916015625,
          8446.6826171875,
          8523.7236328125,
          8599.2265625,
          8747.8876953125,
          9004.8447265625,
          9432.0234375,
          9617.5234375,
          9862.884765625,
          9932.267578125,
          9804.88671875,
          9784.4501953125,
          9754.3642578125,
          9984.7529296875,
          10140.873046875
         ]
        },
        {
         "mode": "text",
         "name": "Matching",
         "text": [
          "End of Matching<br>Period"
         ],
         "type": "scatter",
         "x": [
          1960
         ],
         "y": [
          12000
         ]
        },
        {
         "mode": "text",
         "name": "Event 1",
         "text": [
          "Drug<br>Smuggling"
         ],
         "type": "scatter",
         "x": [
          1974
         ],
         "y": [
          12000
         ]
        },
        {
         "mode": "text",
         "name": "Event 2",
         "text": [
          "Basilicata<br>Earthquake"
         ],
         "type": "scatter",
         "x": [
          1981
         ],
         "y": [
          12000
         ]
        }
       ],
       "layout": {
        "shapes": [
         {
          "line": {
           "color": "Black",
           "width": 1
          },
          "type": "line",
          "x0": 1960,
          "x1": 1960,
          "y0": 0,
          "y1": 11000
         },
         {
          "line": {
           "color": "Black",
           "width": 1
          },
          "type": "line",
          "x0": 1974,
          "x1": 1974,
          "y0": 0,
          "y1": 11000
         },
         {
          "line": {
           "color": "Black",
           "width": 1
          },
          "type": "line",
          "x0": 1980,
          "x1": 1980,
          "y0": 0,
          "y1": 11000
         }
        ],
        "template": {
         "data": {
          "bar": [
           {
            "error_x": {
             "color": "#2a3f5f"
            },
            "error_y": {
             "color": "#2a3f5f"
            },
            "marker": {
             "line": {
              "color": "#E5ECF6",
              "width": 0.5
             },
             "pattern": {
              "fillmode": "overlay",
              "size": 10,
              "solidity": 0.2
             }
            },
            "type": "bar"
           }
          ],
          "barpolar": [
           {
            "marker": {
             "line": {
              "color": "#E5ECF6",
              "width": 0.5
             },
             "pattern": {
              "fillmode": "overlay",
              "size": 10,
              "solidity": 0.2
             }
            },
            "type": "barpolar"
           }
          ],
          "carpet": [
           {
            "aaxis": {
             "endlinecolor": "#2a3f5f",
             "gridcolor": "white",
             "linecolor": "white",
             "minorgridcolor": "white",
             "startlinecolor": "#2a3f5f"
            },
            "baxis": {
             "endlinecolor": "#2a3f5f",
             "gridcolor": "white",
             "linecolor": "white",
             "minorgridcolor": "white",
             "startlinecolor": "#2a3f5f"
            },
            "type": "carpet"
           }
          ],
          "choropleth": [
           {
            "colorbar": {
             "outlinewidth": 0,
             "ticks": ""
            },
            "type": "choropleth"
           }
          ],
          "contour": [
           {
            "colorbar": {
             "outlinewidth": 0,
             "ticks": ""
            },
            "colorscale": [
             [
              0,
              "#0d0887"
             ],
             [
              0.1111111111111111,
              "#46039f"
             ],
             [
              0.2222222222222222,
              "#7201a8"
             ],
             [
              0.3333333333333333,
              "#9c179e"
             ],
             [
              0.4444444444444444,
              "#bd3786"
             ],
             [
              0.5555555555555556,
              "#d8576b"
             ],
             [
              0.6666666666666666,
              "#ed7953"
             ],
             [
              0.7777777777777778,
              "#fb9f3a"
             ],
             [
              0.8888888888888888,
              "#fdca26"
             ],
             [
              1,
              "#f0f921"
             ]
            ],
            "type": "contour"
           }
          ],
          "contourcarpet": [
           {
            "colorbar": {
             "outlinewidth": 0,
             "ticks": ""
            },
            "type": "contourcarpet"
           }
          ],
          "heatmap": [
           {
            "colorbar": {
             "outlinewidth": 0,
             "ticks": ""
            },
            "colorscale": [
             [
              0,
              "#0d0887"
             ],
             [
              0.1111111111111111,
              "#46039f"
             ],
             [
              0.2222222222222222,
              "#7201a8"
             ],
             [
              0.3333333333333333,
              "#9c179e"
             ],
             [
              0.4444444444444444,
              "#bd3786"
             ],
             [
              0.5555555555555556,
              "#d8576b"
             ],
             [
              0.6666666666666666,
              "#ed7953"
             ],
             [
              0.7777777777777778,
              "#fb9f3a"
             ],
             [
              0.8888888888888888,
              "#fdca26"
             ],
             [
              1,
              "#f0f921"
             ]
            ],
            "type": "heatmap"
           }
          ],
          "heatmapgl": [
           {
            "colorbar": {
             "outlinewidth": 0,
             "ticks": ""
            },
            "colorscale": [
             [
              0,
              "#0d0887"
             ],
             [
              0.1111111111111111,
              "#46039f"
             ],
             [
              0.2222222222222222,
              "#7201a8"
             ],
             [
              0.3333333333333333,
              "#9c179e"
             ],
             [
              0.4444444444444444,
              "#bd3786"
             ],
             [
              0.5555555555555556,
              "#d8576b"
             ],
             [
              0.6666666666666666,
              "#ed7953"
             ],
             [
              0.7777777777777778,
              "#fb9f3a"
             ],
             [
              0.8888888888888888,
              "#fdca26"
             ],
             [
              1,
              "#f0f921"
             ]
            ],
            "type": "heatmapgl"
           }
          ],
          "histogram": [
           {
            "marker": {
             "pattern": {
              "fillmode": "overlay",
              "size": 10,
              "solidity": 0.2
             }
            },
            "type": "histogram"
           }
          ],
          "histogram2d": [
           {
            "colorbar": {
             "outlinewidth": 0,
             "ticks": ""
            },
            "colorscale": [
             [
              0,
              "#0d0887"
             ],
             [
              0.1111111111111111,
              "#46039f"
             ],
             [
              0.2222222222222222,
              "#7201a8"
             ],
             [
              0.3333333333333333,
              "#9c179e"
             ],
             [
              0.4444444444444444,
              "#bd3786"
             ],
             [
              0.5555555555555556,
              "#d8576b"
             ],
             [
              0.6666666666666666,
              "#ed7953"
             ],
             [
              0.7777777777777778,
              "#fb9f3a"
             ],
             [
              0.8888888888888888,
              "#fdca26"
             ],
             [
              1,
              "#f0f921"
             ]
            ],
            "type": "histogram2d"
           }
          ],
          "histogram2dcontour": [
           {
            "colorbar": {
             "outlinewidth": 0,
             "ticks": ""
            },
            "colorscale": [
             [
              0,
              "#0d0887"
             ],
             [
              0.1111111111111111,
              "#46039f"
             ],
             [
              0.2222222222222222,
              "#7201a8"
             ],
             [
              0.3333333333333333,
              "#9c179e"
             ],
             [
              0.4444444444444444,
              "#bd3786"
             ],
             [
              0.5555555555555556,
              "#d8576b"
             ],
             [
              0.6666666666666666,
              "#ed7953"
             ],
             [
              0.7777777777777778,
              "#fb9f3a"
             ],
             [
              0.8888888888888888,
              "#fdca26"
             ],
             [
              1,
              "#f0f921"
             ]
            ],
            "type": "histogram2dcontour"
           }
          ],
          "mesh3d": [
           {
            "colorbar": {
             "outlinewidth": 0,
             "ticks": ""
            },
            "type": "mesh3d"
           }
          ],
          "parcoords": [
           {
            "line": {
             "colorbar": {
              "outlinewidth": 0,
              "ticks": ""
             }
            },
            "type": "parcoords"
           }
          ],
          "pie": [
           {
            "automargin": true,
            "type": "pie"
           }
          ],
          "scatter": [
           {
            "marker": {
             "colorbar": {
              "outlinewidth": 0,
              "ticks": ""
             }
            },
            "type": "scatter"
           }
          ],
          "scatter3d": [
           {
            "line": {
             "colorbar": {
              "outlinewidth": 0,
              "ticks": ""
             }
            },
            "marker": {
             "colorbar": {
              "outlinewidth": 0,
              "ticks": ""
             }
            },
            "type": "scatter3d"
           }
          ],
          "scattercarpet": [
           {
            "marker": {
             "colorbar": {
              "outlinewidth": 0,
              "ticks": ""
             }
            },
            "type": "scattercarpet"
           }
          ],
          "scattergeo": [
           {
            "marker": {
             "colorbar": {
              "outlinewidth": 0,
              "ticks": ""
             }
            },
            "type": "scattergeo"
           }
          ],
          "scattergl": [
           {
            "marker": {
             "colorbar": {
              "outlinewidth": 0,
              "ticks": ""
             }
            },
            "type": "scattergl"
           }
          ],
          "scattermapbox": [
           {
            "marker": {
             "colorbar": {
              "outlinewidth": 0,
              "ticks": ""
             }
            },
            "type": "scattermapbox"
           }
          ],
          "scatterpolar": [
           {
            "marker": {
             "colorbar": {
              "outlinewidth": 0,
              "ticks": ""
             }
            },
            "type": "scatterpolar"
           }
          ],
          "scatterpolargl": [
           {
            "marker": {
             "colorbar": {
              "outlinewidth": 0,
              "ticks": ""
             }
            },
            "type": "scatterpolargl"
           }
          ],
          "scatterternary": [
           {
            "marker": {
             "colorbar": {
              "outlinewidth": 0,
              "ticks": ""
             }
            },
            "type": "scatterternary"
           }
          ],
          "surface": [
           {
            "colorbar": {
             "outlinewidth": 0,
             "ticks": ""
            },
            "colorscale": [
             [
              0,
              "#0d0887"
             ],
             [
              0.1111111111111111,
              "#46039f"
             ],
             [
              0.2222222222222222,
              "#7201a8"
             ],
             [
              0.3333333333333333,
              "#9c179e"
             ],
             [
              0.4444444444444444,
              "#bd3786"
             ],
             [
              0.5555555555555556,
              "#d8576b"
             ],
             [
              0.6666666666666666,
              "#ed7953"
             ],
             [
              0.7777777777777778,
              "#fb9f3a"
             ],
             [
              0.8888888888888888,
              "#fdca26"
             ],
             [
              1,
              "#f0f921"
             ]
            ],
            "type": "surface"
           }
          ],
          "table": [
           {
            "cells": {
             "fill": {
              "color": "#EBF0F8"
             },
             "line": {
              "color": "white"
             }
            },
            "header": {
             "fill": {
              "color": "#C8D4E3"
             },
             "line": {
              "color": "white"
             }
            },
            "type": "table"
           }
          ]
         },
         "layout": {
          "annotationdefaults": {
           "arrowcolor": "#2a3f5f",
           "arrowhead": 0,
           "arrowwidth": 1
          },
          "autotypenumbers": "strict",
          "coloraxis": {
           "colorbar": {
            "outlinewidth": 0,
            "ticks": ""
           }
          },
          "colorscale": {
           "diverging": [
            [
             0,
             "#8e0152"
            ],
            [
             0.1,
             "#c51b7d"
            ],
            [
             0.2,
             "#de77ae"
            ],
            [
             0.3,
             "#f1b6da"
            ],
            [
             0.4,
             "#fde0ef"
            ],
            [
             0.5,
             "#f7f7f7"
            ],
            [
             0.6,
             "#e6f5d0"
            ],
            [
             0.7,
             "#b8e186"
            ],
            [
             0.8,
             "#7fbc41"
            ],
            [
             0.9,
             "#4d9221"
            ],
            [
             1,
             "#276419"
            ]
           ],
           "sequential": [
            [
             0,
             "#0d0887"
            ],
            [
             0.1111111111111111,
             "#46039f"
            ],
            [
             0.2222222222222222,
             "#7201a8"
            ],
            [
             0.3333333333333333,
             "#9c179e"
            ],
            [
             0.4444444444444444,
             "#bd3786"
            ],
            [
             0.5555555555555556,
             "#d8576b"
            ],
            [
             0.6666666666666666,
             "#ed7953"
            ],
            [
             0.7777777777777778,
             "#fb9f3a"
            ],
            [
             0.8888888888888888,
             "#fdca26"
            ],
            [
             1,
             "#f0f921"
            ]
           ],
           "sequentialminus": [
            [
             0,
             "#0d0887"
            ],
            [
             0.1111111111111111,
             "#46039f"
            ],
            [
             0.2222222222222222,
             "#7201a8"
            ],
            [
             0.3333333333333333,
             "#9c179e"
            ],
            [
             0.4444444444444444,
             "#bd3786"
            ],
            [
             0.5555555555555556,
             "#d8576b"
            ],
            [
             0.6666666666666666,
             "#ed7953"
            ],
            [
             0.7777777777777778,
             "#fb9f3a"
            ],
            [
             0.8888888888888888,
             "#fdca26"
            ],
            [
             1,
             "#f0f921"
            ]
           ]
          },
          "colorway": [
           "#636efa",
           "#EF553B",
           "#00cc96",
           "#ab63fa",
           "#FFA15A",
           "#19d3f3",
           "#FF6692",
           "#B6E880",
           "#FF97FF",
           "#FECB52"
          ],
          "font": {
           "color": "#2a3f5f"
          },
          "geo": {
           "bgcolor": "white",
           "lakecolor": "white",
           "landcolor": "#E5ECF6",
           "showlakes": true,
           "showland": true,
           "subunitcolor": "white"
          },
          "hoverlabel": {
           "align": "left"
          },
          "hovermode": "closest",
          "mapbox": {
           "style": "light"
          },
          "paper_bgcolor": "white",
          "plot_bgcolor": "#E5ECF6",
          "polar": {
           "angularaxis": {
            "gridcolor": "white",
            "linecolor": "white",
            "ticks": ""
           },
           "bgcolor": "#E5ECF6",
           "radialaxis": {
            "gridcolor": "white",
            "linecolor": "white",
            "ticks": ""
           }
          },
          "scene": {
           "xaxis": {
            "backgroundcolor": "#E5ECF6",
            "gridcolor": "white",
            "gridwidth": 2,
            "linecolor": "white",
            "showbackground": true,
            "ticks": "",
            "zerolinecolor": "white"
           },
           "yaxis": {
            "backgroundcolor": "#E5ECF6",
            "gridcolor": "white",
            "gridwidth": 2,
            "linecolor": "white",
            "showbackground": true,
            "ticks": "",
            "zerolinecolor": "white"
           },
           "zaxis": {
            "backgroundcolor": "#E5ECF6",
            "gridcolor": "white",
            "gridwidth": 2,
            "linecolor": "white",
            "showbackground": true,
            "ticks": "",
            "zerolinecolor": "white"
           }
          },
          "shapedefaults": {
           "line": {
            "color": "#2a3f5f"
           }
          },
          "ternary": {
           "aaxis": {
            "gridcolor": "white",
            "linecolor": "white",
            "ticks": ""
           },
           "baxis": {
            "gridcolor": "white",
            "linecolor": "white",
            "ticks": ""
           },
           "bgcolor": "#E5ECF6",
           "caxis": {
            "gridcolor": "white",
            "linecolor": "white",
            "ticks": ""
           }
          },
          "title": {
           "x": 0.05
          },
          "xaxis": {
           "automargin": true,
           "gridcolor": "white",
           "linecolor": "white",
           "ticks": "",
           "title": {
            "standoff": 15
           },
           "zerolinecolor": "white",
           "zerolinewidth": 2
          },
          "yaxis": {
           "automargin": true,
           "gridcolor": "white",
           "linecolor": "white",
           "ticks": "",
           "title": {
            "standoff": 15
           },
           "zerolinecolor": "white",
           "zerolinewidth": 2
          }
         }
        },
        "title": {
         "text": "Synthetic Control<br>Optimizer vs. Treated unit"
        },
        "xaxis": {
         "title": {
          "text": "Time"
         }
        },
        "yaxis": {
         "title": {
          "text": "GDP per Capita"
         }
        }
       }
      },
      "text/html": [
       "<div>                            <div id=\"5c50e139-7be1-4950-8433-ded74d8ff5a4\" class=\"plotly-graph-div\" style=\"height:525px; width:100%;\"></div>            <script type=\"text/javascript\">                require([\"plotly\"], function(Plotly) {                    window.PLOTLYENV=window.PLOTLYENV || {};                                    if (document.getElementById(\"5c50e139-7be1-4950-8433-ded74d8ff5a4\")) {                    Plotly.newPlot(                        \"5c50e139-7be1-4950-8433-ded74d8ff5a4\",                        [{\"mode\":\"lines\",\"name\":\"Optimizer\",\"x\":[1951.0,1952.0,1953.0,1954.0,1955.0,1956.0,1957.0,1958.0,1959.0,1960.0,1961.0,1962.0,1963.0,1964.0,1965.0,1966.0,1967.0,1968.0,1969.0,1970.0,1971.0,1972.0,1973.0,1974.0,1975.0,1976.0,1977.0,1978.0,1979.0,1980.0,1981.0,1982.0,1983.0,1984.0,1985.0,1986.0,1987.0,1988.0,1989.0,1990.0,1991.0,1992.0,1993.0,1994.0,1995.0,1996.0,1997.0,1998.0,1999.0,2000.0,2001.0,2002.0,2003.0,2004.0,2005.0,2006.0,2007.0],\"y\":[1973.3742261906043,2149.989978110353,2292.0045501211193,2206.9703581152166,2396.2144928032294,2429.622136259443,2445.796092077913,2486.509114544943,2804.4138479000057,2795.8910759563414,3162.445219040249,3418.9941445537597,3529.8984917423413,3607.5364793367903,3777.9643128528346,3999.3177310398914,4392.8981675885625,4535.344445707028,4847.992543846313,4957.930048973591,5029.460476682404,5175.448684840776,5392.369459937637,5707.984564145166,5779.689227772843,6189.544752151644,6298.665312306345,6644.867147193479,7107.6061744637245,7597.250667760335,7466.129112929793,7402.739695469903,7564.165622490457,7881.1971226376745,8172.866961672243,8384.895697708589,8628.325202533822,9152.095257708068,9321.546022513357,9442.292056539176,9814.251288075846,9928.869539890498,9697.670693166143,9973.184988209672,10216.440437641004,10470.279824842919,10911.255867444928,11004.163848498563,10946.261650045488,11368.909574480287,11769.15758724007,11944.044291302791,11822.142669324032,11974.195191845134,12039.458185129293,12405.478192667762,12484.070430331412],\"type\":\"scatter\"},{\"mode\":\"lines\",\"name\":\"Pinotti\",\"x\":[1951.0,1952.0,1953.0,1954.0,1955.0,1956.0,1957.0,1958.0,1959.0,1960.0,1961.0,1962.0,1963.0,1964.0,1965.0,1966.0,1967.0,1968.0,1969.0,1970.0,1971.0,1972.0,1973.0,1974.0,1975.0,1976.0,1977.0,1978.0,1979.0,1980.0,1981.0,1982.0,1983.0,1984.0,1985.0,1986.0,1987.0,1988.0,1989.0,1990.0,1991.0,1992.0,1993.0,1994.0,1995.0,1996.0,1997.0,1998.0,1999.0,2000.0,2001.0,2002.0,2003.0,2004.0,2005.0,2006.0,2007.0],\"y\":[2029.541525390625,2137.643015625,2280.043365234375,2324.384759765625,2423.530521484375,2414.3116484375,2396.363603515625,2539.3596621093748,2740.5140644531252,2743.345421875,3158.432955078125,3364.320197265625,3402.3371464843754,3423.267986328125,3598.170685546875,3788.89976953125,4189.224123046874,4452.86501171875,4908.23264453125,5095.59106640625,5390.92690234375,5581.583390625,5831.20464453125,6054.3179375,6019.8745390625,6413.4213203125,6620.90231640625,6988.494484375,7477.641109375,7921.4470078125005,7809.6096640625,7861.651859375001,7984.8482031250005,8234.00123828125,8466.6904296875,8680.31966015625,8915.7554296875,9299.629023437501,9573.058953125,9736.320015625,10139.197609375,10242.21809375,9879.132734375,10066.452640625,10366.29534375,10454.03634375,10765.1386953125,10813.4211171875,10849.6793984375,11355.1891015625,11766.1323125,11805.3629765625,11679.83640625,11606.369679687501,11740.7458125,12015.49775,11998.3490390625],\"type\":\"scatter\"},{\"mode\":\"lines\",\"name\":\"Treated unit\",\"x\":[1951.0,1952.0,1953.0,1954.0,1955.0,1956.0,1957.0,1958.0,1959.0,1960.0,1961.0,1962.0,1963.0,1964.0,1965.0,1966.0,1967.0,1968.0,1969.0,1970.0,1971.0,1972.0,1973.0,1974.0,1975.0,1976.0,1977.0,1978.0,1979.0,1980.0,1981.0,1982.0,1983.0,1984.0,1985.0,1986.0,1987.0,1988.0,1989.0,1990.0,1991.0,1992.0,1993.0,1994.0,1995.0,1996.0,1997.0,1998.0,1999.0,2000.0,2001.0,2002.0,2003.0,2004.0,2005.0,2006.0,2007.0],\"y\":[2034.144775390625,1992.7567138671875,2405.923583984375,2455.6064453125,2327.77587890625,2392.174560546875,2621.853271484375,2521.5703125,2515.03759765625,2683.11279296875,2979.33740234375,3265.341796875,3415.132568359375,3467.41259765625,3796.149169921875,3950.023681640625,4439.67822265625,4440.22705078125,4960.33984375,5178.93310546875,5432.1015625,5531.82421875,5784.31787109375,5990.29052734375,5944.7470703125,6168.8173828125,6318.408203125,6531.55712890625,6832.80224609375,6943.01611328125,6707.8818359375,6663.8046875,6910.5966796875,7071.87158203125,7160.8984375,7345.021484375,7568.423828125,7916.5615234375,8084.18408203125,8102.86865234375,8490.349609375,8445.625,8234.916015625,8446.6826171875,8523.7236328125,8599.2265625,8747.8876953125,9004.8447265625,9432.0234375,9617.5234375,9862.884765625,9932.267578125,9804.88671875,9784.4501953125,9754.3642578125,9984.7529296875,10140.873046875],\"type\":\"scatter\"},{\"mode\":\"text\",\"name\":\"Matching\",\"text\":[\"End of Matching<br>Period\"],\"x\":[1960],\"y\":[12000],\"type\":\"scatter\"},{\"mode\":\"text\",\"name\":\"Event 1\",\"text\":[\"Drug<br>Smuggling\"],\"x\":[1974],\"y\":[12000],\"type\":\"scatter\"},{\"mode\":\"text\",\"name\":\"Event 2\",\"text\":[\"Basilicata<br>Earthquake\"],\"x\":[1981],\"y\":[12000],\"type\":\"scatter\"}],                        {\"template\":{\"data\":{\"bar\":[{\"error_x\":{\"color\":\"#2a3f5f\"},\"error_y\":{\"color\":\"#2a3f5f\"},\"marker\":{\"line\":{\"color\":\"#E5ECF6\",\"width\":0.5},\"pattern\":{\"fillmode\":\"overlay\",\"size\":10,\"solidity\":0.2}},\"type\":\"bar\"}],\"barpolar\":[{\"marker\":{\"line\":{\"color\":\"#E5ECF6\",\"width\":0.5},\"pattern\":{\"fillmode\":\"overlay\",\"size\":10,\"solidity\":0.2}},\"type\":\"barpolar\"}],\"carpet\":[{\"aaxis\":{\"endlinecolor\":\"#2a3f5f\",\"gridcolor\":\"white\",\"linecolor\":\"white\",\"minorgridcolor\":\"white\",\"startlinecolor\":\"#2a3f5f\"},\"baxis\":{\"endlinecolor\":\"#2a3f5f\",\"gridcolor\":\"white\",\"linecolor\":\"white\",\"minorgridcolor\":\"white\",\"startlinecolor\":\"#2a3f5f\"},\"type\":\"carpet\"}],\"choropleth\":[{\"colorbar\":{\"outlinewidth\":0,\"ticks\":\"\"},\"type\":\"choropleth\"}],\"contour\":[{\"colorbar\":{\"outlinewidth\":0,\"ticks\":\"\"},\"colorscale\":[[0.0,\"#0d0887\"],[0.1111111111111111,\"#46039f\"],[0.2222222222222222,\"#7201a8\"],[0.3333333333333333,\"#9c179e\"],[0.4444444444444444,\"#bd3786\"],[0.5555555555555556,\"#d8576b\"],[0.6666666666666666,\"#ed7953\"],[0.7777777777777778,\"#fb9f3a\"],[0.8888888888888888,\"#fdca26\"],[1.0,\"#f0f921\"]],\"type\":\"contour\"}],\"contourcarpet\":[{\"colorbar\":{\"outlinewidth\":0,\"ticks\":\"\"},\"type\":\"contourcarpet\"}],\"heatmap\":[{\"colorbar\":{\"outlinewidth\":0,\"ticks\":\"\"},\"colorscale\":[[0.0,\"#0d0887\"],[0.1111111111111111,\"#46039f\"],[0.2222222222222222,\"#7201a8\"],[0.3333333333333333,\"#9c179e\"],[0.4444444444444444,\"#bd3786\"],[0.5555555555555556,\"#d8576b\"],[0.6666666666666666,\"#ed7953\"],[0.7777777777777778,\"#fb9f3a\"],[0.8888888888888888,\"#fdca26\"],[1.0,\"#f0f921\"]],\"type\":\"heatmap\"}],\"heatmapgl\":[{\"colorbar\":{\"outlinewidth\":0,\"ticks\":\"\"},\"colorscale\":[[0.0,\"#0d0887\"],[0.1111111111111111,\"#46039f\"],[0.2222222222222222,\"#7201a8\"],[0.3333333333333333,\"#9c179e\"],[0.4444444444444444,\"#bd3786\"],[0.5555555555555556,\"#d8576b\"],[0.6666666666666666,\"#ed7953\"],[0.7777777777777778,\"#fb9f3a\"],[0.8888888888888888,\"#fdca26\"],[1.0,\"#f0f921\"]],\"type\":\"heatmapgl\"}],\"histogram\":[{\"marker\":{\"pattern\":{\"fillmode\":\"overlay\",\"size\":10,\"solidity\":0.2}},\"type\":\"histogram\"}],\"histogram2d\":[{\"colorbar\":{\"outlinewidth\":0,\"ticks\":\"\"},\"colorscale\":[[0.0,\"#0d0887\"],[0.1111111111111111,\"#46039f\"],[0.2222222222222222,\"#7201a8\"],[0.3333333333333333,\"#9c179e\"],[0.4444444444444444,\"#bd3786\"],[0.5555555555555556,\"#d8576b\"],[0.6666666666666666,\"#ed7953\"],[0.7777777777777778,\"#fb9f3a\"],[0.8888888888888888,\"#fdca26\"],[1.0,\"#f0f921\"]],\"type\":\"histogram2d\"}],\"histogram2dcontour\":[{\"colorbar\":{\"outlinewidth\":0,\"ticks\":\"\"},\"colorscale\":[[0.0,\"#0d0887\"],[0.1111111111111111,\"#46039f\"],[0.2222222222222222,\"#7201a8\"],[0.3333333333333333,\"#9c179e\"],[0.4444444444444444,\"#bd3786\"],[0.5555555555555556,\"#d8576b\"],[0.6666666666666666,\"#ed7953\"],[0.7777777777777778,\"#fb9f3a\"],[0.8888888888888888,\"#fdca26\"],[1.0,\"#f0f921\"]],\"type\":\"histogram2dcontour\"}],\"mesh3d\":[{\"colorbar\":{\"outlinewidth\":0,\"ticks\":\"\"},\"type\":\"mesh3d\"}],\"parcoords\":[{\"line\":{\"colorbar\":{\"outlinewidth\":0,\"ticks\":\"\"}},\"type\":\"parcoords\"}],\"pie\":[{\"automargin\":true,\"type\":\"pie\"}],\"scatter\":[{\"marker\":{\"colorbar\":{\"outlinewidth\":0,\"ticks\":\"\"}},\"type\":\"scatter\"}],\"scatter3d\":[{\"line\":{\"colorbar\":{\"outlinewidth\":0,\"ticks\":\"\"}},\"marker\":{\"colorbar\":{\"outlinewidth\":0,\"ticks\":\"\"}},\"type\":\"scatter3d\"}],\"scattercarpet\":[{\"marker\":{\"colorbar\":{\"outlinewidth\":0,\"ticks\":\"\"}},\"type\":\"scattercarpet\"}],\"scattergeo\":[{\"marker\":{\"colorbar\":{\"outlinewidth\":0,\"ticks\":\"\"}},\"type\":\"scattergeo\"}],\"scattergl\":[{\"marker\":{\"colorbar\":{\"outlinewidth\":0,\"ticks\":\"\"}},\"type\":\"scattergl\"}],\"scattermapbox\":[{\"marker\":{\"colorbar\":{\"outlinewidth\":0,\"ticks\":\"\"}},\"type\":\"scattermapbox\"}],\"scatterpolar\":[{\"marker\":{\"colorbar\":{\"outlinewidth\":0,\"ticks\":\"\"}},\"type\":\"scatterpolar\"}],\"scatterpolargl\":[{\"marker\":{\"colorbar\":{\"outlinewidth\":0,\"ticks\":\"\"}},\"type\":\"scatterpolargl\"}],\"scatterternary\":[{\"marker\":{\"colorbar\":{\"outlinewidth\":0,\"ticks\":\"\"}},\"type\":\"scatterternary\"}],\"surface\":[{\"colorbar\":{\"outlinewidth\":0,\"ticks\":\"\"},\"colorscale\":[[0.0,\"#0d0887\"],[0.1111111111111111,\"#46039f\"],[0.2222222222222222,\"#7201a8\"],[0.3333333333333333,\"#9c179e\"],[0.4444444444444444,\"#bd3786\"],[0.5555555555555556,\"#d8576b\"],[0.6666666666666666,\"#ed7953\"],[0.7777777777777778,\"#fb9f3a\"],[0.8888888888888888,\"#fdca26\"],[1.0,\"#f0f921\"]],\"type\":\"surface\"}],\"table\":[{\"cells\":{\"fill\":{\"color\":\"#EBF0F8\"},\"line\":{\"color\":\"white\"}},\"header\":{\"fill\":{\"color\":\"#C8D4E3\"},\"line\":{\"color\":\"white\"}},\"type\":\"table\"}]},\"layout\":{\"annotationdefaults\":{\"arrowcolor\":\"#2a3f5f\",\"arrowhead\":0,\"arrowwidth\":1},\"autotypenumbers\":\"strict\",\"coloraxis\":{\"colorbar\":{\"outlinewidth\":0,\"ticks\":\"\"}},\"colorscale\":{\"diverging\":[[0,\"#8e0152\"],[0.1,\"#c51b7d\"],[0.2,\"#de77ae\"],[0.3,\"#f1b6da\"],[0.4,\"#fde0ef\"],[0.5,\"#f7f7f7\"],[0.6,\"#e6f5d0\"],[0.7,\"#b8e186\"],[0.8,\"#7fbc41\"],[0.9,\"#4d9221\"],[1,\"#276419\"]],\"sequential\":[[0.0,\"#0d0887\"],[0.1111111111111111,\"#46039f\"],[0.2222222222222222,\"#7201a8\"],[0.3333333333333333,\"#9c179e\"],[0.4444444444444444,\"#bd3786\"],[0.5555555555555556,\"#d8576b\"],[0.6666666666666666,\"#ed7953\"],[0.7777777777777778,\"#fb9f3a\"],[0.8888888888888888,\"#fdca26\"],[1.0,\"#f0f921\"]],\"sequentialminus\":[[0.0,\"#0d0887\"],[0.1111111111111111,\"#46039f\"],[0.2222222222222222,\"#7201a8\"],[0.3333333333333333,\"#9c179e\"],[0.4444444444444444,\"#bd3786\"],[0.5555555555555556,\"#d8576b\"],[0.6666666666666666,\"#ed7953\"],[0.7777777777777778,\"#fb9f3a\"],[0.8888888888888888,\"#fdca26\"],[1.0,\"#f0f921\"]]},\"colorway\":[\"#636efa\",\"#EF553B\",\"#00cc96\",\"#ab63fa\",\"#FFA15A\",\"#19d3f3\",\"#FF6692\",\"#B6E880\",\"#FF97FF\",\"#FECB52\"],\"font\":{\"color\":\"#2a3f5f\"},\"geo\":{\"bgcolor\":\"white\",\"lakecolor\":\"white\",\"landcolor\":\"#E5ECF6\",\"showlakes\":true,\"showland\":true,\"subunitcolor\":\"white\"},\"hoverlabel\":{\"align\":\"left\"},\"hovermode\":\"closest\",\"mapbox\":{\"style\":\"light\"},\"paper_bgcolor\":\"white\",\"plot_bgcolor\":\"#E5ECF6\",\"polar\":{\"angularaxis\":{\"gridcolor\":\"white\",\"linecolor\":\"white\",\"ticks\":\"\"},\"bgcolor\":\"#E5ECF6\",\"radialaxis\":{\"gridcolor\":\"white\",\"linecolor\":\"white\",\"ticks\":\"\"}},\"scene\":{\"xaxis\":{\"backgroundcolor\":\"#E5ECF6\",\"gridcolor\":\"white\",\"gridwidth\":2,\"linecolor\":\"white\",\"showbackground\":true,\"ticks\":\"\",\"zerolinecolor\":\"white\"},\"yaxis\":{\"backgroundcolor\":\"#E5ECF6\",\"gridcolor\":\"white\",\"gridwidth\":2,\"linecolor\":\"white\",\"showbackground\":true,\"ticks\":\"\",\"zerolinecolor\":\"white\"},\"zaxis\":{\"backgroundcolor\":\"#E5ECF6\",\"gridcolor\":\"white\",\"gridwidth\":2,\"linecolor\":\"white\",\"showbackground\":true,\"ticks\":\"\",\"zerolinecolor\":\"white\"}},\"shapedefaults\":{\"line\":{\"color\":\"#2a3f5f\"}},\"ternary\":{\"aaxis\":{\"gridcolor\":\"white\",\"linecolor\":\"white\",\"ticks\":\"\"},\"baxis\":{\"gridcolor\":\"white\",\"linecolor\":\"white\",\"ticks\":\"\"},\"bgcolor\":\"#E5ECF6\",\"caxis\":{\"gridcolor\":\"white\",\"linecolor\":\"white\",\"ticks\":\"\"}},\"title\":{\"x\":0.05},\"xaxis\":{\"automargin\":true,\"gridcolor\":\"white\",\"linecolor\":\"white\",\"ticks\":\"\",\"title\":{\"standoff\":15},\"zerolinecolor\":\"white\",\"zerolinewidth\":2},\"yaxis\":{\"automargin\":true,\"gridcolor\":\"white\",\"linecolor\":\"white\",\"ticks\":\"\",\"title\":{\"standoff\":15},\"zerolinecolor\":\"white\",\"zerolinewidth\":2}}},\"shapes\":[{\"line\":{\"color\":\"Black\",\"width\":1},\"type\":\"line\",\"x0\":1960,\"x1\":1960,\"y0\":0,\"y1\":11000},{\"line\":{\"color\":\"Black\",\"width\":1},\"type\":\"line\",\"x0\":1974,\"x1\":1974,\"y0\":0,\"y1\":11000},{\"line\":{\"color\":\"Black\",\"width\":1},\"type\":\"line\",\"x0\":1980,\"x1\":1980,\"y0\":0,\"y1\":11000}],\"title\":{\"text\":\"Synthetic Control<br>Optimizer vs. Treated unit\"},\"xaxis\":{\"title\":{\"text\":\"Time\"}},\"yaxis\":{\"title\":{\"text\":\"GDP per Capita\"}}},                        {\"responsive\": true}                    ).then(function(){\n",
       "                            \n",
       "var gd = document.getElementById('5c50e139-7be1-4950-8433-ded74d8ff5a4');\n",
       "var x = new MutationObserver(function (mutations, observer) {{\n",
       "        var display = window.getComputedStyle(gd).display;\n",
       "        if (!display || display === 'none') {{\n",
       "            console.log([gd, 'removed!']);\n",
       "            Plotly.purge(gd);\n",
       "            observer.disconnect();\n",
       "        }}\n",
       "}});\n",
       "\n",
       "// Listen for the removal of the full notebook cells\n",
       "var notebookContainer = gd.closest('#notebook-container');\n",
       "if (notebookContainer) {{\n",
       "    x.observe(notebookContainer, {childList: true});\n",
       "}}\n",
       "\n",
       "// Listen for the clearing of the current output cell\n",
       "var outputEl = gd.closest('.output');\n",
       "if (outputEl) {{\n",
       "    x.observe(outputEl, {childList: true});\n",
       "}}\n",
       "\n",
       "                        })                };                });            </script>        </div>"
      ]
     },
     "metadata": {},
     "output_type": "display_data"
    }
   ],
   "source": [
    "w_paper = np.array([0, 0, 0, 0, 0, 0, 0, 0, 0, 0, 0, 0, 0.624, 0.376, 0]).reshape(1, 15)  # weights from Pinotti\n",
    "\n",
    "fig = go.Figure()\n",
    "fig.add_trace(go.Scatter(x=list(data.year.unique()), y=w.value[0] @ y_ctr_all,\n",
    "                    mode='lines', name='Optimizer'))\n",
    "fig.add_trace(go.Scatter(x=list(data.year.unique()), y=(w_paper @ y_ctr_all)[0],\n",
    "                    mode='lines', name='Pinotti'))\n",
    "fig.add_trace(go.Scatter(x=list(data.year.unique()), y=y_tr_all[0],\n",
    "                    mode='lines', name='Treated unit'))\n",
    "\n",
    "fig.add_shape(dict(type=\"line\", x0=1960, y0=0, x1=1960, y1=11000,\n",
    "                   line=dict(color=\"Black\", width=1)))\n",
    "\n",
    "fig.add_shape(dict(type=\"line\", x0=1974, y0=0, x1=1974, y1=11000,\n",
    "                   line=dict(color=\"Black\", width=1)))\n",
    "\n",
    "fig.add_shape(dict(type=\"line\", x0=1980, y0=0, x1=1980, y1=11000,\n",
    "                   line=dict(color=\"Black\", width=1)))\n",
    "\n",
    "fig.add_trace(go.Scatter(x=[1960], y=[12000], mode=\"text\",\n",
    "    name=\"Matching\", text=[\"End of Matching<br>Period\"]))\n",
    "\n",
    "fig.add_trace(go.Scatter(x=[1974], y=[12000], mode=\"text\",\n",
    "    name=\"Event 1\", text=[\"Drug<br>Smuggling\"]))\n",
    "\n",
    "fig.add_trace(go.Scatter(x=[1981], y=[12000], mode=\"text\",\n",
    "    name=\"Event 2\", text=[\"Basilicata<br>Earthquake\"]))\n",
    "\n",
    "fig.update_layout(title='Synthetic Control<br>Optimizer vs. Treated unit',\n",
    "                   xaxis_title='Time', yaxis_title='GDP per Capita')\n",
    "\n",
    "# Dynamic graph\n",
    "fig.show()\n",
    "\n",
    "# Static graph only for display on github\n",
    "#fig.show(renderer=\"png\")     "
   ]
  },
  {
   "cell_type": "markdown",
   "metadata": {},
   "source": [
    "Our obtained weights $$w$$ can not be optimal since there exists weights $$w^{*}$$ such that $$RMSPE(w) > RMSPE(w^{*})$$\n",
    "\n",
    "Clearly, there is room for improvement in the optimizatio algorithm. We proceed by augmenting the objective function with the relative importance of each of the k predictors"
   ]
  },
  {
   "cell_type": "code",
   "execution_count": null,
   "metadata": {},
   "outputs": [],
   "source": []
  },
  {
   "cell_type": "markdown",
   "metadata": {},
   "source": [
    "## References\n",
    "- Pinotti, Paolo. \"The economic consequences of organized crime: Evidence from Southern Italy.\" Bank of Italy (2011).\n",
    "- Becker, Martin, and Stefan Klößner. \"Estimating the economic costs of organized crime by synthetic control methods.\" Journal of Applied Econometrics 32.7 (2017): 1367-1369.\n",
    "- Blackburn, Keith, Kyriakos C. Neanidis, and Maria Paola Rana. \"A theory of organized crime, corruption and economic growth.\" Economic Theory Bulletin 5.2 (2017): 227-245.\n",
    "- Garoupa, Nuno. \"The economics of organized crime and optimal law enforcement.\" Economic Inquiry 38.2 (2000): 278-288."
   ]
  }
 ],
 "metadata": {
  "kernelspec": {
   "display_name": "Python 3",
   "language": "python",
   "name": "python3"
  },
  "language_info": {
   "codemirror_mode": {
    "name": "ipython",
    "version": 3
   },
   "file_extension": ".py",
   "mimetype": "text/x-python",
   "name": "python",
   "nbconvert_exporter": "python",
   "pygments_lexer": "ipython3",
   "version": "3.8.5"
  }
 },
 "nbformat": 4,
 "nbformat_minor": 4
}
