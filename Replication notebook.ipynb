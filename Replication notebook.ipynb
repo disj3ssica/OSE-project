{
 "cells": [
  {
   "cell_type": "markdown",
   "metadata": {},
   "source": [
    "---\n",
    "Replication project for the class of OSE Scientific Computing for Economists | Winter Semester 2021-2022 | Bonn Univeristy\n",
    "[Jessica Cremonese](https://github.com/disj3ssica), [Muhammad-Danial Syed](https://github.com/CasualDan), [Xue Wang](https://github.com/kokomob) <br>"
   ]
  },
  {
   "cell_type": "markdown",
   "metadata": {},
   "source": [
    "---\n",
    "#  Working title: Constrained optimization of the synthetic control method with application to the Economic Costs of Organised Crime (Pinotti, 2015)\n",
    "###### Jessica Cremonese, Muhammad-Danial Syed, Xue Wang"
   ]
  },
  {
   "cell_type": "markdown",
   "metadata": {},
   "source": [
    "This notebook contains our replication project of [The Economic Costs of Organised Crime: Evidence from Southern Italy (Pinotti, 2015)](https://onlinelibrary.wiley.com/doi/abs/10.1111/ecoj.12235).\n",
    "\n",
    "### Viewing the notebook\n",
    "The best way to view this notebook is to download the entire GitHub repository dedicated to the project, and operating it via Jupyter Notebooks. Any ***interactive graphs*** as well as mathematical symbols used throughout the notebook will be rendered properly. <br>\n",
    "The following packages are used throughout the notebook, so make sure to have them installed on your device prior to running.\n",
    "- [NumPy](https://numpy.org/)\n",
    "- [Pandas](https://pandas.pydata.org/)\n",
    "- [GeoPandas](https://geopandas.org/en/stable/)\n",
    "- [statsmodels](https://www.statsmodels.org/stable/index.html)\n",
    "- [Plotly](https://plotly.com/)\n",
    "- [CVXPY](https://www.cvxpy.org/)\n",
    "- [SciPy](https://scipy.org/)\n",
    "- [Matplotlib](https://matplotlib.org/)\n",
    "\n",
    "### Source material\n",
    "The full dataset necessary to start with the replication of Pinotti (2015) is made available by the author himself at the \"Supporting Information\" section at the following [link](https://onlinelibrary.wiley.com/doi/abs/10.1111/ecoj.12235)."
   ]
  },
  {
   "cell_type": "markdown",
   "metadata": {},
   "source": [
    "---\n",
    "# Table of contents\n",
    "**[Update links in the end!! Might have to use \\<toc>]**\n",
    "\n",
    "1. [Introduction](link)<br>\n",
    "2. [The Economic Costs of Organised Crime, Pinotti(2015)](link)<br>\n",
    "    2.1. [Methodology](link)<br>\n",
    "      2.1.1 [Synthetic control method]()<br>\n",
    "      2.1.2. [Variables]()<br>\n",
    "3. [Synthetic control methods](link)<br>\n",
    "    3.1. [Python optimization methods]()<br>\n",
    "    3.2. [The `cvxpy` package]()<br>\n",
    "4. [Preliminary work for replication](link)<br>\n",
    "    4.1. [Figures and graphs](link)--> move to section 2?<br>\n",
    "    4.2. [Data preparation](link)<br>\n",
    "5. [Replication of Pinotti (2015)](link)<br>\n",
    "    5.1. [Optimization methods for synthetic control](link)<br>\n",
    "    5.2. [Performance analysis](link)<br>\n",
    "6. [Conclusions]()\n",
    "7. [References](link)<br>"
   ]
  },
  {
   "cell_type": "code",
   "execution_count": 1,
   "metadata": {
    "ExecuteTime": {
     "end_time": "2021-11-26T07:48:49.767222Z",
     "start_time": "2021-11-26T07:48:46.990434Z"
    },
    "scrolled": true
   },
   "outputs": [],
   "source": [
    "import numpy as np\n",
    "import pandas as pd\n",
    "import geopandas as geo\n",
    "\n",
    "import cvxpy as cvx\n",
    "import numpy.linalg as LA\n",
    "import statsmodels.api as sm\n",
    "import plotly.graph_objs as go\n",
    "import matplotlib.pyplot as plt\n",
    "import scipy.optimize as optimize\n",
    "import statsmodels.formula.api as smf\n",
    "from scipy.optimize import differential_evolution, NonlinearConstraint, Bounds\n",
    "\n",
    "\n",
    "%matplotlib inline"
   ]
  },
  {
   "cell_type": "code",
   "execution_count": 2,
   "metadata": {
    "ExecuteTime": {
     "end_time": "2021-11-26T07:48:49.951361Z",
     "start_time": "2021-11-26T07:48:49.769934Z"
    }
   },
   "outputs": [],
   "source": [
    "dtafile = './dataset/Pinotti-replication/dataset.dta'\n",
    "df = pd.read_stata(dtafile)"
   ]
  },
  {
   "cell_type": "markdown",
   "metadata": {},
   "source": [
    "---\n",
    "# 1. Introduction"
   ]
  },
  {
   "cell_type": "markdown",
   "metadata": {},
   "source": [
    "---\n",
    "# 2. *The Economic Costs of Organised Crime*, Pinotti (2015)"
   ]
  },
  {
   "cell_type": "markdown",
   "metadata": {},
   "source": [
    "Historically, mafia predates the unification of the Italian state. Its heterogeneous presence and activities of choice throughout the regions has originated a number of location-specific situations which allow for the exploitation of this heterogeneity to better understand the effects of organised crime. <br>\n",
    "Regions such as Campania, Sicily and Calabria are the birthplaces of a number of criminal organisations, the biggest ones being, respectively, Camorra, Cosa Nostra and 'Ndrangheta. Other regions in the country have suffered the proximity, becoming infected by the ruling clans and suffering from the replication of their socio-economic dynamics and activities in new territories. Two notable examples of this are Apulia and Basilicata, once among the fastest growing regions of Italy, and nowadays lagging behind the rest of the country with the other historically mafia-plagued regions. \n",
    "\n",
    "Figure 2.1 plots Italian regions according to GDP *per capita* against the presence of mafia organizations, immediately three groups of regions quickly appear. The first one is composed of the three geographic origins of the main mafia-type criminal organisations in Italy, namely Sicily, Campania and Calabria. These three are among the worst performers in terms of GDP *per capita* and the most plagued by mafia. The second group is formed by Apulia and Basilicata, two regions that have low economic perfomance but a lower level of mafia relative to the historically plagued group. The last group is made up of the remaining regions, all of them with relatively low presence of criminal organisations and varying levels of GDP *per capita*. <br>"
   ]
  },
  {
   "cell_type": "markdown",
   "metadata": {},
   "source": [
    "#### Figure 2.1: Mafia-type Criminal Organisations and GDP Per Capita Across Italian Regions, Average Over the Period 1983–2007"
   ]
  },
  {
   "cell_type": "code",
   "execution_count": 3,
   "metadata": {
    "ExecuteTime": {
     "end_time": "2021-11-26T07:48:50.740260Z",
     "start_time": "2021-11-26T07:48:49.959476Z"
    },
    "scrolled": false
   },
   "outputs": [
    {
     "data": {
      "image/png": "[encoded data removed]",
      "text/plain": [
       "<Figure size 432x288 with 1 Axes>"
      ]
     },
     "metadata": {
      "needs_background": "light"
     },
     "output_type": "display_data"
    }
   ],
   "source": [
    "df1 = df[df['year'] >= 1983]\n",
    "df2 = df1.groupby(['region', 'reg'])[['gdppercap', 'mafia', 'murd', 'ext', 'fire', 'kidnap', 'rob', 'smug',\n",
    "            'drug', 'theft', 'orgcrime']].mean()\n",
    "df2 = df2.reset_index()\n",
    "# Figure 2.1\n",
    "color = np.where((df2['reg']==15) | (df2['reg']==18) | (df2['reg']==19), 'firebrick',                # EXCLUDED\n",
    "                 np.where((df2['reg']==16) | (df2['reg']==17), 'blueviolet',                         # TREATED\n",
    "                          np.where((df2['reg']<=12) | (df2['reg']==20), 'mediumslateblue', 'none'))) # THE REST\n",
    "df2.plot.scatter('mafia', 'gdppercap', c=color, s=10, linewidth=3, \n",
    "                 xlabel='Presence of mafia organisations',\n",
    "                 ylabel='GDP per capita')\n",
    "plt.annotate('Sicily', (1.097555, 8217.568359), xytext=(1.13, 8000))\n",
    "plt.annotate('Calabria', (1.810759, 7344.603516), xytext=(1.7, 7600))\n",
    "plt.annotate('Campania',(0.944485, 8275.800781), xytext=(0.8, 8600))\n",
    "plt.annotate('Basilicata',(0.354640, 8241.510742), xytext=(0.4,8200))\n",
    "plt.annotate('Apulia',(0.357075, 8745.296875), xytext=(0.4, 8850))\n",
    "plt.ylim(7000,15000)\n",
    "plt.xlim(0,2)\n",
    "\n",
    "plt.savefig('Figure 2.1 Mafia-type Criminal Organisations and GDP Per Capita Across Italian Regions, Average Over the Period 1983–2007.jpg', dpi=300)"
   ]
  },
  {
   "cell_type": "markdown",
   "metadata": {},
   "source": [
    "The fall from grace of Apulia and Basilicata coincided with the spread of mafia organizations into their territory, thus rendering worthwhile the analysis of a causal link between the two events. \n",
    "  Pinotti (2015) contributes to the literature on the growth stunting effects of organised crime with an analysis of the post-war economic development of the two regions in Italy, Apulia and Basilicata, which were exposed to mafia activity after the 1970s. \n",
    "  The peculiarity of these regions starts from their performance in terms of growth indicators over the years. In fact, Apulia and Basilicata were characterized by levels of criminal activity and economic growth akin to those of other Southern regions unaffected by mafia activity before the spread of criminal organizations. \n",
    "\n",
    "Things took a turn in the 1970s, following two pivotal changes. \n",
    "  First, the closure of the port of Tangier in 1960 caused a shift in the trade routes of tobacco smugglers, which suddenly involved the Adriatic regions. This change would represent a decisive factor for mafia involvement a decade later, when tobacco smuggling became the most profitable criminal business in Italy. Nowadays, tobacco smuggling has lost its podium position to large-scale nacotrafficking along the same routes. <br>\n",
    "  Second, a strong earthquake hit in Basilicata in 1980, affecting the entire region and the neighboring regions of Campania and Apulia. Following the natural disaster, government relief and public investment flooded the regions, and in turn mafia appropriated as much as possible through embezzlement, intimidation and corruption of local authorities. <br>\n",
    "   Besides pivotal events such as the ones detailed above, another measure helped the creation of networks and influence in the previously unaffected regions: *confino*. The initial intent of the provision was to break up links between mafiosi through the physical separation of the clans' upper echelons by confining them to far away regions, however, not only did the measure fail, but in the end it unintentionally aided the transplantation of these organizations into new territories."
   ]
  },
  {
   "cell_type": "markdown",
   "metadata": {},
   "source": [
    "## 2.1 Methodology\n",
    "The two watershed events allow for a subdivision of the Italian regions into treated, control and excluded:\n",
    "\n",
    "\n",
    "| Status    | Regions                                          |\n",
    "| :---      | :---                                             |\n",
    "| Treatment | Apulia, Basilicata                               |\n",
    "| Control   | Abruzzo, Molise, Sardinia & Centre-North regions |\n",
    "| Excluded  | Sicily, Campania, Calabria                       |\n",
    "\n",
    "Excluded regions are Italian regions with a historical presence of mafia organizations, which are neither good for the control group nor as additional treatment units.\n",
    "\n",
    "The units in the control group are weighted to build a synthetic control group which mimics the pre 1970s conditions in the treatment group and is used as a counterfactual scenario. The idea is that the weights should reflect the structural parameters that, in absence of treatment, should not have varied for the treated. Therefore, the synthetic control group should reflect how Apulia and Basilicata would have evolved in the absence of mafia introduction by replicating the initial conditions and the growth potential of the regions of interest. <br>\n",
    "The weighting procedure is also a good tool to reduce potential omitted variable bias. \n",
    "\n",
    "#### 2.1.1. Synthetic control method\n",
    "Let $ y_t $ be an outcome of interest which depends on the presence of organised crime. Each region will have outcome $y^1$ if exposed to organised crime, and $y^0$ otherwise:\n",
    "\n",
    "$$y_t = c_t y^1_t + (1-c_t) y^0_t$$\n",
    "\n",
    "where $c_t$ is a binary indicator for the presence of organised crime in the region. We only observe one of the two potential outcomes in a given year, but the treatment effect is $\\beta_t=y^1_t-y^0_t$.\n",
    "\n",
    "Synthetic control allows to overcome this issue. The estimator will compare the actual outcome in the treatment group to a weighted average of the units in the control group.\n",
    "\n",
    "$$\\hat{\\beta}_t = y_t \\sum_{i\\in t}{w_t y_{it}}$$\n",
    "\n",
    "where $w_t$ are the weights associated to each region in the control group. But how to choose the weights? A natural response is to optimize the weights with the aim of minimizing the distance between the treatment and control group before the two pivotal events happen. The optimal vector of weights $W^*(V)$ minimizes the square distance between the two groups:\n",
    "\n",
    "$$\\left(\n",
    "x-\\sum_{i\\in I}{w_i x_i^0}\n",
    "\\right) '\n",
    "V\n",
    "\\left(\n",
    "x-\\sum_{i\\in I}{w_i x_i^0}\n",
    "\\right)$$\n",
    "\n",
    "where $x$ and $x^0_i$ is the $(K\\times 1)$ vector of predictors and $V$ is the $(K\\times K)$ diagonal matrix with non-negative entries measuring the relative importance of each predictor. <br>\n",
    "Therefore, we choose $V$, the matrix of weights, with the aim of minimizing\n",
    "\n",
    "$$\\frac{1}{T^0} \\sum_{i\\in T^0} \\left( y_t-\\sum{w^*_i y_{it}} \\right) ^2 \\space \\text{for} \\space T^0\\le T$$\n",
    "\n",
    "The mean square error is minimized in the period 1951-1960.\n",
    "\n",
    "#### 2.1.2. Variables\n",
    "The dependent variable of interest is real GDP *per capita* at 1990 euro-equivalent prices, as a measure of economic growth. The independent variables are the main predictors of economic growth in the literature, such as initial level of GDP *per capita*, the investment rate, a human capital indicator, population density, value added share per sector.\n",
    "\n",
    "In general, looking for a variable that accurately measures mafia pervasiveness is arduous. Mafia organisations carry out a number of illicit activities such as gambling, loan-sharking, narcotrafficking, extortion, private protection services, money laundering and much more. They exercise pervasive control over the territories where they are situated, creating strong networking connections and exploiting violence to maintain a hold on their surroundings and their complex activities. <br> \n",
    "In Italy, the presence of criminal organizations can be measured with the number of cases ex Art. 416-bis of the Penal Code (\"associazione a delinquere di stampo mafioso\") every 100,000 inhabitants, an article introduced in the 1980s specifically aimed at capturing the specific characteristics of mafia type criminal organizations. However, using this as a measurement can be particularly problematic because of the pervasiveness of under-reporting in the case of mafia related crimes plagued by a culture of silence, referred to as *omertà*, upheld by its members and imposed upon the social environments they inhabit. \n",
    "\n",
    "Figure 2.2 reports the murder rate per 100,000 inhabitants over the years 1956-2007. Using the number of homicides every 100,000 inhabitants provides a much better measure for the presence of mafia since these organisations often employ violent techniques to carry out their activity and murders are less subject to under reporting. <br>\n",
    "The historically mafia plagued regions of Sicily, Calabria and Campania constitute the excluded group. The second group is composed of Apulia and Basilicata, the two regions exposed from the 1970s to mafia organisations. Finally there are two residual groups, one for the rest of the Southern regions (Abruzzo, Molise and Sardinia) and one for the Centre-North regions (Piedmont, Aosta Valley, Lombardy, Trentino Alto Adige, Veneto, Friuli Venezia Giulia, Liguria, Emilia Romagna, Tuscany, Umbria, Marche, Lazio). <br>\n",
    "From 1975 onwards the regions of Apulia and Basilicata go from having a murder rate in line with the rest of the well performing regions -at times even lower- to experiencing spikes in murders that mirror the same trend of the historically mafia-plagued regions. These trends motivate the choice of focusing on the murder rate as an indicator of mafia presence that is more reliable than Art. 416-bis statistics."
   ]
  },
  {
   "cell_type": "markdown",
   "metadata": {},
   "source": [
    "#### Figure 2.2: Murder Rate Over Time Across Different Areas in Italy, Years 1956–2007"
   ]
  },
  {
   "cell_type": "code",
   "execution_count": 4,
   "metadata": {
    "ExecuteTime": {
     "end_time": "2021-11-26T07:48:51.472284Z",
     "start_time": "2021-11-26T07:48:50.745191Z"
    },
    "scrolled": true
   },
   "outputs": [
    {
     "data": {
      "image/png": "[encoded data removed]",
      "text/plain": [
       "<Figure size 432x288 with 1 Axes>"
      ]
     },
     "metadata": {
      "needs_background": "light"
     },
     "output_type": "display_data"
    }
   ],
   "source": [
    "# filter to keep only the grouped data in the dataframe: NEW, HIS, STH, NTH\n",
    "grouped = (df['reg'] > 20) & (df['reg'] <25)\n",
    "# apply the filter to the dataframe and store it as df3\n",
    "df3 = df.loc[grouped, ['murd', 'year', 'region']]\n",
    "# only keep relevant years\n",
    "df3 = df3[df3['year'] >= 1956]\n",
    "df3 = df3[['murd', 'year', 'region']]\n",
    "df3 = df3.pivot(index='year', \n",
    "                columns='region', \n",
    "                values='murd')\n",
    "# rename df3 columns (can't change legend in graph below)\n",
    "df3 = df3.rename(columns={'HIS':'Sicily, Campania, Calabria', \n",
    "                         'NEW':'Abruzzo, Basilicata', \n",
    "                        'NTH':'Centre-North', \n",
    "                        'STH':'Rest of South'})\n",
    "# Figure 2.2\n",
    "df3.plot(colormap='seismic', rot='vertical',\n",
    "         xticks=[1956,1960,1965,1970,1975,1980,1985,1990,1995,2000,2005,2010],\n",
    "        yticks=[0,0.5,1,1.5,2,2.5,3,3.5,4,4.5,5,5.5,6,6.5,7,7.5,8,8.5,9],\n",
    "        xlabel='Year', ylabel='Murder rate').legend(bbox_to_anchor=(1.0, 1.0))\n",
    "plt.savefig('Figure 2.2 Murder Rate Over Time Across Different Areas in Italy, Years 1955–2007.jpg', dpi=300)"
   ]
  },
  {
   "cell_type": "markdown",
   "metadata": {},
   "source": [
    "## ***INSERT GEOPANDAS MAP ON ART 416-BIS AND MURDER RATE AVG?***"
   ]
  },
  {
   "cell_type": "markdown",
   "metadata": {},
   "source": [
    "---\n",
    "# 3. Synthetic control methods"
   ]
  },
  {
   "cell_type": "markdown",
   "metadata": {},
   "source": [
    "- describe the methods we will use from econometric POV\n",
    "- refer to Abadie paper\n",
    "- insert methodological description\n",
    "- paragraph on how to do it with python"
   ]
  },
  {
   "cell_type": "markdown",
   "metadata": {},
   "source": [
    "Synthetic Controls are, “arguably the most important innovation in the policy evaluation literature in the last 15 years” - Athey and Imbens, 2017.\n",
    "\n",
    "\n",
    "### What are they? (was in section 1)\n",
    "- Used to evaluate the effect of an intervention in comparative case studies.\n",
    "- Based on the idea that a combination of unaffected units often provides a better comparison than any single unaffected unit alone.\n",
    "- This combination is captured through weights calculated by optimization algorithms. \n",
    "- Similar to Diff-in-Diff method; in fact, according to Abadie et al. (2010) the synthetic control methods generalizes the Diff-in-Diff model by allowing the effect of unobserved confounders to vary over time.\n",
    "- This advantage arises from a flexible factor representation of the potential outcomes of treated units.\n",
    "- Wide usage: Academia, multilateral organizations, think tanks, business analytics units, governmental agencies, and consulting firms."
   ]
  },
  {
   "cell_type": "markdown",
   "metadata": {},
   "source": [
    "---\n",
    "# 4. Preliminary work for replication"
   ]
  },
  {
   "cell_type": "code",
   "execution_count": null,
   "metadata": {},
   "outputs": [],
   "source": []
  },
  {
   "cell_type": "markdown",
   "metadata": {},
   "source": [
    "## 4.1 Figures and Graphs"
   ]
  },
  {
   "cell_type": "markdown",
   "metadata": {},
   "source": []
  },
  {
   "cell_type": "code",
   "execution_count": 5,
   "metadata": {
    "ExecuteTime": {
     "end_time": "2021-11-26T07:48:51.491145Z",
     "start_time": "2021-11-26T07:48:51.476099Z"
    },
    "scrolled": true
   },
   "outputs": [],
   "source": [
    "df1 = df[df['year'] >= 1983]\n",
    "\n",
    "df2 = df1.groupby(['region', 'reg'])[['gdppercap', 'mafia', 'murd', 'ext', 'fire', 'kidnap', 'rob', 'smug',\n",
    "            'drug', 'theft', 'orgcrime']].mean()\n",
    "\n",
    "df2 = df2.reset_index()"
   ]
  },
  {
   "cell_type": "code",
   "execution_count": 6,
   "metadata": {
    "ExecuteTime": {
     "end_time": "2021-11-26T07:48:51.725215Z",
     "start_time": "2021-11-26T07:48:51.494320Z"
    },
    "scrolled": false
   },
   "outputs": [
    {
     "data": {
      "image/png": "[encoded data removed]",
      "text/plain": [
       "<Figure size 432x288 with 1 Axes>"
      ]
     },
     "metadata": {
      "needs_background": "light"
     },
     "output_type": "display_data"
    }
   ],
   "source": [
    "# Figure 3\n",
    "df2.plot.scatter('mafia', 'murd', c=color, s=10, linewidth=3)\n",
    "plt.rcParams[\"figure.figsize\"] = (8,5)\n",
    "plt.show()"
   ]
  },
  {
   "cell_type": "markdown",
   "metadata": {},
   "source": [
    "## 4.2 Data Preparation"
   ]
  },
  {
   "cell_type": "code",
   "execution_count": 7,
   "metadata": {
    "ExecuteTime": {
     "end_time": "2021-11-26T07:48:51.901855Z",
     "start_time": "2021-11-26T07:48:51.731431Z"
    },
    "scrolled": true
   },
   "outputs": [],
   "source": [
    "dtafile = 'dataset/Pinotti-replication/dataset.dta'\n",
    "data = pd.read_stata(dtafile)\n",
    "\n",
    "# Specify conditions for treated unit and control units as per Pinotti's paper (c.f. F216), \n",
    "\n",
    "treat_unit = data[data.reg == 21]\n",
    "treat_unit = treat_unit[treat_unit.year <= 1960]                 # Matching period: 1951 to 1960\n",
    "treat_unit_all = data[data.reg == 21]                            # Entire period:   1951 to 2007\n",
    "\n",
    "control_units = data[(data.reg <= 14) | (data.reg ==20)]\n",
    "control_units     = control_units[control_units.year <= 1960]\n",
    "control_units_all = data[(data.reg <= 14) | (data.reg ==20)]\n",
    "\n",
    "# Extract the outcome variable for treatment and control unit, y: GDP per capita\n",
    "\n",
    "y_treat     = np.array(treat_unit.gdppercap).reshape(1, 10)              # Matching period \n",
    "y_treat_all = np.array(treat_unit_all.gdppercap).reshape(1, 57)          # Entire period\n",
    "\n",
    "y_control     = np.array(control_units.gdppercap).reshape(15, 10)\n",
    "y_control_all = np.array(control_units_all.gdppercap).reshape(15, 57)\n",
    "\n",
    "Z1 = y_treat.T\n",
    "Z0 = y_control.T"
   ]
  },
  {
   "cell_type": "markdown",
   "metadata": {},
   "source": [
    "#### Data Organization into Appropriate Format "
   ]
  },
  {
   "cell_type": "code",
   "execution_count": 8,
   "metadata": {
    "ExecuteTime": {
     "end_time": "2021-11-26T07:48:51.924225Z",
     "start_time": "2021-11-26T07:48:51.904247Z"
    },
    "scrolled": true
   },
   "outputs": [],
   "source": [
    "## Prepare matrices with only the relevant variables into CVXPY format, predictors k = 8\n",
    "predictor_variables = ['gdppercap', 'invrate', 'shvain', 'shvaag', 'shvams', 'shvanms', 'shskill', 'density']\n",
    "X = data.loc[data['year'].isin(list(range(1951, 1961)))]\n",
    "X.index = X.loc[:,'reg']\n",
    "\n",
    "# k x 1 vector: mean values of k predictors for 1 treated unit\n",
    "X0 = X.loc[(X.index <= 14) | (X.index ==20),(predictor_variables)] \n",
    "X0 = X0.groupby(X0.index).mean().values.T\n",
    "\n",
    "# k x J matrix: mean values of k predictors for J untreated units\n",
    "X1 = X.loc[(X.index == 21),(predictor_variables)]\n",
    "X1 = X1.groupby(X1.index).mean().values.T"
   ]
  },
  {
   "cell_type": "markdown",
   "metadata": {},
   "source": [
    "---\n",
    "# 5. Replication of Pinotti (2015)"
   ]
  },
  {
   "cell_type": "markdown",
   "metadata": {},
   "source": [
    "## 5.1 Optimization Objective for the Syntetic Control Method\n",
    "\n",
    "##### A Simplfied Problem\n",
    "\n",
    "$$\n",
    "\\hat{\\boldsymbol{W}}=\\operatorname{argmin}_{\\boldsymbol{W}}\\left[\\sum_{m=1}^{k}\\left(x_{m1}-\\sum_{j=2}^{J+1}\\boldsymbol{w}_{j} \\boldsymbol{x}_{mj}\\right)^{2}\\right]\n",
    "$$\n",
    "\n",
    "subject to\n",
    "                                                      \n",
    "$$ \\sum_{j=2}^{J+1}\\boldsymbol{w}_{j}=1$$   \n",
    "\n",
    "where $w$ are the 15 weights, one for each of the control regions that together form the 'donor pool'.\n",
    "\n",
    "Here we make a simplifying assumption that the predictor matrix $V$ is just a diagonal matrix of 1's. That is, each predictor is given equal importance in the calculation of the weights. Which combination of weights best resembles the pre-intervention predictors values for the treated unit?\n"
   ]
  },
  {
   "cell_type": "code",
   "execution_count": 23,
   "metadata": {
    "ExecuteTime": {
     "end_time": "2021-11-26T08:59:10.199322Z",
     "start_time": "2021-11-26T08:59:10.181113Z"
    },
    "scrolled": false
   },
   "outputs": [],
   "source": [
    "# Setup the function to call CVXPY and output a vector of weights function\n",
    "\n",
    "def w_optimize(v=None):\n",
    "    \n",
    "    V = np.zeros(shape=(8, 8))\n",
    "    \n",
    "    if v is None:\n",
    "        np.fill_diagonal(V, np.ones(8))\n",
    "    \n",
    "    else:\n",
    "        np.fill_diagonal(V, v)\n",
    "\n",
    "    W = cvx.Variable((15, 1), nonneg=True)\n",
    "    objective_function    = cvx.Minimize(cvx.sum(V @ cvx.square(X1 - X0 @ W)))\n",
    "    objective_constraints = [cvx.sum(W) == 1]\n",
    "    objective_solution    = cvx.Problem(objective_function, objective_constraints).solve(verbose=False)\n",
    "    \n",
    "    return (W.value,objective_solution)"
   ]
  },
  {
   "cell_type": "code",
   "execution_count": 24,
   "metadata": {
    "ExecuteTime": {
     "end_time": "2021-11-26T08:59:12.663243Z",
     "start_time": "2021-11-26T08:59:12.599156Z"
    },
    "scrolled": false
   },
   "outputs": [
    {
     "name": "stdout",
     "output_type": "stream",
     "text": [
      "\n",
      "Objective Value:  833.2880036755997 \n",
      "\n",
      "Optimal Weights:  [[0.         0.         0.         0.         0.15165999 0.\n",
      "  0.         0.         0.         0.         0.         0.\n",
      "  0.         0.84834001 0.        ]]\n"
     ]
    },
    {
     "data": {
      "text/html": [
       "<div>\n",
       "<style scoped>\n",
       "    .dataframe tbody tr th:only-of-type {\n",
       "        vertical-align: middle;\n",
       "    }\n",
       "\n",
       "    .dataframe tbody tr th {\n",
       "        vertical-align: top;\n",
       "    }\n",
       "\n",
       "    .dataframe thead th {\n",
       "        text-align: right;\n",
       "    }\n",
       "</style>\n",
       "<table border=\"1\" class=\"dataframe\">\n",
       "  <thead>\n",
       "    <tr style=\"text-align: right;\">\n",
       "      <th></th>\n",
       "      <th>Region</th>\n",
       "      <th>Weights</th>\n",
       "    </tr>\n",
       "  </thead>\n",
       "  <tbody>\n",
       "    <tr>\n",
       "      <th>0</th>\n",
       "      <td>PIE</td>\n",
       "      <td>0.000</td>\n",
       "    </tr>\n",
       "    <tr>\n",
       "      <th>1</th>\n",
       "      <td>VDA</td>\n",
       "      <td>0.000</td>\n",
       "    </tr>\n",
       "    <tr>\n",
       "      <th>2</th>\n",
       "      <td>LOM</td>\n",
       "      <td>0.000</td>\n",
       "    </tr>\n",
       "    <tr>\n",
       "      <th>3</th>\n",
       "      <td>TAA</td>\n",
       "      <td>0.000</td>\n",
       "    </tr>\n",
       "    <tr>\n",
       "      <th>4</th>\n",
       "      <td>VEN</td>\n",
       "      <td>0.152</td>\n",
       "    </tr>\n",
       "    <tr>\n",
       "      <th>5</th>\n",
       "      <td>FVG</td>\n",
       "      <td>0.000</td>\n",
       "    </tr>\n",
       "    <tr>\n",
       "      <th>6</th>\n",
       "      <td>LIG</td>\n",
       "      <td>0.000</td>\n",
       "    </tr>\n",
       "    <tr>\n",
       "      <th>7</th>\n",
       "      <td>EMR</td>\n",
       "      <td>0.000</td>\n",
       "    </tr>\n",
       "    <tr>\n",
       "      <th>8</th>\n",
       "      <td>TOS</td>\n",
       "      <td>0.000</td>\n",
       "    </tr>\n",
       "    <tr>\n",
       "      <th>9</th>\n",
       "      <td>UMB</td>\n",
       "      <td>0.000</td>\n",
       "    </tr>\n",
       "    <tr>\n",
       "      <th>10</th>\n",
       "      <td>MAR</td>\n",
       "      <td>0.000</td>\n",
       "    </tr>\n",
       "    <tr>\n",
       "      <th>11</th>\n",
       "      <td>LAZ</td>\n",
       "      <td>0.000</td>\n",
       "    </tr>\n",
       "    <tr>\n",
       "      <th>12</th>\n",
       "      <td>ABR</td>\n",
       "      <td>0.000</td>\n",
       "    </tr>\n",
       "    <tr>\n",
       "      <th>13</th>\n",
       "      <td>MOL</td>\n",
       "      <td>0.848</td>\n",
       "    </tr>\n",
       "    <tr>\n",
       "      <th>14</th>\n",
       "      <td>SAR</td>\n",
       "      <td>0.000</td>\n",
       "    </tr>\n",
       "  </tbody>\n",
       "</table>\n",
       "</div>"
      ],
      "text/plain": [
       "   Region  Weights\n",
       "0     PIE    0.000\n",
       "1     VDA    0.000\n",
       "2     LOM    0.000\n",
       "3     TAA    0.000\n",
       "4     VEN    0.152\n",
       "5     FVG    0.000\n",
       "6     LIG    0.000\n",
       "7     EMR    0.000\n",
       "8     TOS    0.000\n",
       "9     UMB    0.000\n",
       "10    MAR    0.000\n",
       "11    LAZ    0.000\n",
       "12    ABR    0.000\n",
       "13    MOL    0.848\n",
       "14    SAR    0.000"
      ]
     },
     "metadata": {},
     "output_type": "display_data"
    }
   ],
   "source": [
    "# CVXPY Solution\n",
    "w_basic, objective_solution = w_optimize()\n",
    "print('\\nObjective Value: ',objective_solution,'\\n\\nOptimal Weights: ',w_basic.T)\n",
    "solution_frame_1 = pd.DataFrame({'Region':control_units.region.unique(), \n",
    "                           'Weights': np.round(w_basic.T[0], decimals=3)})\n",
    "\n",
    "display(solution_frame_1)"
   ]
  },
  {
   "cell_type": "markdown",
   "metadata": {},
   "source": [
    "#### Commentary:\n",
    "- The CVXPY minimization problem allocates weights to VEN (Veneto: 0.152) and MOL (Molise: 0.848). \n",
    "- In comparison the weights in the paper are to ABR (Abruzzo: 0.624) and MOL (0.376).\n",
    "- Becker and Klößner found the weights to ABR (43.035), MOL 48.934, and Sardinia (SDR: 8.03045). (This is the 'correct' solution vector due to its RMSPE minimizing property.)\n",
    "\n",
    "But what do these weights mean in terms of the actual performance of our synthetic controls?"
   ]
  },
  {
   "cell_type": "markdown",
   "metadata": {},
   "source": [
    "## 5.2 Synthetic Control Performance Analysis"
   ]
  },
  {
   "cell_type": "markdown",
   "metadata": {},
   "source": [
    "#### Graphical Comparison"
   ]
  },
  {
   "cell_type": "code",
   "execution_count": 26,
   "metadata": {
    "ExecuteTime": {
     "end_time": "2021-11-26T08:59:52.222829Z",
     "start_time": "2021-11-26T08:59:50.270405Z"
    }
   },
   "outputs": [
    {
     "data": {
      "application/vnd.plotly.v1+json": {
       "config": {
        "plotlyServerURL": "https://plot.ly"
       },
       "data": [
        {
         "mode": "lines",
         "name": "Optimizer",
         "type": "scatter",
         "x": [
          1951,
          1952,
          1953,
          1954,
          1955,
          1956,
          1957,
          1958,
          1959,
          1960,
          1961,
          1962,
          1963,
          1964,
          1965,
          1966,
          1967,
          1968,
          1969,
          1970,
          1971,
          1972,
          1973,
          1974,
          1975,
          1976,
          1977,
          1978,
          1979,
          1980,
          1981,
          1982,
          1983,
          1984,
          1985,
          1986,
          1987,
          1988,
          1989,
          1990,
          1991,
          1992,
          1993,
          1994,
          1995,
          1996,
          1997,
          1998,
          1999,
          2000,
          2001,
          2002,
          2003,
          2004,
          2005,
          2006,
          2007
         ],
         "y": [
          1973.3742261906043,
          2149.989978110353,
          2292.0045501211193,
          2206.9703581152166,
          2396.2144928032294,
          2429.622136259443,
          2445.796092077913,
          2486.509114544943,
          2804.4138479000057,
          2795.8910759563414,
          3162.445219040249,
          3418.9941445537597,
          3529.8984917423413,
          3607.5364793367903,
          3777.9643128528346,
          3999.3177310398914,
          4392.8981675885625,
          4535.344445707028,
          4847.992543846313,
          4957.930048973591,
          5029.460476682404,
          5175.448684840776,
          5392.369459937637,
          5707.984564145166,
          5779.689227772843,
          6189.544752151644,
          6298.665312306345,
          6644.867147193479,
          7107.6061744637245,
          7597.250667760335,
          7466.129112929793,
          7402.739695469903,
          7564.165622490457,
          7881.1971226376745,
          8172.866961672243,
          8384.895697708589,
          8628.325202533822,
          9152.095257708068,
          9321.546022513357,
          9442.292056539176,
          9814.251288075846,
          9928.869539890498,
          9697.670693166143,
          9973.184988209672,
          10216.440437641004,
          10470.279824842919,
          10911.255867444928,
          11004.163848498563,
          10946.261650045488,
          11368.909574480287,
          11769.15758724007,
          11944.044291302791,
          11822.142669324032,
          11974.195191845134,
          12039.458185129293,
          12405.478192667762,
          12484.070430331412
         ]
        },
        {
         "mode": "lines",
         "name": "Pinotti",
         "type": "scatter",
         "x": [
          1951,
          1952,
          1953,
          1954,
          1955,
          1956,
          1957,
          1958,
          1959,
          1960,
          1961,
          1962,
          1963,
          1964,
          1965,
          1966,
          1967,
          1968,
          1969,
          1970,
          1971,
          1972,
          1973,
          1974,
          1975,
          1976,
          1977,
          1978,
          1979,
          1980,
          1981,
          1982,
          1983,
          1984,
          1985,
          1986,
          1987,
          1988,
          1989,
          1990,
          1991,
          1992,
          1993,
          1994,
          1995,
          1996,
          1997,
          1998,
          1999,
          2000,
          2001,
          2002,
          2003,
          2004,
          2005,
          2006,
          2007
         ],
         "y": [
          2029.541525390625,
          2137.643015625,
          2280.043365234375,
          2324.384759765625,
          2423.530521484375,
          2414.3116484375,
          2396.363603515625,
          2539.3596621093748,
          2740.5140644531252,
          2743.345421875,
          3158.432955078125,
          3364.320197265625,
          3402.3371464843754,
          3423.267986328125,
          3598.170685546875,
          3788.89976953125,
          4189.224123046874,
          4452.86501171875,
          4908.23264453125,
          5095.59106640625,
          5390.92690234375,
          5581.583390625,
          5831.20464453125,
          6054.3179375,
          6019.8745390625,
          6413.4213203125,
          6620.90231640625,
          6988.494484375,
          7477.641109375,
          7921.4470078125005,
          7809.6096640625,
          7861.651859375001,
          7984.8482031250005,
          8234.00123828125,
          8466.6904296875,
          8680.31966015625,
          8915.7554296875,
          9299.629023437501,
          9573.058953125,
          9736.320015625,
          10139.197609375,
          10242.21809375,
          9879.132734375,
          10066.452640625,
          10366.29534375,
          10454.03634375,
          10765.1386953125,
          10813.4211171875,
          10849.6793984375,
          11355.1891015625,
          11766.1323125,
          11805.3629765625,
          11679.83640625,
          11606.369679687501,
          11740.7458125,
          12015.49775,
          11998.3490390625
         ]
        },
        {
         "mode": "lines",
         "name": "Becker",
         "type": "scatter",
         "x": [
          1951,
          1952,
          1953,
          1954,
          1955,
          1956,
          1957,
          1958,
          1959,
          1960,
          1961,
          1962,
          1963,
          1964,
          1965,
          1966,
          1967,
          1968,
          1969,
          1970,
          1971,
          1972,
          1973,
          1974,
          1975,
          1976,
          1977,
          1978,
          1979,
          1980,
          1981,
          1982,
          1983,
          1984,
          1985,
          1986,
          1987,
          1988,
          1989,
          1990,
          1991,
          1992,
          1993,
          1994,
          1995,
          1996,
          1997,
          1998,
          1999,
          2000,
          2001,
          2002,
          2003,
          2004,
          2005,
          2006,
          2007
         ],
         "y": [
          2039.350346956909,
          2170.1215348078613,
          2299.4632875140383,
          2319.8646570385745,
          2418.7410676273194,
          2430.2312920323484,
          2417.1734639509277,
          2522.3529671721194,
          2743.1446840679932,
          2720.232180260742,
          3118.4388849379884,
          3331.7501555897215,
          3402.1606495760498,
          3437.838459565796,
          3612.312344486816,
          3812.817928260742,
          4205.7385231428225,
          4444.509198884765,
          4871.461717874511,
          5046.49851510376,
          5287.61607005835,
          5439.841587618653,
          5664.063494626953,
          5901.458275746338,
          5900.825644479004,
          6278.037381882569,
          6467.4142369233405,
          6811.650748888672,
          7256.607109718994,
          7682.227526972901,
          7550.461470636475,
          7572.440402891113,
          7713.149613119141,
          7976.7658741086425,
          8202.135705189941,
          8416.712974889404,
          8630.69566546167,
          9033.590267617676,
          9263.232201023437,
          9417.487557635743,
          9822.715824359864,
          9918.838085854004,
          9598.164665370117,
          9783.050503261231,
          10026.517504126465,
          10136.883781770997,
          10480.074565558594,
          10547.457615270996,
          10561.689962662109,
          11015.533997149902,
          11437.042493237306,
          11530.113525873046,
          11421.152000143555,
          11416.679890047364,
          11524.572884507812,
          11812.204472963867,
          11820.272525435546
         ]
        },
        {
         "mode": "lines",
         "name": "Treated unit",
         "type": "scatter",
         "x": [
          1951,
          1952,
          1953,
          1954,
          1955,
          1956,
          1957,
          1958,
          1959,
          1960,
          1961,
          1962,
          1963,
          1964,
          1965,
          1966,
          1967,
          1968,
          1969,
          1970,
          1971,
          1972,
          1973,
          1974,
          1975,
          1976,
          1977,
          1978,
          1979,
          1980,
          1981,
          1982,
          1983,
          1984,
          1985,
          1986,
          1987,
          1988,
          1989,
          1990,
          1991,
          1992,
          1993,
          1994,
          1995,
          1996,
          1997,
          1998,
          1999,
          2000,
          2001,
          2002,
          2003,
          2004,
          2005,
          2006,
          2007
         ],
         "y": [
          2034.144775390625,
          1992.7567138671875,
          2405.923583984375,
          2455.6064453125,
          2327.77587890625,
          2392.174560546875,
          2621.853271484375,
          2521.5703125,
          2515.03759765625,
          2683.11279296875,
          2979.33740234375,
          3265.341796875,
          3415.132568359375,
          3467.41259765625,
          3796.149169921875,
          3950.023681640625,
          4439.67822265625,
          4440.22705078125,
          4960.33984375,
          5178.93310546875,
          5432.1015625,
          5531.82421875,
          5784.31787109375,
          5990.29052734375,
          5944.7470703125,
          6168.8173828125,
          6318.408203125,
          6531.55712890625,
          6832.80224609375,
          6943.01611328125,
          6707.8818359375,
          6663.8046875,
          6910.5966796875,
          7071.87158203125,
          7160.8984375,
          7345.021484375,
          7568.423828125,
          7916.5615234375,
          8084.18408203125,
          8102.86865234375,
          8490.349609375,
          8445.625,
          8234.916015625,
          8446.6826171875,
          8523.7236328125,
          8599.2265625,
          8747.8876953125,
          9004.8447265625,
          9432.0234375,
          9617.5234375,
          9862.884765625,
          9932.267578125,
          9804.88671875,
          9784.4501953125,
          9754.3642578125,
          9984.7529296875,
          10140.873046875
         ]
        },
        {
         "mode": "text",
         "name": "Matching",
         "text": [
          "End of Matching<br>Period"
         ],
         "type": "scatter",
         "x": [
          1960
         ],
         "y": [
          12000
         ]
        },
        {
         "mode": "text",
         "name": "Event 1",
         "text": [
          "Drug<br>Smuggling"
         ],
         "type": "scatter",
         "x": [
          1974
         ],
         "y": [
          12000
         ]
        },
        {
         "mode": "text",
         "name": "Event 2",
         "text": [
          "Basilicata<br>Earthquake"
         ],
         "type": "scatter",
         "x": [
          1981
         ],
         "y": [
          12000
         ]
        }
       ],
       "layout": {
        "shapes": [
         {
          "line": {
           "color": "Black",
           "width": 1
          },
          "type": "line",
          "x0": 1960,
          "x1": 1960,
          "y0": 0,
          "y1": 11000
         },
         {
          "line": {
           "color": "Black",
           "width": 1
          },
          "type": "line",
          "x0": 1974,
          "x1": 1974,
          "y0": 0,
          "y1": 11000
         },
         {
          "line": {
           "color": "Black",
           "width": 1
          },
          "type": "line",
          "x0": 1980,
          "x1": 1980,
          "y0": 0,
          "y1": 11000
         }
        ],
        "template": {
         "data": {
          "bar": [
           {
            "error_x": {
             "color": "#2a3f5f"
            },
            "error_y": {
             "color": "#2a3f5f"
            },
            "marker": {
             "line": {
              "color": "#E5ECF6",
              "width": 0.5
             },
             "pattern": {
              "fillmode": "overlay",
              "size": 10,
              "solidity": 0.2
             }
            },
            "type": "bar"
           }
          ],
          "barpolar": [
           {
            "marker": {
             "line": {
              "color": "#E5ECF6",
              "width": 0.5
             },
             "pattern": {
              "fillmode": "overlay",
              "size": 10,
              "solidity": 0.2
             }
            },
            "type": "barpolar"
           }
          ],
          "carpet": [
           {
            "aaxis": {
             "endlinecolor": "#2a3f5f",
             "gridcolor": "white",
             "linecolor": "white",
             "minorgridcolor": "white",
             "startlinecolor": "#2a3f5f"
            },
            "baxis": {
             "endlinecolor": "#2a3f5f",
             "gridcolor": "white",
             "linecolor": "white",
             "minorgridcolor": "white",
             "startlinecolor": "#2a3f5f"
            },
            "type": "carpet"
           }
          ],
          "choropleth": [
           {
            "colorbar": {
             "outlinewidth": 0,
             "ticks": ""
            },
            "type": "choropleth"
           }
          ],
          "contour": [
           {
            "colorbar": {
             "outlinewidth": 0,
             "ticks": ""
            },
            "colorscale": [
             [
              0,
              "#0d0887"
             ],
             [
              0.1111111111111111,
              "#46039f"
             ],
             [
              0.2222222222222222,
              "#7201a8"
             ],
             [
              0.3333333333333333,
              "#9c179e"
             ],
             [
              0.4444444444444444,
              "#bd3786"
             ],
             [
              0.5555555555555556,
              "#d8576b"
             ],
             [
              0.6666666666666666,
              "#ed7953"
             ],
             [
              0.7777777777777778,
              "#fb9f3a"
             ],
             [
              0.8888888888888888,
              "#fdca26"
             ],
             [
              1,
              "#f0f921"
             ]
            ],
            "type": "contour"
           }
          ],
          "contourcarpet": [
           {
            "colorbar": {
             "outlinewidth": 0,
             "ticks": ""
            },
            "type": "contourcarpet"
           }
          ],
          "heatmap": [
           {
            "colorbar": {
             "outlinewidth": 0,
             "ticks": ""
            },
            "colorscale": [
             [
              0,
              "#0d0887"
             ],
             [
              0.1111111111111111,
              "#46039f"
             ],
             [
              0.2222222222222222,
              "#7201a8"
             ],
             [
              0.3333333333333333,
              "#9c179e"
             ],
             [
              0.4444444444444444,
              "#bd3786"
             ],
             [
              0.5555555555555556,
              "#d8576b"
             ],
             [
              0.6666666666666666,
              "#ed7953"
             ],
             [
              0.7777777777777778,
              "#fb9f3a"
             ],
             [
              0.8888888888888888,
              "#fdca26"
             ],
             [
              1,
              "#f0f921"
             ]
            ],
            "type": "heatmap"
           }
          ],
          "heatmapgl": [
           {
            "colorbar": {
             "outlinewidth": 0,
             "ticks": ""
            },
            "colorscale": [
             [
              0,
              "#0d0887"
             ],
             [
              0.1111111111111111,
              "#46039f"
             ],
             [
              0.2222222222222222,
              "#7201a8"
             ],
             [
              0.3333333333333333,
              "#9c179e"
             ],
             [
              0.4444444444444444,
              "#bd3786"
             ],
             [
              0.5555555555555556,
              "#d8576b"
             ],
             [
              0.6666666666666666,
              "#ed7953"
             ],
             [
              0.7777777777777778,
              "#fb9f3a"
             ],
             [
              0.8888888888888888,
              "#fdca26"
             ],
             [
              1,
              "#f0f921"
             ]
            ],
            "type": "heatmapgl"
           }
          ],
          "histogram": [
           {
            "marker": {
             "pattern": {
              "fillmode": "overlay",
              "size": 10,
              "solidity": 0.2
             }
            },
            "type": "histogram"
           }
          ],
          "histogram2d": [
           {
            "colorbar": {
             "outlinewidth": 0,
             "ticks": ""
            },
            "colorscale": [
             [
              0,
              "#0d0887"
             ],
             [
              0.1111111111111111,
              "#46039f"
             ],
             [
              0.2222222222222222,
              "#7201a8"
             ],
             [
              0.3333333333333333,
              "#9c179e"
             ],
             [
              0.4444444444444444,
              "#bd3786"
             ],
             [
              0.5555555555555556,
              "#d8576b"
             ],
             [
              0.6666666666666666,
              "#ed7953"
             ],
             [
              0.7777777777777778,
              "#fb9f3a"
             ],
             [
              0.8888888888888888,
              "#fdca26"
             ],
             [
              1,
              "#f0f921"
             ]
            ],
            "type": "histogram2d"
           }
          ],
          "histogram2dcontour": [
           {
            "colorbar": {
             "outlinewidth": 0,
             "ticks": ""
            },
            "colorscale": [
             [
              0,
              "#0d0887"
             ],
             [
              0.1111111111111111,
              "#46039f"
             ],
             [
              0.2222222222222222,
              "#7201a8"
             ],
             [
              0.3333333333333333,
              "#9c179e"
             ],
             [
              0.4444444444444444,
              "#bd3786"
             ],
             [
              0.5555555555555556,
              "#d8576b"
             ],
             [
              0.6666666666666666,
              "#ed7953"
             ],
             [
              0.7777777777777778,
              "#fb9f3a"
             ],
             [
              0.8888888888888888,
              "#fdca26"
             ],
             [
              1,
              "#f0f921"
             ]
            ],
            "type": "histogram2dcontour"
           }
          ],
          "mesh3d": [
           {
            "colorbar": {
             "outlinewidth": 0,
             "ticks": ""
            },
            "type": "mesh3d"
           }
          ],
          "parcoords": [
           {
            "line": {
             "colorbar": {
              "outlinewidth": 0,
              "ticks": ""
             }
            },
            "type": "parcoords"
           }
          ],
          "pie": [
           {
            "automargin": true,
            "type": "pie"
           }
          ],
          "scatter": [
           {
            "marker": {
             "colorbar": {
              "outlinewidth": 0,
              "ticks": ""
             }
            },
            "type": "scatter"
           }
          ],
          "scatter3d": [
           {
            "line": {
             "colorbar": {
              "outlinewidth": 0,
              "ticks": ""
             }
            },
            "marker": {
             "colorbar": {
              "outlinewidth": 0,
              "ticks": ""
             }
            },
            "type": "scatter3d"
           }
          ],
          "scattercarpet": [
           {
            "marker": {
             "colorbar": {
              "outlinewidth": 0,
              "ticks": ""
             }
            },
            "type": "scattercarpet"
           }
          ],
          "scattergeo": [
           {
            "marker": {
             "colorbar": {
              "outlinewidth": 0,
              "ticks": ""
             }
            },
            "type": "scattergeo"
           }
          ],
          "scattergl": [
           {
            "marker": {
             "colorbar": {
              "outlinewidth": 0,
              "ticks": ""
             }
            },
            "type": "scattergl"
           }
          ],
          "scattermapbox": [
           {
            "marker": {
             "colorbar": {
              "outlinewidth": 0,
              "ticks": ""
             }
            },
            "type": "scattermapbox"
           }
          ],
          "scatterpolar": [
           {
            "marker": {
             "colorbar": {
              "outlinewidth": 0,
              "ticks": ""
             }
            },
            "type": "scatterpolar"
           }
          ],
          "scatterpolargl": [
           {
            "marker": {
             "colorbar": {
              "outlinewidth": 0,
              "ticks": ""
             }
            },
            "type": "scatterpolargl"
           }
          ],
          "scatterternary": [
           {
            "marker": {
             "colorbar": {
              "outlinewidth": 0,
              "ticks": ""
             }
            },
            "type": "scatterternary"
           }
          ],
          "surface": [
           {
            "colorbar": {
             "outlinewidth": 0,
             "ticks": ""
            },
            "colorscale": [
             [
              0,
              "#0d0887"
             ],
             [
              0.1111111111111111,
              "#46039f"
             ],
             [
              0.2222222222222222,
              "#7201a8"
             ],
             [
              0.3333333333333333,
              "#9c179e"
             ],
             [
              0.4444444444444444,
              "#bd3786"
             ],
             [
              0.5555555555555556,
              "#d8576b"
             ],
             [
              0.6666666666666666,
              "#ed7953"
             ],
             [
              0.7777777777777778,
              "#fb9f3a"
             ],
             [
              0.8888888888888888,
              "#fdca26"
             ],
             [
              1,
              "#f0f921"
             ]
            ],
            "type": "surface"
           }
          ],
          "table": [
           {
            "cells": {
             "fill": {
              "color": "#EBF0F8"
             },
             "line": {
              "color": "white"
             }
            },
            "header": {
             "fill": {
              "color": "#C8D4E3"
             },
             "line": {
              "color": "white"
             }
            },
            "type": "table"
           }
          ]
         },
         "layout": {
          "annotationdefaults": {
           "arrowcolor": "#2a3f5f",
           "arrowhead": 0,
           "arrowwidth": 1
          },
          "autotypenumbers": "strict",
          "coloraxis": {
           "colorbar": {
            "outlinewidth": 0,
            "ticks": ""
           }
          },
          "colorscale": {
           "diverging": [
            [
             0,
             "#8e0152"
            ],
            [
             0.1,
             "#c51b7d"
            ],
            [
             0.2,
             "#de77ae"
            ],
            [
             0.3,
             "#f1b6da"
            ],
            [
             0.4,
             "#fde0ef"
            ],
            [
             0.5,
             "#f7f7f7"
            ],
            [
             0.6,
             "#e6f5d0"
            ],
            [
             0.7,
             "#b8e186"
            ],
            [
             0.8,
             "#7fbc41"
            ],
            [
             0.9,
             "#4d9221"
            ],
            [
             1,
             "#276419"
            ]
           ],
           "sequential": [
            [
             0,
             "#0d0887"
            ],
            [
             0.1111111111111111,
             "#46039f"
            ],
            [
             0.2222222222222222,
             "#7201a8"
            ],
            [
             0.3333333333333333,
             "#9c179e"
            ],
            [
             0.4444444444444444,
             "#bd3786"
            ],
            [
             0.5555555555555556,
             "#d8576b"
            ],
            [
             0.6666666666666666,
             "#ed7953"
            ],
            [
             0.7777777777777778,
             "#fb9f3a"
            ],
            [
             0.8888888888888888,
             "#fdca26"
            ],
            [
             1,
             "#f0f921"
            ]
           ],
           "sequentialminus": [
            [
             0,
             "#0d0887"
            ],
            [
             0.1111111111111111,
             "#46039f"
            ],
            [
             0.2222222222222222,
             "#7201a8"
            ],
            [
             0.3333333333333333,
             "#9c179e"
            ],
            [
             0.4444444444444444,
             "#bd3786"
            ],
            [
             0.5555555555555556,
             "#d8576b"
            ],
            [
             0.6666666666666666,
             "#ed7953"
            ],
            [
             0.7777777777777778,
             "#fb9f3a"
            ],
            [
             0.8888888888888888,
             "#fdca26"
            ],
            [
             1,
             "#f0f921"
            ]
           ]
          },
          "colorway": [
           "#636efa",
           "#EF553B",
           "#00cc96",
           "#ab63fa",
           "#FFA15A",
           "#19d3f3",
           "#FF6692",
           "#B6E880",
           "#FF97FF",
           "#FECB52"
          ],
          "font": {
           "color": "#2a3f5f"
          },
          "geo": {
           "bgcolor": "white",
           "lakecolor": "white",
           "landcolor": "#E5ECF6",
           "showlakes": true,
           "showland": true,
           "subunitcolor": "white"
          },
          "hoverlabel": {
           "align": "left"
          },
          "hovermode": "closest",
          "mapbox": {
           "style": "light"
          },
          "paper_bgcolor": "white",
          "plot_bgcolor": "#E5ECF6",
          "polar": {
           "angularaxis": {
            "gridcolor": "white",
            "linecolor": "white",
            "ticks": ""
           },
           "bgcolor": "#E5ECF6",
           "radialaxis": {
            "gridcolor": "white",
            "linecolor": "white",
            "ticks": ""
           }
          },
          "scene": {
           "xaxis": {
            "backgroundcolor": "#E5ECF6",
            "gridcolor": "white",
            "gridwidth": 2,
            "linecolor": "white",
            "showbackground": true,
            "ticks": "",
            "zerolinecolor": "white"
           },
           "yaxis": {
            "backgroundcolor": "#E5ECF6",
            "gridcolor": "white",
            "gridwidth": 2,
            "linecolor": "white",
            "showbackground": true,
            "ticks": "",
            "zerolinecolor": "white"
           },
           "zaxis": {
            "backgroundcolor": "#E5ECF6",
            "gridcolor": "white",
            "gridwidth": 2,
            "linecolor": "white",
            "showbackground": true,
            "ticks": "",
            "zerolinecolor": "white"
           }
          },
          "shapedefaults": {
           "line": {
            "color": "#2a3f5f"
           }
          },
          "ternary": {
           "aaxis": {
            "gridcolor": "white",
            "linecolor": "white",
            "ticks": ""
           },
           "baxis": {
            "gridcolor": "white",
            "linecolor": "white",
            "ticks": ""
           },
           "bgcolor": "#E5ECF6",
           "caxis": {
            "gridcolor": "white",
            "linecolor": "white",
            "ticks": ""
           }
          },
          "title": {
           "x": 0.05
          },
          "xaxis": {
           "automargin": true,
           "gridcolor": "white",
           "linecolor": "white",
           "ticks": "",
           "title": {
            "standoff": 15
           },
           "zerolinecolor": "white",
           "zerolinewidth": 2
          },
          "yaxis": {
           "automargin": true,
           "gridcolor": "white",
           "linecolor": "white",
           "ticks": "",
           "title": {
            "standoff": 15
           },
           "zerolinecolor": "white",
           "zerolinewidth": 2
          }
         }
        },
        "title": {
         "text": "Synthetic Control<br>Optimizer vs. Treated unit"
        },
        "xaxis": {
         "title": {
          "text": "Time"
         }
        },
        "yaxis": {
         "title": {
          "text": "GDP per Capita"
         }
        }
       }
      },
      "text/html": [
       "<div>                            <div id=\"5ec368a2-af34-4b0e-beaa-56084594d4bd\" class=\"plotly-graph-div\" style=\"height:525px; width:100%;\"></div>            <script type=\"text/javascript\">                require([\"plotly\"], function(Plotly) {                    window.PLOTLYENV=window.PLOTLYENV || {};                                    if (document.getElementById(\"5ec368a2-af34-4b0e-beaa-56084594d4bd\")) {                    Plotly.newPlot(                        \"5ec368a2-af34-4b0e-beaa-56084594d4bd\",                        [{\"mode\":\"lines\",\"name\":\"Optimizer\",\"x\":[1951.0,1952.0,1953.0,1954.0,1955.0,1956.0,1957.0,1958.0,1959.0,1960.0,1961.0,1962.0,1963.0,1964.0,1965.0,1966.0,1967.0,1968.0,1969.0,1970.0,1971.0,1972.0,1973.0,1974.0,1975.0,1976.0,1977.0,1978.0,1979.0,1980.0,1981.0,1982.0,1983.0,1984.0,1985.0,1986.0,1987.0,1988.0,1989.0,1990.0,1991.0,1992.0,1993.0,1994.0,1995.0,1996.0,1997.0,1998.0,1999.0,2000.0,2001.0,2002.0,2003.0,2004.0,2005.0,2006.0,2007.0],\"y\":[1973.3742261906043,2149.989978110353,2292.0045501211193,2206.9703581152166,2396.2144928032294,2429.622136259443,2445.796092077913,2486.509114544943,2804.4138479000057,2795.8910759563414,3162.445219040249,3418.9941445537597,3529.8984917423413,3607.5364793367903,3777.9643128528346,3999.3177310398914,4392.8981675885625,4535.344445707028,4847.992543846313,4957.930048973591,5029.460476682404,5175.448684840776,5392.369459937637,5707.984564145166,5779.689227772843,6189.544752151644,6298.665312306345,6644.867147193479,7107.6061744637245,7597.250667760335,7466.129112929793,7402.739695469903,7564.165622490457,7881.1971226376745,8172.866961672243,8384.895697708589,8628.325202533822,9152.095257708068,9321.546022513357,9442.292056539176,9814.251288075846,9928.869539890498,9697.670693166143,9973.184988209672,10216.440437641004,10470.279824842919,10911.255867444928,11004.163848498563,10946.261650045488,11368.909574480287,11769.15758724007,11944.044291302791,11822.142669324032,11974.195191845134,12039.458185129293,12405.478192667762,12484.070430331412],\"type\":\"scatter\"},{\"mode\":\"lines\",\"name\":\"Pinotti\",\"x\":[1951.0,1952.0,1953.0,1954.0,1955.0,1956.0,1957.0,1958.0,1959.0,1960.0,1961.0,1962.0,1963.0,1964.0,1965.0,1966.0,1967.0,1968.0,1969.0,1970.0,1971.0,1972.0,1973.0,1974.0,1975.0,1976.0,1977.0,1978.0,1979.0,1980.0,1981.0,1982.0,1983.0,1984.0,1985.0,1986.0,1987.0,1988.0,1989.0,1990.0,1991.0,1992.0,1993.0,1994.0,1995.0,1996.0,1997.0,1998.0,1999.0,2000.0,2001.0,2002.0,2003.0,2004.0,2005.0,2006.0,2007.0],\"y\":[2029.541525390625,2137.643015625,2280.043365234375,2324.384759765625,2423.530521484375,2414.3116484375,2396.363603515625,2539.3596621093748,2740.5140644531252,2743.345421875,3158.432955078125,3364.320197265625,3402.3371464843754,3423.267986328125,3598.170685546875,3788.89976953125,4189.224123046874,4452.86501171875,4908.23264453125,5095.59106640625,5390.92690234375,5581.583390625,5831.20464453125,6054.3179375,6019.8745390625,6413.4213203125,6620.90231640625,6988.494484375,7477.641109375,7921.4470078125005,7809.6096640625,7861.651859375001,7984.8482031250005,8234.00123828125,8466.6904296875,8680.31966015625,8915.7554296875,9299.629023437501,9573.058953125,9736.320015625,10139.197609375,10242.21809375,9879.132734375,10066.452640625,10366.29534375,10454.03634375,10765.1386953125,10813.4211171875,10849.6793984375,11355.1891015625,11766.1323125,11805.3629765625,11679.83640625,11606.369679687501,11740.7458125,12015.49775,11998.3490390625],\"type\":\"scatter\"},{\"mode\":\"lines\",\"name\":\"Becker\",\"x\":[1951.0,1952.0,1953.0,1954.0,1955.0,1956.0,1957.0,1958.0,1959.0,1960.0,1961.0,1962.0,1963.0,1964.0,1965.0,1966.0,1967.0,1968.0,1969.0,1970.0,1971.0,1972.0,1973.0,1974.0,1975.0,1976.0,1977.0,1978.0,1979.0,1980.0,1981.0,1982.0,1983.0,1984.0,1985.0,1986.0,1987.0,1988.0,1989.0,1990.0,1991.0,1992.0,1993.0,1994.0,1995.0,1996.0,1997.0,1998.0,1999.0,2000.0,2001.0,2002.0,2003.0,2004.0,2005.0,2006.0,2007.0],\"y\":[2039.350346956909,2170.1215348078613,2299.4632875140383,2319.8646570385745,2418.7410676273194,2430.2312920323484,2417.1734639509277,2522.3529671721194,2743.1446840679932,2720.232180260742,3118.4388849379884,3331.7501555897215,3402.1606495760498,3437.838459565796,3612.312344486816,3812.817928260742,4205.7385231428225,4444.509198884765,4871.461717874511,5046.49851510376,5287.61607005835,5439.841587618653,5664.063494626953,5901.458275746338,5900.825644479004,6278.037381882569,6467.4142369233405,6811.650748888672,7256.607109718994,7682.227526972901,7550.461470636475,7572.440402891113,7713.149613119141,7976.7658741086425,8202.135705189941,8416.712974889404,8630.69566546167,9033.590267617676,9263.232201023437,9417.487557635743,9822.715824359864,9918.838085854004,9598.164665370117,9783.050503261231,10026.517504126465,10136.883781770997,10480.074565558594,10547.457615270996,10561.689962662109,11015.533997149902,11437.042493237306,11530.113525873046,11421.152000143555,11416.679890047364,11524.572884507812,11812.204472963867,11820.272525435546],\"type\":\"scatter\"},{\"mode\":\"lines\",\"name\":\"Treated unit\",\"x\":[1951.0,1952.0,1953.0,1954.0,1955.0,1956.0,1957.0,1958.0,1959.0,1960.0,1961.0,1962.0,1963.0,1964.0,1965.0,1966.0,1967.0,1968.0,1969.0,1970.0,1971.0,1972.0,1973.0,1974.0,1975.0,1976.0,1977.0,1978.0,1979.0,1980.0,1981.0,1982.0,1983.0,1984.0,1985.0,1986.0,1987.0,1988.0,1989.0,1990.0,1991.0,1992.0,1993.0,1994.0,1995.0,1996.0,1997.0,1998.0,1999.0,2000.0,2001.0,2002.0,2003.0,2004.0,2005.0,2006.0,2007.0],\"y\":[2034.144775390625,1992.7567138671875,2405.923583984375,2455.6064453125,2327.77587890625,2392.174560546875,2621.853271484375,2521.5703125,2515.03759765625,2683.11279296875,2979.33740234375,3265.341796875,3415.132568359375,3467.41259765625,3796.149169921875,3950.023681640625,4439.67822265625,4440.22705078125,4960.33984375,5178.93310546875,5432.1015625,5531.82421875,5784.31787109375,5990.29052734375,5944.7470703125,6168.8173828125,6318.408203125,6531.55712890625,6832.80224609375,6943.01611328125,6707.8818359375,6663.8046875,6910.5966796875,7071.87158203125,7160.8984375,7345.021484375,7568.423828125,7916.5615234375,8084.18408203125,8102.86865234375,8490.349609375,8445.625,8234.916015625,8446.6826171875,8523.7236328125,8599.2265625,8747.8876953125,9004.8447265625,9432.0234375,9617.5234375,9862.884765625,9932.267578125,9804.88671875,9784.4501953125,9754.3642578125,9984.7529296875,10140.873046875],\"type\":\"scatter\"},{\"mode\":\"text\",\"name\":\"Matching\",\"text\":[\"End of Matching<br>Period\"],\"x\":[1960],\"y\":[12000],\"type\":\"scatter\"},{\"mode\":\"text\",\"name\":\"Event 1\",\"text\":[\"Drug<br>Smuggling\"],\"x\":[1974],\"y\":[12000],\"type\":\"scatter\"},{\"mode\":\"text\",\"name\":\"Event 2\",\"text\":[\"Basilicata<br>Earthquake\"],\"x\":[1981],\"y\":[12000],\"type\":\"scatter\"}],                        {\"template\":{\"data\":{\"bar\":[{\"error_x\":{\"color\":\"#2a3f5f\"},\"error_y\":{\"color\":\"#2a3f5f\"},\"marker\":{\"line\":{\"color\":\"#E5ECF6\",\"width\":0.5},\"pattern\":{\"fillmode\":\"overlay\",\"size\":10,\"solidity\":0.2}},\"type\":\"bar\"}],\"barpolar\":[{\"marker\":{\"line\":{\"color\":\"#E5ECF6\",\"width\":0.5},\"pattern\":{\"fillmode\":\"overlay\",\"size\":10,\"solidity\":0.2}},\"type\":\"barpolar\"}],\"carpet\":[{\"aaxis\":{\"endlinecolor\":\"#2a3f5f\",\"gridcolor\":\"white\",\"linecolor\":\"white\",\"minorgridcolor\":\"white\",\"startlinecolor\":\"#2a3f5f\"},\"baxis\":{\"endlinecolor\":\"#2a3f5f\",\"gridcolor\":\"white\",\"linecolor\":\"white\",\"minorgridcolor\":\"white\",\"startlinecolor\":\"#2a3f5f\"},\"type\":\"carpet\"}],\"choropleth\":[{\"colorbar\":{\"outlinewidth\":0,\"ticks\":\"\"},\"type\":\"choropleth\"}],\"contour\":[{\"colorbar\":{\"outlinewidth\":0,\"ticks\":\"\"},\"colorscale\":[[0.0,\"#0d0887\"],[0.1111111111111111,\"#46039f\"],[0.2222222222222222,\"#7201a8\"],[0.3333333333333333,\"#9c179e\"],[0.4444444444444444,\"#bd3786\"],[0.5555555555555556,\"#d8576b\"],[0.6666666666666666,\"#ed7953\"],[0.7777777777777778,\"#fb9f3a\"],[0.8888888888888888,\"#fdca26\"],[1.0,\"#f0f921\"]],\"type\":\"contour\"}],\"contourcarpet\":[{\"colorbar\":{\"outlinewidth\":0,\"ticks\":\"\"},\"type\":\"contourcarpet\"}],\"heatmap\":[{\"colorbar\":{\"outlinewidth\":0,\"ticks\":\"\"},\"colorscale\":[[0.0,\"#0d0887\"],[0.1111111111111111,\"#46039f\"],[0.2222222222222222,\"#7201a8\"],[0.3333333333333333,\"#9c179e\"],[0.4444444444444444,\"#bd3786\"],[0.5555555555555556,\"#d8576b\"],[0.6666666666666666,\"#ed7953\"],[0.7777777777777778,\"#fb9f3a\"],[0.8888888888888888,\"#fdca26\"],[1.0,\"#f0f921\"]],\"type\":\"heatmap\"}],\"heatmapgl\":[{\"colorbar\":{\"outlinewidth\":0,\"ticks\":\"\"},\"colorscale\":[[0.0,\"#0d0887\"],[0.1111111111111111,\"#46039f\"],[0.2222222222222222,\"#7201a8\"],[0.3333333333333333,\"#9c179e\"],[0.4444444444444444,\"#bd3786\"],[0.5555555555555556,\"#d8576b\"],[0.6666666666666666,\"#ed7953\"],[0.7777777777777778,\"#fb9f3a\"],[0.8888888888888888,\"#fdca26\"],[1.0,\"#f0f921\"]],\"type\":\"heatmapgl\"}],\"histogram\":[{\"marker\":{\"pattern\":{\"fillmode\":\"overlay\",\"size\":10,\"solidity\":0.2}},\"type\":\"histogram\"}],\"histogram2d\":[{\"colorbar\":{\"outlinewidth\":0,\"ticks\":\"\"},\"colorscale\":[[0.0,\"#0d0887\"],[0.1111111111111111,\"#46039f\"],[0.2222222222222222,\"#7201a8\"],[0.3333333333333333,\"#9c179e\"],[0.4444444444444444,\"#bd3786\"],[0.5555555555555556,\"#d8576b\"],[0.6666666666666666,\"#ed7953\"],[0.7777777777777778,\"#fb9f3a\"],[0.8888888888888888,\"#fdca26\"],[1.0,\"#f0f921\"]],\"type\":\"histogram2d\"}],\"histogram2dcontour\":[{\"colorbar\":{\"outlinewidth\":0,\"ticks\":\"\"},\"colorscale\":[[0.0,\"#0d0887\"],[0.1111111111111111,\"#46039f\"],[0.2222222222222222,\"#7201a8\"],[0.3333333333333333,\"#9c179e\"],[0.4444444444444444,\"#bd3786\"],[0.5555555555555556,\"#d8576b\"],[0.6666666666666666,\"#ed7953\"],[0.7777777777777778,\"#fb9f3a\"],[0.8888888888888888,\"#fdca26\"],[1.0,\"#f0f921\"]],\"type\":\"histogram2dcontour\"}],\"mesh3d\":[{\"colorbar\":{\"outlinewidth\":0,\"ticks\":\"\"},\"type\":\"mesh3d\"}],\"parcoords\":[{\"line\":{\"colorbar\":{\"outlinewidth\":0,\"ticks\":\"\"}},\"type\":\"parcoords\"}],\"pie\":[{\"automargin\":true,\"type\":\"pie\"}],\"scatter\":[{\"marker\":{\"colorbar\":{\"outlinewidth\":0,\"ticks\":\"\"}},\"type\":\"scatter\"}],\"scatter3d\":[{\"line\":{\"colorbar\":{\"outlinewidth\":0,\"ticks\":\"\"}},\"marker\":{\"colorbar\":{\"outlinewidth\":0,\"ticks\":\"\"}},\"type\":\"scatter3d\"}],\"scattercarpet\":[{\"marker\":{\"colorbar\":{\"outlinewidth\":0,\"ticks\":\"\"}},\"type\":\"scattercarpet\"}],\"scattergeo\":[{\"marker\":{\"colorbar\":{\"outlinewidth\":0,\"ticks\":\"\"}},\"type\":\"scattergeo\"}],\"scattergl\":[{\"marker\":{\"colorbar\":{\"outlinewidth\":0,\"ticks\":\"\"}},\"type\":\"scattergl\"}],\"scattermapbox\":[{\"marker\":{\"colorbar\":{\"outlinewidth\":0,\"ticks\":\"\"}},\"type\":\"scattermapbox\"}],\"scatterpolar\":[{\"marker\":{\"colorbar\":{\"outlinewidth\":0,\"ticks\":\"\"}},\"type\":\"scatterpolar\"}],\"scatterpolargl\":[{\"marker\":{\"colorbar\":{\"outlinewidth\":0,\"ticks\":\"\"}},\"type\":\"scatterpolargl\"}],\"scatterternary\":[{\"marker\":{\"colorbar\":{\"outlinewidth\":0,\"ticks\":\"\"}},\"type\":\"scatterternary\"}],\"surface\":[{\"colorbar\":{\"outlinewidth\":0,\"ticks\":\"\"},\"colorscale\":[[0.0,\"#0d0887\"],[0.1111111111111111,\"#46039f\"],[0.2222222222222222,\"#7201a8\"],[0.3333333333333333,\"#9c179e\"],[0.4444444444444444,\"#bd3786\"],[0.5555555555555556,\"#d8576b\"],[0.6666666666666666,\"#ed7953\"],[0.7777777777777778,\"#fb9f3a\"],[0.8888888888888888,\"#fdca26\"],[1.0,\"#f0f921\"]],\"type\":\"surface\"}],\"table\":[{\"cells\":{\"fill\":{\"color\":\"#EBF0F8\"},\"line\":{\"color\":\"white\"}},\"header\":{\"fill\":{\"color\":\"#C8D4E3\"},\"line\":{\"color\":\"white\"}},\"type\":\"table\"}]},\"layout\":{\"annotationdefaults\":{\"arrowcolor\":\"#2a3f5f\",\"arrowhead\":0,\"arrowwidth\":1},\"autotypenumbers\":\"strict\",\"coloraxis\":{\"colorbar\":{\"outlinewidth\":0,\"ticks\":\"\"}},\"colorscale\":{\"diverging\":[[0,\"#8e0152\"],[0.1,\"#c51b7d\"],[0.2,\"#de77ae\"],[0.3,\"#f1b6da\"],[0.4,\"#fde0ef\"],[0.5,\"#f7f7f7\"],[0.6,\"#e6f5d0\"],[0.7,\"#b8e186\"],[0.8,\"#7fbc41\"],[0.9,\"#4d9221\"],[1,\"#276419\"]],\"sequential\":[[0.0,\"#0d0887\"],[0.1111111111111111,\"#46039f\"],[0.2222222222222222,\"#7201a8\"],[0.3333333333333333,\"#9c179e\"],[0.4444444444444444,\"#bd3786\"],[0.5555555555555556,\"#d8576b\"],[0.6666666666666666,\"#ed7953\"],[0.7777777777777778,\"#fb9f3a\"],[0.8888888888888888,\"#fdca26\"],[1.0,\"#f0f921\"]],\"sequentialminus\":[[0.0,\"#0d0887\"],[0.1111111111111111,\"#46039f\"],[0.2222222222222222,\"#7201a8\"],[0.3333333333333333,\"#9c179e\"],[0.4444444444444444,\"#bd3786\"],[0.5555555555555556,\"#d8576b\"],[0.6666666666666666,\"#ed7953\"],[0.7777777777777778,\"#fb9f3a\"],[0.8888888888888888,\"#fdca26\"],[1.0,\"#f0f921\"]]},\"colorway\":[\"#636efa\",\"#EF553B\",\"#00cc96\",\"#ab63fa\",\"#FFA15A\",\"#19d3f3\",\"#FF6692\",\"#B6E880\",\"#FF97FF\",\"#FECB52\"],\"font\":{\"color\":\"#2a3f5f\"},\"geo\":{\"bgcolor\":\"white\",\"lakecolor\":\"white\",\"landcolor\":\"#E5ECF6\",\"showlakes\":true,\"showland\":true,\"subunitcolor\":\"white\"},\"hoverlabel\":{\"align\":\"left\"},\"hovermode\":\"closest\",\"mapbox\":{\"style\":\"light\"},\"paper_bgcolor\":\"white\",\"plot_bgcolor\":\"#E5ECF6\",\"polar\":{\"angularaxis\":{\"gridcolor\":\"white\",\"linecolor\":\"white\",\"ticks\":\"\"},\"bgcolor\":\"#E5ECF6\",\"radialaxis\":{\"gridcolor\":\"white\",\"linecolor\":\"white\",\"ticks\":\"\"}},\"scene\":{\"xaxis\":{\"backgroundcolor\":\"#E5ECF6\",\"gridcolor\":\"white\",\"gridwidth\":2,\"linecolor\":\"white\",\"showbackground\":true,\"ticks\":\"\",\"zerolinecolor\":\"white\"},\"yaxis\":{\"backgroundcolor\":\"#E5ECF6\",\"gridcolor\":\"white\",\"gridwidth\":2,\"linecolor\":\"white\",\"showbackground\":true,\"ticks\":\"\",\"zerolinecolor\":\"white\"},\"zaxis\":{\"backgroundcolor\":\"#E5ECF6\",\"gridcolor\":\"white\",\"gridwidth\":2,\"linecolor\":\"white\",\"showbackground\":true,\"ticks\":\"\",\"zerolinecolor\":\"white\"}},\"shapedefaults\":{\"line\":{\"color\":\"#2a3f5f\"}},\"ternary\":{\"aaxis\":{\"gridcolor\":\"white\",\"linecolor\":\"white\",\"ticks\":\"\"},\"baxis\":{\"gridcolor\":\"white\",\"linecolor\":\"white\",\"ticks\":\"\"},\"bgcolor\":\"#E5ECF6\",\"caxis\":{\"gridcolor\":\"white\",\"linecolor\":\"white\",\"ticks\":\"\"}},\"title\":{\"x\":0.05},\"xaxis\":{\"automargin\":true,\"gridcolor\":\"white\",\"linecolor\":\"white\",\"ticks\":\"\",\"title\":{\"standoff\":15},\"zerolinecolor\":\"white\",\"zerolinewidth\":2},\"yaxis\":{\"automargin\":true,\"gridcolor\":\"white\",\"linecolor\":\"white\",\"ticks\":\"\",\"title\":{\"standoff\":15},\"zerolinecolor\":\"white\",\"zerolinewidth\":2}}},\"shapes\":[{\"line\":{\"color\":\"Black\",\"width\":1},\"type\":\"line\",\"x0\":1960,\"x1\":1960,\"y0\":0,\"y1\":11000},{\"line\":{\"color\":\"Black\",\"width\":1},\"type\":\"line\",\"x0\":1974,\"x1\":1974,\"y0\":0,\"y1\":11000},{\"line\":{\"color\":\"Black\",\"width\":1},\"type\":\"line\",\"x0\":1980,\"x1\":1980,\"y0\":0,\"y1\":11000}],\"title\":{\"text\":\"Synthetic Control<br>Optimizer vs. Treated unit\"},\"xaxis\":{\"title\":{\"text\":\"Time\"}},\"yaxis\":{\"title\":{\"text\":\"GDP per Capita\"}}},                        {\"responsive\": true}                    ).then(function(){\n",
       "                            \n",
       "var gd = document.getElementById('5ec368a2-af34-4b0e-beaa-56084594d4bd');\n",
       "var x = new MutationObserver(function (mutations, observer) {{\n",
       "        var display = window.getComputedStyle(gd).display;\n",
       "        if (!display || display === 'none') {{\n",
       "            console.log([gd, 'removed!']);\n",
       "            Plotly.purge(gd);\n",
       "            observer.disconnect();\n",
       "        }}\n",
       "}});\n",
       "\n",
       "// Listen for the removal of the full notebook cells\n",
       "var notebookContainer = gd.closest('#notebook-container');\n",
       "if (notebookContainer) {{\n",
       "    x.observe(notebookContainer, {childList: true});\n",
       "}}\n",
       "\n",
       "// Listen for the clearing of the current output cell\n",
       "var outputEl = gd.closest('.output');\n",
       "if (outputEl) {{\n",
       "    x.observe(outputEl, {childList: true});\n",
       "}}\n",
       "\n",
       "                        })                };                });            </script>        </div>"
      ]
     },
     "metadata": {},
     "output_type": "display_data"
    },
    {
     "data": {
      "image/png": "[encoded data removed]"
     },
     "metadata": {},
     "output_type": "display_data"
    }
   ],
   "source": [
    "w_pinotti = np.array([0, 0, 0, 0, 0, 0, 0, 0, 0, 0, 0, 0, 0.624, 0.376, 0]).reshape(15, 1)\n",
    "w_becker = np.array([0, 0, 0, 0, 0, 0, 0, 0, 0, 0, 0, 0, 0.43035, 0.48934, 0.0803045]).reshape(15,1)\n",
    "\n",
    "y_synth_pinotti = w_pinotti.T @ y_control_all\n",
    "y_synth_becker = w_becker.T @ y_control_all\n",
    "y_synth_basic = w_basic.T @ y_control_all\n",
    "\n",
    "fig = go.Figure()\n",
    "fig.add_trace(go.Scatter(x=list(data.year.unique()), y=y_synth_basic[0],\n",
    "                    mode='lines', name='Optimizer'))\n",
    "fig.add_trace(go.Scatter(x=list(data.year.unique()), y=y_synth_pinotti[0],\n",
    "                    mode='lines', name='Pinotti'))\n",
    "fig.add_trace(go.Scatter(x=list(data.year.unique()), y=y_synth_becker[0],\n",
    "                    mode='lines', name='Becker'))\n",
    "fig.add_trace(go.Scatter(x=list(data.year.unique()), y=y_treat_all[0],\n",
    "                    mode='lines', name='Treated unit'))\n",
    "\n",
    "fig.add_shape(dict(type=\"line\", x0=1960, y0=0, x1=1960, y1=11000,\n",
    "                   line=dict(color=\"Black\", width=1)))\n",
    "\n",
    "fig.add_shape(dict(type=\"line\", x0=1974, y0=0, x1=1974, y1=11000,\n",
    "                   line=dict(color=\"Black\", width=1)))\n",
    "\n",
    "fig.add_shape(dict(type=\"line\", x0=1980, y0=0, x1=1980, y1=11000,\n",
    "                   line=dict(color=\"Black\", width=1)))\n",
    "\n",
    "fig.add_trace(go.Scatter(x=[1960], y=[12000], mode=\"text\",\n",
    "    name=\"Matching\", text=[\"End of Matching<br>Period\"]))\n",
    "\n",
    "fig.add_trace(go.Scatter(x=[1974], y=[12000], mode=\"text\",\n",
    "    name=\"Event 1\", text=[\"Drug<br>Smuggling\"]))\n",
    "\n",
    "fig.add_trace(go.Scatter(x=[1981], y=[12000], mode=\"text\",\n",
    "    name=\"Event 2\", text=[\"Basilicata<br>Earthquake\"]))\n",
    "\n",
    "fig.update_layout(title='Synthetic Control<br>Optimizer vs. Treated unit',\n",
    "                   xaxis_title='Time', yaxis_title='GDP per Capita')\n",
    "\n",
    "# Dynamic graph\n",
    "fig.show()\n",
    "\n",
    "# Static graph only for display on github\n",
    "#fig.show(renderer=\"png\")"
   ]
  },
  {
   "cell_type": "markdown",
   "metadata": {},
   "source": [
    "#### Table Comparison"
   ]
  },
  {
   "cell_type": "code",
   "execution_count": 12,
   "metadata": {
    "ExecuteTime": {
     "end_time": "2021-11-26T07:48:52.285273Z",
     "start_time": "2021-11-26T07:48:52.279483Z"
    }
   },
   "outputs": [],
   "source": [
    "# Function to obtain Root Mean Squared Prediction Error \n",
    "def RMSPE(w):\n",
    "    return np.sqrt(np.mean((w.T @ y_control - y_treat)**2))"
   ]
  },
  {
   "cell_type": "code",
   "execution_count": 27,
   "metadata": {
    "ExecuteTime": {
     "end_time": "2021-11-26T09:00:06.639810Z",
     "start_time": "2021-11-26T09:00:06.613664Z"
    },
    "scrolled": false
   },
   "outputs": [
    {
     "name": "stdout",
     "output_type": "stream",
     "text": [
      "\n",
      "Breakdown across predictors:\n"
     ]
    },
    {
     "data": {
      "text/html": [
       "<div>\n",
       "<style scoped>\n",
       "    .dataframe tbody tr th:only-of-type {\n",
       "        vertical-align: middle;\n",
       "    }\n",
       "\n",
       "    .dataframe tbody tr th {\n",
       "        vertical-align: top;\n",
       "    }\n",
       "\n",
       "    .dataframe thead th {\n",
       "        text-align: right;\n",
       "    }\n",
       "</style>\n",
       "<table border=\"1\" class=\"dataframe\">\n",
       "  <thead>\n",
       "    <tr style=\"text-align: right;\">\n",
       "      <th></th>\n",
       "      <th>Actual</th>\n",
       "      <th>Paper</th>\n",
       "      <th>Optimizer</th>\n",
       "      <th>Paper Differential</th>\n",
       "      <th>Optimizer Differential</th>\n",
       "    </tr>\n",
       "  </thead>\n",
       "  <tbody>\n",
       "    <tr>\n",
       "      <th>gdppercap</th>\n",
       "      <td>2394.995605</td>\n",
       "      <td>2402.903783</td>\n",
       "      <td>2398.078601</td>\n",
       "      <td>7.908178</td>\n",
       "      <td>3.082995</td>\n",
       "    </tr>\n",
       "    <tr>\n",
       "      <th>invrate</th>\n",
       "      <td>0.316296</td>\n",
       "      <td>0.232005</td>\n",
       "      <td>0.212794</td>\n",
       "      <td>-0.084291</td>\n",
       "      <td>-0.103502</td>\n",
       "    </tr>\n",
       "    <tr>\n",
       "      <th>shvain</th>\n",
       "      <td>0.215479</td>\n",
       "      <td>0.221464</td>\n",
       "      <td>0.228207</td>\n",
       "      <td>0.005985</td>\n",
       "      <td>0.012728</td>\n",
       "    </tr>\n",
       "    <tr>\n",
       "      <th>shvaag</th>\n",
       "      <td>0.151702</td>\n",
       "      <td>0.154425</td>\n",
       "      <td>0.167108</td>\n",
       "      <td>0.002723</td>\n",
       "      <td>0.015406</td>\n",
       "    </tr>\n",
       "    <tr>\n",
       "      <th>shvams</th>\n",
       "      <td>0.401665</td>\n",
       "      <td>0.391364</td>\n",
       "      <td>0.383643</td>\n",
       "      <td>-0.010302</td>\n",
       "      <td>-0.018023</td>\n",
       "    </tr>\n",
       "    <tr>\n",
       "      <th>shvanms</th>\n",
       "      <td>0.231154</td>\n",
       "      <td>0.232748</td>\n",
       "      <td>0.221043</td>\n",
       "      <td>0.001594</td>\n",
       "      <td>-0.010111</td>\n",
       "    </tr>\n",
       "    <tr>\n",
       "      <th>shskill</th>\n",
       "      <td>0.165486</td>\n",
       "      <td>0.180807</td>\n",
       "      <td>0.159343</td>\n",
       "      <td>0.015321</td>\n",
       "      <td>-0.006143</td>\n",
       "    </tr>\n",
       "    <tr>\n",
       "      <th>density</th>\n",
       "      <td>134.778870</td>\n",
       "      <td>105.627378</td>\n",
       "      <td>106.077449</td>\n",
       "      <td>-29.151492</td>\n",
       "      <td>-28.701421</td>\n",
       "    </tr>\n",
       "  </tbody>\n",
       "</table>\n",
       "</div>"
      ],
      "text/plain": [
       "                Actual        Paper    Optimizer  Paper Differential  \\\n",
       "gdppercap  2394.995605  2402.903783  2398.078601            7.908178   \n",
       "invrate       0.316296     0.232005     0.212794           -0.084291   \n",
       "shvain        0.215479     0.221464     0.228207            0.005985   \n",
       "shvaag        0.151702     0.154425     0.167108            0.002723   \n",
       "shvams        0.401665     0.391364     0.383643           -0.010302   \n",
       "shvanms       0.231154     0.232748     0.221043            0.001594   \n",
       "shskill       0.165486     0.180807     0.159343            0.015321   \n",
       "density     134.778870   105.627378   106.077449          -29.151492   \n",
       "\n",
       "           Optimizer Differential  \n",
       "gdppercap                3.082995  \n",
       "invrate                 -0.103502  \n",
       "shvain                   0.012728  \n",
       "shvaag                   0.015406  \n",
       "shvams                  -0.018023  \n",
       "shvanms                 -0.010111  \n",
       "shskill                 -0.006143  \n",
       "density                -28.701421  "
      ]
     },
     "metadata": {},
     "output_type": "display_data"
    },
    {
     "name": "stdout",
     "output_type": "stream",
     "text": [
      "\n",
      "RMSPE CVXPY: 154.26663518337438 \n",
      "RMSPE Paper: 130.14101997364745 \n",
      "RMSPE Becker: 128.94693242022998\n"
     ]
    }
   ],
   "source": [
    "# Dataframe to show predicted vs actual values of variables and the RMSPE's.\n",
    "\n",
    "x_pred_pinotti = (X0 @ w_pinotti)\n",
    "x_pred_basic = (X0 @ w_basic)\n",
    "\n",
    "pred_error_pinotti = x_pred_pinotti - X1\n",
    "pred_error_basic = x_pred_basic - X1\n",
    "\n",
    "y_pred_pinotti = w_pinotti.T @ y_control\n",
    "y_pred_basic = w_basic.T @ y_control\n",
    "\n",
    "data_compare = pd.DataFrame({'Actual':X1.T[0],\n",
    "                             'Paper':x_pred_pinotti.T[0],\n",
    "                             'Optimizer':x_pred_basic.T[0],\n",
    "                             'Paper Differential': pred_error_pinotti.T[0],\n",
    "                             'Optimizer Differential': pred_error_basic.T[0]},\n",
    "                              index= data.columns[[3,16,11,12,13,14,26,28]]\n",
    ")\n",
    "\n",
    "print ('\\nBreakdown across predictors:')\n",
    "\n",
    "display(data_compare)\n",
    "\n",
    "print('\\nRMSPE CVXPY: {} \\nRMSPE Paper: {} \\nRMSPE Becker: {}'\\\n",
    "      .format(RMSPE(w_basic),RMSPE(w_pinotti),RMSPE(w_becker)))\n"
   ]
  },
  {
   "cell_type": "markdown",
   "metadata": {},
   "source": [
    "Our obtained weights $w$ can not be optimal since there exists weights $w^{*}$ such that \n",
    "\n",
    "[1] $$RMSPE(w) > RMSPE(w^{*})$$\n",
    "\n",
    "Clearly, there is room for improvement in the optimization algorithm. Assuming equal predictor importance simplifies the problem to single variable optimization, but at the cost of reliability of the result. Therefore, we proceed by augmenting the objective function with the relative importance of each of the k (8) predictors."
   ]
  },
  {
   "cell_type": "markdown",
   "metadata": {},
   "source": [
    "### 5.3 Optimization with addition of relative importance of each of the k predictors: A Reformulated Problem\n",
    "\n",
    "#### The choice of $V$ matters\n",
    "To account for the heterogeneity in the effect of the 8 predictor variables on the outcomes Y (GDP per capita in Pinotti's case), Abadie and Gardeazabal (2003) proposed augmenting the optimization objective with a (k × k) diagonal matrix V, such that the diagonal elements are weights indicating the relative importance of each of the predictors. The problem becomes,\n",
    "\n",
    "[3] $$W=\\min \\left(X_{1}-X_{0} W\\right)' V\\left(X_{1}-X_{0} W\\right)$$ \n",
    "\n",
    "[4] $$V=\\min \\left[\\left(Z_{1}-Z_{0} W^{*}(V))'\\left(Z_{1}-Z_{0} W^{*}(V)\\right]\\right.\\right.$$\n",
    "\n",
    "So the diagonal elements themselves becomes part of the optimization steps in the calulcation of the synthetic controls. Moreover, they are subject to their own constraints, namely, that $V$ is a subset of all positive semi-definite diagonal matrices, such that the diagonal elements sum to one:\n",
    "\n",
    "$$V \\in\\left\\{\\operatorname{diag}(V): V \\in \\mathbb{R}^{K \\times K}, \\sum_{k=1}^{K} V_{k k}=1, V_{k k} \\geq 0\\right\\}=: \\mathcal{V}$$\n",
    "\n",
    "The move away from the equal weights assumption from the previous section increases the task complexity considerably. As Pekka Malo et al. remark, \"A closer examination of the SCM problem ... reveals that the SCM problem is far from trivial from the computational point of view.\" (Pekka Malo et al., 2020:4).\n",
    "\n",
    "To explore this complexity, we consider two approaches. First, by iterating over the solution set and, second, by comparing it to a nested optimization algorithm. \n",
    "\n",
    "#### Approach 1: Iterating over the solution set by generating $V$ from a Dirichlet distribution \n",
    "\n",
    "To reduce the complexity of bileval optimization, we proceed by continously drawing the diagonal elements of $V$ from the Dirichlet distribution (to satsify that the predictors weight must sum to 1), then note the convergence of the RMSPE of the minimization problem of [1] by iterating over this set of possible solutions using CVXPY and scipy.minimize.\n",
    "\n",
    "##### CVXPY Implementation"
   ]
  },
  {
   "cell_type": "code",
   "execution_count": 14,
   "metadata": {
    "ExecuteTime": {
     "end_time": "2021-11-26T08:07:16.438715Z",
     "start_time": "2021-11-26T07:48:52.312323Z"
    },
    "scrolled": true
   },
   "outputs": [],
   "source": [
    "n = 100000      # Number of iterations\n",
    "iteration_2 = []\n",
    "\n",
    "for i in range(n):\n",
    "    \n",
    "    v_diag  = np.random.dirichlet(np.ones(8), size=1)\n",
    "    w_cvxpy = w_optimize(v_diag)[0]\n",
    "    \n",
    "    prediction_error =  RMSPE(w_cvxpy)    \n",
    "    iteration_2.append([prediction_error, v_diag, w_cvxpy.T])\n"
   ]
  },
  {
   "cell_type": "code",
   "execution_count": 15,
   "metadata": {
    "ExecuteTime": {
     "end_time": "2021-11-26T08:07:16.599107Z",
     "start_time": "2021-11-26T08:07:16.441242Z"
    },
    "scrolled": false
   },
   "outputs": [
    {
     "data": {
      "text/html": [
       "<div>\n",
       "<style scoped>\n",
       "    .dataframe tbody tr th:only-of-type {\n",
       "        vertical-align: middle;\n",
       "    }\n",
       "\n",
       "    .dataframe tbody tr th {\n",
       "        vertical-align: top;\n",
       "    }\n",
       "\n",
       "    .dataframe thead th {\n",
       "        text-align: right;\n",
       "    }\n",
       "</style>\n",
       "<table border=\"1\" class=\"dataframe\">\n",
       "  <thead>\n",
       "    <tr style=\"text-align: right;\">\n",
       "      <th></th>\n",
       "      <th>Region</th>\n",
       "      <th>W(V*)</th>\n",
       "    </tr>\n",
       "  </thead>\n",
       "  <tbody>\n",
       "    <tr>\n",
       "      <th>0</th>\n",
       "      <td>PIE</td>\n",
       "      <td>0.000</td>\n",
       "    </tr>\n",
       "    <tr>\n",
       "      <th>1</th>\n",
       "      <td>VDA</td>\n",
       "      <td>0.000</td>\n",
       "    </tr>\n",
       "    <tr>\n",
       "      <th>2</th>\n",
       "      <td>LOM</td>\n",
       "      <td>0.000</td>\n",
       "    </tr>\n",
       "    <tr>\n",
       "      <th>3</th>\n",
       "      <td>TAA</td>\n",
       "      <td>0.000</td>\n",
       "    </tr>\n",
       "    <tr>\n",
       "      <th>4</th>\n",
       "      <td>VEN</td>\n",
       "      <td>0.000</td>\n",
       "    </tr>\n",
       "    <tr>\n",
       "      <th>5</th>\n",
       "      <td>FVG</td>\n",
       "      <td>0.000</td>\n",
       "    </tr>\n",
       "    <tr>\n",
       "      <th>6</th>\n",
       "      <td>LIG</td>\n",
       "      <td>0.000</td>\n",
       "    </tr>\n",
       "    <tr>\n",
       "      <th>7</th>\n",
       "      <td>EMR</td>\n",
       "      <td>0.000</td>\n",
       "    </tr>\n",
       "    <tr>\n",
       "      <th>8</th>\n",
       "      <td>TOS</td>\n",
       "      <td>0.000</td>\n",
       "    </tr>\n",
       "    <tr>\n",
       "      <th>9</th>\n",
       "      <td>UMB</td>\n",
       "      <td>0.000</td>\n",
       "    </tr>\n",
       "    <tr>\n",
       "      <th>10</th>\n",
       "      <td>MAR</td>\n",
       "      <td>0.000</td>\n",
       "    </tr>\n",
       "    <tr>\n",
       "      <th>11</th>\n",
       "      <td>LAZ</td>\n",
       "      <td>0.000</td>\n",
       "    </tr>\n",
       "    <tr>\n",
       "      <th>12</th>\n",
       "      <td>ABR</td>\n",
       "      <td>0.597</td>\n",
       "    </tr>\n",
       "    <tr>\n",
       "      <th>13</th>\n",
       "      <td>MOL</td>\n",
       "      <td>0.403</td>\n",
       "    </tr>\n",
       "    <tr>\n",
       "      <th>14</th>\n",
       "      <td>SAR</td>\n",
       "      <td>0.000</td>\n",
       "    </tr>\n",
       "  </tbody>\n",
       "</table>\n",
       "</div>"
      ],
      "text/plain": [
       "   Region  W(V*)\n",
       "0     PIE  0.000\n",
       "1     VDA  0.000\n",
       "2     LOM  0.000\n",
       "3     TAA  0.000\n",
       "4     VEN  0.000\n",
       "5     FVG  0.000\n",
       "6     LIG  0.000\n",
       "7     EMR  0.000\n",
       "8     TOS  0.000\n",
       "9     UMB  0.000\n",
       "10    MAR  0.000\n",
       "11    LAZ  0.000\n",
       "12    ABR  0.597\n",
       "13    MOL  0.403\n",
       "14    SAR  0.000"
      ]
     },
     "metadata": {},
     "output_type": "display_data"
    }
   ],
   "source": [
    "solution_frame_2 = pd.DataFrame(iteration_2)\n",
    "solution_frame_2.columns =['Error', 'Relative Importance', 'Weights']\n",
    "\n",
    "solution_frame_2 = solution_frame_2.sort_values(by='Error', ascending=True)\n",
    "#solution_frame_2.head(10)\n",
    "\n",
    "w_cvxpy = solution_frame_2.iloc[0][2][0]\n",
    "v_cvxpy = solution_frame_2.iloc[0][1][0]\n",
    "\n",
    "best_weights_region = pd.DataFrame({'Region':control_units.region.unique(), \n",
    "                                    'W(V*)': np.round(w_cvxpy, decimals=3)})\n",
    "\n",
    "best_weights_importance = pd.DataFrame({'Predictors': data.columns[[3,16,11,12,13,14,26,28]],\n",
    "                                        'V*': np.round(v_cvxpy, 3)})\n",
    "\n",
    "#display(best_weights_importance)\n",
    "display(best_weights_region)"
   ]
  },
  {
   "cell_type": "code",
   "execution_count": 31,
   "metadata": {
    "ExecuteTime": {
     "end_time": "2021-11-26T09:01:22.900286Z",
     "start_time": "2021-11-26T09:01:22.866719Z"
    },
    "scrolled": false
   },
   "outputs": [
    {
     "data": {
      "application/vnd.plotly.v1+json": {
       "config": {
        "plotlyServerURL": "https://plot.ly"
       },
       "data": [
        {
         "mode": "lines",
         "name": "Optimizer",
         "type": "scatter",
         "x": [
          1951,
          1952,
          1953,
          1954,
          1955,
          1956,
          1957,
          1958,
          1959,
          1960,
          1961,
          1962,
          1963,
          1964,
          1965,
          1966,
          1967,
          1968,
          1969,
          1970,
          1971,
          1972,
          1973,
          1974,
          1975,
          1976,
          1977,
          1978,
          1979,
          1980,
          1981,
          1982,
          1983,
          1984,
          1985,
          1986,
          1987,
          1988,
          1989,
          1990,
          1991,
          1992,
          1993,
          1994,
          1995,
          1996,
          1997,
          1998,
          1999,
          2000,
          2001,
          2002,
          2003,
          2004,
          2005,
          2006,
          2007
         ],
         "y": [
          2021.3232272929556,
          2133.8663270310426,
          2274.9272810130237,
          2312.899595349442,
          2414.85029744546,
          2407.6496897632337,
          2389.6367111064237,
          2528.3121572303994,
          2734.909630575033,
          2731.582198771136,
          3145.810733430005,
          3353.266676033578,
          3394.3783890344193,
          3415.976487991957,
          3591.1527436831716,
          3782.7173034772427,
          4182.892099031152,
          4438.826327506283,
          4887.419359167684,
          5070.003195205268,
          5355.640067015844,
          5544.187656052318,
          5789.7164231258685,
          6016.027481449231,
          5988.443529480537,
          6381.0615010515285,
          6583.857111446835,
          6951.173049752836,
          7437.280183702194,
          7884.929781383345,
          7769.804480580455,
          7815.608106341594,
          7941.713631490515,
          8193.255667995354,
          8429.004476426218,
          8641.719717007712,
          8875.126555212077,
          9264.666374404067,
          9531.269230694077,
          9691.772096798302,
          10094.469628738552,
          10196.785998812406,
          9837.364504661955,
          10027.53404515486,
          10321.358465687297,
          10417.2304931668,
          10733.369242421213,
          10783.563095845626,
          10813.670493545382,
          11315.051450925852,
          11727.91340951249,
          11776.810436839947,
          11651.824319945701,
          11589.206377718234,
          11721.191646658586,
          12001.503927146296,
          11988.40774588145
         ]
        },
        {
         "mode": "lines",
         "name": "Pinotti",
         "type": "scatter",
         "x": [
          1951,
          1952,
          1953,
          1954,
          1955,
          1956,
          1957,
          1958,
          1959,
          1960,
          1961,
          1962,
          1963,
          1964,
          1965,
          1966,
          1967,
          1968,
          1969,
          1970,
          1971,
          1972,
          1973,
          1974,
          1975,
          1976,
          1977,
          1978,
          1979,
          1980,
          1981,
          1982,
          1983,
          1984,
          1985,
          1986,
          1987,
          1988,
          1989,
          1990,
          1991,
          1992,
          1993,
          1994,
          1995,
          1996,
          1997,
          1998,
          1999,
          2000,
          2001,
          2002,
          2003,
          2004,
          2005,
          2006,
          2007
         ],
         "y": [
          2029.541525390625,
          2137.643015625,
          2280.043365234375,
          2324.384759765625,
          2423.530521484375,
          2414.3116484375,
          2396.363603515625,
          2539.3596621093748,
          2740.5140644531252,
          2743.345421875,
          3158.432955078125,
          3364.320197265625,
          3402.3371464843754,
          3423.267986328125,
          3598.170685546875,
          3788.89976953125,
          4189.224123046874,
          4452.86501171875,
          4908.23264453125,
          5095.59106640625,
          5390.92690234375,
          5581.583390625,
          5831.20464453125,
          6054.3179375,
          6019.8745390625,
          6413.4213203125,
          6620.90231640625,
          6988.494484375,
          7477.641109375,
          7921.4470078125005,
          7809.6096640625,
          7861.651859375001,
          7984.8482031250005,
          8234.00123828125,
          8466.6904296875,
          8680.31966015625,
          8915.7554296875,
          9299.629023437501,
          9573.058953125,
          9736.320015625,
          10139.197609375,
          10242.21809375,
          9879.132734375,
          10066.452640625,
          10366.29534375,
          10454.03634375,
          10765.1386953125,
          10813.4211171875,
          10849.6793984375,
          11355.1891015625,
          11766.1323125,
          11805.3629765625,
          11679.83640625,
          11606.369679687501,
          11740.7458125,
          12015.49775,
          11998.3490390625
         ]
        },
        {
         "mode": "lines",
         "name": "Treated unit",
         "type": "scatter",
         "x": [
          1951,
          1952,
          1953,
          1954,
          1955,
          1956,
          1957,
          1958,
          1959,
          1960,
          1961,
          1962,
          1963,
          1964,
          1965,
          1966,
          1967,
          1968,
          1969,
          1970,
          1971,
          1972,
          1973,
          1974,
          1975,
          1976,
          1977,
          1978,
          1979,
          1980,
          1981,
          1982,
          1983,
          1984,
          1985,
          1986,
          1987,
          1988,
          1989,
          1990,
          1991,
          1992,
          1993,
          1994,
          1995,
          1996,
          1997,
          1998,
          1999,
          2000,
          2001,
          2002,
          2003,
          2004,
          2005,
          2006,
          2007
         ],
         "y": [
          2034.144775390625,
          1992.7567138671875,
          2405.923583984375,
          2455.6064453125,
          2327.77587890625,
          2392.174560546875,
          2621.853271484375,
          2521.5703125,
          2515.03759765625,
          2683.11279296875,
          2979.33740234375,
          3265.341796875,
          3415.132568359375,
          3467.41259765625,
          3796.149169921875,
          3950.023681640625,
          4439.67822265625,
          4440.22705078125,
          4960.33984375,
          5178.93310546875,
          5432.1015625,
          5531.82421875,
          5784.31787109375,
          5990.29052734375,
          5944.7470703125,
          6168.8173828125,
          6318.408203125,
          6531.55712890625,
          6832.80224609375,
          6943.01611328125,
          6707.8818359375,
          6663.8046875,
          6910.5966796875,
          7071.87158203125,
          7160.8984375,
          7345.021484375,
          7568.423828125,
          7916.5615234375,
          8084.18408203125,
          8102.86865234375,
          8490.349609375,
          8445.625,
          8234.916015625,
          8446.6826171875,
          8523.7236328125,
          8599.2265625,
          8747.8876953125,
          9004.8447265625,
          9432.0234375,
          9617.5234375,
          9862.884765625,
          9932.267578125,
          9804.88671875,
          9784.4501953125,
          9754.3642578125,
          9984.7529296875,
          10140.873046875
         ]
        },
        {
         "mode": "text",
         "name": "Matching",
         "text": [
          "End of Matching<br>Period"
         ],
         "type": "scatter",
         "x": [
          1960
         ],
         "y": [
          12000
         ]
        }
       ],
       "layout": {
        "shapes": [
         {
          "line": {
           "color": "Black",
           "width": 1
          },
          "type": "line",
          "x0": 1960,
          "x1": 1960,
          "y0": 0,
          "y1": 11000
         }
        ],
        "template": {
         "data": {
          "bar": [
           {
            "error_x": {
             "color": "#2a3f5f"
            },
            "error_y": {
             "color": "#2a3f5f"
            },
            "marker": {
             "line": {
              "color": "#E5ECF6",
              "width": 0.5
             },
             "pattern": {
              "fillmode": "overlay",
              "size": 10,
              "solidity": 0.2
             }
            },
            "type": "bar"
           }
          ],
          "barpolar": [
           {
            "marker": {
             "line": {
              "color": "#E5ECF6",
              "width": 0.5
             },
             "pattern": {
              "fillmode": "overlay",
              "size": 10,
              "solidity": 0.2
             }
            },
            "type": "barpolar"
           }
          ],
          "carpet": [
           {
            "aaxis": {
             "endlinecolor": "#2a3f5f",
             "gridcolor": "white",
             "linecolor": "white",
             "minorgridcolor": "white",
             "startlinecolor": "#2a3f5f"
            },
            "baxis": {
             "endlinecolor": "#2a3f5f",
             "gridcolor": "white",
             "linecolor": "white",
             "minorgridcolor": "white",
             "startlinecolor": "#2a3f5f"
            },
            "type": "carpet"
           }
          ],
          "choropleth": [
           {
            "colorbar": {
             "outlinewidth": 0,
             "ticks": ""
            },
            "type": "choropleth"
           }
          ],
          "contour": [
           {
            "colorbar": {
             "outlinewidth": 0,
             "ticks": ""
            },
            "colorscale": [
             [
              0,
              "#0d0887"
             ],
             [
              0.1111111111111111,
              "#46039f"
             ],
             [
              0.2222222222222222,
              "#7201a8"
             ],
             [
              0.3333333333333333,
              "#9c179e"
             ],
             [
              0.4444444444444444,
              "#bd3786"
             ],
             [
              0.5555555555555556,
              "#d8576b"
             ],
             [
              0.6666666666666666,
              "#ed7953"
             ],
             [
              0.7777777777777778,
              "#fb9f3a"
             ],
             [
              0.8888888888888888,
              "#fdca26"
             ],
             [
              1,
              "#f0f921"
             ]
            ],
            "type": "contour"
           }
          ],
          "contourcarpet": [
           {
            "colorbar": {
             "outlinewidth": 0,
             "ticks": ""
            },
            "type": "contourcarpet"
           }
          ],
          "heatmap": [
           {
            "colorbar": {
             "outlinewidth": 0,
             "ticks": ""
            },
            "colorscale": [
             [
              0,
              "#0d0887"
             ],
             [
              0.1111111111111111,
              "#46039f"
             ],
             [
              0.2222222222222222,
              "#7201a8"
             ],
             [
              0.3333333333333333,
              "#9c179e"
             ],
             [
              0.4444444444444444,
              "#bd3786"
             ],
             [
              0.5555555555555556,
              "#d8576b"
             ],
             [
              0.6666666666666666,
              "#ed7953"
             ],
             [
              0.7777777777777778,
              "#fb9f3a"
             ],
             [
              0.8888888888888888,
              "#fdca26"
             ],
             [
              1,
              "#f0f921"
             ]
            ],
            "type": "heatmap"
           }
          ],
          "heatmapgl": [
           {
            "colorbar": {
             "outlinewidth": 0,
             "ticks": ""
            },
            "colorscale": [
             [
              0,
              "#0d0887"
             ],
             [
              0.1111111111111111,
              "#46039f"
             ],
             [
              0.2222222222222222,
              "#7201a8"
             ],
             [
              0.3333333333333333,
              "#9c179e"
             ],
             [
              0.4444444444444444,
              "#bd3786"
             ],
             [
              0.5555555555555556,
              "#d8576b"
             ],
             [
              0.6666666666666666,
              "#ed7953"
             ],
             [
              0.7777777777777778,
              "#fb9f3a"
             ],
             [
              0.8888888888888888,
              "#fdca26"
             ],
             [
              1,
              "#f0f921"
             ]
            ],
            "type": "heatmapgl"
           }
          ],
          "histogram": [
           {
            "marker": {
             "pattern": {
              "fillmode": "overlay",
              "size": 10,
              "solidity": 0.2
             }
            },
            "type": "histogram"
           }
          ],
          "histogram2d": [
           {
            "colorbar": {
             "outlinewidth": 0,
             "ticks": ""
            },
            "colorscale": [
             [
              0,
              "#0d0887"
             ],
             [
              0.1111111111111111,
              "#46039f"
             ],
             [
              0.2222222222222222,
              "#7201a8"
             ],
             [
              0.3333333333333333,
              "#9c179e"
             ],
             [
              0.4444444444444444,
              "#bd3786"
             ],
             [
              0.5555555555555556,
              "#d8576b"
             ],
             [
              0.6666666666666666,
              "#ed7953"
             ],
             [
              0.7777777777777778,
              "#fb9f3a"
             ],
             [
              0.8888888888888888,
              "#fdca26"
             ],
             [
              1,
              "#f0f921"
             ]
            ],
            "type": "histogram2d"
           }
          ],
          "histogram2dcontour": [
           {
            "colorbar": {
             "outlinewidth": 0,
             "ticks": ""
            },
            "colorscale": [
             [
              0,
              "#0d0887"
             ],
             [
              0.1111111111111111,
              "#46039f"
             ],
             [
              0.2222222222222222,
              "#7201a8"
             ],
             [
              0.3333333333333333,
              "#9c179e"
             ],
             [
              0.4444444444444444,
              "#bd3786"
             ],
             [
              0.5555555555555556,
              "#d8576b"
             ],
             [
              0.6666666666666666,
              "#ed7953"
             ],
             [
              0.7777777777777778,
              "#fb9f3a"
             ],
             [
              0.8888888888888888,
              "#fdca26"
             ],
             [
              1,
              "#f0f921"
             ]
            ],
            "type": "histogram2dcontour"
           }
          ],
          "mesh3d": [
           {
            "colorbar": {
             "outlinewidth": 0,
             "ticks": ""
            },
            "type": "mesh3d"
           }
          ],
          "parcoords": [
           {
            "line": {
             "colorbar": {
              "outlinewidth": 0,
              "ticks": ""
             }
            },
            "type": "parcoords"
           }
          ],
          "pie": [
           {
            "automargin": true,
            "type": "pie"
           }
          ],
          "scatter": [
           {
            "marker": {
             "colorbar": {
              "outlinewidth": 0,
              "ticks": ""
             }
            },
            "type": "scatter"
           }
          ],
          "scatter3d": [
           {
            "line": {
             "colorbar": {
              "outlinewidth": 0,
              "ticks": ""
             }
            },
            "marker": {
             "colorbar": {
              "outlinewidth": 0,
              "ticks": ""
             }
            },
            "type": "scatter3d"
           }
          ],
          "scattercarpet": [
           {
            "marker": {
             "colorbar": {
              "outlinewidth": 0,
              "ticks": ""
             }
            },
            "type": "scattercarpet"
           }
          ],
          "scattergeo": [
           {
            "marker": {
             "colorbar": {
              "outlinewidth": 0,
              "ticks": ""
             }
            },
            "type": "scattergeo"
           }
          ],
          "scattergl": [
           {
            "marker": {
             "colorbar": {
              "outlinewidth": 0,
              "ticks": ""
             }
            },
            "type": "scattergl"
           }
          ],
          "scattermapbox": [
           {
            "marker": {
             "colorbar": {
              "outlinewidth": 0,
              "ticks": ""
             }
            },
            "type": "scattermapbox"
           }
          ],
          "scatterpolar": [
           {
            "marker": {
             "colorbar": {
              "outlinewidth": 0,
              "ticks": ""
             }
            },
            "type": "scatterpolar"
           }
          ],
          "scatterpolargl": [
           {
            "marker": {
             "colorbar": {
              "outlinewidth": 0,
              "ticks": ""
             }
            },
            "type": "scatterpolargl"
           }
          ],
          "scatterternary": [
           {
            "marker": {
             "colorbar": {
              "outlinewidth": 0,
              "ticks": ""
             }
            },
            "type": "scatterternary"
           }
          ],
          "surface": [
           {
            "colorbar": {
             "outlinewidth": 0,
             "ticks": ""
            },
            "colorscale": [
             [
              0,
              "#0d0887"
             ],
             [
              0.1111111111111111,
              "#46039f"
             ],
             [
              0.2222222222222222,
              "#7201a8"
             ],
             [
              0.3333333333333333,
              "#9c179e"
             ],
             [
              0.4444444444444444,
              "#bd3786"
             ],
             [
              0.5555555555555556,
              "#d8576b"
             ],
             [
              0.6666666666666666,
              "#ed7953"
             ],
             [
              0.7777777777777778,
              "#fb9f3a"
             ],
             [
              0.8888888888888888,
              "#fdca26"
             ],
             [
              1,
              "#f0f921"
             ]
            ],
            "type": "surface"
           }
          ],
          "table": [
           {
            "cells": {
             "fill": {
              "color": "#EBF0F8"
             },
             "line": {
              "color": "white"
             }
            },
            "header": {
             "fill": {
              "color": "#C8D4E3"
             },
             "line": {
              "color": "white"
             }
            },
            "type": "table"
           }
          ]
         },
         "layout": {
          "annotationdefaults": {
           "arrowcolor": "#2a3f5f",
           "arrowhead": 0,
           "arrowwidth": 1
          },
          "autotypenumbers": "strict",
          "coloraxis": {
           "colorbar": {
            "outlinewidth": 0,
            "ticks": ""
           }
          },
          "colorscale": {
           "diverging": [
            [
             0,
             "#8e0152"
            ],
            [
             0.1,
             "#c51b7d"
            ],
            [
             0.2,
             "#de77ae"
            ],
            [
             0.3,
             "#f1b6da"
            ],
            [
             0.4,
             "#fde0ef"
            ],
            [
             0.5,
             "#f7f7f7"
            ],
            [
             0.6,
             "#e6f5d0"
            ],
            [
             0.7,
             "#b8e186"
            ],
            [
             0.8,
             "#7fbc41"
            ],
            [
             0.9,
             "#4d9221"
            ],
            [
             1,
             "#276419"
            ]
           ],
           "sequential": [
            [
             0,
             "#0d0887"
            ],
            [
             0.1111111111111111,
             "#46039f"
            ],
            [
             0.2222222222222222,
             "#7201a8"
            ],
            [
             0.3333333333333333,
             "#9c179e"
            ],
            [
             0.4444444444444444,
             "#bd3786"
            ],
            [
             0.5555555555555556,
             "#d8576b"
            ],
            [
             0.6666666666666666,
             "#ed7953"
            ],
            [
             0.7777777777777778,
             "#fb9f3a"
            ],
            [
             0.8888888888888888,
             "#fdca26"
            ],
            [
             1,
             "#f0f921"
            ]
           ],
           "sequentialminus": [
            [
             0,
             "#0d0887"
            ],
            [
             0.1111111111111111,
             "#46039f"
            ],
            [
             0.2222222222222222,
             "#7201a8"
            ],
            [
             0.3333333333333333,
             "#9c179e"
            ],
            [
             0.4444444444444444,
             "#bd3786"
            ],
            [
             0.5555555555555556,
             "#d8576b"
            ],
            [
             0.6666666666666666,
             "#ed7953"
            ],
            [
             0.7777777777777778,
             "#fb9f3a"
            ],
            [
             0.8888888888888888,
             "#fdca26"
            ],
            [
             1,
             "#f0f921"
            ]
           ]
          },
          "colorway": [
           "#636efa",
           "#EF553B",
           "#00cc96",
           "#ab63fa",
           "#FFA15A",
           "#19d3f3",
           "#FF6692",
           "#B6E880",
           "#FF97FF",
           "#FECB52"
          ],
          "font": {
           "color": "#2a3f5f"
          },
          "geo": {
           "bgcolor": "white",
           "lakecolor": "white",
           "landcolor": "#E5ECF6",
           "showlakes": true,
           "showland": true,
           "subunitcolor": "white"
          },
          "hoverlabel": {
           "align": "left"
          },
          "hovermode": "closest",
          "mapbox": {
           "style": "light"
          },
          "paper_bgcolor": "white",
          "plot_bgcolor": "#E5ECF6",
          "polar": {
           "angularaxis": {
            "gridcolor": "white",
            "linecolor": "white",
            "ticks": ""
           },
           "bgcolor": "#E5ECF6",
           "radialaxis": {
            "gridcolor": "white",
            "linecolor": "white",
            "ticks": ""
           }
          },
          "scene": {
           "xaxis": {
            "backgroundcolor": "#E5ECF6",
            "gridcolor": "white",
            "gridwidth": 2,
            "linecolor": "white",
            "showbackground": true,
            "ticks": "",
            "zerolinecolor": "white"
           },
           "yaxis": {
            "backgroundcolor": "#E5ECF6",
            "gridcolor": "white",
            "gridwidth": 2,
            "linecolor": "white",
            "showbackground": true,
            "ticks": "",
            "zerolinecolor": "white"
           },
           "zaxis": {
            "backgroundcolor": "#E5ECF6",
            "gridcolor": "white",
            "gridwidth": 2,
            "linecolor": "white",
            "showbackground": true,
            "ticks": "",
            "zerolinecolor": "white"
           }
          },
          "shapedefaults": {
           "line": {
            "color": "#2a3f5f"
           }
          },
          "ternary": {
           "aaxis": {
            "gridcolor": "white",
            "linecolor": "white",
            "ticks": ""
           },
           "baxis": {
            "gridcolor": "white",
            "linecolor": "white",
            "ticks": ""
           },
           "bgcolor": "#E5ECF6",
           "caxis": {
            "gridcolor": "white",
            "linecolor": "white",
            "ticks": ""
           }
          },
          "title": {
           "x": 0.05
          },
          "xaxis": {
           "automargin": true,
           "gridcolor": "white",
           "linecolor": "white",
           "ticks": "",
           "title": {
            "standoff": 15
           },
           "zerolinecolor": "white",
           "zerolinewidth": 2
          },
          "yaxis": {
           "automargin": true,
           "gridcolor": "white",
           "linecolor": "white",
           "ticks": "",
           "title": {
            "standoff": 15
           },
           "zerolinecolor": "white",
           "zerolinewidth": 2
          }
         }
        },
        "title": {
         "text": "Synthetic Control<br>Optimizer vs. Treated unit"
        },
        "xaxis": {
         "title": {
          "text": "Time"
         }
        },
        "yaxis": {
         "title": {
          "text": "GDP per Capita"
         }
        }
       }
      },
      "text/html": [
       "<div>                            <div id=\"3f0381df-19a0-405c-9afb-b2f96f8e1bf1\" class=\"plotly-graph-div\" style=\"height:525px; width:100%;\"></div>            <script type=\"text/javascript\">                require([\"plotly\"], function(Plotly) {                    window.PLOTLYENV=window.PLOTLYENV || {};                                    if (document.getElementById(\"3f0381df-19a0-405c-9afb-b2f96f8e1bf1\")) {                    Plotly.newPlot(                        \"3f0381df-19a0-405c-9afb-b2f96f8e1bf1\",                        [{\"mode\":\"lines\",\"name\":\"Optimizer\",\"x\":[1951.0,1952.0,1953.0,1954.0,1955.0,1956.0,1957.0,1958.0,1959.0,1960.0,1961.0,1962.0,1963.0,1964.0,1965.0,1966.0,1967.0,1968.0,1969.0,1970.0,1971.0,1972.0,1973.0,1974.0,1975.0,1976.0,1977.0,1978.0,1979.0,1980.0,1981.0,1982.0,1983.0,1984.0,1985.0,1986.0,1987.0,1988.0,1989.0,1990.0,1991.0,1992.0,1993.0,1994.0,1995.0,1996.0,1997.0,1998.0,1999.0,2000.0,2001.0,2002.0,2003.0,2004.0,2005.0,2006.0,2007.0],\"y\":[2021.3232272929556,2133.8663270310426,2274.9272810130237,2312.899595349442,2414.85029744546,2407.6496897632337,2389.6367111064237,2528.3121572303994,2734.909630575033,2731.582198771136,3145.810733430005,3353.266676033578,3394.3783890344193,3415.976487991957,3591.1527436831716,3782.7173034772427,4182.892099031152,4438.826327506283,4887.419359167684,5070.003195205268,5355.640067015844,5544.187656052318,5789.7164231258685,6016.027481449231,5988.443529480537,6381.0615010515285,6583.857111446835,6951.173049752836,7437.280183702194,7884.929781383345,7769.804480580455,7815.608106341594,7941.713631490515,8193.255667995354,8429.004476426218,8641.719717007712,8875.126555212077,9264.666374404067,9531.269230694077,9691.772096798302,10094.469628738552,10196.785998812406,9837.364504661955,10027.53404515486,10321.358465687297,10417.2304931668,10733.369242421213,10783.563095845626,10813.670493545382,11315.051450925852,11727.91340951249,11776.810436839947,11651.824319945701,11589.206377718234,11721.191646658586,12001.503927146296,11988.40774588145],\"type\":\"scatter\"},{\"mode\":\"lines\",\"name\":\"Pinotti\",\"x\":[1951.0,1952.0,1953.0,1954.0,1955.0,1956.0,1957.0,1958.0,1959.0,1960.0,1961.0,1962.0,1963.0,1964.0,1965.0,1966.0,1967.0,1968.0,1969.0,1970.0,1971.0,1972.0,1973.0,1974.0,1975.0,1976.0,1977.0,1978.0,1979.0,1980.0,1981.0,1982.0,1983.0,1984.0,1985.0,1986.0,1987.0,1988.0,1989.0,1990.0,1991.0,1992.0,1993.0,1994.0,1995.0,1996.0,1997.0,1998.0,1999.0,2000.0,2001.0,2002.0,2003.0,2004.0,2005.0,2006.0,2007.0],\"y\":[2029.541525390625,2137.643015625,2280.043365234375,2324.384759765625,2423.530521484375,2414.3116484375,2396.363603515625,2539.3596621093748,2740.5140644531252,2743.345421875,3158.432955078125,3364.320197265625,3402.3371464843754,3423.267986328125,3598.170685546875,3788.89976953125,4189.224123046874,4452.86501171875,4908.23264453125,5095.59106640625,5390.92690234375,5581.583390625,5831.20464453125,6054.3179375,6019.8745390625,6413.4213203125,6620.90231640625,6988.494484375,7477.641109375,7921.4470078125005,7809.6096640625,7861.651859375001,7984.8482031250005,8234.00123828125,8466.6904296875,8680.31966015625,8915.7554296875,9299.629023437501,9573.058953125,9736.320015625,10139.197609375,10242.21809375,9879.132734375,10066.452640625,10366.29534375,10454.03634375,10765.1386953125,10813.4211171875,10849.6793984375,11355.1891015625,11766.1323125,11805.3629765625,11679.83640625,11606.369679687501,11740.7458125,12015.49775,11998.3490390625],\"type\":\"scatter\"},{\"mode\":\"lines\",\"name\":\"Treated unit\",\"x\":[1951.0,1952.0,1953.0,1954.0,1955.0,1956.0,1957.0,1958.0,1959.0,1960.0,1961.0,1962.0,1963.0,1964.0,1965.0,1966.0,1967.0,1968.0,1969.0,1970.0,1971.0,1972.0,1973.0,1974.0,1975.0,1976.0,1977.0,1978.0,1979.0,1980.0,1981.0,1982.0,1983.0,1984.0,1985.0,1986.0,1987.0,1988.0,1989.0,1990.0,1991.0,1992.0,1993.0,1994.0,1995.0,1996.0,1997.0,1998.0,1999.0,2000.0,2001.0,2002.0,2003.0,2004.0,2005.0,2006.0,2007.0],\"y\":[2034.144775390625,1992.7567138671875,2405.923583984375,2455.6064453125,2327.77587890625,2392.174560546875,2621.853271484375,2521.5703125,2515.03759765625,2683.11279296875,2979.33740234375,3265.341796875,3415.132568359375,3467.41259765625,3796.149169921875,3950.023681640625,4439.67822265625,4440.22705078125,4960.33984375,5178.93310546875,5432.1015625,5531.82421875,5784.31787109375,5990.29052734375,5944.7470703125,6168.8173828125,6318.408203125,6531.55712890625,6832.80224609375,6943.01611328125,6707.8818359375,6663.8046875,6910.5966796875,7071.87158203125,7160.8984375,7345.021484375,7568.423828125,7916.5615234375,8084.18408203125,8102.86865234375,8490.349609375,8445.625,8234.916015625,8446.6826171875,8523.7236328125,8599.2265625,8747.8876953125,9004.8447265625,9432.0234375,9617.5234375,9862.884765625,9932.267578125,9804.88671875,9784.4501953125,9754.3642578125,9984.7529296875,10140.873046875],\"type\":\"scatter\"},{\"mode\":\"text\",\"name\":\"Matching\",\"text\":[\"End of Matching<br>Period\"],\"x\":[1960],\"y\":[12000],\"type\":\"scatter\"}],                        {\"template\":{\"data\":{\"bar\":[{\"error_x\":{\"color\":\"#2a3f5f\"},\"error_y\":{\"color\":\"#2a3f5f\"},\"marker\":{\"line\":{\"color\":\"#E5ECF6\",\"width\":0.5},\"pattern\":{\"fillmode\":\"overlay\",\"size\":10,\"solidity\":0.2}},\"type\":\"bar\"}],\"barpolar\":[{\"marker\":{\"line\":{\"color\":\"#E5ECF6\",\"width\":0.5},\"pattern\":{\"fillmode\":\"overlay\",\"size\":10,\"solidity\":0.2}},\"type\":\"barpolar\"}],\"carpet\":[{\"aaxis\":{\"endlinecolor\":\"#2a3f5f\",\"gridcolor\":\"white\",\"linecolor\":\"white\",\"minorgridcolor\":\"white\",\"startlinecolor\":\"#2a3f5f\"},\"baxis\":{\"endlinecolor\":\"#2a3f5f\",\"gridcolor\":\"white\",\"linecolor\":\"white\",\"minorgridcolor\":\"white\",\"startlinecolor\":\"#2a3f5f\"},\"type\":\"carpet\"}],\"choropleth\":[{\"colorbar\":{\"outlinewidth\":0,\"ticks\":\"\"},\"type\":\"choropleth\"}],\"contour\":[{\"colorbar\":{\"outlinewidth\":0,\"ticks\":\"\"},\"colorscale\":[[0.0,\"#0d0887\"],[0.1111111111111111,\"#46039f\"],[0.2222222222222222,\"#7201a8\"],[0.3333333333333333,\"#9c179e\"],[0.4444444444444444,\"#bd3786\"],[0.5555555555555556,\"#d8576b\"],[0.6666666666666666,\"#ed7953\"],[0.7777777777777778,\"#fb9f3a\"],[0.8888888888888888,\"#fdca26\"],[1.0,\"#f0f921\"]],\"type\":\"contour\"}],\"contourcarpet\":[{\"colorbar\":{\"outlinewidth\":0,\"ticks\":\"\"},\"type\":\"contourcarpet\"}],\"heatmap\":[{\"colorbar\":{\"outlinewidth\":0,\"ticks\":\"\"},\"colorscale\":[[0.0,\"#0d0887\"],[0.1111111111111111,\"#46039f\"],[0.2222222222222222,\"#7201a8\"],[0.3333333333333333,\"#9c179e\"],[0.4444444444444444,\"#bd3786\"],[0.5555555555555556,\"#d8576b\"],[0.6666666666666666,\"#ed7953\"],[0.7777777777777778,\"#fb9f3a\"],[0.8888888888888888,\"#fdca26\"],[1.0,\"#f0f921\"]],\"type\":\"heatmap\"}],\"heatmapgl\":[{\"colorbar\":{\"outlinewidth\":0,\"ticks\":\"\"},\"colorscale\":[[0.0,\"#0d0887\"],[0.1111111111111111,\"#46039f\"],[0.2222222222222222,\"#7201a8\"],[0.3333333333333333,\"#9c179e\"],[0.4444444444444444,\"#bd3786\"],[0.5555555555555556,\"#d8576b\"],[0.6666666666666666,\"#ed7953\"],[0.7777777777777778,\"#fb9f3a\"],[0.8888888888888888,\"#fdca26\"],[1.0,\"#f0f921\"]],\"type\":\"heatmapgl\"}],\"histogram\":[{\"marker\":{\"pattern\":{\"fillmode\":\"overlay\",\"size\":10,\"solidity\":0.2}},\"type\":\"histogram\"}],\"histogram2d\":[{\"colorbar\":{\"outlinewidth\":0,\"ticks\":\"\"},\"colorscale\":[[0.0,\"#0d0887\"],[0.1111111111111111,\"#46039f\"],[0.2222222222222222,\"#7201a8\"],[0.3333333333333333,\"#9c179e\"],[0.4444444444444444,\"#bd3786\"],[0.5555555555555556,\"#d8576b\"],[0.6666666666666666,\"#ed7953\"],[0.7777777777777778,\"#fb9f3a\"],[0.8888888888888888,\"#fdca26\"],[1.0,\"#f0f921\"]],\"type\":\"histogram2d\"}],\"histogram2dcontour\":[{\"colorbar\":{\"outlinewidth\":0,\"ticks\":\"\"},\"colorscale\":[[0.0,\"#0d0887\"],[0.1111111111111111,\"#46039f\"],[0.2222222222222222,\"#7201a8\"],[0.3333333333333333,\"#9c179e\"],[0.4444444444444444,\"#bd3786\"],[0.5555555555555556,\"#d8576b\"],[0.6666666666666666,\"#ed7953\"],[0.7777777777777778,\"#fb9f3a\"],[0.8888888888888888,\"#fdca26\"],[1.0,\"#f0f921\"]],\"type\":\"histogram2dcontour\"}],\"mesh3d\":[{\"colorbar\":{\"outlinewidth\":0,\"ticks\":\"\"},\"type\":\"mesh3d\"}],\"parcoords\":[{\"line\":{\"colorbar\":{\"outlinewidth\":0,\"ticks\":\"\"}},\"type\":\"parcoords\"}],\"pie\":[{\"automargin\":true,\"type\":\"pie\"}],\"scatter\":[{\"marker\":{\"colorbar\":{\"outlinewidth\":0,\"ticks\":\"\"}},\"type\":\"scatter\"}],\"scatter3d\":[{\"line\":{\"colorbar\":{\"outlinewidth\":0,\"ticks\":\"\"}},\"marker\":{\"colorbar\":{\"outlinewidth\":0,\"ticks\":\"\"}},\"type\":\"scatter3d\"}],\"scattercarpet\":[{\"marker\":{\"colorbar\":{\"outlinewidth\":0,\"ticks\":\"\"}},\"type\":\"scattercarpet\"}],\"scattergeo\":[{\"marker\":{\"colorbar\":{\"outlinewidth\":0,\"ticks\":\"\"}},\"type\":\"scattergeo\"}],\"scattergl\":[{\"marker\":{\"colorbar\":{\"outlinewidth\":0,\"ticks\":\"\"}},\"type\":\"scattergl\"}],\"scattermapbox\":[{\"marker\":{\"colorbar\":{\"outlinewidth\":0,\"ticks\":\"\"}},\"type\":\"scattermapbox\"}],\"scatterpolar\":[{\"marker\":{\"colorbar\":{\"outlinewidth\":0,\"ticks\":\"\"}},\"type\":\"scatterpolar\"}],\"scatterpolargl\":[{\"marker\":{\"colorbar\":{\"outlinewidth\":0,\"ticks\":\"\"}},\"type\":\"scatterpolargl\"}],\"scatterternary\":[{\"marker\":{\"colorbar\":{\"outlinewidth\":0,\"ticks\":\"\"}},\"type\":\"scatterternary\"}],\"surface\":[{\"colorbar\":{\"outlinewidth\":0,\"ticks\":\"\"},\"colorscale\":[[0.0,\"#0d0887\"],[0.1111111111111111,\"#46039f\"],[0.2222222222222222,\"#7201a8\"],[0.3333333333333333,\"#9c179e\"],[0.4444444444444444,\"#bd3786\"],[0.5555555555555556,\"#d8576b\"],[0.6666666666666666,\"#ed7953\"],[0.7777777777777778,\"#fb9f3a\"],[0.8888888888888888,\"#fdca26\"],[1.0,\"#f0f921\"]],\"type\":\"surface\"}],\"table\":[{\"cells\":{\"fill\":{\"color\":\"#EBF0F8\"},\"line\":{\"color\":\"white\"}},\"header\":{\"fill\":{\"color\":\"#C8D4E3\"},\"line\":{\"color\":\"white\"}},\"type\":\"table\"}]},\"layout\":{\"annotationdefaults\":{\"arrowcolor\":\"#2a3f5f\",\"arrowhead\":0,\"arrowwidth\":1},\"autotypenumbers\":\"strict\",\"coloraxis\":{\"colorbar\":{\"outlinewidth\":0,\"ticks\":\"\"}},\"colorscale\":{\"diverging\":[[0,\"#8e0152\"],[0.1,\"#c51b7d\"],[0.2,\"#de77ae\"],[0.3,\"#f1b6da\"],[0.4,\"#fde0ef\"],[0.5,\"#f7f7f7\"],[0.6,\"#e6f5d0\"],[0.7,\"#b8e186\"],[0.8,\"#7fbc41\"],[0.9,\"#4d9221\"],[1,\"#276419\"]],\"sequential\":[[0.0,\"#0d0887\"],[0.1111111111111111,\"#46039f\"],[0.2222222222222222,\"#7201a8\"],[0.3333333333333333,\"#9c179e\"],[0.4444444444444444,\"#bd3786\"],[0.5555555555555556,\"#d8576b\"],[0.6666666666666666,\"#ed7953\"],[0.7777777777777778,\"#fb9f3a\"],[0.8888888888888888,\"#fdca26\"],[1.0,\"#f0f921\"]],\"sequentialminus\":[[0.0,\"#0d0887\"],[0.1111111111111111,\"#46039f\"],[0.2222222222222222,\"#7201a8\"],[0.3333333333333333,\"#9c179e\"],[0.4444444444444444,\"#bd3786\"],[0.5555555555555556,\"#d8576b\"],[0.6666666666666666,\"#ed7953\"],[0.7777777777777778,\"#fb9f3a\"],[0.8888888888888888,\"#fdca26\"],[1.0,\"#f0f921\"]]},\"colorway\":[\"#636efa\",\"#EF553B\",\"#00cc96\",\"#ab63fa\",\"#FFA15A\",\"#19d3f3\",\"#FF6692\",\"#B6E880\",\"#FF97FF\",\"#FECB52\"],\"font\":{\"color\":\"#2a3f5f\"},\"geo\":{\"bgcolor\":\"white\",\"lakecolor\":\"white\",\"landcolor\":\"#E5ECF6\",\"showlakes\":true,\"showland\":true,\"subunitcolor\":\"white\"},\"hoverlabel\":{\"align\":\"left\"},\"hovermode\":\"closest\",\"mapbox\":{\"style\":\"light\"},\"paper_bgcolor\":\"white\",\"plot_bgcolor\":\"#E5ECF6\",\"polar\":{\"angularaxis\":{\"gridcolor\":\"white\",\"linecolor\":\"white\",\"ticks\":\"\"},\"bgcolor\":\"#E5ECF6\",\"radialaxis\":{\"gridcolor\":\"white\",\"linecolor\":\"white\",\"ticks\":\"\"}},\"scene\":{\"xaxis\":{\"backgroundcolor\":\"#E5ECF6\",\"gridcolor\":\"white\",\"gridwidth\":2,\"linecolor\":\"white\",\"showbackground\":true,\"ticks\":\"\",\"zerolinecolor\":\"white\"},\"yaxis\":{\"backgroundcolor\":\"#E5ECF6\",\"gridcolor\":\"white\",\"gridwidth\":2,\"linecolor\":\"white\",\"showbackground\":true,\"ticks\":\"\",\"zerolinecolor\":\"white\"},\"zaxis\":{\"backgroundcolor\":\"#E5ECF6\",\"gridcolor\":\"white\",\"gridwidth\":2,\"linecolor\":\"white\",\"showbackground\":true,\"ticks\":\"\",\"zerolinecolor\":\"white\"}},\"shapedefaults\":{\"line\":{\"color\":\"#2a3f5f\"}},\"ternary\":{\"aaxis\":{\"gridcolor\":\"white\",\"linecolor\":\"white\",\"ticks\":\"\"},\"baxis\":{\"gridcolor\":\"white\",\"linecolor\":\"white\",\"ticks\":\"\"},\"bgcolor\":\"#E5ECF6\",\"caxis\":{\"gridcolor\":\"white\",\"linecolor\":\"white\",\"ticks\":\"\"}},\"title\":{\"x\":0.05},\"xaxis\":{\"automargin\":true,\"gridcolor\":\"white\",\"linecolor\":\"white\",\"ticks\":\"\",\"title\":{\"standoff\":15},\"zerolinecolor\":\"white\",\"zerolinewidth\":2},\"yaxis\":{\"automargin\":true,\"gridcolor\":\"white\",\"linecolor\":\"white\",\"ticks\":\"\",\"title\":{\"standoff\":15},\"zerolinecolor\":\"white\",\"zerolinewidth\":2}}},\"shapes\":[{\"line\":{\"color\":\"Black\",\"width\":1},\"type\":\"line\",\"x0\":1960,\"x1\":1960,\"y0\":0,\"y1\":11000}],\"title\":{\"text\":\"Synthetic Control<br>Optimizer vs. Treated unit\"},\"xaxis\":{\"title\":{\"text\":\"Time\"}},\"yaxis\":{\"title\":{\"text\":\"GDP per Capita\"}}},                        {\"responsive\": true}                    ).then(function(){\n",
       "                            \n",
       "var gd = document.getElementById('3f0381df-19a0-405c-9afb-b2f96f8e1bf1');\n",
       "var x = new MutationObserver(function (mutations, observer) {{\n",
       "        var display = window.getComputedStyle(gd).display;\n",
       "        if (!display || display === 'none') {{\n",
       "            console.log([gd, 'removed!']);\n",
       "            Plotly.purge(gd);\n",
       "            observer.disconnect();\n",
       "        }}\n",
       "}});\n",
       "\n",
       "// Listen for the removal of the full notebook cells\n",
       "var notebookContainer = gd.closest('#notebook-container');\n",
       "if (notebookContainer) {{\n",
       "    x.observe(notebookContainer, {childList: true});\n",
       "}}\n",
       "\n",
       "// Listen for the clearing of the current output cell\n",
       "var outputEl = gd.closest('.output');\n",
       "if (outputEl) {{\n",
       "    x.observe(outputEl, {childList: true});\n",
       "}}\n",
       "\n",
       "                        })                };                });            </script>        </div>"
      ]
     },
     "metadata": {},
     "output_type": "display_data"
    },
    {
     "name": "stdout",
     "output_type": "stream",
     "text": [
      "\n",
      "RMSPE CVXPY w/o V*:  154.26663518337438 \n",
      "RMSPE CVXPY with V*: 130.41702456827844 \n",
      "RMSPE from Paper:    130.14101997364745\n"
     ]
    }
   ],
   "source": [
    "y_synth_cvxpy = w_cvxpy.T @ y_control_all\n",
    "y_pred_cvxpy = w_cvxpy.T @ y_control_all\n",
    "\n",
    "fig = go.Figure()\n",
    "fig.add_trace(go.Scatter(x=list(data.year.unique()), y=y_synth_cvxpy,\n",
    "                    mode='lines', name='Optimizer'))\n",
    "fig.add_trace(go.Scatter(x=list(data.year.unique()), y=y_synth_pinotti[0],\n",
    "                    mode='lines', name='Pinotti'))\n",
    "fig.add_trace(go.Scatter(x=list(data.year.unique()), y=y_treat_all[0],\n",
    "                    mode='lines', name='Treated unit'))\n",
    "fig.add_shape(dict(type=\"line\", x0=1960, y0=0, x1=1960, y1=11000,\n",
    "                   line=dict(color=\"Black\", width=1)))\n",
    "\n",
    "fig.add_trace(go.Scatter(x=[1960], y=[12000], mode=\"text\",\n",
    "    name=\"Matching\", text=[\"End of Matching<br>Period\"]))\n",
    "\n",
    "fig.update_layout(title='Synthetic Control<br>Optimizer vs. Treated unit',\n",
    "                   xaxis_title='Time', yaxis_title='GDP per Capita')\n",
    "fig.show()\n",
    "\n",
    "print('\\nRMSPE CVXPY w/o V*:  {} \\nRMSPE CVXPY with V*: {} \\nRMSPE from Paper:    {}'\\\n",
    "      .format(RMSPE(w_basic),RMSPE(w_cvxpy),RMSPE(w_pinotti)))\n",
    "\n",
    "# Static graph only for display on github\n",
    "#fig.show(renderer=\"png\")"
   ]
  },
  {
   "cell_type": "markdown",
   "metadata": {},
   "source": [
    "#### Scipy Implementation "
   ]
  },
  {
   "cell_type": "code",
   "execution_count": 52,
   "metadata": {
    "ExecuteTime": {
     "end_time": "2021-11-26T09:36:07.728952Z",
     "start_time": "2021-11-26T09:13:13.951834Z"
    },
    "scrolled": true
   },
   "outputs": [],
   "source": [
    "n = 100000      # Number of iterations\n",
    "A = X0\n",
    "b = X1.ravel()\n",
    "iteration_3 = []\n",
    "init_w = [0]*15\n",
    "\n",
    "bnds = ((0, 1),)*15\n",
    "\n",
    "cons = ({'type': 'eq', 'fun': lambda x: 1.0 -  np.sum(x) })\n",
    "\n",
    "def fmin(x,A,b,v):\n",
    "    c = np.dot(A, x) - b\n",
    "    d = c ** 2\n",
    "    y = np.multiply(v,d)\n",
    "    return np.sum(y)\n",
    "\n",
    "for i in range(n):\n",
    "    \n",
    "    v = np.random.dirichlet(np.ones(8), size=1).T\n",
    "    args = (A,b,v)\n",
    "    \n",
    "    res = optimize.minimize(fmin,init_w,args,method='SLSQP',bounds=bnds,\n",
    "                            constraints=cons,tol=1e-10,options={'disp': False})\n",
    "    \n",
    "    \n",
    "    prediction_error =  RMSPE(res.x)  \n",
    "    iteration_3.append([prediction_error, v, res.x])"
   ]
  },
  {
   "cell_type": "code",
   "execution_count": 53,
   "metadata": {
    "ExecuteTime": {
     "end_time": "2021-11-26T09:36:35.741917Z",
     "start_time": "2021-11-26T09:36:35.575699Z"
    }
   },
   "outputs": [
    {
     "data": {
      "text/html": [
       "<div>\n",
       "<style scoped>\n",
       "    .dataframe tbody tr th:only-of-type {\n",
       "        vertical-align: middle;\n",
       "    }\n",
       "\n",
       "    .dataframe tbody tr th {\n",
       "        vertical-align: top;\n",
       "    }\n",
       "\n",
       "    .dataframe thead th {\n",
       "        text-align: right;\n",
       "    }\n",
       "</style>\n",
       "<table border=\"1\" class=\"dataframe\">\n",
       "  <thead>\n",
       "    <tr style=\"text-align: right;\">\n",
       "      <th></th>\n",
       "      <th>Region</th>\n",
       "      <th>W(V*)</th>\n",
       "    </tr>\n",
       "  </thead>\n",
       "  <tbody>\n",
       "    <tr>\n",
       "      <th>0</th>\n",
       "      <td>PIE</td>\n",
       "      <td>0.000</td>\n",
       "    </tr>\n",
       "    <tr>\n",
       "      <th>1</th>\n",
       "      <td>VDA</td>\n",
       "      <td>0.000</td>\n",
       "    </tr>\n",
       "    <tr>\n",
       "      <th>2</th>\n",
       "      <td>LOM</td>\n",
       "      <td>0.000</td>\n",
       "    </tr>\n",
       "    <tr>\n",
       "      <th>3</th>\n",
       "      <td>TAA</td>\n",
       "      <td>0.000</td>\n",
       "    </tr>\n",
       "    <tr>\n",
       "      <th>4</th>\n",
       "      <td>VEN</td>\n",
       "      <td>0.000</td>\n",
       "    </tr>\n",
       "    <tr>\n",
       "      <th>5</th>\n",
       "      <td>FVG</td>\n",
       "      <td>0.000</td>\n",
       "    </tr>\n",
       "    <tr>\n",
       "      <th>6</th>\n",
       "      <td>LIG</td>\n",
       "      <td>0.000</td>\n",
       "    </tr>\n",
       "    <tr>\n",
       "      <th>7</th>\n",
       "      <td>EMR</td>\n",
       "      <td>0.000</td>\n",
       "    </tr>\n",
       "    <tr>\n",
       "      <th>8</th>\n",
       "      <td>TOS</td>\n",
       "      <td>0.000</td>\n",
       "    </tr>\n",
       "    <tr>\n",
       "      <th>9</th>\n",
       "      <td>UMB</td>\n",
       "      <td>0.000</td>\n",
       "    </tr>\n",
       "    <tr>\n",
       "      <th>10</th>\n",
       "      <td>MAR</td>\n",
       "      <td>0.000</td>\n",
       "    </tr>\n",
       "    <tr>\n",
       "      <th>11</th>\n",
       "      <td>LAZ</td>\n",
       "      <td>0.000</td>\n",
       "    </tr>\n",
       "    <tr>\n",
       "      <th>12</th>\n",
       "      <td>ABR</td>\n",
       "      <td>0.606</td>\n",
       "    </tr>\n",
       "    <tr>\n",
       "      <th>13</th>\n",
       "      <td>MOL</td>\n",
       "      <td>0.394</td>\n",
       "    </tr>\n",
       "    <tr>\n",
       "      <th>14</th>\n",
       "      <td>SAR</td>\n",
       "      <td>0.000</td>\n",
       "    </tr>\n",
       "  </tbody>\n",
       "</table>\n",
       "</div>"
      ],
      "text/plain": [
       "   Region  W(V*)\n",
       "0     PIE  0.000\n",
       "1     VDA  0.000\n",
       "2     LOM  0.000\n",
       "3     TAA  0.000\n",
       "4     VEN  0.000\n",
       "5     FVG  0.000\n",
       "6     LIG  0.000\n",
       "7     EMR  0.000\n",
       "8     TOS  0.000\n",
       "9     UMB  0.000\n",
       "10    MAR  0.000\n",
       "11    LAZ  0.000\n",
       "12    ABR  0.606\n",
       "13    MOL  0.394\n",
       "14    SAR  0.000"
      ]
     },
     "metadata": {},
     "output_type": "display_data"
    },
    {
     "name": "stdout",
     "output_type": "stream",
     "text": [
      "\n",
      "RMSPE CVXPY w/o V*: 154.26663518337438 \n",
      "RMSPE CVXPY: 130.41702456827844 \n",
      "RMSPE scipy: 130.3197763854872 \n",
      "RMSPE Paper: 130.14101997364745\n"
     ]
    }
   ],
   "source": [
    "solution_frame_3 = pd.DataFrame(iteration_3)\n",
    "solution_frame_3.columns =['Error', 'Relative Importance', 'Weights']\n",
    "\n",
    "solution_frame_3 = solution_frame_3.sort_values(by='Error', ascending=True)\n",
    "\n",
    "w_scipy = solution_frame_3.iloc[0][2]\n",
    "v_scipy = solution_frame_3.iloc[0][1].T[0]\n",
    "\n",
    "best_weights_region2 = pd.DataFrame({'Region':control_units.region.unique(), \n",
    "                                    'W(V*)': np.round(w_scipy, decimals=3)})\n",
    "\n",
    "best_weights_importance2 = pd.DataFrame({'Predictors': data.columns[[3,16,11,12,13,14,26,28]],\n",
    "                                        'V*': np.round(v_scipy, 3)})\n",
    "\n",
    "#display(best_weights_importance2)\n",
    "display(best_weights_region2)\n",
    "\n",
    "y_synth_scipy = w_scipy.T @ y_control_all\n",
    "y_pred_scipy = w_scipy.T @ y_control_all\n",
    "\n",
    "print('\\nRMSPE CVXPY w/o V*: {} \\nRMSPE CVXPY: {} \\nRMSPE scipy: {} \\nRMSPE Paper: {}'\\\n",
    "      .format(RMSPE(w_basic),RMSPE(w_cvxpy),RMSPE(w_scipy),RMSPE(w_pinotti)))"
   ]
  },
  {
   "cell_type": "markdown",
   "metadata": {},
   "source": [
    "Commentary:\n",
    "(INSERT graphs of RMSPE and variance)\n",
    "- Both methods approach the RMSPE minimal value but they do not provide the solution so the weights can not be optimal. This is evident because the optimality condition in Equation 4 still holds. \n",
    "- Furthermore, iterating over the solution set is, ultimately, a time consuming and unreliable method due to the variance of the results. \n",
    "- This deficiency calls for a faster and more reliable way of approaching the problem.\n",
    "\n",
    "The response paper by Martin and Klößner (2017) to Pinotti's results remains the benchmark for this analysis. They are able to compare RMSPE-minimizing solution vectors (vector of weights of donor pool) across a battery of software implmentations (STATA, MATLAB, R/Synth, R/MSCMT) by maintaining parity in terms of Pinotti's dataset and and his specificaion of that data. \n",
    "\n",
    "They find that different software implementations produce slightly different results, but the one that produces the RMSPE minimizing set of weights is from their R/MSCMT package. Consequently, they conclude that the loss in GDP per capita due to the presence of the Mafia in the affected regions had been overestimated by Pinotti (16% instead of 18% in the original paper).\n",
    "\n",
    "Although the response paper itself does not detail the optimization procedure of R/MSCMT, the generalized SCM paper by Martin and Klößner (2018) reveals several algorithms that can be used to solve the SCM problem. In particular, the one used in their response paper relies upon nested optimization: they use a combination of outer optimization via Differential Evolution and inner optimization via DWNNLS. (Weighted Non-negative least squares). This corresponds to the default option 'DEoptC' in the call to R/MSCMT's solver function in the R-code of their response paper's replication kit.\n",
    "\n",
    "The Fortran implemenation of the WNNLS algorithm was presented by Hanson and Haskell (1982), and was later adapted to R language in the package limSolve (Martin and Klößner, 2017:14). WNNLS is a reliable and fast inner optimizer for the nested optimization problem of SCM, and, interestingly, which the authors of R/MSCMT enhance with a further speed boost by using Fortran-calls to WNNLS in a C-implementation (Martin and Klößner, 2017:18).\n",
    "\n",
    "\n",
    "#### Approach 2: Nested Optimization: Combination of outer optimization ($W^*(V)$) via Differential Evolution and inner optimization $(W)$ via CVXPY convex minimization.\n",
    "\n",
    "Differential Evolution for the outer optimization is available via the scipy optimize library, however WNNLS currently does not have an implementation in Python. Therefore, instead of approaching the inner optimization as a problem of solving linearly constrained least squares, we instead use linearly constrained convex minimization via CVXPY."
   ]
  },
  {
   "cell_type": "code",
   "execution_count": 19,
   "metadata": {
    "ExecuteTime": {
     "end_time": "2021-11-26T08:28:58.439740Z",
     "start_time": "2021-11-26T08:28:58.424616Z"
    }
   },
   "outputs": [],
   "source": [
    "# Outer Optimization via Differential Evolution\n",
    "def v_optimize(i):\n",
    "    \n",
    "    bounds  = [(0,1), (0, 1), (0, 1), (0, 1), (0, 1), (0, 1), (0, 1), (0, 1)]\n",
    "    nlc     = NonlinearConstraint(constr_f, 1, 1, constr_jac, constr_hess)\n",
    "    result  = differential_evolution(vmin, bounds, constraints=(nlc),seed=i)\n",
    "    v_estim = result.x.reshape(8,1)  \n",
    "    return (v_estim)\n",
    "\n",
    "# Inner Optimization via CVXPY Constrained Convex Minimization\n",
    "def w_optimize(v):\n",
    "\n",
    "    W = cvx.Variable((15, 1), nonneg=True)\n",
    "    objective_function    = cvx.Minimize(cvx.sum(cvx.multiply(v, cvx.square(X1 - X0 @ W))))\n",
    "    objective_constraints = [cvx.sum(W) == 1]\n",
    "    objective_solution    = cvx.Problem(objective_function, objective_constraints).solve(verbose=False)\n",
    "    return (W.value)\n",
    "\n",
    "# Objective Function of Differential Evolution in the Outer Optimization\n",
    "def vmin(v):\n",
    "\n",
    "    v = abs(v.reshape(8,1))\n",
    "    W = w_optimize(v)\n",
    "    return float((Z1 - Z0 @ W).T @ (Z1 - Z0 @ W))\n",
    "\n",
    "## Additional Optimiality constraints\n",
    "# Predictor weights MUST sum to one\n",
    "def constr_f(v):\n",
    "    return float(np.sum(v))\n",
    "\n",
    "# Setting Hessian of V to zero due to linearity of approximated function in vmin\n",
    "def constr_hess(x,v):\n",
    "    return np.zeros([8,8])\n",
    "\n",
    "# Additionally set Jacobian, (since differential_evolution requires either setting both Jacobian and Hessian\n",
    "# manually or neither of them?)\n",
    "def constr_jac(v):\n",
    "    return np.ones(8)"
   ]
  },
  {
   "cell_type": "code",
   "execution_count": 20,
   "metadata": {
    "ExecuteTime": {
     "end_time": "2021-11-26T08:33:05.107169Z",
     "start_time": "2021-11-26T08:28:58.445728Z"
    }
   },
   "outputs": [
    {
     "name": "stderr",
     "output_type": "stream",
     "text": [
      "/Users/DanialSyed/opt/anaconda3/lib/python3.8/site-packages/scipy/optimize/_hessian_update_strategy.py:182: UserWarning:\n",
      "\n",
      "delta_grad == 0.0. Check if the approximated function is linear. If the function is linear better results can be obtained by defining the Hessian as zero instead of using quasi-Newton approximations.\n",
      "\n"
     ]
    }
   ],
   "source": [
    "n = 3\n",
    "iteration_4 = []\n",
    "\n",
    "for i in range(n):\n",
    "    \n",
    "    v_estim1 = v_optimize(i)\n",
    "    w_estim1 = w_optimize(v_estim1)\n",
    "    error = RMSPE(w_estim1)\n",
    "    \n",
    "    iteration_4.append([error,v_estim1,w_estim1])"
   ]
  },
  {
   "cell_type": "code",
   "execution_count": 21,
   "metadata": {
    "ExecuteTime": {
     "end_time": "2021-11-26T08:33:05.420470Z",
     "start_time": "2021-11-26T08:33:05.110017Z"
    }
   },
   "outputs": [
    {
     "data": {
      "text/html": [
       "<div>\n",
       "<style scoped>\n",
       "    .dataframe tbody tr th:only-of-type {\n",
       "        vertical-align: middle;\n",
       "    }\n",
       "\n",
       "    .dataframe tbody tr th {\n",
       "        vertical-align: top;\n",
       "    }\n",
       "\n",
       "    .dataframe thead th {\n",
       "        text-align: right;\n",
       "    }\n",
       "</style>\n",
       "<table border=\"1\" class=\"dataframe\">\n",
       "  <thead>\n",
       "    <tr style=\"text-align: right;\">\n",
       "      <th></th>\n",
       "      <th>Error</th>\n",
       "      <th>Relative Importance</th>\n",
       "      <th>Weights</th>\n",
       "    </tr>\n",
       "  </thead>\n",
       "  <tbody>\n",
       "    <tr>\n",
       "      <th>1</th>\n",
       "      <td>130.140950</td>\n",
       "      <td>[[1.3178636736566025e-05], [0.6050903047367413...</td>\n",
       "      <td>[[0.0], [0.0], [0.0], [0.0], [0.0], [0.0], [0....</td>\n",
       "    </tr>\n",
       "    <tr>\n",
       "      <th>2</th>\n",
       "      <td>154.028132</td>\n",
       "      <td>[[0.4666250320275147], [0.04509185710687341], ...</td>\n",
       "      <td>[[0.0], [0.0], [0.0], [0.0], [0.14899425761859...</td>\n",
       "    </tr>\n",
       "    <tr>\n",
       "      <th>0</th>\n",
       "      <td>154.028606</td>\n",
       "      <td>[[0.2277511347723319], [0.055470769765426975],...</td>\n",
       "      <td>[[0.0], [0.0], [0.0], [0.0], [0.14900043950064...</td>\n",
       "    </tr>\n",
       "  </tbody>\n",
       "</table>\n",
       "</div>"
      ],
      "text/plain": [
       "        Error                                Relative Importance  \\\n",
       "1  130.140950  [[1.3178636736566025e-05], [0.6050903047367413...   \n",
       "2  154.028132  [[0.4666250320275147], [0.04509185710687341], ...   \n",
       "0  154.028606  [[0.2277511347723319], [0.055470769765426975],...   \n",
       "\n",
       "                                             Weights  \n",
       "1  [[0.0], [0.0], [0.0], [0.0], [0.0], [0.0], [0....  \n",
       "2  [[0.0], [0.0], [0.0], [0.0], [0.14899425761859...  \n",
       "0  [[0.0], [0.0], [0.0], [0.0], [0.14900043950064...  "
      ]
     },
     "metadata": {},
     "output_type": "display_data"
    },
    {
     "name": "stdout",
     "output_type": "stream",
     "text": [
      "\n",
      "RMSPE scipy:     130.1743768154252 \n",
      "RMSPE CVXPY:     130.41702456827844 \n",
      "RMSPE Nested:    130.14095045540628 \n",
      "RMSPE Paper:     130.14101997364745 \n",
      "RMSPE Benchmark: 128.94693242022998\n"
     ]
    }
   ],
   "source": [
    "solution_frame_4 = pd.DataFrame(iteration_4)\n",
    "solution_frame_4.columns =['Error', 'Relative Importance', 'Weights']\n",
    "\n",
    "solution_frame_4 = solution_frame_4.sort_values(by='Error', ascending=True)\n",
    "\n",
    "w_nested = solution_frame_4.iloc[0][2]\n",
    "v_nested = solution_frame_4.iloc[0][1].T[0]\n",
    "\n",
    "display(solution_frame_4)\n",
    "\n",
    "print('\\nRMSPE scipy:     {} \\nRMSPE CVXPY:     {} \\nRMSPE Nested:    {} \\nRMSPE Paper:     {} \\nRMSPE Becker: {}'\\\n",
    "      .format(RMSPE(w_scipy),RMSPE(w_cvxpy),RMSPE(w_nested), RMSPE(w_pinotti), RMSPE(w_becker) ))"
   ]
  },
  {
   "cell_type": "markdown",
   "metadata": {},
   "source": [
    "# 6. Conclusions"
   ]
  },
  {
   "cell_type": "markdown",
   "metadata": {},
   "source": [
    "# N. References\n",
    "- Pinotti, Paolo. *The economic consequences of organized crime: Evidence from Southern Italy.* Bank of Italy (2011).\n",
    "\n",
    "\n",
    "- Becker, Martin, and Stefan Klößner. *Estimating the economic costs of organized crime by synthetic control methods.* Journal of Applied Econometrics 32.7 (2017): 1367-1369.\n",
    "\n",
    "\n",
    "- Blackburn, Keith, Kyriakos C. Neanidis, and Maria Paola Rana. *A theory of organized crime, corruption and economic growth.* Economic Theory Bulletin 5.2 (2017): 227-245.\n",
    "\n",
    "\n",
    "- Garoupa, Nuno. *The economics of organized crime and optimal law enforcement.* Economic Inquiry 38.2 (2000): 278-288.\n",
    "\n"
   ]
  }
 ],
 "metadata": {
  "kernelspec": {
   "display_name": "Python 3",
   "language": "python",
   "name": "python3"
  },
  "language_info": {
   "codemirror_mode": {
    "name": "ipython",
    "version": 3
   },
   "file_extension": ".py",
   "mimetype": "text/x-python",
   "name": "python",
   "nbconvert_exporter": "python",
   "pygments_lexer": "ipython3",
   "version": "3.8.5"
  }
 },
 "nbformat": 4,
 "nbformat_minor": 4
}
